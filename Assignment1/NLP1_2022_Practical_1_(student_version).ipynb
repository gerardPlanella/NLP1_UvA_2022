{
  "nbformat": 4,
  "nbformat_minor": 0,
  "metadata": {
    "colab": {
      "provenance": [],
      "collapsed_sections": [],
      "include_colab_link": true
    },
    "kernelspec": {
      "name": "python3",
      "display_name": "Python 3"
    },
    "accelerator": "GPU",
    "gpuClass": "standard"
  },
  "cells": [
    {
      "cell_type": "markdown",
      "metadata": {
        "id": "view-in-github",
        "colab_type": "text"
      },
      "source": [
        "<a href=\"https://colab.research.google.com/github/gerardPlanella/NLP1_UvA_2022/blob/main/Assignment1/NLP1_2022_Practical_1_(student_version).ipynb\" target=\"_parent\"><img src=\"https://colab.research.google.com/assets/colab-badge.svg\" alt=\"Open In Colab\"/></a>"
      ]
    },
    {
      "cell_type": "markdown",
      "metadata": {
        "id": "1-aRiOgl4nHg"
      },
      "source": [
        "------\n",
        "**You cannot save any changes you make to this file, so please make sure to save it on your Google Colab drive or download it as a .ipynb file.**\n",
        "\n",
        "------\n",
        "\n",
        " "
      ]
    },
    {
      "cell_type": "markdown",
      "metadata": {
        "id": "lIZrAUx57vsM"
      },
      "source": [
        "Practical 1: Sentiment Detection in Movie Reviews\n",
        "========================================\n",
        "\n"
      ]
    },
    {
      "cell_type": "markdown",
      "metadata": {
        "id": "J4kXPMhyngZW"
      },
      "source": [
        "This practical concerns detecting sentiment in movie reviews. This is a typical NLP classification task.\n",
        "In [this file](https://gist.githubusercontent.com/bastings/d47423301cca214e3930061a5a75e177/raw/5113687382919e22b1f09ce71a8fecd1687a5760/reviews.json) (80MB) you will find 1000 positive and 1000 negative **movie reviews**.\n",
        "Each review is a **document** and consists of one or more sentences.\n",
        "\n",
        "To prepare yourself for this practical, you should\n",
        "have a look at a few of these texts to understand the difficulties of\n",
        "the task: how might one go about classifying the texts? You will write\n",
        "code that decides whether a movie review conveys positive or\n",
        "negative sentiment.\n",
        "\n",
        "Please make sure you have read the following paper:\n",
        "\n",
        ">   Bo Pang, Lillian Lee, and Shivakumar Vaithyanathan\n",
        "(2002). \n",
        "[Thumbs up? Sentiment Classification using Machine Learning\n",
        "Techniques](https://dl.acm.org/citation.cfm?id=1118704). EMNLP.\n",
        "\n",
        "Bo Pang et al. introduced the movie review sentiment\n",
        "classification task, and the above paper was one of the first papers on\n",
        "the topic. The first version of your sentiment classifier will do\n",
        "something similar to Pang et al.'s system. If you have questions about it,\n",
        "you should resolve you doubts as soon as possible with your TA.\n"
      ]
    },
    {
      "cell_type": "markdown",
      "metadata": {
        "id": "cb7errgRASzZ"
      },
      "source": [
        "**Advice**\n",
        "\n",
        "Please read through the entire practical and familiarise\n",
        "yourself with all requirements before you start coding or otherwise\n",
        "solving the tasks. Writing clean and concise code can make the difference\n",
        "between solving the assignment in a matter of hours, and taking days to\n",
        "run all experiments.\n",
        "\n",
        "## Environment\n",
        "\n",
        "All code should be written in **Python 3**. \n",
        "This is the default in Google Colab."
      ]
    },
    {
      "cell_type": "code",
      "metadata": {
        "id": "SaZnxptMJiD7",
        "colab": {
          "base_uri": "https://localhost:8080/"
        },
        "outputId": "d54fc85b-d0de-4957-ba37-2791b8a56f80"
      },
      "source": [
        "!python --version"
      ],
      "execution_count": null,
      "outputs": [
        {
          "output_type": "stream",
          "name": "stdout",
          "text": [
            "Python 3.7.15\n"
          ]
        }
      ]
    },
    {
      "cell_type": "markdown",
      "metadata": {
        "id": "BYZyIF7lJnGn"
      },
      "source": [
        "If you want to run code on your own computer, then download this notebook through `File -> Download .ipynb`.\n",
        "The easiest way to\n",
        "install Python is through downloading\n",
        "[Anaconda](https://www.anaconda.com/download). \n",
        "After installation, you can start the notebook by typing `jupyter notebook filename.ipynb`.\n",
        "You can also use an IDE\n",
        "such as [PyCharm](https://www.jetbrains.com/pycharm/download/) to make\n",
        "coding and debugging easier. It is good practice to create a [virtual\n",
        "environment](https://docs.python.org/3/tutorial/venv.html) for this\n",
        "project, so that any Python packages don’t interfere with other\n",
        "projects. \n",
        " \n",
        "\n",
        "**Learning Python 3**\n",
        "\n",
        "If you are new to Python 3, you may want to check out a few of these resources:\n",
        "- https://learnxinyminutes.com/docs/python3/\n",
        "- https://www.learnpython.org/\n",
        "- https://docs.python.org/3/tutorial/"
      ]
    },
    {
      "cell_type": "code",
      "metadata": {
        "id": "hok-BFu9lGoK"
      },
      "source": [
        "import math\n",
        "import os\n",
        "import sys\n",
        "from subprocess import call\n",
        "from nltk import FreqDist\n",
        "from nltk.util import ngrams\n",
        "from nltk.stem.porter import PorterStemmer\n",
        "import sklearn as sk\n",
        "from google.colab import drive\n",
        "import pickle\n",
        "import json\n",
        "from collections import Counter\n",
        "import requests\n",
        "import matplotlib.pyplot as plt\n",
        "import numpy as np\n",
        "from collections import defaultdict"
      ],
      "execution_count": null,
      "outputs": []
    },
    {
      "cell_type": "markdown",
      "metadata": {
        "id": "bXWyGHwE-ieQ"
      },
      "source": [
        "## Loading the data\n",
        "\n",
        "**Download the sentiment lexicon and the movie reviews dataset.**"
      ]
    },
    {
      "cell_type": "code",
      "metadata": {
        "id": "lm-rakqtlMOT",
        "colab": {
          "base_uri": "https://localhost:8080/"
        },
        "outputId": "5512e33f-54e6-42ef-96bb-456f377b1fbc"
      },
      "source": [
        "# download sentiment lexicon\n",
        "!wget https://gist.githubusercontent.com/bastings/d6f99dcb6c82231b94b013031356ba05/raw/f80a0281eba8621b122012c89c8b5e2200b39fd6/sent_lexicon\n",
        "# download review data\n",
        "!wget https://gist.githubusercontent.com/bastings/d47423301cca214e3930061a5a75e177/raw/5113687382919e22b1f09ce71a8fecd1687a5760/reviews.json"
      ],
      "execution_count": null,
      "outputs": [
        {
          "output_type": "stream",
          "name": "stdout",
          "text": [
            "--2022-11-04 12:01:07--  https://gist.githubusercontent.com/bastings/d6f99dcb6c82231b94b013031356ba05/raw/f80a0281eba8621b122012c89c8b5e2200b39fd6/sent_lexicon\n",
            "Resolving gist.githubusercontent.com (gist.githubusercontent.com)... 185.199.108.133, 185.199.109.133, 185.199.110.133, ...\n",
            "Connecting to gist.githubusercontent.com (gist.githubusercontent.com)|185.199.108.133|:443... connected.\n",
            "HTTP request sent, awaiting response... 200 OK\n",
            "Length: 662577 (647K) [text/plain]\n",
            "Saving to: ‘sent_lexicon’\n",
            "\n",
            "\rsent_lexicon          0%[                    ]       0  --.-KB/s               \rsent_lexicon        100%[===================>] 647.05K  --.-KB/s    in 0.03s   \n",
            "\n",
            "2022-11-04 12:01:07 (20.8 MB/s) - ‘sent_lexicon’ saved [662577/662577]\n",
            "\n",
            "--2022-11-04 12:01:07--  https://gist.githubusercontent.com/bastings/d47423301cca214e3930061a5a75e177/raw/5113687382919e22b1f09ce71a8fecd1687a5760/reviews.json\n",
            "Resolving gist.githubusercontent.com (gist.githubusercontent.com)... 185.199.108.133, 185.199.109.133, 185.199.110.133, ...\n",
            "Connecting to gist.githubusercontent.com (gist.githubusercontent.com)|185.199.108.133|:443... connected.\n",
            "HTTP request sent, awaiting response... 200 OK\n",
            "Length: 83503869 (80M) [text/plain]\n",
            "Saving to: ‘reviews.json’\n",
            "\n",
            "reviews.json        100%[===================>]  79.63M   315MB/s    in 0.3s    \n",
            "\n",
            "2022-11-04 12:01:11 (315 MB/s) - ‘reviews.json’ saved [83503869/83503869]\n",
            "\n"
          ]
        }
      ]
    },
    {
      "cell_type": "markdown",
      "metadata": {
        "id": "AkPwuHp5LSuQ"
      },
      "source": [
        "**Load the movie reviews.**\n",
        "\n",
        "Each word in a review comes with its part-of-speech tag. For documentation on POS-tags, see https://catalog.ldc.upenn.edu/docs/LDC99T42/tagguid1.pdf.\n"
      ]
    },
    {
      "cell_type": "code",
      "metadata": {
        "id": "careEKj-mRpl",
        "colab": {
          "base_uri": "https://localhost:8080/"
        },
        "outputId": "936d6af3-edb8-45b5-994e-11233e37cd2f"
      },
      "source": [
        "# file structure:\n",
        "# [\n",
        "#  {\"cv\": integer, \"sentiment\": str, \"content\": list} \n",
        "#  {\"cv\": integer, \"sentiment\": str, \"content\": list} \n",
        "#   ..\n",
        "# ]\n",
        "# where `content` is a list of sentences, \n",
        "# with a sentence being a list of (token, pos_tag) pairs.\n",
        "\n",
        "\n",
        "with open(\"reviews.json\", mode=\"r\", encoding=\"utf-8\") as f:\n",
        "  reviews = json.load(f)\n",
        "  \n",
        "print(\"Total number of reviews:\", len(reviews), '\\n')\n",
        "\n",
        "def print_sentence_with_pos(s):\n",
        "  print(\" \".join(\"%s/%s\" % (token, pos_tag) for token, pos_tag in s))\n",
        "\n",
        "for i, r in enumerate(reviews):\n",
        "  print(r[\"cv\"], r[\"sentiment\"], len(r[\"content\"]))  # cv, sentiment, num sents\n",
        "  print(r[\"content\"])\n",
        "  print_sentence_with_pos(r[\"content\"][0])\n",
        "  if i == 4: \n",
        "    break\n",
        "    \n",
        "pos_tags = []\n",
        "c = Counter()\n",
        "for review in reviews:\n",
        "  for sentence in review[\"content\"]:\n",
        "    for token, pos_tag in sentence:\n",
        "      c[token.lower()] += 1\n",
        "      if pos_tag not in pos_tags :\n",
        "        pos_tags.append(pos_tag)\n",
        "\n",
        "\n",
        "print(\"\\nNumber of word types:\", len(c))\n",
        "print(\"Number of word tokens:\", sum(c.values()))\n",
        "\n",
        "print(\"\\nMost common tokens:\")\n",
        "for token, count in c.most_common(20):\n",
        "  print(\"%10s : %8d\" % (token, count))\n",
        "\n",
        "print(\"Pos Tags: \" + str(pos_tags))\n",
        "\n",
        "\n"
      ],
      "execution_count": null,
      "outputs": [
        {
          "output_type": "stream",
          "name": "stdout",
          "text": [
            "Total number of reviews: 2000 \n",
            "\n",
            "0 NEG 29\n",
            "[[['Two', 'CD'], ['teen', 'JJ'], ['couples', 'NNS'], ['go', 'VBP'], ['to', 'TO'], ['a', 'DT'], ['church', 'NN'], ['party', 'NN'], [',', ','], ['drink', 'NN'], ['and', 'CC'], ['then', 'RB'], ['drive', 'NN'], ['.', '.']], [['They', 'PRP'], ['get', 'VBP'], ['into', 'IN'], ['an', 'DT'], ['accident', 'NN'], ['.', '.']], [['One', 'CD'], ['of', 'IN'], ['the', 'DT'], ['guys', 'NNS'], ['dies', 'VBZ'], [',', ','], ['but', 'CC'], ['his', 'PRP$'], ['girlfriend', 'NN'], ['continues', 'VBZ'], ['to', 'TO'], ['see', 'VB'], ['him', 'PRP'], ['in', 'IN'], ['her', 'PRP$'], ['life', 'NN'], [',', ','], ['and', 'CC'], ['has', 'VBZ'], ['nightmares', 'NNS'], ['.', '.']], [['What', 'WP'], [\"'s\", 'VBZ'], ['the', 'DT'], ['deal', 'NN'], ['?', '.']], [['Watch', 'VB'], ['the', 'DT'], ['movie', 'NN'], ['and', 'CC'], ['``', '``'], ['sorta', 'NN'], [\"''\", \"''\"], ['find', 'VB'], ['out', 'RP'], ['...', ':'], ['CRITIQUE', 'NNP'], [':', ':'], ['A', 'NNP'], ['mind-fuck', 'JJ'], ['movie', 'NN'], ['for', 'IN'], ['the', 'DT'], ['teen', 'NN'], ['generation', 'NN'], ['that', 'WDT'], ['touches', 'NNS'], ['on', 'IN'], ['a', 'DT'], ['very', 'RB'], ['cool', 'JJ'], ['idea', 'NN'], [',', ','], ['but', 'CC'], ['presents', 'VBZ'], ['it', 'PRP'], ['in', 'IN'], ['a', 'DT'], ['very', 'RB'], ['bad', 'JJ'], ['package', 'NN'], ['.', '.']], [['Which', 'WDT'], ['is', 'VBZ'], ['what', 'WP'], ['makes', 'VBZ'], ['this', 'DT'], ['review', 'NN'], ['an', 'DT'], ['even', 'RB'], ['harder', 'RBR'], ['one', 'CD'], ['to', 'TO'], ['write', 'VB'], [',', ','], ['since', 'IN'], ['I', 'PRP'], ['generally', 'RB'], ['applaud', 'VBP'], ['films', 'NNS'], ['which', 'WDT'], ['attempt', 'VBP'], ['to', 'TO'], ['break', 'VB'], ['the', 'DT'], ['mold', 'NN'], [',', ','], ['mess', 'NN'], ['with', 'IN'], ['your', 'PRP$'], ['head', 'NN'], ['and', 'CC'], ['such', 'JJ'], ['-LRB-', '-LRB-'], ['LOST', 'JJ'], ['HIGHWAY', 'NNP'], ['&', 'CC'], ['MEMENTO', 'NNP'], ['-RRB-', '-RRB-'], [',', ','], ['but', 'CC'], ['there', 'EX'], ['are', 'VBP'], ['good', 'JJ'], ['and', 'CC'], ['bad', 'JJ'], ['ways', 'NNS'], ['of', 'IN'], ['making', 'VBG'], ['all', 'DT'], ['types', 'NNS'], ['of', 'IN'], ['films', 'NNS'], [',', ','], ['and', 'CC'], ['these', 'DT'], ['folks', 'NNS'], ['just', 'RB'], ['did', 'VBD'], [\"n't\", 'RB'], ['snag', 'NN'], ['this', 'DT'], ['one', 'CD'], ['correctly', 'RB'], ['.', '.']], [['They', 'PRP'], ['seem', 'VBP'], ['to', 'TO'], ['have', 'VB'], ['taken', 'VBN'], ['this', 'DT'], ['pretty', 'RB'], ['neat', 'JJ'], ['concept', 'NN'], [',', ','], ['but', 'CC'], ['executed', 'VBD'], ['it', 'PRP'], ['terribly', 'RB'], ['.', '.']], [['So', 'RB'], ['what', 'WP'], ['are', 'VBP'], ['the', 'DT'], ['problems', 'NNS'], ['with', 'IN'], ['the', 'DT'], ['movie', 'NN'], ['?', '.']], [['Well', 'RB'], [',', ','], ['its', 'PRP$'], ['main', 'JJ'], ['problem', 'NN'], ['is', 'VBZ'], ['that', 'IN'], ['it', 'PRP'], [\"'s\", 'VBZ'], ['simply', 'RB'], ['too', 'RB'], ['jumbled', 'JJ'], ['.', '.']], [['It', 'PRP'], ['starts', 'VBZ'], ['off', 'RP'], ['``', '``'], ['normal', 'JJ'], [\"''\", \"''\"], ['but', 'CC'], ['then', 'RB'], ['downshifts', 'VBZ'], ['into', 'IN'], ['this', 'DT'], ['``', '``'], ['fantasy', 'NN'], [\"''\", \"''\"], ['world', 'NN'], ['in', 'IN'], ['which', 'WDT'], ['you', 'PRP'], [',', ','], ['as', 'IN'], ['an', 'DT'], ['audience', 'NN'], ['member', 'NN'], [',', ','], ['have', 'VBP'], ['no', 'DT'], ['idea', 'NN'], ['what', 'WP'], [\"'s\", 'VBZ'], ['going', 'VBG'], ['on', 'RP'], ['.', '.']], [['There', 'EX'], ['are', 'VBP'], ['dreams', 'NNS'], [',', ','], ['there', 'EX'], ['are', 'VBP'], ['characters', 'NNS'], ['coming', 'VBG'], ['back', 'RB'], ['from', 'IN'], ['the', 'DT'], ['dead', 'JJ'], [',', ','], ['there', 'EX'], ['are', 'VBP'], ['others', 'NNS'], ['who', 'WP'], ['look', 'VBP'], ['like', 'IN'], ['the', 'DT'], ['dead', 'JJ'], [',', ','], ['there', 'EX'], ['are', 'VBP'], ['strange', 'JJ'], ['apparitions', 'NNS'], [',', ','], ['there', 'EX'], ['are', 'VBP'], ['disappearances', 'NNS'], [',', ','], ['there', 'EX'], ['are', 'VBP'], ['a', 'DT'], ['looooot', 'NN'], ['of', 'IN'], ['chase', 'NN'], ['scenes', 'NNS'], [',', ','], ['there', 'EX'], ['are', 'VBP'], ['tons', 'NNS'], ['of', 'IN'], ['weird', 'JJ'], ['things', 'NNS'], ['that', 'WDT'], ['happen', 'VBP'], [',', ','], ['and', 'CC'], ['most', 'JJS'], ['of', 'IN'], ['it', 'PRP'], ['is', 'VBZ'], ['simply', 'RB'], ['not', 'RB'], ['explained', 'VBN'], ['.', '.']], [['Now', 'RB'], ['I', 'PRP'], ['personally', 'RB'], ['do', 'VBP'], [\"n't\", 'RB'], ['mind', 'VB'], ['trying', 'VBG'], ['to', 'TO'], ['unravel', 'VB'], ['a', 'DT'], ['film', 'NN'], ['every', 'DT'], ['now', 'RB'], ['and', 'CC'], ['then', 'RB'], [',', ','], ['but', 'CC'], ['when', 'WRB'], ['all', 'DT'], ['it', 'PRP'], ['does', 'VBZ'], ['is', 'VBZ'], ['give', 'VB'], ['me', 'PRP'], ['the', 'DT'], ['same', 'JJ'], ['clue', 'NN'], ['over', 'IN'], ['and', 'CC'], ['over', 'IN'], ['again', 'RB'], [',', ','], ['I', 'PRP'], ['get', 'VBP'], ['kind', 'NN'], ['of', 'IN'], ['fed', 'VBN'], ['up', 'RP'], ['after', 'IN'], ['a', 'DT'], ['while', 'NN'], [',', ','], ['which', 'WDT'], ['is', 'VBZ'], ['this', 'DT'], ['film', 'NN'], [\"'s\", 'POS'], ['biggest', 'JJS'], ['problem', 'NN'], ['.', '.']], [['It', 'PRP'], [\"'s\", 'VBZ'], ['obviously', 'RB'], ['got', 'VBN'], ['this', 'DT'], ['big', 'JJ'], ['secret', 'NN'], ['to', 'TO'], ['hide', 'VB'], [',', ','], ['but', 'CC'], ['it', 'PRP'], ['seems', 'VBZ'], ['to', 'TO'], ['want', 'VB'], ['to', 'TO'], ['hide', 'VB'], ['it', 'PRP'], ['completely', 'RB'], ['until', 'IN'], ['its', 'PRP$'], ['final', 'JJ'], ['five', 'CD'], ['minutes', 'NNS'], ['.', '.']], [['And', 'CC'], ['do', 'VBP'], ['they', 'PRP'], ['make', 'VBP'], ['things', 'NNS'], ['entertaining', 'JJ'], [',', ','], ['thrilling', 'JJ'], ['or', 'CC'], ['even', 'RB'], ['engaging', 'JJ'], [',', ','], ['in', 'IN'], ['the', 'DT'], ['meantime', 'NN'], ['?', '.']], [['Not', 'RB'], ['really', 'RB'], ['.', '.']], [['The', 'DT'], ['sad', 'JJ'], ['part', 'NN'], ['is', 'VBZ'], ['that', 'IN'], ['the', 'DT'], ['Arrow', 'NNP'], ['and', 'CC'], ['I', 'PRP'], ['both', 'DT'], ['dig', 'NN'], ['on', 'IN'], ['flicks', 'NNS'], ['like', 'IN'], ['this', 'DT'], [',', ','], ['so', 'IN'], ['we', 'PRP'], ['actually', 'RB'], ['figured', 'VBD'], ['most', 'JJS'], ['of', 'IN'], ['it', 'PRP'], ['out', 'RP'], ['by', 'IN'], ['the', 'DT'], ['half-way', 'NN'], ['point', 'NN'], [',', ','], ['so', 'RB'], ['all', 'DT'], ['of', 'IN'], ['the', 'DT'], ['strangeness', 'NN'], ['after', 'IN'], ['that', 'DT'], ['did', 'VBD'], ['start', 'VB'], ['to', 'TO'], ['make', 'VB'], ['a', 'DT'], ['little', 'JJ'], ['bit', 'NN'], ['of', 'IN'], ['sense', 'NN'], [',', ','], ['but', 'CC'], ['it', 'PRP'], ['still', 'RB'], ['did', 'VBD'], [\"n't\", 'RB'], ['the', 'DT'], ['make', 'VB'], ['the', 'DT'], ['film', 'NN'], ['all', 'DT'], ['that', 'IN'], ['more', 'JJR'], ['entertaining', 'JJ'], ['.', '.']], [['I', 'PRP'], ['guess', 'VBP'], ['the', 'DT'], ['bottom', 'JJ'], ['line', 'NN'], ['with', 'IN'], ['movies', 'NNS'], ['like', 'IN'], ['this', 'DT'], ['is', 'VBZ'], ['that', 'IN'], ['you', 'PRP'], ['should', 'MD'], ['always', 'RB'], ['make', 'VB'], ['sure', 'JJ'], ['that', 'IN'], ['the', 'DT'], ['audience', 'NN'], ['is', 'VBZ'], ['``', '``'], ['into', 'IN'], ['it', 'PRP'], [\"''\", \"''\"], ['even', 'RB'], ['before', 'IN'], ['they', 'PRP'], ['are', 'VBP'], ['given', 'VBN'], ['the', 'DT'], ['secret', 'JJ'], ['password', 'NN'], ['to', 'TO'], ['enter', 'VB'], ['your', 'PRP$'], ['world', 'NN'], ['of', 'IN'], ['understanding', 'NN'], ['.', '.']], [['I', 'PRP'], ['mean', 'VBP'], [',', ','], ['showing', 'VBG'], ['Melissa', 'NNP'], ['Sagemiller', 'NNP'], ['running', 'VBG'], ['away', 'RB'], ['from', 'IN'], ['visions', 'NNS'], ['for', 'IN'], ['about', 'RB'], ['20', 'CD'], ['minutes', 'NNS'], ['throughout', 'IN'], ['the', 'DT'], ['movie', 'NN'], ['is', 'VBZ'], ['just', 'RB'], ['plain', 'JJ'], ['lazy', 'JJ'], ['!!', 'NN']], [['Okay', 'UH'], [',', ','], ['we', 'PRP'], ['get', 'VBP'], ['it', 'PRP'], ['...', ':'], ['there', 'EX'], ['are', 'VBP'], ['people', 'NNS'], ['chasing', 'VBG'], ['her', 'PRP'], ['and', 'CC'], ['we', 'PRP'], ['do', 'VBP'], [\"n't\", 'RB'], ['know', 'VB'], ['who', 'WP'], ['they', 'PRP'], ['are', 'VBP'], ['.', '.']], [['Do', 'VB'], ['we', 'PRP'], ['really', 'RB'], ['need', 'VBP'], ['to', 'TO'], ['see', 'VB'], ['it', 'PRP'], ['over', 'IN'], ['and', 'CC'], ['over', 'IN'], ['again', 'RB'], ['?', '.']], [['How', 'WRB'], ['about', 'RB'], ['giving', 'VBG'], ['us', 'PRP'], ['different', 'JJ'], ['scenes', 'NNS'], ['offering', 'VBG'], ['further', 'JJ'], ['insight', 'NN'], ['into', 'IN'], ['all', 'DT'], ['of', 'IN'], ['the', 'DT'], ['strangeness', 'NN'], ['going', 'VBG'], ['down', 'RB'], ['in', 'IN'], ['the', 'DT'], ['movie', 'NN'], ['?', '.']], [['Apparently', 'RB'], [',', ','], ['the', 'DT'], ['studio', 'NN'], ['took', 'VBD'], ['this', 'DT'], ['film', 'NN'], ['away', 'RB'], ['from', 'IN'], ['its', 'PRP$'], ['director', 'NN'], ['and', 'CC'], ['chopped', 'VBD'], ['it', 'PRP'], ['up', 'RP'], ['themselves', 'PRP'], [',', ','], ['and', 'CC'], ['it', 'PRP'], ['shows', 'VBZ'], ['.', '.']], [['There', 'EX'], ['might', 'MD'], [\"'ve\", 'VB'], ['been', 'VBN'], ['a', 'DT'], ['pretty', 'RB'], ['decent', 'JJ'], ['teen', 'NN'], ['mind-fuck', 'NN'], ['movie', 'NN'], ['in', 'IN'], ['here', 'RB'], ['somewhere', 'RB'], [',', ','], ['but', 'CC'], ['I', 'PRP'], ['guess', 'VBP'], ['``', '``'], ['the', 'DT'], ['suits', 'NNS'], [\"''\", \"''\"], ['decided', 'VBD'], ['that', 'IN'], ['turning', 'VBG'], ['it', 'PRP'], ['into', 'IN'], ['a', 'DT'], ['music', 'NN'], ['video', 'NN'], ['with', 'IN'], ['little', 'JJ'], ['edge', 'NN'], [',', ','], ['would', 'MD'], ['make', 'VB'], ['more', 'JJR'], ['sense', 'NN'], ['.', '.']], [['The', 'DT'], ['actors', 'NNS'], ['are', 'VBP'], ['pretty', 'RB'], ['good', 'JJ'], ['for', 'IN'], ['the', 'DT'], ['most', 'JJS'], ['part', 'NN'], [',', ','], ['although', 'IN'], ['Wes', 'NNP'], ['Bentley', 'NNP'], ['just', 'RB'], ['seemed', 'VBD'], ['to', 'TO'], ['be', 'VB'], ['playing', 'VBG'], ['the', 'DT'], ['exact', 'JJ'], ['same', 'JJ'], ['character', 'NN'], ['that', 'IN'], ['he', 'PRP'], ['did', 'VBD'], ['in', 'IN'], ['AMERICAN', 'NNP'], ['BEAUTY', 'NNP'], [',', ','], ['only', 'RB'], ['in', 'IN'], ['a', 'DT'], ['new', 'JJ'], ['neighborhood', 'NN'], ['.', '.']], [['But', 'CC'], ['my', 'PRP$'], ['biggest', 'JJS'], ['kudos', 'NNS'], ['go', 'VBP'], ['out', 'RP'], ['to', 'TO'], ['Sagemiller', 'NNP'], [',', ','], ['who', 'WP'], ['holds', 'VBZ'], ['her', 'PRP$'], ['own', 'JJ'], ['throughout', 'IN'], ['the', 'DT'], ['entire', 'JJ'], ['film', 'NN'], [',', ','], ['and', 'CC'], ['actually', 'RB'], ['has', 'VBZ'], ['you', 'PRP'], ['feeling', 'VBG'], ['her', 'PRP$'], ['character', 'NN'], [\"'s\", 'POS'], ['unraveling', 'NN'], ['.', '.']], [['Overall', 'RB'], [',', ','], ['the', 'DT'], ['film', 'NN'], ['does', 'VBZ'], [\"n't\", 'RB'], ['stick', 'VB'], ['because', 'IN'], ['it', 'PRP'], ['does', 'VBZ'], [\"n't\", 'RB'], ['entertain', 'VB'], [',', ','], ['it', 'PRP'], [\"'s\", 'VBZ'], ['confusing', 'JJ'], [',', ','], ['it', 'PRP'], ['rarely', 'RB'], ['excites', 'VBZ'], ['and', 'CC'], ['it', 'PRP'], ['feels', 'VBZ'], ['pretty', 'RB'], ['redundant', 'JJ'], ['for', 'IN'], ['most', 'JJS'], ['of', 'IN'], ['its', 'PRP$'], ['runtime', 'NN'], [',', ','], ['despite', 'IN'], ['a', 'DT'], ['pretty', 'RB'], ['cool', 'JJ'], ['ending', 'VBG'], ['and', 'CC'], ['explanation', 'NN'], ['to', 'TO'], ['all', 'DT'], ['of', 'IN'], ['the', 'DT'], ['craziness', 'NN'], ['that', 'WDT'], ['came', 'VBD'], ['before', 'IN'], ['it', 'PRP'], ['.', '.']], [['Oh', 'UH'], [',', ','], ['and', 'CC'], ['by', 'IN'], ['the', 'DT'], ['way', 'NN'], [',', ','], ['this', 'DT'], ['is', 'VBZ'], ['not', 'RB'], ['a', 'DT'], ['horror', 'NN'], ['or', 'CC'], ['teen', 'JJ'], ['slasher', 'NN'], ['flick', 'NN'], ['...', ':'], ['it', 'PRP'], [\"'s\", 'VBZ'], ['just', 'RB'], ['packaged', 'VBN'], ['to', 'TO'], ['look', 'VB'], ['that', 'DT'], ['way', 'NN'], ['because', 'IN'], ['someone', 'NN'], ['is', 'VBZ'], ['apparently', 'RB'], ['assuming', 'VBG'], ['that', 'IN'], ['the', 'DT'], ['genre', 'NN'], ['is', 'VBZ'], ['still', 'RB'], ['hot', 'JJ'], ['with', 'IN'], ['the', 'DT'], ['kids', 'NNS'], ['.', '.']], [['It', 'PRP'], ['also', 'RB'], ['wrapped', 'VBD'], ['production', 'NN'], ['two', 'CD'], ['years', 'NNS'], ['ago', 'RB'], ['and', 'CC'], ['has', 'VBZ'], ['been', 'VBN'], ['sitting', 'VBG'], ['on', 'IN'], ['the', 'DT'], ['shelves', 'NNS'], ['ever', 'RB'], ['since', 'IN'], ['.', '.']], [['Whatever', 'WDT'], ['...', ':'], ['skip', 'VB'], ['it', 'PRP'], ['!', '.']]]\n",
            "Two/CD teen/JJ couples/NNS go/VBP to/TO a/DT church/NN party/NN ,/, drink/NN and/CC then/RB drive/NN ./.\n",
            "1 NEG 11\n",
            "[[['Damn', 'JJ'], ['that', 'IN'], ['Y2K', 'CD'], ['bug', 'NN'], ['.', '.']], [['It', 'PRP'], [\"'s\", 'VBZ'], ['got', 'VBD'], ['a', 'DT'], ['head', 'NN'], ['start', 'NN'], ['in', 'IN'], ['this', 'DT'], ['movie', 'NN'], ['starring', 'VBG'], ['Jamie', 'NNP'], ['Lee', 'NNP'], ['Curtis', 'NNP'], ['and', 'CC'], ['another', 'DT'], ['Baldwin', 'NNP'], ['brother', 'NN'], ['-LRB-', '-LRB-'], ['William', 'NNP'], ['this', 'DT'], ['time', 'NN'], ['-RRB-', '-RRB-'], ['in', 'IN'], ['a', 'DT'], ['story', 'NN'], ['regarding', 'VBG'], ['a', 'DT'], ['crew', 'NN'], ['of', 'IN'], ['a', 'DT'], ['tugboat', 'NN'], ['that', 'WDT'], ['comes', 'VBZ'], ['across', 'IN'], ['a', 'DT'], ['deserted', 'VBN'], ['Russian', 'JJ'], ['tech', 'NN'], ['ship', 'NN'], ['that', 'WDT'], ['has', 'VBZ'], ['a', 'DT'], ['strangeness', 'NN'], ['to', 'TO'], ['it', 'PRP'], ['when', 'WRB'], ['they', 'PRP'], ['kick', 'VBP'], ['the', 'DT'], ['power', 'NN'], ['back', 'RB'], ['on', 'IN'], ['.', '.']], [['Little', 'RB'], ['do', 'VBP'], ['they', 'PRP'], ['know', 'VB'], ['the', 'DT'], ['power', 'NN'], ['within', 'IN'], ['...', ':'], ['Going', 'VBG'], ['for', 'IN'], ['the', 'DT'], ['gore', 'VB'], ['and', 'CC'], ['bringing', 'VBG'], ['on', 'IN'], ['a', 'DT'], ['few', 'JJ'], ['action', 'NN'], ['sequences', 'NNS'], ['here', 'RB'], ['and', 'CC'], ['there', 'RB'], [',', ','], ['Virus', 'NN'], ['still', 'RB'], ['feels', 'VBZ'], ['very', 'RB'], ['empty', 'JJ'], [',', ','], ['like', 'IN'], ['a', 'DT'], ['movie', 'NN'], ['going', 'VBG'], ['for', 'IN'], ['all', 'DT'], ['flash', 'NN'], ['and', 'CC'], ['no', 'DT'], ['substance', 'NN'], ['.', '.']], [['We', 'PRP'], ['do', 'VBP'], [\"n't\", 'RB'], ['know', 'VB'], ['why', 'WRB'], ['the', 'DT'], ['crew', 'NN'], ['was', 'VBD'], ['really', 'RB'], ['out', 'RB'], ['in', 'IN'], ['the', 'DT'], ['middle', 'NN'], ['of', 'IN'], ['nowhere', 'RB'], [',', ','], ['we', 'PRP'], ['do', 'VBP'], [\"n't\", 'RB'], ['know', 'VB'], ['the', 'DT'], ['origin', 'NN'], ['of', 'IN'], ['what', 'WP'], ['took', 'VBD'], ['over', 'RP'], ['the', 'DT'], ['ship', 'NN'], ['-LRB-', '-LRB-'], ['just', 'RB'], ['that', 'IN'], ['a', 'DT'], ['big', 'JJ'], ['pink', 'JJ'], ['flashy', 'JJ'], ['thing', 'NN'], ['hit', 'VBD'], ['the', 'DT'], ['MIR', 'NN'], ['-RRB-', '-RRB-'], [',', ','], ['and', 'CC'], [',', ','], ['of', 'IN'], ['course', 'NN'], [',', ','], ['we', 'PRP'], ['do', 'VBP'], [\"n't\", 'RB'], ['know', 'VB'], ['why', 'WRB'], ['Donald', 'NNP'], ['Sutherland', 'NNP'], ['is', 'VBZ'], ['stumbling', 'VBG'], ['around', 'RP'], ['drunkenly', 'RB'], ['throughout', 'IN'], ['.', '.']], [['Here', 'RB'], [',', ','], ['it', 'PRP'], [\"'s\", 'VBZ'], ['just', 'RB'], ['``', '``'], ['hey', 'RB'], [',', ','], ['let', 'VB'], [\"'s\", 'POS'], ['chase', 'VB'], ['these', 'DT'], ['people', 'NNS'], ['around', 'IN'], ['with', 'IN'], ['some', 'DT'], ['robots', 'NNS'], [\"''\", \"''\"], ['.', '.']], [['The', 'DT'], ['acting', 'NN'], ['is', 'VBZ'], ['below', 'IN'], ['average', 'NN'], [',', ','], ['even', 'RB'], ['from', 'IN'], ['the', 'DT'], ['likes', 'NN'], ['of', 'IN'], ['Curtis', 'NNP'], ['.', '.']], [['You', 'PRP'], [\"'re\", 'VBP'], ['more', 'RBR'], ['likely', 'JJ'], ['to', 'TO'], ['get', 'VB'], ['a', 'DT'], ['kick', 'NN'], ['out', 'IN'], ['of', 'IN'], ['her', 'PRP$'], ['work', 'NN'], ['in', 'IN'], ['Halloween', 'NNP'], ['H20', 'NN'], ['.', '.']], [['Sutherland', 'NNP'], ['is', 'VBZ'], ['wasted', 'VBN'], ['and', 'CC'], ['Baldwin', 'NNP'], [',', ','], ['well', 'RB'], [',', ','], ['he', 'PRP'], [\"'s\", 'VBZ'], ['acting', 'VBG'], ['like', 'IN'], ['a', 'DT'], ['Baldwin', 'NNP'], [',', ','], ['of', 'IN'], ['course', 'NN'], ['.', '.']], [['The', 'DT'], ['real', 'JJ'], ['star', 'NN'], ['here', 'RB'], ['are', 'VBP'], ['Stan', 'NNP'], ['Winston', 'NNP'], [\"'s\", 'POS'], ['robot', 'NN'], ['design', 'NN'], [',', ','], ['some', 'DT'], ['schnazzy', 'NN'], ['CGI', 'NN'], [',', ','], ['and', 'CC'], ['the', 'DT'], ['occasional', 'JJ'], ['good', 'JJ'], ['gore', 'VBP'], ['shot', 'NN'], [',', ','], ['like', 'IN'], ['picking', 'VBG'], ['into', 'IN'], ['someone', 'NN'], [\"'s\", 'POS'], ['brain', 'NN'], ['.', '.']], [['So', 'RB'], [',', ','], ['if', 'IN'], ['robots', 'NNS'], ['and', 'CC'], ['body', 'NN'], ['parts', 'NNS'], ['really', 'RB'], ['turn', 'VB'], ['you', 'PRP'], ['on', 'IN'], [',', ','], ['here', 'RB'], [\"'s\", 'POS'], ['your', 'PRP$'], ['movie', 'NN'], ['.', '.']], [['Otherwise', 'RB'], [',', ','], ['it', 'PRP'], [\"'s\", 'VBZ'], ['pretty', 'RB'], ['much', 'RB'], ['a', 'DT'], ['sunken', 'JJ'], ['ship', 'NN'], ['of', 'IN'], ['a', 'DT'], ['movie', 'NN'], ['.', '.']]]\n",
            "Damn/JJ that/IN Y2K/CD bug/NN ./.\n",
            "2 NEG 24\n",
            "[[['It', 'PRP'], ['is', 'VBZ'], ['movies', 'NNS'], ['like', 'IN'], ['these', 'DT'], ['that', 'WDT'], ['make', 'VBP'], ['a', 'DT'], ['jaded', 'JJ'], ['movie', 'NN'], ['viewer', 'NN'], ['thankful', 'JJ'], ['for', 'IN'], ['the', 'DT'], ['invention', 'NN'], ['of', 'IN'], ['the', 'DT'], ['Timex', 'NNP'], ['IndiGlo', 'NNP'], ['watch', 'NN'], ['.', '.']], [['Based', 'VBN'], ['on', 'IN'], ['the', 'DT'], ['late', 'JJ'], ['1960', 'CD'], [\"'s\", 'POS'], ['television', 'NN'], ['show', 'NN'], ['by', 'IN'], ['the', 'DT'], ['same', 'JJ'], ['name', 'NN'], [',', ','], ['The', 'DT'], ['Mod', 'NNP'], ['Squad', 'NNP'], ['tells', 'VBZ'], ['the', 'DT'], ['tale', 'NN'], ['of', 'IN'], ['three', 'CD'], ['reformed', 'VBN'], ['criminals', 'NNS'], ['under', 'IN'], ['the', 'DT'], ['employ', 'VBP'], ['of', 'IN'], ['the', 'DT'], ['police', 'NN'], ['to', 'TO'], ['go', 'VB'], ['undercover', 'JJ'], ['.', '.']], [['However', 'RB'], [',', ','], ['things', 'NNS'], ['go', 'VBP'], ['wrong', 'JJ'], ['as', 'IN'], ['evidence', 'NN'], ['gets', 'VBZ'], ['stolen', 'VBN'], ['and', 'CC'], ['they', 'PRP'], ['are', 'VBP'], ['immediately', 'RB'], ['under', 'IN'], ['suspicion', 'NN'], ['.', '.']], [['Of', 'IN'], ['course', 'NN'], [',', ','], ['the', 'DT'], ['ads', 'NNS'], ['make', 'VBP'], ['it', 'PRP'], ['seem', 'VB'], ['like', 'IN'], ['so', 'RB'], ['much', 'RB'], ['more', 'RBR'], ['.', '.']], [['Quick', 'RB'], ['cuts', 'NNS'], [',', ','], ['cool', 'JJ'], ['music', 'NN'], [',', ','], ['Claire', 'NNP'], ['Dane', 'NN'], [\"'s\", 'POS'], ['nice', 'JJ'], ['hair', 'NN'], ['and', 'CC'], ['cute', 'JJ'], ['outfits', 'NN'], [',', ','], ['car', 'NN'], ['chases', 'VBZ'], [',', ','], ['stuff', 'NN'], ['blowing', 'VBG'], ['up', 'RP'], [',', ','], ['and', 'CC'], ['the', 'DT'], ['like', 'JJ'], ['.', '.']], [['Sounds', 'VBZ'], ['like', 'IN'], ['a', 'DT'], ['cool', 'JJ'], ['movie', 'NN'], [',', ','], ['does', 'VBZ'], ['it', 'PRP'], ['not', 'RB'], ['?', '.']], [['After', 'IN'], ['the', 'DT'], ['first', 'JJ'], ['fifteen', 'CD'], ['minutes', 'NNS'], [',', ','], ['it', 'PRP'], ['quickly', 'RB'], ['becomes', 'VBZ'], ['apparent', 'JJ'], ['that', 'IN'], ['it', 'PRP'], ['is', 'VBZ'], ['not', 'RB'], ['.', '.']], [['The', 'DT'], ['Mod', 'NNP'], ['Squad', 'NNP'], ['is', 'VBZ'], ['certainly', 'RB'], ['a', 'DT'], ['slick', 'JJ'], ['looking', 'VBG'], ['production', 'NN'], [',', ','], ['complete', 'JJ'], ['with', 'IN'], ['nice', 'JJ'], ['hair', 'NN'], ['and', 'CC'], ['costumes', 'NNS'], [',', ','], ['but', 'CC'], ['that', 'IN'], ['simply', 'RB'], ['is', 'VBZ'], [\"n't\", 'RB'], ['enough', 'RB'], ['.', '.']], [['The', 'DT'], ['film', 'NN'], ['is', 'VBZ'], ['best', 'JJS'], ['described', 'VBN'], ['as', 'IN'], ['a', 'DT'], ['cross', 'NN'], ['between', 'IN'], ['an', 'DT'], ['hour-long', 'JJ'], ['cop', 'NN'], ['show', 'NN'], ['and', 'CC'], ['a', 'DT'], ['music', 'NN'], ['video', 'NN'], [',', ','], ['both', 'CC'], ['stretched', 'VBD'], ['out', 'RP'], ['into', 'IN'], ['the', 'DT'], ['span', 'NN'], ['of', 'IN'], ['an', 'DT'], ['hour', 'NN'], ['and', 'CC'], ['a', 'DT'], ['half', 'NN'], ['.', '.']], [['And', 'CC'], ['with', 'IN'], ['it', 'PRP'], ['comes', 'VBZ'], ['every', 'DT'], ['single', 'JJ'], ['clich', 'NN'], ['.', '.']], [['It', 'PRP'], ['does', 'VBZ'], [\"n't\", 'RB'], ['really', 'RB'], ['matter', 'VB'], ['that', 'IN'], ['the', 'DT'], ['film', 'NN'], ['is', 'VBZ'], ['based', 'VBN'], ['on', 'IN'], ['a', 'DT'], ['television', 'NN'], ['show', 'NN'], [',', ','], ['as', 'IN'], ['most', 'JJS'], ['of', 'IN'], ['the', 'DT'], ['plot', 'NN'], ['elements', 'NNS'], ['have', 'VBP'], ['been', 'VBN'], ['recycled', 'VBN'], ['from', 'IN'], ['everything', 'NN'], ['we', 'PRP'], [\"'ve\", 'VBP'], ['already', 'RB'], ['seen', 'VBN'], ['.', '.']], [['The', 'DT'], ['characters', 'NNS'], ['and', 'CC'], ['acting', 'VBG'], ['is', 'VBZ'], ['nothing', 'NN'], ['spectacular', 'JJ'], [',', ','], ['sometimes', 'RB'], ['even', 'RB'], ['bordering', 'VBG'], ['on', 'IN'], ['wooden', 'JJ'], ['.', '.']], [['Claire', 'NNP'], ['Danes', 'NNP'], ['and', 'CC'], ['Omar', 'NNP'], ['Epps', 'NNP'], ['deliver', 'VB'], ['their', 'PRP$'], ['lines', 'NNS'], ['as', 'IN'], ['if', 'IN'], ['they', 'PRP'], ['are', 'VBP'], ['bored', 'VBN'], [',', ','], ['which', 'WDT'], ['really', 'RB'], ['transfers', 'VBZ'], ['onto', 'IN'], ['the', 'DT'], ['audience', 'NN'], ['.', '.']], [['The', 'DT'], ['only', 'JJ'], ['one', 'CD'], ['to', 'TO'], ['escape', 'VB'], ['relatively', 'RB'], ['unscathed', 'JJ'], ['is', 'VBZ'], ['Giovanni', 'NNP'], ['Ribisi', 'NNP'], [',', ','], ['who', 'WP'], ['plays', 'VBZ'], ['the', 'DT'], ['resident', 'JJ'], ['crazy', 'JJ'], ['man', 'NN'], [',', ','], ['ultimately', 'RB'], ['being', 'VBG'], ['the', 'DT'], ['only', 'JJ'], ['thing', 'NN'], ['worth', 'JJ'], ['watching', 'VBG'], ['.', '.']], [['Unfortunately', 'RB'], [',', ','], ['even', 'RB'], ['he', 'PRP'], [\"'s\", 'VBZ'], ['not', 'RB'], ['enough', 'JJ'], ['to', 'TO'], ['save', 'VB'], ['this', 'DT'], ['convoluted', 'JJ'], ['mess', 'NN'], [',', ','], ['as', 'IN'], ['all', 'PDT'], ['the', 'DT'], ['characters', 'NNS'], ['do', 'VBP'], [\"n't\", 'RB'], ['do', 'VB'], ['much', 'JJ'], ['apart', 'RB'], ['from', 'IN'], ['occupying', 'VBG'], ['screen', 'NN'], ['time', 'NN'], ['.', '.']], [['With', 'IN'], ['the', 'DT'], ['young', 'JJ'], ['cast', 'NN'], [',', ','], ['cool', 'JJ'], ['clothes', 'NNS'], [',', ','], ['nice', 'JJ'], ['hair', 'NN'], [',', ','], ['and', 'CC'], ['hip', 'NN'], ['soundtrack', 'NN'], [',', ','], ['it', 'PRP'], ['appears', 'VBZ'], ['that', 'IN'], ['the', 'DT'], ['film', 'NN'], ['is', 'VBZ'], ['geared', 'VBN'], ['towards', 'IN'], ['the', 'DT'], ['teenage', 'JJ'], ['mindset', 'NN'], ['.', '.']], [['Despite', 'IN'], ['an', 'DT'], ['American', 'NNP'], [\"'\", 'POS'], ['R', 'NN'], [\"'\", \"''\"], ['rating', 'NN'], ['-LRB-', '-LRB-'], ['which', 'WDT'], ['the', 'DT'], ['content', 'NN'], ['does', 'VBZ'], ['not', 'RB'], ['justify', 'VB'], ['-RRB-', '-RRB-'], [',', ','], ['the', 'DT'], ['film', 'NN'], ['is', 'VBZ'], ['way', 'NN'], ['too', 'RB'], ['juvenile', 'JJ'], ['for', 'IN'], ['the', 'DT'], ['older', 'JJR'], ['mindset', 'NN'], ['.', '.']], [['Information', 'NN'], ['on', 'IN'], ['the', 'DT'], ['characters', 'NNS'], ['is', 'VBZ'], ['literally', 'RB'], ['spoon-fed', 'JJ'], ['to', 'TO'], ['the', 'DT'], ['audience', 'NN'], ['-LRB-', '-LRB-'], ['would', 'MD'], ['it', 'PRP'], ['be', 'VB'], ['that', 'DT'], ['hard', 'JJ'], ['to', 'TO'], ['show', 'VB'], ['us', 'PRP'], ['instead', 'RB'], ['of', 'IN'], ['telling', 'VBG'], ['us', 'PRP'], ['?', '.'], ['-RRB-', '-RRB-']], [[',', ','], ['dialogue', 'NN'], ['is', 'VBZ'], ['poorly', 'RB'], ['written', 'VBN'], [',', ','], ['and', 'CC'], ['the', 'DT'], ['plot', 'NN'], ['is', 'VBZ'], ['extremely', 'RB'], ['predictable', 'JJ'], ['.', '.']], [['The', 'DT'], ['way', 'NN'], ['the', 'DT'], ['film', 'NN'], ['progresses', 'VBZ'], [',', ','], ['you', 'PRP'], ['likely', 'RB'], ['wo', 'MD'], [\"n't\", 'RB'], ['even', 'RB'], ['care', 'VB'], ['if', 'IN'], ['the', 'DT'], ['heroes', 'NNS'], ['are', 'VBP'], ['in', 'IN'], ['any', 'DT'], ['jeopardy', 'NN'], [',', ','], ['because', 'IN'], ['you', 'PRP'], [\"'ll\", 'MD'], ['know', 'VB'], ['they', 'PRP'], ['are', 'VBP'], [\"n't\", 'RB'], ['.', '.']], [['Basing', 'VBG'], ['the', 'DT'], ['show', 'NN'], ['on', 'IN'], ['a', 'DT'], ['1960', 'CD'], [\"'s\", 'POS'], ['television', 'NN'], ['show', 'NN'], ['that', 'IN'], ['nobody', 'NN'], ['remembers', 'VBZ'], ['is', 'VBZ'], ['of', 'IN'], ['questionable', 'JJ'], ['wisdom', 'NN'], [',', ','], ['especially', 'RB'], ['when', 'WRB'], ['one', 'CD'], ['considers', 'VBZ'], ['the', 'DT'], ['target', 'NN'], ['audience', 'NN'], ['and', 'CC'], ['the', 'DT'], ['fact', 'NN'], ['that', 'IN'], ['the', 'DT'], ['number', 'NN'], ['of', 'IN'], ['memorable', 'JJ'], ['films', 'NNS'], ['based', 'VBN'], ['on', 'IN'], ['television', 'NN'], ['shows', 'NNS'], ['can', 'MD'], ['be', 'VB'], ['counted', 'VBN'], ['on', 'IN'], ['one', 'CD'], ['hand', 'NN'], ['-LRB-', '-LRB-'], ['even', 'RB'], ['one', 'CD'], ['that', 'WDT'], [\"'s\", 'VBZ'], ['missing', 'VBG'], ['a', 'DT'], ['finger', 'NN'], ['or', 'CC'], ['two', 'CD'], ['-RRB-', '-RRB-'], ['.', '.']], [['The', 'DT'], ['number', 'NN'], ['of', 'IN'], ['times', 'NNS'], ['that', 'IN'], ['I', 'PRP'], ['checked', 'VBD'], ['my', 'PRP$'], ['watch', 'NN'], ['-LRB-', '-LRB-'], ['six', 'CD'], ['-RRB-', '-RRB-'], ['is', 'VBZ'], ['a', 'DT'], ['clear', 'JJ'], ['indication', 'NN'], ['that', 'IN'], ['this', 'DT'], ['film', 'NN'], ['is', 'VBZ'], ['not', 'RB'], ['one', 'CD'], ['of', 'IN'], ['them', 'PRP'], ['.', '.']], [['It', 'PRP'], ['is', 'VBZ'], ['clear', 'JJ'], ['that', 'IN'], ['the', 'DT'], ['film', 'NN'], ['is', 'VBZ'], ['nothing', 'NN'], ['more', 'JJR'], ['than', 'IN'], ['an', 'DT'], ['attempt', 'NN'], ['to', 'TO'], ['cash', 'NN'], ['in', 'IN'], ['on', 'IN'], ['the', 'DT'], ['teenage', 'JJ'], ['spending', 'NN'], ['dollar', 'NN'], [',', ','], ['judging', 'VBG'], ['from', 'IN'], ['the', 'DT'], ['rash', 'NN'], ['of', 'IN'], ['really', 'RB'], ['awful', 'JJ'], ['teen-flicks', 'NNS'], ['that', 'IN'], ['we', 'PRP'], [\"'ve\", 'VBP'], ['been', 'VBN'], ['seeing', 'VBG'], ['as', 'IN'], ['of', 'IN'], ['late', 'JJ'], ['.', '.']], [['Avoid', 'VB'], ['this', 'DT'], ['film', 'NN'], ['at', 'IN'], ['all', 'DT'], ['costs', 'NNS'], ['.', '.']]]\n",
            "It/PRP is/VBZ movies/NNS like/IN these/DT that/WDT make/VBP a/DT jaded/JJ movie/NN viewer/NN thankful/JJ for/IN the/DT invention/NN of/IN the/DT Timex/NNP IndiGlo/NNP watch/NN ./.\n",
            "3 NEG 19\n",
            "[[['QUEST', 'NN'], ['FOR', 'IN'], ['CAMELOT', 'NNP'], ['``', '``'], ['Quest', 'NNP'], ['for', 'IN'], ['Camelot', 'NNP'], [\"''\", \"''\"], ['is', 'VBZ'], ['Warner', 'NNP'], ['Bros.', 'NNP'], [\"'\", 'POS'], ['first', 'JJ'], ['feature-length', 'JJ'], [',', ','], ['fully-animated', 'JJ'], ['attempt', 'NN'], ['to', 'TO'], ['steal', 'VB'], ['clout', 'NN'], ['from', 'IN'], ['Disney', 'NNP'], [\"'s\", 'POS'], ['cartoon', 'NN'], ['empire', 'NN'], [',', ','], ['but', 'CC'], ['the', 'DT'], ['mouse', 'NN'], ['has', 'VBZ'], ['no', 'DT'], ['reason', 'NN'], ['to', 'TO'], ['be', 'VB'], ['worried', 'VBN'], ['.', '.']], [['The', 'DT'], ['only', 'JJ'], ['other', 'JJ'], ['recent', 'JJ'], ['challenger', 'NN'], ['to', 'TO'], ['their', 'PRP$'], ['throne', 'NN'], ['was', 'VBD'], ['last', 'JJ'], ['fall', 'NN'], [\"'s\", 'POS'], ['promising', 'JJ'], [',', ','], ['if', 'IN'], ['flawed', 'VBN'], [',', ','], ['20th', 'JJ'], ['Century', 'NNP'], ['Fox', 'NNP'], ['production', 'NN'], ['``', '``'], ['Anastasia', 'NNP'], [',', ','], [\"''\", \"''\"], ['but', 'CC'], ['Disney', 'NNP'], [\"'s\", 'POS'], ['``', '``'], ['Hercules', 'NNP'], [',', ','], [\"''\", \"''\"], ['with', 'IN'], ['its', 'PRP$'], ['lively', 'JJ'], ['cast', 'NN'], ['and', 'CC'], ['colorful', 'JJ'], ['palate', 'NN'], [',', ','], ['had', 'VBD'], ['her', 'PRP$'], ['beat', 'NN'], ['hands-down', 'JJ'], ['when', 'WRB'], ['it', 'PRP'], ['came', 'VBD'], ['time', 'NN'], ['to', 'TO'], ['crown', 'NN'], ['1997', 'CD'], [\"'s\", 'POS'], ['best', 'JJS'], ['piece', 'NN'], ['of', 'IN'], ['animation', 'NN'], ['.', '.']], [['This', 'DT'], ['year', 'NN'], [',', ','], ['it', 'PRP'], [\"'s\", 'VBZ'], ['no', 'DT'], ['contest', 'NN'], [',', ','], ['as', 'IN'], ['``', '``'], ['Quest', 'NNP'], ['for', 'IN'], ['Camelot', 'NNP'], [\"''\", \"''\"], ['is', 'VBZ'], ['pretty', 'RB'], ['much', 'JJ'], ['dead', 'JJ'], ['on', 'IN'], ['arrival', 'NN'], ['.', '.']], [['Even', 'RB'], ['the', 'DT'], ['Magic', 'NNP'], ['Kingdom', 'NNP'], ['at', 'IN'], ['its', 'PRP$'], ['most', 'RBS'], ['mediocre', 'JJ'], ['--', ':'], ['that', 'IN'], [\"'d\", 'MD'], ['be', 'VB'], ['``', '``'], ['Pocahontas', 'NNP'], [\"''\", \"''\"], ['for', 'IN'], ['those', 'DT'], ['of', 'IN'], ['you', 'PRP'], ['keeping', 'VBG'], ['score', 'NN'], ['--', ':'], ['is', 'VBZ'], [\"n't\", 'RB'], ['nearly', 'RB'], ['as', 'IN'], ['dull', 'JJ'], ['as', 'IN'], ['this', 'DT'], ['.', '.']], [['The', 'DT'], ['story', 'NN'], ['revolves', 'VBZ'], ['around', 'IN'], ['the', 'DT'], ['adventures', 'NNS'], ['of', 'IN'], ['free-spirited', 'JJ'], ['Kayley', 'NNP'], ['-LRB-', '-LRB-'], ['voiced', 'VBN'], ['by', 'IN'], ['Jessalyn', 'NNP'], ['Gilsig', 'NNP'], ['-RRB-', '-RRB-'], [',', ','], ['the', 'DT'], ['early-teen', 'JJ'], ['daughter', 'NN'], ['of', 'IN'], ['a', 'DT'], ['belated', 'JJ'], ['knight', 'NN'], ['from', 'IN'], ['King', 'NNP'], ['Arthur', 'NNP'], [\"'s\", 'POS'], ['Round', 'NNP'], ['Table', 'NNP'], ['.', '.']], [['Kayley', 'NNP'], [\"'s\", 'POS'], ['only', 'JJ'], ['dream', 'NN'], ['is', 'VBZ'], ['to', 'TO'], ['follow', 'VB'], ['in', 'IN'], ['her', 'PRP$'], ['father', 'NN'], [\"'s\", 'POS'], ['footsteps', 'NNS'], [',', ','], ['and', 'CC'], ['she', 'PRP'], ['gets', 'VBZ'], ['her', 'PRP$'], ['chance', 'NN'], ['when', 'WRB'], ['evil', 'JJ'], ['warlord', 'NN'], ['Ruber', 'NNP'], ['-LRB-', '-LRB-'], ['Gary', 'NNP'], ['Oldman', 'NNP'], ['-RRB-', '-RRB-'], [',', ','], ['an', 'DT'], ['ex-Round', 'JJ'], ['Table', 'NNP'], ['member-gone-bad', 'NN'], [',', ','], ['steals', 'VBZ'], ['Arthur', 'NNP'], [\"'s\", 'POS'], ['magical', 'JJ'], ['sword', 'NN'], ['Excalibur', 'NNP'], ['and', 'CC'], ['accidentally', 'RB'], ['loses', 'VBZ'], ['it', 'PRP'], ['in', 'IN'], ['a', 'DT'], ['dangerous', 'JJ'], [',', ','], ['booby-trapped', 'JJ'], ['forest', 'NN'], ['.', '.']], [['With', 'IN'], ['the', 'DT'], ['help', 'NN'], ['of', 'IN'], ['hunky', 'JJ'], [',', ','], ['blind', 'JJ'], ['timberland-dweller', 'JJ'], ['Garrett', 'NNP'], ['-LRB-', '-LRB-'], ['Carey', 'NNP'], ['Elwes', 'NNP'], ['-RRB-', '-RRB-'], ['and', 'CC'], ['a', 'DT'], ['two-headed', 'JJ'], ['dragon', 'NN'], ['-LRB-', '-LRB-'], ['Eric', 'NNP'], ['Idle', 'NNP'], ['and', 'CC'], ['Don', 'NNP'], ['Rickles', 'NNP'], ['-RRB-', '-RRB-'], ['that', 'WDT'], [\"'s\", 'VBZ'], ['always', 'RB'], ['arguing', 'VBG'], ['with', 'IN'], ['itself', 'PRP'], [',', ','], ['Kayley', 'NNP'], ['just', 'RB'], ['might', 'MD'], ['be', 'VB'], ['able', 'JJ'], ['to', 'TO'], ['break', 'VB'], ['the', 'DT'], ['medieval', 'JJ'], ['sexist', 'JJ'], ['mold', 'NN'], ['and', 'CC'], ['prove', 'VB'], ['her', 'PRP'], ['worth', 'JJ'], ['as', 'IN'], ['a', 'DT'], ['fighter', 'NN'], ['on', 'IN'], ['Arthur', 'NNP'], [\"'s\", 'POS'], ['side', 'NN'], ['.', '.']], [['``', '``'], ['Quest', 'NNP'], ['for', 'IN'], ['Camelot', 'NNP'], [\"''\", \"''\"], ['is', 'VBZ'], ['missing', 'VBG'], ['pure', 'JJ'], ['showmanship', 'NN'], [',', ','], ['an', 'DT'], ['essential', 'JJ'], ['element', 'NN'], ['if', 'IN'], ['it', 'PRP'], [\"'s\", 'VBZ'], ['ever', 'RB'], ['expected', 'VBN'], ['to', 'TO'], ['climb', 'VB'], ['to', 'TO'], ['the', 'DT'], ['high', 'JJ'], ['ranks', 'NNS'], ['of', 'IN'], ['Disney', 'NNP'], ['.', '.']], [['There', 'EX'], [\"'s\", 'VBZ'], ['nothing', 'NN'], ['here', 'RB'], ['that', 'IN'], ['differentiates', 'VBZ'], ['``', '``'], ['Quest', 'NNP'], [\"''\", \"''\"], ['from', 'IN'], ['something', 'NN'], ['you', 'PRP'], [\"'d\", 'MD'], ['see', 'VB'], ['on', 'IN'], ['any', 'DT'], ['given', 'VBN'], ['Saturday', 'NNP'], ['morning', 'NN'], ['cartoon', 'NN'], ['--', ':'], ['subpar', 'JJ'], ['animation', 'NN'], [',', ','], ['instantly', 'RB'], ['forgettable', 'JJ'], ['songs', 'NNS'], [',', ','], ['poorly-integrated', 'JJ'], ['computerized', 'JJ'], ['footage', 'NN'], ['.', '.']], [['-LRB-', '-LRB-'], ['Compare', 'VB'], ['Kayley', 'NNP'], ['and', 'CC'], ['Garrett', 'NNP'], [\"'s\", 'POS'], ['run-in', 'NN'], ['with', 'IN'], ['the', 'DT'], ['angry', 'JJ'], ['ogre', 'NN'], ['to', 'TO'], ['Herc', 'NNP'], [\"'s\", 'POS'], ['battle', 'NN'], ['with', 'IN'], ['the', 'DT'], ['Hydra', 'NNP'], ['.', '.']], [['I', 'PRP'], ['rest', 'VBP'], ['my', 'PRP$'], ['case', 'NN'], ['.', '.'], ['-RRB-', '-RRB-']], [['Even', 'RB'], ['the', 'DT'], ['characters', 'NNS'], ['stink', 'VBP'], ['--', ':'], ['none', 'NN'], ['of', 'IN'], ['them', 'PRP'], ['are', 'VBP'], ['remotely', 'RB'], ['interesting', 'JJ'], [',', ','], ['so', 'RB'], ['much', 'RB'], ['that', 'IN'], ['the', 'DT'], ['film', 'NN'], ['becomes', 'VBZ'], ['a', 'DT'], ['race', 'NN'], ['to', 'TO'], ['see', 'VB'], ['which', 'WDT'], ['one', 'PRP'], ['can', 'MD'], ['out-bland', 'VB'], ['the', 'DT'], ['others', 'NNS'], ['.', '.']], [['In', 'IN'], ['the', 'DT'], ['end', 'NN'], [',', ','], ['it', 'PRP'], [\"'s\", 'VBZ'], ['a', 'DT'], ['tie', 'NN'], ['--', ':'], ['they', 'PRP'], ['all', 'DT'], ['win', 'VBP'], ['.', '.']], [['That', 'DT'], ['dragon', 'NN'], [\"'s\", 'POS'], ['comedy', 'NN'], ['shtick', 'NN'], ['is', 'VBZ'], ['awfully', 'RB'], ['cloying', 'JJ'], [',', ','], ['but', 'CC'], ['at', 'IN'], ['least', 'JJS'], ['it', 'PRP'], ['shows', 'VBZ'], ['signs', 'NNS'], ['of', 'IN'], ['a', 'DT'], ['pulse', 'NN'], ['.', '.']], [['At', 'IN'], ['least', 'JJS'], ['fans', 'NNS'], ['of', 'IN'], ['the', 'DT'], ['early', 'JJ'], ['-', ':'], [\"'90s\", 'CD'], ['TGIF', 'NN'], ['television', 'NN'], ['line-up', 'NN'], ['will', 'MD'], ['be', 'VB'], ['thrilled', 'VBN'], ['to', 'TO'], ['find', 'VB'], ['Jaleel', 'NNP'], ['``', '``'], ['Urkel', 'NNP'], [\"''\", \"''\"], ['White', 'NNP'], ['and', 'CC'], ['Bronson', 'NNP'], ['``', '``'], ['Balki', 'NNP'], [\"''\", \"''\"], ['Pinchot', 'NNP'], ['sharing', 'VBG'], ['the', 'DT'], ['same', 'JJ'], ['footage', 'NN'], ['.', '.']], [['A', 'DT'], ['few', 'JJ'], ['scenes', 'NNS'], ['are', 'VBP'], ['nicely', 'RB'], ['realized', 'VBN'], ['-LRB-', '-LRB-'], ['though', 'IN'], ['I', 'PRP'], [\"'m\", 'VBP'], ['at', 'IN'], ['a', 'DT'], ['loss', 'NN'], ['to', 'TO'], ['recall', 'VB'], ['enough', 'RB'], ['to', 'TO'], ['be', 'VB'], ['specific', 'JJ'], ['-RRB-', '-RRB-'], [',', ','], ['and', 'CC'], ['the', 'DT'], ['actors', 'NNS'], ['providing', 'VBG'], ['the', 'DT'], ['voice', 'NN'], ['talent', 'NN'], ['are', 'VBP'], ['enthusiastic', 'JJ'], ['-LRB-', '-LRB-'], ['though', 'IN'], ['most', 'JJS'], ['are', 'VBP'], ['paired', 'VBN'], ['up', 'RP'], ['with', 'IN'], ['singers', 'NNS'], ['who', 'WP'], ['do', 'VBP'], [\"n't\", 'RB'], ['sound', 'VB'], ['a', 'DT'], ['thing', 'NN'], ['like', 'IN'], ['them', 'PRP'], ['for', 'IN'], ['their', 'PRP$'], ['big', 'JJ'], ['musical', 'JJ'], ['moments', 'NNS'], ['--', ':'], ['Jane', 'NNP'], ['Seymour', 'NNP'], ['and', 'CC'], ['Celine', 'NNP'], ['Dion', 'NNP'], ['???', 'CD'], ['-RRB-', '-RRB-'], ['.', '.']], [['But', 'CC'], ['one', 'CD'], ['must', 'MD'], ['strain', 'VB'], ['through', 'IN'], ['too', 'RB'], ['much', 'JJ'], ['of', 'IN'], ['this', 'DT'], ['mess', 'NN'], ['to', 'TO'], ['find', 'VB'], ['the', 'DT'], ['good', 'JJ'], ['.', '.']], [['Aside', 'RB'], ['from', 'IN'], ['the', 'DT'], ['fact', 'NN'], ['that', 'IN'], ['children', 'NNS'], ['will', 'MD'], ['probably', 'RB'], ['be', 'VB'], ['as', 'IN'], ['bored', 'JJ'], ['watching', 'VBG'], ['this', 'DT'], ['as', 'IN'], ['adults', 'NNS'], [',', ','], ['``', '``'], ['Quest', 'NNP'], ['for', 'IN'], ['Camelot', 'NNP'], [\"''\", \"''\"], [\"'s\", 'POS'], ['most', 'RBS'], ['grievous', 'JJ'], ['error', 'NN'], ['is', 'VBZ'], ['its', 'PRP$'], ['complete', 'JJ'], ['lack', 'NN'], ['of', 'IN'], ['personality', 'NN'], ['.', '.']], [['And', 'CC'], ['personality', 'NN'], [',', ','], ['we', 'PRP'], ['learn', 'VBP'], ['from', 'IN'], ['this', 'DT'], ['mess', 'NN'], [',', ','], ['goes', 'VBZ'], ['a', 'DT'], ['very', 'RB'], ['long', 'JJ'], ['way', 'NN'], ['.', '.']]]\n",
            "QUEST/NN FOR/IN CAMELOT/NNP ``/`` Quest/NNP for/IN Camelot/NNP ''/'' is/VBZ Warner/NNP Bros./NNP '/POS first/JJ feature-length/JJ ,/, fully-animated/JJ attempt/NN to/TO steal/VB clout/NN from/IN Disney/NNP 's/POS cartoon/NN empire/NN ,/, but/CC the/DT mouse/NN has/VBZ no/DT reason/NN to/TO be/VB worried/VBN ./.\n",
            "4 NEG 38\n",
            "[[['Synopsis', 'NNPS'], [':', ':'], ['A', 'DT'], ['mentally', 'RB'], ['unstable', 'JJ'], ['man', 'NN'], ['undergoing', 'VBG'], ['psychotherapy', 'NN'], ['saves', 'VBZ'], ['a', 'DT'], ['boy', 'NN'], ['from', 'IN'], ['a', 'DT'], ['potentially', 'RB'], ['fatal', 'JJ'], ['accident', 'NN'], ['and', 'CC'], ['then', 'RB'], ['falls', 'VBZ'], ['in', 'IN'], ['love', 'NN'], ['with', 'IN'], ['the', 'DT'], ['boy', 'NN'], [\"'s\", 'POS'], ['mother', 'NN'], [',', ','], ['a', 'DT'], ['fledgling', 'NN'], ['restauranteur', 'NN'], ['.', '.']], [['Unsuccessfully', 'RB'], ['attempting', 'VBG'], ['to', 'TO'], ['gain', 'VB'], ['the', 'DT'], ['woman', 'NN'], [\"'s\", 'POS'], ['favor', 'NN'], [',', ','], ['he', 'PRP'], ['takes', 'VBZ'], ['pictures', 'NNS'], ['of', 'IN'], ['her', 'PRP$'], ['and', 'CC'], ['kills', 'VBZ'], ['a', 'DT'], ['number', 'NN'], ['of', 'IN'], ['people', 'NNS'], ['in', 'IN'], ['his', 'PRP$'], ['way', 'NN'], ['.', '.']], [['Comments', 'NNS'], [':', ':'], ['STALKED', 'VBN'], ['is', 'VBZ'], ['yet', 'RB'], ['another', 'DT'], ['in', 'IN'], ['a', 'DT'], ['seemingly', 'RB'], ['endless', 'JJ'], ['string', 'NN'], ['of', 'IN'], ['spurned-psychos-getting-their-revenge', 'JJ'], ['type', 'NN'], ['movies', 'NNS'], ['which', 'WDT'], ['are', 'VBP'], ['a', 'DT'], ['stable', 'JJ'], ['category', 'NN'], ['in', 'IN'], ['the', 'DT'], ['1990s', 'CD'], ['film', 'NN'], ['industry', 'NN'], [',', ','], ['both', 'CC'], ['theatrical', 'NN'], ['and', 'CC'], ['direct-to-video', 'NN'], ['.', '.']], [['Their', 'PRP$'], ['proliferation', 'NN'], ['may', 'MD'], ['be', 'VB'], ['due', 'JJ'], ['in', 'IN'], ['part', 'NN'], ['to', 'TO'], ['the', 'DT'], ['fact', 'NN'], ['that', 'IN'], ['they', 'PRP'], [\"'re\", 'VBP'], ['typically', 'RB'], ['inexpensive', 'JJ'], ['to', 'TO'], ['produce', 'VB'], ['-LRB-', '-LRB-'], ['no', 'DT'], ['special', 'JJ'], ['effects', 'NNS'], [',', ','], ['no', 'DT'], ['big', 'JJ'], ['name', 'NN'], ['stars', 'NNS'], ['-RRB-', '-RRB-'], ['and', 'CC'], ['serve', 'VB'], ['as', 'IN'], ['vehicles', 'NNS'], ['to', 'TO'], ['flash', 'VB'], ['nudity', 'NN'], ['-LRB-', '-LRB-'], ['allowing', 'VBG'], ['them', 'PRP'], ['to', 'TO'], ['frequent', 'JJ'], ['late-night', 'JJ'], ['cable', 'NN'], ['television', 'NN'], ['-RRB-', '-RRB-'], ['.', '.']], [['STALKED', 'VBN'], ['wavers', 'NNS'], ['slightly', 'RB'], ['from', 'IN'], ['the', 'DT'], ['norm', 'NN'], ['in', 'IN'], ['one', 'CD'], ['respect', 'NN'], [':', ':'], ['the', 'DT'], ['psycho', 'NN'], ['never', 'RB'], ['actually', 'RB'], ['has', 'VBZ'], ['an', 'DT'], ['affair', 'NN'], [';', ':'], ['on', 'IN'], ['the', 'DT'], ['contrary', 'NN'], [',', ','], ['he', 'PRP'], [\"'s\", 'VBZ'], ['rejected', 'VBN'], ['rather', 'RB'], ['quickly', 'RB'], ['-LRB-', '-LRB-'], ['the', 'DT'], ['psycho', 'NN'], ['typically', 'RB'], ['is', 'VBZ'], ['an', 'DT'], ['ex-lover', 'NN'], [',', ','], ['ex-wife', 'NN'], [',', ','], ['or', 'CC'], ['ex-husband', 'NN'], ['-RRB-', '-RRB-'], ['.', '.']], [['Other', 'JJ'], ['than', 'IN'], ['that', 'DT'], [',', ','], ['STALKED', 'VBN'], ['is', 'VBZ'], ['just', 'RB'], ['another', 'DT'], ['redundant', 'JJ'], ['entry', 'NN'], ['doomed', 'VBN'], ['to', 'TO'], ['collect', 'VB'], ['dust', 'NN'], ['on', 'IN'], ['video', 'NN'], ['shelves', 'NNS'], ['and', 'CC'], ['viewed', 'VBN'], ['after', 'IN'], ['midnight', 'NN'], ['on', 'IN'], ['cable', 'NN'], ['.', '.']], [['STALKED', 'VBN'], ['does', 'VBZ'], ['not', 'RB'], ['provide', 'VB'], ['much', 'JJ'], ['suspense', 'NN'], [',', ','], ['though', 'IN'], ['that', 'DT'], ['is', 'VBZ'], ['what', 'WP'], ['it', 'PRP'], ['sets', 'VBZ'], ['out', 'RP'], ['to', 'TO'], ['do', 'VB'], ['.', '.']], [['Interspersed', 'VBN'], ['throughout', 'IN'], ['the', 'DT'], ['opening', 'NN'], ['credits', 'NNS'], [',', ','], ['for', 'IN'], ['instance', 'NN'], [',', ','], ['a', 'DT'], ['serious-sounding', 'JJ'], ['narrator', 'NN'], ['spouts', 'VBZ'], ['statistics', 'NNS'], ['about', 'IN'], ['stalkers', 'NNS'], ['and', 'CC'], ['ponders', 'VBZ'], ['what', 'WP'], ['may', 'MD'], ['cause', 'VB'], ['a', 'DT'], ['man', 'NN'], ['to', 'TO'], ['stalk', 'VB'], ['-LRB-', '-LRB-'], ['it', 'PRP'], [\"'s\", 'VBZ'], ['implicitly', 'RB'], ['implied', 'VBN'], ['that', 'IN'], ['all', 'DT'], ['stalkers', 'NNS'], ['are', 'VBP'], ['men', 'NNS'], ['-RRB-', '-RRB-'], ['while', 'IN'], ['pictures', 'NNS'], ['of', 'IN'], ['a', 'DT'], ['boy', 'NN'], ['are', 'VBP'], ['shown', 'VBN'], ['on', 'IN'], ['the', 'DT'], ['screen', 'NN'], ['.', '.']], [['After', 'IN'], ['these', 'DT'], ['credits', 'NNS'], [',', ','], ['a', 'DT'], ['snapshot', 'NN'], ['of', 'IN'], ['actor', 'NN'], ['Jay', 'NNP'], ['Underwood', 'NNP'], ['appears', 'VBZ'], ['.', '.']], [['The', 'DT'], ['narrator', 'NN'], ['states', 'VBZ'], ['that', 'IN'], ['``', '``'], ['this', 'DT'], ['is', 'VBZ'], ['the', 'DT'], ['story', 'NN'], ['of', 'IN'], ['Daryl', 'NNP'], ['Gleason', 'NNP'], [\"''\", \"''\"], ['and', 'CC'], ['tells', 'VBZ'], ['the', 'DT'], ['audience', 'NN'], ['that', 'IN'], ['he', 'PRP'], ['is', 'VBZ'], ['the', 'DT'], ['stalker', 'NN'], ['.', '.']], [['Of', 'IN'], ['course', 'NN'], [',', ','], ['really', 'RB'], [',', ','], ['this', 'DT'], ['is', 'VBZ'], ['the', 'DT'], ['story', 'NN'], ['of', 'IN'], ['restauranteur', 'NN'], ['Brooke', 'NNP'], ['Daniels', 'NNP'], ['.', '.']], [['If', 'IN'], ['the', 'DT'], ['movie', 'NN'], ['was', 'VBD'], ['meant', 'VBN'], ['to', 'TO'], ['be', 'VB'], ['about', 'IN'], ['Daryl', 'NNP'], [',', ','], ['then', 'RB'], ['it', 'PRP'], ['should', 'MD'], ['have', 'VB'], ['been', 'VBN'], ['called', 'VBN'], ['STALKER', 'NNP'], ['not', 'RB'], ['STALKED', 'VBD'], ['.', '.']], [['Okay', 'UH'], ['.', '.']], [['So', 'IN'], ['we', 'PRP'], ['know', 'VBP'], ['who', 'WP'], ['the', 'DT'], ['stalker', 'NN'], ['is', 'VBZ'], ['even', 'RB'], ['before', 'IN'], ['the', 'DT'], ['movie', 'NN'], ['starts', 'VBZ'], [';', ':'], ['no', 'DT'], ['guesswork', 'NN'], ['required', 'VBN'], ['.', '.']], [['STALKED', 'VBN'], ['proceeds', 'NNS'], [',', ','], ['then', 'RB'], [',', ','], ['as', 'IN'], ['it', 'PRP'], ['begins', 'VBZ'], [':', ':'], ['obvious', 'JJ'], [',', ','], ['obvious', 'JJ'], [',', ','], ['obvious', 'JJ'], ['.', '.']], [['The', 'DT'], ['opening', 'NN'], ['sequence', 'NN'], [',', ','], ['contrived', 'JJ'], ['quite', 'RB'], ['a', 'DT'], ['bit', 'NN'], [',', ','], ['brings', 'VBZ'], ['Daryl', 'NNP'], ['and', 'CC'], ['Brooke', 'NNP'], ['-LRB-', '-LRB-'], ['the', 'DT'], ['victim', 'NN'], ['-RRB-', '-RRB-'], ['together', 'RB'], ['.', '.']], [['Daryl', 'NNP'], ['obsesses', 'VBZ'], ['over', 'IN'], ['Brooke', 'NNP'], [',', ','], ['follows', 'VBZ'], ['her', 'PRP'], ['around', 'RB'], [',', ','], ['and', 'CC'], ['tries', 'VBZ'], ['to', 'TO'], ['woo', 'VB'], ['her', 'PRP'], ['.', '.']], [['Ultimately', 'RB'], ['rejected', 'VBN'], ['by', 'IN'], ['her', 'PRP'], [',', ','], ['his', 'PRP$'], ['plans', 'NNS'], ['become', 'VBP'], ['more', 'RBR'], ['and', 'CC'], ['more', 'RBR'], ['desperate', 'JJ'], ['and', 'CC'], ['elaborate', 'JJ'], ['.', '.']], [['These', 'DT'], ['plans', 'NNS'], ['include', 'VBP'], ['the', 'DT'], ['all-time', 'JJ'], [',', ','], ['psycho-in-love', 'NN'], [',', ','], ['cliche', 'NN'], [':', ':'], ['the', 'DT'], ['murdered', 'VBN'], ['pet', 'NN'], ['.', '.']], [['For', 'IN'], ['some', 'DT'], ['reason', 'NN'], [',', ','], ['this', 'DT'], ['genre', 'NN'], [\"'s\", 'POS'], ['films', 'NNS'], ['require', 'VBP'], ['a', 'DT'], ['dead', 'JJ'], ['pet', 'NN'], ['to', 'TO'], ['be', 'VB'], ['found', 'VBN'], ['by', 'IN'], ['the', 'DT'], ['victim', 'NN'], ['stalked', 'VBD'], ['.', '.']], [['STALKED', 'VBN'], ['is', 'VBZ'], ['no', 'DT'], ['exception', 'NN'], ['-LRB-', '-LRB-'], ['it', 'PRP'], [\"'s\", 'VBZ'], ['a', 'DT'], ['cat', 'NN'], ['this', 'DT'], ['time', 'NN'], ['--', ':'], ['found', 'VBN'], ['in', 'IN'], ['the', 'DT'], ['shower', 'NN'], ['-RRB-', '-RRB-'], ['.', '.']], [['Events', 'NNS'], ['like', 'IN'], ['these', 'DT'], ['lead', 'NN'], ['to', 'TO'], ['the', 'DT'], ['inevitable', 'JJ'], ['showdown', 'NN'], ['between', 'IN'], ['stalker', 'NN'], ['and', 'CC'], ['stalked', 'VBD'], [',', ','], ['where', 'WRB'], ['only', 'RB'], ['one', 'CD'], ['survives', 'VBZ'], ['-LRB-', '-LRB-'], ['guess', 'NN'], ['who', 'WP'], ['it', 'PRP'], ['invariably', 'RB'], ['always', 'RB'], ['is', 'VBZ'], ['and', 'CC'], ['you', 'PRP'], [\"'ll\", 'MD'], ['guess', 'VB'], ['the', 'DT'], ['conclusion', 'NN'], ['to', 'TO'], ['this', 'DT'], ['turkey', 'NN'], ['-RRB-', '-RRB-'], ['.', '.']], [['STALKED', 'VBN'], [\"'s\", 'POS'], ['cast', 'NN'], ['is', 'VBZ'], ['uniformly', 'RB'], ['adequate', 'JJ'], [':', ':'], ['not', 'RB'], ['anything', 'NN'], ['to', 'TO'], ['write', 'VB'], ['home', 'NN'], ['about', 'IN'], ['but', 'CC'], ['also', 'RB'], ['not', 'RB'], ['all', 'DT'], ['that', 'IN'], ['bad', 'JJ'], ['either', 'CC'], ['.', '.']], [['Jay', 'NNP'], ['Underwood', 'NNP'], [',', ','], ['as', 'IN'], ['the', 'DT'], ['stalker', 'NN'], [',', ','], ['turns', 'VBZ'], ['toward', 'IN'], ['melodrama', 'NN'], ['a', 'DT'], ['bit', 'NN'], ['too', 'RB'], ['much', 'RB'], ['.', '.']], [['He', 'PRP'], ['overdoes', 'VBZ'], ['it', 'PRP'], [',', ','], ['in', 'IN'], ['other', 'JJ'], ['words', 'NNS'], [',', ','], ['but', 'CC'], ['he', 'PRP'], ['still', 'RB'], ['manages', 'VBZ'], ['to', 'TO'], ['be', 'VB'], ['creepy', 'JJ'], ['enough', 'JJ'], ['to', 'TO'], ['pass', 'VB'], ['as', 'IN'], ['the', 'DT'], ['type', 'NN'], ['of', 'IN'], ['stalker', 'NN'], ['the', 'DT'], ['story', 'NN'], ['demands', 'NNS'], ['.', '.']], [['Maryam', 'NNP'], [\"D'Abo\", 'NNP'], [',', ','], ['about', 'IN'], ['the', 'DT'], ['only', 'JJ'], ['actor', 'NN'], ['close', 'NN'], ['to', 'TO'], ['being', 'VBG'], ['a', 'DT'], ['star', 'NN'], ['here', 'RB'], ['-LRB-', '-LRB-'], ['she', 'PRP'], ['played', 'VBD'], ['the', 'DT'], ['Bond', 'NN'], ['chick', 'NN'], ['in', 'IN'], ['THE', 'DT'], ['LIVING', 'VBG'], ['DAYLIGHTS', 'NN'], ['-RRB-', '-RRB-'], [',', ','], ['is', 'VBZ'], ['equally', 'RB'], ['adequate', 'JJ'], ['as', 'IN'], ['the', 'DT'], ['``', '``'], ['stalked', 'VBN'], [\"''\", \"''\"], ['of', 'IN'], ['the', 'DT'], ['title', 'NN'], [',', ','], ['even', 'RB'], ['though', 'IN'], ['she', 'PRP'], ['seems', 'VBZ'], ['too', 'RB'], ['ditzy', 'JJ'], ['at', 'IN'], ['times', 'NNS'], ['to', 'TO'], ['be', 'VB'], ['a', 'DT'], ['strong', 'JJ'], [',', ','], ['independent', 'JJ'], ['business-owner', 'NN'], ['.', '.']], [['Brooke', 'NNP'], ['-LRB-', '-LRB-'], [\"D'Abo\", 'NNP'], ['-RRB-', '-RRB-'], ['needs', 'VBZ'], ['to', 'TO'], ['be', 'VB'], ['ditzy', 'JJ'], [',', ','], ['however', 'RB'], [',', ','], ['for', 'IN'], ['the', 'DT'], ['plot', 'NN'], ['to', 'TO'], ['proceed', 'VB'], ['.', '.']], [['Toward', 'IN'], ['the', 'DT'], ['end', 'NN'], [',', ','], ['for', 'IN'], ['example', 'NN'], [',', ','], ['Brooke', 'NNP'], ['has', 'VBZ'], ['her', 'PRP$'], ['suspicions', 'NNS'], ['about', 'IN'], ['Daryl', 'NNP'], ['.', '.']], [['To', 'TO'], ['ensure', 'VB'], ['he', 'PRP'], ['wo', 'MD'], [\"n't\", 'RB'], ['use', 'VB'], ['it', 'PRP'], ['as', 'IN'], ['another', 'DT'], ['excuse', 'NN'], ['to', 'TO'], ['see', 'VB'], ['her', 'PRP'], [',', ','], ['Brooke', 'NNP'], ['decides', 'VBZ'], ['to', 'TO'], ['return', 'VB'], ['a', 'DT'], ['toolbox', 'NN'], ['he', 'PRP'], ['had', 'VBD'], ['left', 'VBN'], ['at', 'IN'], ['her', 'PRP$'], ['place', 'NN'], ['to', 'TO'], ['his', 'PRP$'], ['house', 'NN'], ['.', '.']], [['Does', 'VBZ'], ['she', 'PRP'], ['just', 'RB'], ['leave', 'VBP'], ['the', 'DT'], ['toolbox', 'NN'], ['at', 'IN'], ['the', 'DT'], ['door', 'NN'], ['when', 'WRB'], ['no', 'DT'], ['one', 'CD'], ['answers', 'NNS'], ['?', '.']], [['Of', 'IN'], ['course', 'NN'], ['not', 'RB'], ['.', '.']], [['She', 'PRP'], ['tries', 'VBZ'], ['the', 'DT'], ['door', 'NN'], [',', ','], ['opens', 'VBZ'], ['it', 'PRP'], [',', ','], ['and', 'CC'], ['wanders', 'NNS'], ['around', 'IN'], ['the', 'DT'], ['house', 'NN'], ['.', '.']], [['When', 'WRB'], ['Daryl', 'NN'], ['returns', 'NNS'], [',', ','], ['he', 'PRP'], ['enters', 'VBZ'], ['the', 'DT'], ['house', 'NN'], [',', ','], ['of', 'IN'], ['course', 'NN'], [',', ','], ['so', 'RB'], ['our', 'PRP$'], ['heroine', 'NN'], ['is', 'VBZ'], ['in', 'IN'], ['danger', 'NN'], ['.', '.']], [['Somehow', 'RB'], [',', ','], ['even', 'RB'], ['though', 'IN'], ['her', 'PRP$'], ['car', 'NN'], ['is', 'VBZ'], ['parked', 'VBN'], ['at', 'IN'], ['the', 'DT'], ['front', 'NN'], ['of', 'IN'], ['the', 'DT'], ['house', 'NN'], [',', ','], ['right', 'NN'], ['by', 'IN'], ['the', 'DT'], ['front', 'JJ'], ['door', 'NN'], [',', ','], ['Daryl', 'NNP'], ['is', 'VBZ'], ['oblivious', 'JJ'], ['to', 'TO'], ['her', 'PRP$'], ['presence', 'NN'], ['inside', 'IN'], ['.', '.']], [['The', 'DT'], ['whole', 'JJ'], ['episode', 'NN'], ['places', 'VBZ'], ['an', 'DT'], ['incredible', 'JJ'], ['strain', 'NN'], ['on', 'IN'], ['the', 'DT'], ['audience', 'NN'], [\"'s\", 'POS'], ['suspension', 'NN'], ['of', 'IN'], ['disbelief', 'NN'], ['and', 'CC'], ['questions', 'NNS'], ['the', 'DT'], ['validity', 'NN'], ['of', 'IN'], ['either', 'CC'], ['character', 'NN'], [\"'s\", 'POS'], ['intelligence', 'NN'], ['.', '.']], [['STALKED', 'VBN'], ['receives', 'VBZ'], ['stars', 'NNS'], ['because', 'IN'], [',', ','], ['even', 'RB'], ['though', 'IN'], ['it', 'PRP'], ['is', 'VBZ'], ['highly', 'RB'], ['derivative', 'JJ'], ['and', 'CC'], ['somewhat', 'RB'], ['boring', 'JJ'], [',', ','], ['it', 'PRP'], ['is', 'VBZ'], ['not', 'RB'], ['so', 'RB'], ['bad', 'JJ'], ['that', 'IN'], ['it', 'PRP'], ['can', 'MD'], ['not', 'RB'], ['be', 'VB'], ['watched', 'VBN'], ['.', '.']], [['Rated', 'VBN'], ['R', 'NN'], ['mostly', 'RB'], ['for', 'IN'], ['several', 'JJ'], ['murder', 'NN'], ['scenes', 'NNS'], ['and', 'CC'], ['brief', 'JJ'], ['nudity', 'NN'], ['in', 'IN'], ['a', 'DT'], ['strip', 'NN'], ['bar', 'NN'], [',', ','], ['it', 'PRP'], ['is', 'VBZ'], ['not', 'RB'], ['as', 'IN'], ['offensive', 'JJ'], ['as', 'IN'], ['many', 'JJ'], ['other', 'JJ'], ['thrillers', 'NNS'], ['in', 'IN'], ['this', 'DT'], ['genre', 'NN'], ['are', 'VBP'], ['.', '.']], [['If', 'IN'], ['you', 'PRP'], [\"'re\", 'VBP'], ['in', 'IN'], ['the', 'DT'], ['mood', 'NN'], ['for', 'IN'], ['a', 'DT'], ['good', 'JJ'], ['suspense', 'NN'], ['film', 'NN'], [',', ','], ['though', 'RB'], [',', ','], ['stake', 'NN'], ['out', 'IN'], ['something', 'NN'], ['else', 'RB'], ['.', '.']]]\n",
            "Synopsis/NNPS :/: A/DT mentally/RB unstable/JJ man/NN undergoing/VBG psychotherapy/NN saves/VBZ a/DT boy/NN from/IN a/DT potentially/RB fatal/JJ accident/NN and/CC then/RB falls/VBZ in/IN love/NN with/IN the/DT boy/NN 's/POS mother/NN ,/, a/DT fledgling/NN restauranteur/NN ./.\n",
            "\n",
            "Number of word types: 47743\n",
            "Number of word tokens: 1512359\n",
            "\n",
            "Most common tokens:\n",
            "         , :    77842\n",
            "       the :    75948\n",
            "         . :    59027\n",
            "         a :    37583\n",
            "       and :    35235\n",
            "        of :    33864\n",
            "        to :    31601\n",
            "        is :    25972\n",
            "        in :    21563\n",
            "        's :    18043\n",
            "        it :    15904\n",
            "      that :    15820\n",
            "     -rrb- :    11768\n",
            "     -lrb- :    11670\n",
            "        as :    11312\n",
            "      with :    10739\n",
            "       for :     9816\n",
            "       his :     9542\n",
            "      this :     9497\n",
            "      film :     9404\n",
            "Pos Tags: ['CD', 'JJ', 'NNS', 'VBP', 'TO', 'DT', 'NN', ',', 'CC', 'RB', '.', 'PRP', 'IN', 'VBZ', 'PRP$', 'VB', 'WP', '``', \"''\", 'RP', ':', 'NNP', 'WDT', 'RBR', '-LRB-', '-RRB-', 'EX', 'VBG', 'VBD', 'VBN', 'JJS', 'WRB', 'POS', 'JJR', 'MD', 'UH', 'PDT', 'RBS', 'NNPS', '$', 'WP$', 'FW', 'SYM', 'LS', '#']\n"
          ]
        }
      ]
    },
    {
      "cell_type": "markdown",
      "metadata": {
        "id": "E6PWaEoh8B34"
      },
      "source": [
        "#(1) Lexicon-based approach (3.5pts)\n",
        "\n"
      ]
    },
    {
      "cell_type": "markdown",
      "metadata": {
        "id": "JsTSMb6ma4E8"
      },
      "source": [
        "A traditional approach to classify documents according to their sentiment is the lexicon-based approach. To implement this approach, you need a **sentiment lexicon**, i.e., a list of words annotated with a sentiment label (e.g., positive and negative, or a score from 0 to 5).\n",
        "\n",
        "In this practical, you will use the sentiment\n",
        "lexicon released by Wilson et al. (2005).\n",
        "\n",
        "> Theresa Wilson, Janyce Wiebe, and Paul Hoffmann\n",
        "(2005). [Recognizing Contextual Polarity in Phrase-Level Sentiment\n",
        "Analysis](http://www.aclweb.org/anthology/H/H05/H05-1044.pdf). HLT-EMNLP.\n",
        "\n",
        "Pay attention to all the information available in the sentiment lexicon. The field *word1* contains the lemma, *priorpolarity* contains the sentiment label (positive, negative, both, or neutral), *type* gives you the magnitude of the word's sentiment (strong or weak), and *pos1* gives you the part-of-speech tag of the lemma. Some lemmas can have multiple part-of-speech tags and thus multiple entries in the lexicon. The path of the lexicon file is `\"sent_lexicon\"`.\n"
      ]
    },
    {
      "cell_type": "code",
      "metadata": {
        "id": "Ogq0Eq2hQglh",
        "colab": {
          "base_uri": "https://localhost:8080/"
        },
        "outputId": "f23f0995-2ccf-4ec1-ced3-b4fe9cc24503"
      },
      "source": [
        "with open(\"sent_lexicon\", mode=\"r\", encoding=\"utf-8\") as f:\n",
        "  pos_tags = []\n",
        "  types = []\n",
        "  mags = []\n",
        "  polarities = []\n",
        "  line_cnt = 0\n",
        "  for line in f:\n",
        "    line_cnt += 1\n",
        "    if(line_cnt == 1):\n",
        "      print(\"First line: \" + line)\n",
        "    word = line.strip().split(\" \")[2].split(\"=\")[1]\n",
        "    pos_tag = line.strip().split(\" \")[3].split(\"=\")[1]\n",
        "    mag = line.strip().split(\" \")[0].split(\"=\")[1]\n",
        "    polarity = line.strip().split(\" \")[5].split(\"=\")[1]\n",
        "    if  pos_tag not in pos_tags:\n",
        "      pos_tags.append(pos_tag)\n",
        "    if mag not in mags:\n",
        "      mags.append(mag)\n",
        "    if polarity not in polarities:\n",
        "      polarities.append(polarity)\n",
        "    \n",
        "\n",
        "  print(\"Mags:\")\n",
        "  print(mags)\n",
        "  print(\"POS Tags:\")\n",
        "  print(pos_tags)\n",
        "  print(\"Polarities: \")\n",
        "  print(polarities)\n",
        "  print(\"Lines:\")\n",
        "  print(line_cnt)\n",
        "\n",
        "  "
      ],
      "execution_count": null,
      "outputs": [
        {
          "output_type": "stream",
          "name": "stdout",
          "text": [
            "First line: type=weaksubj len=1 word1=abandoned pos1=adj stemmed1=n priorpolarity=negative\n",
            "\n",
            "Mags:\n",
            "['weaksubj', 'strongsubj']\n",
            "POS Tags:\n",
            "['adj', 'noun', 'verb', 'anypos', 'adverb']\n",
            "Polarities: \n",
            "['negative', 'positive', 'neutral', 'both']\n",
            "Lines:\n",
            "8222\n"
          ]
        }
      ]
    },
    {
      "cell_type": "markdown",
      "metadata": {
        "id": "Mml4nOtIUBhn"
      },
      "source": [
        "Lexica such as this can be used to solve\n",
        "the classification task without using Machine Learning. For example, one might look up every word $w_1 ... w_n$ in a document, and compute a **binary score**\n",
        "$S_{binary}$ by counting how many words have a positive or a\n",
        "negative label in the sentiment lexicon $SLex$.\n",
        "\n",
        "$$S_{binary}(w_1 w_2 ... w_n) = \\sum_{i = 1}^{n}\\text{sign}(SLex\\big[w_i\\big])$$\n",
        "\n",
        "where $\\text{sign}(SLex\\big[w_i\\big])$ refers to the polarity of $w_i$.\n",
        "\n",
        "**Threshold.** On average, there are more positive than negative words per review (~7.13 more positive than negative per review) to take this bias into account you should use a threshold of **8** (roughly the bias itself) to make it harder to classify as positive.\n",
        "\n",
        "$$\n",
        "\\text{classify}(S_{binary}(w_1 w_2 ... w_n)) = \\bigg\\{\\begin{array}{ll}\n",
        "        \\text{positive} & \\text{if } S_{binary}(w_1w_2...w_n) > threshold\\\\\n",
        "        \\text{negative} & \\text{otherwise}\n",
        "        \\end{array}\n",
        "$$\n"
      ]
    },
    {
      "cell_type": "markdown",
      "metadata": {
        "id": "tOFnMvbeeZrc"
      },
      "source": [
        "#### (Q1.1) Implement this approach and report its classification accuracy. (1 pt)"
      ]
    },
    {
      "cell_type": "code",
      "metadata": {
        "id": "ED2aTEYutW1-"
      },
      "source": [
        "class WordInfo():\n",
        "  def __init__(self, word, polarity, weight, pos_tag):\n",
        "    self.polarity = polarity\n",
        "    self.word = word\n",
        "    self.weight = weight\n",
        "    self.pos_tag = pos_tag\n",
        "  \n",
        "  @classmethod\n",
        "  def extractWord(cls, in_str):\n",
        "    params = in_str.split(\" \")\n",
        "    priorpolarity = params[5].split(\"=\")[1].lower()\n",
        "\n",
        "    if priorpolarity == \"negative\":\n",
        "      polarity = -1\n",
        "    elif priorpolarity == \"positive\":\n",
        "      polarity = 1\n",
        "    elif priorpolarity == \"neutral\":\n",
        "      polarity = 0\n",
        "    else:\n",
        "      #TODO: What if prior polarity is \"both\"?\n",
        "      polarity = 0\n",
        "\n",
        "    word = params[2].split(\"=\")[1]\n",
        "    weight = params[0].split(\"=\")[1]\n",
        "\n",
        "    if(weight.lower() == \"weaksubj\"):\n",
        "      weight = 1\n",
        "    else:\n",
        "      weight = 2\n",
        "\n",
        "    pos_tag = params[3].split(\"=\")[1]\n",
        "\n",
        "    if pos_tag == \"adj\":\n",
        "      pos_tag = \"JJ\"\n",
        "    elif pos_tag == \"noun\":\n",
        "      pos_tag = \"NN\"\n",
        "    elif pos_tag == \"verb\":\n",
        "      pos_tag = \"VB\"\n",
        "    elif pos_tag == \"adverb\":\n",
        "      pos_tag = \"RB\"\n",
        "\n",
        "\n",
        "    return cls(word, polarity, weight, pos_tag)\n",
        "    \n",
        "\n",
        "\n",
        "\n",
        "class Lexicon():\n",
        "  __slots__ = [\"wordDict\"]\n",
        "\n",
        "  def __init__(self, lexicon_title = \"sent_lexicon\") -> None:\n",
        "    self.wordDict = defaultdict(list)\n",
        "    with open(lexicon_title, mode=\"r\", encoding=\"utf-8\") as f:\n",
        "      for line in f:\n",
        "        wordInfo = WordInfo.extractWord(line.strip())\n",
        "        self.wordDict[wordInfo.word].append(wordInfo)\n",
        "\n",
        "  def obtainWordInfo(self, word, pos_tag):\n",
        "    if(word not in self.wordDict.keys()):\n",
        "      return None\n",
        "    wordList = self.wordDict[word]\n",
        "    for wordInfo in wordList:\n",
        "      lex_pos = wordInfo.pos_tag\n",
        "      if(pos_tag[0:1] == lex_pos or pos_tag == lex_pos):\n",
        "        return wordInfo\n",
        "    return None\n",
        "    \n",
        "  \n",
        "  def classifyBinaryScore(self, review, threshold):\n",
        "    content = review[\"content\"]\n",
        "\n",
        "    binaryScore = 0\n",
        "    for sentence in content: \n",
        "      for word, pos_tag in sentence:\n",
        "        wordInfo = self.obtainWordInfo(word.lower(), pos_tag)\n",
        "        if(wordInfo is not None):\n",
        "          #print(f\"FOUND Word \\\"{word}\\\" with POS Tag {pos_tag} has polarity {wordInfo.polarity}\")\n",
        "          binaryScore+=wordInfo.polarity\n",
        "        else:\n",
        "          pass\n",
        "          #print(f\"Word \\\"{word}\\\" with POS Tag {pos_tag} not found in Lexicon\")\n",
        "\n",
        "    if binaryScore > threshold :\n",
        "      return 1\n",
        "    else:\n",
        "      return 0\n",
        "\n",
        "\n",
        "  def classifyWeightedScore(self, review, threshold):\n",
        "    content = review[\"content\"]\n",
        "\n",
        "    weightedScore = 0\n",
        "    for sentence in content: \n",
        "      for word, pos_tag in sentence:\n",
        "        wordInfo = self.obtainWordInfo(word, pos_tag)\n",
        "\n",
        "        if(wordInfo is not None):\n",
        "          #print(f\"FOUND Word \\\"{word}\\\" with POS Tag {pos_tag} has polarity {wordInfo.polarity} and weight {wordInfo.weight}\")\n",
        "          weightedScore+=(wordInfo.polarity * wordInfo.weight)\n",
        "        else:\n",
        "          pass\n",
        "          #print(f\"Word \\\"{word}\\\" with POS Tag {pos_tag} not found in Lexicon\")\n",
        "    \n",
        "    if weightedScore > threshold :\n",
        "      return 1\n",
        "    else:\n",
        "      return 0\n",
        "\n",
        "lexicon = Lexicon()  \n",
        "\n",
        "\n"
      ],
      "execution_count": null,
      "outputs": []
    },
    {
      "cell_type": "code",
      "metadata": {
        "id": "iy528EUTphz5",
        "outputId": "93eacacd-9830-4c8d-bca7-eafceb4ad032",
        "colab": {
          "base_uri": "https://localhost:8080/"
        }
      },
      "source": [
        "# token_results should be a list of binary indicators; for example [1, 0, 1, ...] \n",
        "# where 1 indicates a correct classification and 0 an incorrect classification. \n",
        "\n",
        "token_results = []\n",
        "n_correct = 0\n",
        "threshold = 4\n",
        "\n",
        "for idx, review in enumerate(reviews):\n",
        "  token_results.append(lexicon.classifyBinaryScore(review, threshold))\n",
        "  if(token_results[idx] == 1 and review[\"sentiment\"] == \"POS\") or (token_results[idx] == 0 and review[\"sentiment\"] == \"NEG\"):\n",
        "    n_correct +=1\n",
        "\n",
        "    \n",
        "token_accuracy = n_correct / len(reviews)\n",
        "print(\"Accuracy: %0.2f\" % token_accuracy)"
      ],
      "execution_count": null,
      "outputs": [
        {
          "output_type": "stream",
          "name": "stdout",
          "text": [
            "Accuracy: 0.67\n"
          ]
        }
      ]
    },
    {
      "cell_type": "markdown",
      "metadata": {
        "id": "Twox0s_3eS0V"
      },
      "source": [
        "As the sentiment lexicon also has information about the **magnitude** of\n",
        "sentiment (e.g., *“excellent\"* has the same sentiment _polarity_ as *“good\"* but it has a higher magnitude), we can take a more fine-grained approach by adding up all\n",
        "sentiment scores, and deciding the polarity of the movie review using\n",
        "the sign of the weighted score $S_{weighted}$.\n",
        "\n",
        "$$S_{weighted}(w_1w_2...w_n) = \\sum_{i = 1}^{n}SLex\\big[w_i\\big]$$\n",
        "\n",
        "\n",
        "Make sure you define an appropriate threshold for this approach.\n",
        "\n",
        "#### (Q1.2) Now incorporate magnitude information and report the classification accuracy. Don't forget to use the threshold. (1pt)"
      ]
    },
    {
      "cell_type": "code",
      "metadata": {
        "id": "qG3hUDnPtkhS"
      },
      "source": [
        "lexicon = Lexicon() "
      ],
      "execution_count": null,
      "outputs": []
    },
    {
      "cell_type": "code",
      "metadata": {
        "id": "9vVk7CvDpyka",
        "outputId": "d1722028-fda6-4386-bec7-e70a61888b22",
        "colab": {
          "base_uri": "https://localhost:8080/"
        }
      },
      "source": [
        "magnitude_results = []\n",
        "\n",
        "n_correct = 0\n",
        "threshold = 3\n",
        "\n",
        "for idx, review in enumerate(reviews):\n",
        "  magnitude_results.append(lexicon.classifyWeightedScore(review, threshold))\n",
        "  if(magnitude_results[idx] == 1 and review[\"sentiment\"] == \"POS\") or (magnitude_results[idx] == 0 and review[\"sentiment\"] == \"NEG\"):\n",
        "    n_correct +=1\n",
        "\n",
        "\n",
        "magnitude_accuracy = n_correct / len(reviews)\n",
        "print(\"Accuracy: %0.2f\" % magnitude_accuracy)"
      ],
      "execution_count": null,
      "outputs": [
        {
          "output_type": "stream",
          "name": "stdout",
          "text": [
            "Accuracy: 0.68\n"
          ]
        }
      ]
    },
    {
      "cell_type": "markdown",
      "metadata": {
        "id": "h9SHoGPfsAHV"
      },
      "source": [
        "#### (Q.1.3) Make a barplot of the two results (0.5pt)"
      ]
    },
    {
      "cell_type": "code",
      "metadata": {
        "id": "8LgBcYcXsEk3",
        "outputId": "b8373a0d-e7d7-409f-c098-f0d024966bfa",
        "colab": {
          "base_uri": "https://localhost:8080/",
          "height": 295
        }
      },
      "source": [
        "d = {'Binary Classifier': token_accuracy, 'Binary Weighted Classifier': magnitude_accuracy}\n",
        "classifiers = list(d.keys())\n",
        "acc = list(d.values())\n",
        "\n",
        "plt.bar(classifiers, acc, width = 0.2)\n",
        "plt.xlabel(\"Classifiers\")\n",
        "plt.ylabel(\"Accuracy\")\n",
        "plt.title(\"Lexicon based approach for review classification\")\n",
        "plt.show()"
      ],
      "execution_count": null,
      "outputs": [
        {
          "output_type": "display_data",
          "data": {
            "text/plain": [
              "<Figure size 432x288 with 1 Axes>"
            ],
            "image/png": "[encoded data removed]"
          },
          "metadata": {
            "needs_background": "light"
          }
        }
      ]
    },
    {
      "cell_type": "markdown",
      "metadata": {
        "id": "sNhS8OCVxMHd"
      },
      "source": [
        "#### (Q1.4) A better threshold (1pt)\n",
        "Above we have defined a threshold to account for an inherent bias in the dataset: there are more positive than negative words per review.\n",
        "However, that threshold does not take into account *document length*. Explain why this is a problem and implement an alternative way to compute the threshold."
      ]
    },
    {
      "cell_type": "markdown",
      "metadata": {
        "id": "xo7gk1I-omLI"
      },
      "source": []
    },
    {
      "cell_type": "code",
      "metadata": {
        "id": "Dwt0B8h8aKjr",
        "outputId": "9eddb38f-56f3-4fa4-e8af-e4a5dad4ddb6",
        "colab": {
          "base_uri": "https://localhost:8080/"
        }
      },
      "source": [
        "class ImprovedLexicon(Lexicon):\n",
        "\n",
        "  def __init__(self, lexicon_title = \"sent_lexicon\"):\n",
        "    super().__init__(lexicon_title)\n",
        "    self.THRESHOLD_FACTOR = 0.003\n",
        "    self.THRESHOLD_FACTOR_W = 0.003\n",
        "  \n",
        "\n",
        "  @staticmethod\n",
        "  def calculateNWords(review):\n",
        "    cnt = 0\n",
        "    for sentence in review[\"content\"]:\n",
        "      cnt+=len(sentence)\n",
        "    return cnt\n",
        "\n",
        "  def classifyBinaryScoreImproved(self, review):\n",
        "    improvedThreshold = self.calculateNWords(review)*self.THRESHOLD_FACTOR\n",
        "    return self.classifyBinaryScore(review, improvedThreshold)\n",
        "\n",
        "  def classifyWeightedScoreImproved(self, review):\n",
        "    improvedThreshold = self.calculateNWords(review)*self.THRESHOLD_FACTOR_W\n",
        "    return self.classifyWeightedScore(review, improvedThreshold)\n",
        "\n",
        "\n",
        "lex = ImprovedLexicon()\n",
        "\n",
        "\n",
        "magnitude_results = []\n",
        "\n",
        "n_correct = 0\n",
        "threshold = 3\n",
        "\n",
        "for idx, review in enumerate(reviews):\n",
        "  magnitude_results.append(lex.classifyWeightedScoreImproved(review))\n",
        "  if(magnitude_results[idx] == 1 and review[\"sentiment\"] == \"POS\") or (magnitude_results[idx] == 0 and review[\"sentiment\"] == \"NEG\"):\n",
        "    n_correct +=1\n",
        "\n",
        "\n",
        "magnitude_accuracy = n_correct / len(reviews)\n",
        "print(\"Accuracy: %0.2f\" % magnitude_accuracy)"
      ],
      "execution_count": null,
      "outputs": [
        {
          "output_type": "stream",
          "name": "stdout",
          "text": [
            "Accuracy: 0.67\n"
          ]
        }
      ]
    },
    {
      "cell_type": "markdown",
      "metadata": {
        "id": "LibV4nR89BXb"
      },
      "source": [
        "# (2) Naive Bayes (9.5pts)"
      ]
    },
    {
      "cell_type": "markdown",
      "metadata": {
        "id": "fnF9adQnuwia"
      },
      "source": [
        "\n",
        "Your second task is to program a simple Machine Learning approach that operates\n",
        "on a simple Bag-of-Words (BoW) representation of the text data, as\n",
        "described by Pang et al. (2002). In this approach, the only features we\n",
        "will consider are the words in the text themselves, without bringing in\n",
        "external sources of information. The BoW model is a popular way of\n",
        "representing texts as vectors, making it\n",
        "easy to apply classical Machine Learning algorithms on NLP tasks.\n",
        "However, the BoW representation is also very crude, since it discards\n",
        "all information related to word order and grammatical structure in the\n",
        "original text—as the name suggests.\n",
        "\n",
        "## Writing your own classifier (4pts)\n",
        "\n",
        "Write your own code to implement the Naive Bayes (NB) classifier. As\n",
        "a reminder, the Naive Bayes classifier works according to the following\n",
        "equation:\n",
        "$$\\hat{c} = \\operatorname*{arg\\,max}_{c \\in C} P(c|\\bar{f}) = \\operatorname*{arg\\,max}_{c \\in C} P(c)\\prod^n_{i=1} P(f_i|c)$$\n",
        "where $C = \\{ \\text{POS}, \\text{NEG} \\}$ is the set of possible classes,\n",
        "$\\hat{c} \\in C$ is the most probable class, and $\\bar{f}$ is the feature\n",
        "vector. Remember that we use the log of these probabilities when making\n",
        "a prediction:\n",
        "$$\\hat{c} = \\operatorname*{arg\\,max}_{c \\in C} \\Big\\{\\log P(c) + \\sum^n_{i=1} \\log P(f_i|c)\\Big\\}$$\n",
        "\n",
        "You can find more details about Naive Bayes in [Jurafsky &\n",
        "Martin](https://web.stanford.edu/~jurafsky/slp3/). You can also look at\n",
        "this helpful\n",
        "[pseudo-code](https://nlp.stanford.edu/IR-book/html/htmledition/naive-bayes-text-classification-1.html).\n",
        "\n",
        "*Note: this section and the next aim to put you in a position to replicate\n",
        "    Pang et al.'s Naive Bayes results. However, your numerical results\n",
        "    will differ from theirs, as they used different data.*\n",
        "\n",
        "**You must write the Naive Bayes training and prediction code from\n",
        "scratch.** You will not be given credit for using off-the-shelf Machine\n",
        "Learning libraries.\n",
        "\n",
        "The data contains the text of the reviews, where each document consists\n",
        "of the sentences in the review, the sentiment of the review and an index\n",
        "(cv) that you will later use for cross-validation. The\n",
        "text has already been tokenised and POS-tagged for you. Your algorithm\n",
        "should read in the text, **lowercase it**, store the words and their\n",
        "frequencies in an appropriate data structure that allows for easy\n",
        "computation of the probabilities used in the Naive Bayes algorithm, and\n",
        "then make predictions for new instances.\n"
      ]
    },
    {
      "cell_type": "markdown",
      "metadata": {
        "id": "vEpyQSBSkb33"
      },
      "source": [
        "#### (Q2.1) Unseen words (1pt)\n",
        "The presence of words in the test dataset that\n",
        "have not been seen during training can cause probabilities in the Naive Bayes classifier to equal $0$.\n",
        "These can be words which are unseen in both positive and negative training reviews (case 1), but also words which are seen in reviews _of only one sentiment class_ in the training dataset (case 2). In both cases, **you should skip these words for both classes**.  What would be the problem instead with skipping words only for one class in case 2? "
      ]
    },
    {
      "cell_type": "markdown",
      "metadata": {
        "id": "BanFiYYnoxDW"
      },
      "source": [
        "*Write your answer here.*"
      ]
    },
    {
      "cell_type": "markdown",
      "metadata": {
        "id": "gsZRhaI3WvzC"
      },
      "source": [
        "#### (Q2.2) Train your classifier on (positive and negative) reviews with cv-value 000-899, and test it on the remaining (positive and negative) reviews cv900–cv999.  Report results using classification accuracy as your evaluation metric. Your  features are the word vocabulary. The value of a feature is the count of that feature (word) in the document. (2pts)\n"
      ]
    },
    {
      "cell_type": "code",
      "metadata": {
        "id": "G7zaJYGFvIJ3"
      },
      "source": [
        "features = {}\n",
        "training_set = []\n",
        "test_set = []\n",
        "N_docs = len(reviews)\n",
        "class_freq = {}\n",
        "\n",
        "\n",
        "for review in reviews:\n",
        "  for sentence in review[\"content\"]:\n",
        "      for word, pos_tag in sentence:\n",
        "        word_low = word.lower()\n",
        "        if word_low not in features.keys():\n",
        "          features[word_low] = 1\n",
        "        else:\n",
        "          features[word_low] += 1\n",
        "\n",
        "  if review[\"cv\"]<=899:\n",
        "    training_set.append(review)\n",
        "    if(review[\"sentiment\"] not in class_freq.keys()):\n",
        "      class_freq[review[\"sentiment\"]] = 1\n",
        "    else:\n",
        "      class_freq[review[\"sentiment\"]]+=1\n",
        "\n",
        "    \n",
        "  else:\n",
        "    test_set.append(review)\n",
        "    if(review[\"sentiment\"] not in class_freq.keys()):\n",
        "      class_freq[review[\"sentiment\"]] = 0 #So we have all classes in dict keys\n",
        "\n",
        "prior = {}\n",
        "for cl in class_freq.keys():\n",
        "  Nc = class_freq[cl]\n",
        "  prior[cl] = Nc / N_docs\n",
        "\n",
        "\n",
        "sentimentWordCount = {}\n",
        "\n",
        "for review in reviews:\n",
        "  sentimentWordCount[review[\"sentiment\"]] = {}\n",
        "  for sentence in review[\"content\"]:\n",
        "      for word, pos_tag in sentence:\n",
        "         if word not in sentimentWordCount[review[\"sentiment\"]].keys():\n",
        "           sentimentWordCount[review[\"sentiment\"]][word] = 0\n",
        "         else:\n",
        "           sentimentWordCount[review[\"sentiment\"]][word] += 1\n",
        "\n",
        "\n",
        "\n",
        "\n",
        "\n",
        "\n",
        "\n",
        "\n",
        "\n",
        "\n",
        "\n",
        "\n",
        "\n",
        "\n",
        "\n"
      ],
      "execution_count": null,
      "outputs": []
    },
    {
      "cell_type": "markdown",
      "metadata": {
        "id": "0INK-PBoM6CB"
      },
      "source": [
        "#### (Q2.3) Would you consider accuracy to also be a good way to evaluate your classifier in a situation where 90% of your data instances are of positive movie reviews? (1pt)\n",
        "\n",
        "Simulate this scenario by keeping the positive reviews\n",
        "data unchanged, but only using negative reviews cv000–cv089 for\n",
        "training, and cv900–cv909 for testing. Calculate the classification\n",
        "accuracy, and explain what changed."
      ]
    },
    {
      "cell_type": "markdown",
      "metadata": {
        "id": "oFbcsYlipBAw"
      },
      "source": [
        "*Write your answer here.*"
      ]
    },
    {
      "cell_type": "code",
      "metadata": {
        "id": "GWDkt5ZrrFGp"
      },
      "source": [
        "# YOUR CODE HERE"
      ],
      "execution_count": null,
      "outputs": []
    },
    {
      "cell_type": "markdown",
      "metadata": {
        "id": "6wJzcHX3WUDm"
      },
      "source": [
        "## Smoothing (1pt)\n",
        "\n",
        "As mentioned above, the presence of words in the test dataset that\n",
        "have not been seen during training can cause probabilities in the Naive\n",
        "Bayes classifier to be $0$, thus making that particular test instance\n",
        "undecidable. The standard way to mitigate this effect (as well as to\n",
        "give more clout to rare words) is to use smoothing, in which the\n",
        "probability fraction\n",
        "$$\\frac{\\text{count}(w_i, c)}{\\sum\\limits_{w\\in V} \\text{count}(w, c)}$$ for a word\n",
        "$w_i$ becomes\n",
        "$$\\frac{\\text{count}(w_i, c) + \\text{smoothing}(w_i)}{\\sum\\limits_{w\\in V} \\text{count}(w, c) + \\sum\\limits_{w \\in V} \\text{smoothing}(w)}$$\n",
        "\n",
        "\n",
        "\n"
      ]
    },
    {
      "cell_type": "markdown",
      "metadata": {
        "id": "PBNIcbwUWphC"
      },
      "source": [
        "#### (Q2.4) Implement Laplace feature smoothing (1pt)\n",
        "Implement Laplace smoothing, i.e., smoothing with a constant value ($smoothing(w) = \\kappa, \\forall w \\in V$), in your Naive\n",
        "Bayes classifier’s code, and report the impact on performance. \n",
        "Use $\\kappa = 1$."
      ]
    },
    {
      "cell_type": "code",
      "metadata": {
        "id": "g03yflCc9kpW"
      },
      "source": [
        "# YOUR CODE HERE"
      ],
      "execution_count": null,
      "outputs": []
    },
    {
      "cell_type": "markdown",
      "metadata": {
        "id": "ZiGcgwba87D5"
      },
      "source": [
        "## Cross-Validation (1.5pts)\n",
        "\n",
        "A serious danger in using Machine Learning on small datasets, with many\n",
        "iterations of slightly different versions of the algorithms, is ending up with Type III errors, also called the “testing hypotheses\n",
        "suggested by the data” errors. This type of error occurs when we make\n",
        "repeated improvements to our classifiers by playing with features and\n",
        "their processing, but we don’t get a fresh, never-before seen test\n",
        "dataset every time. Thus, we risk developing a classifier that gets better\n",
        "and better on our data, but only gets worse at generalizing to new, unseen data. In other words, we risk developping a classifier that overfits.\n",
        "\n",
        "A simple method to guard against Type III errors is to use\n",
        "Cross-Validation. In **N-fold Cross-Validation**, we divide the data into N\n",
        "distinct chunks, or folds. Then, we repeat the experiment N times: each\n",
        "time holding out one of the folds for testing, training our classifier\n",
        "on the remaining N - 1 data folds, and reporting performance on the\n",
        "held-out fold. We can use different strategies for dividing the data:\n",
        "\n",
        "-   Consecutive splitting:\n",
        "  - cv000–cv099 = Split 1\n",
        "  - cv100–cv199 = Split 2\n",
        "  - etc.\n",
        "  \n",
        "-   Round-robin splitting (mod 10):\n",
        "  - cv000, cv010, cv020, … = Split 1\n",
        "  - cv001, cv011, cv021, … = Split 2\n",
        "  - etc.\n",
        "\n",
        "-   Random sampling/splitting\n",
        "  - Not used here (but you may choose to split this way in a non-educational situation)\n",
        "\n"
      ]
    },
    {
      "cell_type": "markdown",
      "metadata": {
        "id": "8OeLcbSauGtR"
      },
      "source": [
        "#### (Q2.5) Write the code to implement 10-fold cross-validation using round-robin splitting for your Naive Bayes classifier from Q2.4 and compute the 10 accuracies. Report the final performance, which is the average of the performances per fold. If all splits perform equally well, this is a good sign. (1pt)"
      ]
    },
    {
      "cell_type": "code",
      "metadata": {
        "id": "3KeCGPa7Nuzx"
      },
      "source": [
        "# YOUR CODE HERE"
      ],
      "execution_count": null,
      "outputs": []
    },
    {
      "cell_type": "markdown",
      "metadata": {
        "id": "otdlsDXBNyOa"
      },
      "source": [
        "#### (Q2.6) Report the variance of the 10 accuracy scores. (0.5pt)\n",
        "\n",
        "**Please report all future results using 10-fold cross-validation now\n",
        "(unless told to use the held-out test set).** Note: you're not allowed to use a library for computing the variance. "
      ]
    },
    {
      "cell_type": "code",
      "metadata": {
        "id": "ZoBQm1KuNzNR"
      },
      "source": [
        "# YOUR CODE HERE"
      ],
      "execution_count": null,
      "outputs": []
    },
    {
      "cell_type": "markdown",
      "metadata": {
        "id": "s6A2zX9_BRKm"
      },
      "source": [
        "## Features, overfitting, and the curse of dimensionality\n",
        "\n",
        "In the Bag-of-Words model, ideally we would like each distinct word in\n",
        "the text to be mapped to its own dimension in the output vector\n",
        "representation. However, real world text is messy, and we need to decide\n",
        "on what we consider to be a word. For example, is “`word`\" different\n",
        "from “`Word`\", from “`word`”, or from “`words`\"? Too strict a\n",
        "definition, and the number of features explodes, while our algorithm\n",
        "fails to learn anything generalisable. Too lax, and we risk destroying\n",
        "our learning signal. In the following section, you will learn about\n",
        "confronting the feature sparsity and the overfitting problems as they\n",
        "occur in NLP classification tasks."
      ]
    },
    {
      "cell_type": "markdown",
      "metadata": {
        "id": "EKK8FNt8VtcZ"
      },
      "source": [
        "### Stemming (1.5pts)\n",
        "\n",
        "To make your algorithm more robust, use stemming and hash different inflections of a word to the same feature in the BoW vector space. Please use the [Porter stemming\n",
        "    algorithm](http://www.nltk.org/howto/stem.html) from NLTK.\n",
        "\n"
      ]
    },
    {
      "cell_type": "code",
      "metadata": {
        "id": "NxtCul1IrBi_"
      },
      "source": [
        "# YOUR CODE HERE"
      ],
      "execution_count": null,
      "outputs": []
    },
    {
      "cell_type": "markdown",
      "metadata": {
        "id": "6SrJ1BeLXTnk"
      },
      "source": [
        "#### (Q2.7): How does the performance of your classifier change when you use stemming on your training and test datasets? (1pt)\n",
        "Use cross-validation to evaluate the classifier. \n"
      ]
    },
    {
      "cell_type": "code",
      "metadata": {
        "id": "gYqKBOiIrInT"
      },
      "source": [
        "# YOUR ANSWER HERE"
      ],
      "execution_count": null,
      "outputs": []
    },
    {
      "cell_type": "markdown",
      "metadata": {
        "id": "JkDHVq_1XUVP"
      },
      "source": [
        "#### (Q2.8) What happens to the number of features (i.e., the size of the vocabulary) when using stemming as opposed to (Q2.4)? (0.5pt)\n",
        "Give actual numbers. You can use the held-out training set to determine these."
      ]
    },
    {
      "cell_type": "code",
      "metadata": {
        "id": "MA3vee5-rJyy"
      },
      "source": [
        "# YOUR CODE HERE"
      ],
      "execution_count": null,
      "outputs": []
    },
    {
      "cell_type": "markdown",
      "metadata": {
        "id": "SoazfxbNV5Lq"
      },
      "source": [
        "### N-grams (1.5pts)\n",
        "\n",
        "A simple way of retaining some of the word\n",
        "order information when using bag-of-words representations is to use **n-gram** features. \n",
        "\n",
        "\n",
        "\n",
        "\n"
      ]
    },
    {
      "cell_type": "markdown",
      "metadata": {
        "id": "OHjy3I7-qWiu"
      },
      "source": [
        "#### (Q2.9) Retrain your classifier from (Q2.4) using **unigrams+bigrams** and **unigrams+bigrams+trigrams** as features. (1pt)\n",
        "Report accuracy and compare it with that of the approaches you have previously implemented. You are allowed to use NLTK to build n-grams from sentences."
      ]
    },
    {
      "cell_type": "code",
      "metadata": {
        "id": "eYuKMTOpq9jz"
      },
      "source": [
        "# YOUR CODE HERE"
      ],
      "execution_count": null,
      "outputs": []
    },
    {
      "cell_type": "markdown",
      "metadata": {
        "id": "dVrGGArkrWoL"
      },
      "source": [
        "\n",
        "#### Q2.10: How many features does the BoW model have to take into account now? (0.5pt)\n",
        "How would you expect the number of features to increase theoretically (e.g., linear, square, cubed, exponential)? How does this number compare, in practice, to the number of features at (Q2.8)?\n",
        "\n",
        "Use the held-out training set once again for this.\n"
      ]
    },
    {
      "cell_type": "markdown",
      "metadata": {
        "id": "yEGZ9SV8pPaa"
      },
      "source": [
        "*Write your answer here.*"
      ]
    },
    {
      "cell_type": "code",
      "metadata": {
        "id": "_z8sAJeUrdtM"
      },
      "source": [
        "# YOUR CODE HERE"
      ],
      "execution_count": null,
      "outputs": []
    },
    {
      "cell_type": "markdown",
      "metadata": {
        "id": "CHWKDL3YV6vh"
      },
      "source": [
        "# (3) Support Vector Machines (4pts)"
      ]
    },
    {
      "cell_type": "markdown",
      "metadata": {
        "id": "hJSYhcVaoJGt"
      },
      "source": [
        "Though simple to understand, implement, and debug, one\n",
        "major problem with the Naive Bayes classifier is that its performance\n",
        "deteriorates (becomes skewed) when it is being used with features which\n",
        "are not independent (i.e., are correlated). Another popular classifier\n",
        "that doesn’t scale as well to big data, and is not as simple to debug as\n",
        "Naive Bayes, but that doesn’t assume feature independence is the Support\n",
        "Vector Machine (SVM) classifier.\n",
        "\n",
        "You can find more details about SVMs in Chapter 7 of Bishop: Pattern Recognition and Machine Learning.\n",
        "Other sources for learning SVM:\n",
        "* http://web.mit.edu/zoya/www/SVM.pdf\n",
        "* http://www.cs.columbia.edu/~kathy/cs4701/documents/jason_svm_tutorial.pdf\n",
        "* https://pythonprogramming.net/support-vector-machine-intro-machine-learning-tutorial/\n",
        "\n",
        "\n",
        "\n",
        "\n",
        "\n",
        "\n",
        "\n",
        "Use the scikit-learn implementation of \n",
        "[SVM](http://scikit-learn.org/stable/modules/svm.html) with the default parameters. (You are not expected to perform any hyperparameter tuning, but feel free to do it if you think it gives you good insights for the discussion in question 5.)\n",
        "\n"
      ]
    },
    {
      "cell_type": "markdown",
      "metadata": {
        "id": "0LnzNtQBV8gr"
      },
      "source": [
        "#### (Q3.1): Train SVM and compare to Naive Bayes (2pts)\n",
        "\n",
        "Train an SVM classifier (sklearn.svm.LinearSVC) using the features collected for Naive Bayes. Compare the\n",
        "classification performance of the SVM classifier to that of the Naive\n",
        "Bayes classifier with smoothing.\n",
        "Use cross-validation to evaluate the performance of the classifiers.\n",
        "\n"
      ]
    },
    {
      "cell_type": "code",
      "metadata": {
        "id": "JBscui8Mvoz0"
      },
      "source": [
        "# YOUR CODE HERE"
      ],
      "execution_count": null,
      "outputs": []
    },
    {
      "cell_type": "markdown",
      "metadata": {
        "id": "ifXVWcK0V9qY"
      },
      "source": [
        "### POS disambiguation (2pts)\n",
        "\n",
        "Now add in part-of-speech features. You will find the\n",
        "movie review dataset has already been POS-tagged for you ([here](https://catalog.ldc.upenn.edu/docs/LDC99T42/tagguid1.pdf) you find the tagset). Try to\n",
        "replicate the results obtained by Pang et al. (2002).\n",
        "\n"
      ]
    },
    {
      "cell_type": "markdown",
      "metadata": {
        "id": "xA3I82o4oWGu"
      },
      "source": [
        "####(Q3.2) Replace your features with word+POS features, and report performance with the SVM. Use cross-validation to evaluate the classifier and compare the results with (Q3.1). Does part-of-speech information help? Explain why this may be the case. (1pt)\n"
      ]
    },
    {
      "cell_type": "code",
      "metadata": {
        "id": "NOvjYe-t2Br6"
      },
      "source": [
        "# YOUR CODE HERE"
      ],
      "execution_count": null,
      "outputs": []
    },
    {
      "cell_type": "markdown",
      "metadata": {
        "id": "L0dt_oQupUNe"
      },
      "source": [
        "*Write your answer here.*"
      ]
    },
    {
      "cell_type": "markdown",
      "metadata": {
        "id": "Su-3w87eMW0w"
      },
      "source": [
        "#### (Q3.3) Discard all closed-class words from your data (keep only nouns, verbs, adjectives, and adverbs), and report performance. Does this help? Use cross-validation to evaluate the classifier and compare the results with (Q3.2). Are closed-class words detrimental to the classifier? Explain why this may be the case. (1pt)"
      ]
    },
    {
      "cell_type": "code",
      "metadata": {
        "id": "CCUPlPozCYUX"
      },
      "source": [
        "# YOUR CODE HERE"
      ],
      "execution_count": null,
      "outputs": []
    },
    {
      "cell_type": "markdown",
      "metadata": {
        "id": "YaxCVrs8pWSp"
      },
      "source": [
        "*Write your answer here.*"
      ]
    },
    {
      "cell_type": "markdown",
      "metadata": {
        "id": "nfwqOciAl2No"
      },
      "source": [
        "# (Q4) Discussion (max. 500 words). (5pts)\n",
        "\n",
        "> Based on your experiments, what are the effective features and techniques in sentiment analysis? What information do different features encode?\n",
        "Why is this important? What are the limitations of these features and techniques?\n",
        " \n"
      ]
    },
    {
      "cell_type": "markdown",
      "metadata": {
        "id": "ZYuse5WLmekZ"
      },
      "source": [
        "*Write your answer here in up to 500 words (-0.25pt for >50 extra words, -0.5 points for >100 extra words, ...)*.\n"
      ]
    },
    {
      "cell_type": "markdown",
      "metadata": {
        "id": "iwaKwfWQhRk_"
      },
      "source": [
        "# Submission \n"
      ]
    },
    {
      "cell_type": "code",
      "metadata": {
        "id": "aOUeaET5ijk-"
      },
      "source": [
        "# Write your names and student numbers here:\n",
        "# Student 1 #12345\n",
        "# Student 2 #12345"
      ],
      "execution_count": null,
      "outputs": []
    },
    {
      "cell_type": "markdown",
      "metadata": {
        "id": "3A9K-H6Tii3X"
      },
      "source": [
        "**That's it!**\n",
        "\n",
        "- Check if you answered all questions fully and correctly. \n",
        "- Download your completed notebook using `File -> Download .ipynb` \n",
        "- Check if your answers are all included in the file you submit.\n",
        "- Submit your .ipynb file via *Canvas*. One submission per group. "
      ]
    },
    {
      "cell_type": "code",
      "metadata": {
        "id": "YHslatYAKBrF"
      },
      "source": [],
      "execution_count": null,
      "outputs": []
    }
  ]
}