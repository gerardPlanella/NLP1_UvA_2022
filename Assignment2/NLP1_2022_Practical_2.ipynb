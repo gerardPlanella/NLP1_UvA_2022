{
  "nbformat": 4,
  "nbformat_minor": 0,
  "metadata": {
    "colab": {
      "provenance": [],
      "collapsed_sections": [
        "-WDSprDBVcr-",
        "nGWaZahKV_dH",
        "y0067ax54-rd",
        "rLtBAIQGynkB",
        "WSAw292WxuP4",
        "oKNQjEc0yXnJ",
        "dIk6OtSdzGRP",
        "g09SM8yb2cjx",
        "XEPsLvI-3D5b",
        "gIjrCPfCwsXI",
        "iZanOMesTfEZ",
        "WIVCkUkE_IjR",
        "xC-7mRyYNG9b",
        "BfEd38W0NnAI",
        "v9f4b45BXKFC",
        "4JM7xPhkQeE5",
        "X9gA-UcqSBe0",
        "FxFoVpvMPB6g",
        "XQjEjLt9z0XW",
        "FPf96wGzBTQJ",
        "DwZM-XYkT8Zx",
        "SL2iixMYUgfh",
        "xYBJEoSNUwI0",
        "1rDzvSos3JFp",
        "pDWKShm1AfmR",
        "d-qOuKbDAiBn",
        "Dj5dYSGh_643",
        "gh9RbhGwaiLg",
        "IMUsrlL9ayVe"
      ],
      "include_colab_link": true
    },
    "kernelspec": {
      "name": "python3",
      "display_name": "Python 3"
    },
    "gpuClass": "standard",
    "accelerator": "GPU"
  },
  "cells": [
    {
      "cell_type": "markdown",
      "metadata": {
        "id": "view-in-github",
        "colab_type": "text"
      },
      "source": [
        "<a href=\"https://colab.research.google.com/github/gerardPlanella/NLP1_UvA_2022/blob/main/Assignment2/NLP1_2022_Practical_2.ipynb\" target=\"_parent\"><img src=\"https://colab.research.google.com/assets/colab-badge.svg\" alt=\"Open In Colab\"/></a>"
      ]
    },
    {
      "cell_type": "markdown",
      "metadata": {
        "id": "ptMZZMQlfn7c"
      },
      "source": [
        "------\n",
        "**You cannot apply any changes to this file, so please make sure to save it on your Google Colab drive or download it as a .ipynb file.**\n",
        "\n",
        "------\n"
      ]
    },
    {
      "cell_type": "markdown",
      "metadata": {
        "id": "jILqpPLlE9r0"
      },
      "source": [
        "# Practical 2: Representing Sentences with Neural Models"
      ]
    },
    {
      "cell_type": "markdown",
      "metadata": {
        "id": "8JXOZ5uhQ8Qq"
      },
      "source": [
        "In this second practical, we will train neural network models to obtain sentence representations. We can then use these sentence representations for a downstream task such as sentiment classification. \n",
        "\n",
        "In this notebook, we will help you to develop models for your experiments. But this time, next to completing the notebook, **you are expected to write a four-page scientific report with your findings**. Please still submit the notebook together with your scientific report so that we can reproduce your experiments. (Note: if you find it useful, you can split this notebook into multiple notebooks. If you do so, keep it mind that it should be possible for your TAs to reproduce the entire content of the notebooks without having to ask for clarifications or to copy and paste functions from one sub-notebook to another.) Make sure your code corresponds to the description you give in the report; we will deduct points if this is not the case.\n",
        "\n",
        "**Important!** The main purpose of this lab is for you to learn how to answer research questions by experimenting and then writing a scientific report.\n",
        "So you will be *judged by the quality of your report* but will lose points if your experiments are not reproducible.\n",
        "You can find the requirements for the report at the end of this notebook.\n",
        "\n",
        "\n",
        "### Data set\n",
        "We will use the [Stanford Sentiment Treebank](https://nlp.stanford.edu/sentiment/) (SST), which provides sentences, their binary tree structure, and fine-grained sentiment scores.\n",
        "This dataset is different from the one we used in the first practical. \n",
        "In Practical 1, a review consisted of several sentences, and we had one sentiment score for the whole review. Now, a review consists of a single sentence, and we have a sentiment score for each node in the binary tree that makes up the sentence, including the root node (i.e., we still have an overall sentiment score for the entire review). We will look at an example below.\n",
        "\n",
        "In the first part of this practical we will only make use of the sentence tokens whereas in the second part we will also exploit the tree structure that is provided by the SST.\n",
        "\n",
        "We will cover the following approaches:\n",
        "\n",
        "- Bag-of-words (BOW)\n",
        "- Continuous bag-of-words (CBOW)\n",
        "- Deep continuous bag-of-words (Deep CBOW)\n",
        "- LSTM\n",
        "- Tree-LSTM\n"
      ]
    },
    {
      "cell_type": "markdown",
      "metadata": {
        "id": "YbNKef3lymaj"
      },
      "source": [
        "## Preparing the data"
      ]
    },
    {
      "cell_type": "markdown",
      "metadata": {
        "id": "9jxTkpg59FlU"
      },
      "source": [
        "Let's first download the data set and take a look."
      ]
    },
    {
      "cell_type": "code",
      "metadata": {
        "id": "WZp53HmMP3F2"
      },
      "source": [
        "import re\n",
        "import random\n",
        "import time\n",
        "import math\n",
        "import numpy as np\n",
        "import nltk\n",
        "import matplotlib.pyplot as plt\n",
        "plt.style.use('default')"
      ],
      "execution_count": 1,
      "outputs": []
    },
    {
      "cell_type": "code",
      "source": [
        "seed = 42\n",
        "np.random.seed(seed)"
      ],
      "metadata": {
        "id": "9BLlj-VtO_nh"
      },
      "execution_count": 2,
      "outputs": []
    },
    {
      "cell_type": "code",
      "metadata": {
        "id": "TovFkDTgE_d6",
        "colab": {
          "base_uri": "https://localhost:8080/"
        },
        "outputId": "768f6d00-1fed-4509-ee2a-310e478434fb"
      },
      "source": [
        "!wget http://nlp.stanford.edu/sentiment/trainDevTestTrees_PTB.zip\n",
        "!unzip trainDevTestTrees_PTB.zip"
      ],
      "execution_count": 3,
      "outputs": [
        {
          "output_type": "stream",
          "name": "stdout",
          "text": [
            "--2022-12-10 14:09:07--  http://nlp.stanford.edu/sentiment/trainDevTestTrees_PTB.zip\n",
            "Resolving nlp.stanford.edu (nlp.stanford.edu)... 171.64.67.140\n",
            "Connecting to nlp.stanford.edu (nlp.stanford.edu)|171.64.67.140|:80... connected.\n",
            "HTTP request sent, awaiting response... 302 Found\n",
            "Location: https://nlp.stanford.edu/sentiment/trainDevTestTrees_PTB.zip [following]\n",
            "--2022-12-10 14:09:07--  https://nlp.stanford.edu/sentiment/trainDevTestTrees_PTB.zip\n",
            "Connecting to nlp.stanford.edu (nlp.stanford.edu)|171.64.67.140|:443... connected.\n",
            "HTTP request sent, awaiting response... 200 OK\n",
            "Length: 789539 (771K) [application/zip]\n",
            "Saving to: ‘trainDevTestTrees_PTB.zip.2’\n",
            "\n",
            "trainDevTestTrees_P 100%[===================>] 771.03K  1.46MB/s    in 0.5s    \n",
            "\n",
            "2022-12-10 14:09:08 (1.46 MB/s) - ‘trainDevTestTrees_PTB.zip.2’ saved [789539/789539]\n",
            "\n",
            "Archive:  trainDevTestTrees_PTB.zip\n",
            "replace trees/dev.txt? [y]es, [n]o, [A]ll, [N]one, [r]ename: N\n"
          ]
        }
      ]
    },
    {
      "cell_type": "code",
      "metadata": {
        "id": "0IpAphkBO5eW"
      },
      "source": [
        "# this function reads in a textfile and fixes an issue with \"\\\\\"\n",
        "def filereader(path): \n",
        "  with open(path, mode=\"r\", encoding=\"utf-8\") as f:\n",
        "    for line in f:\n",
        "      yield line.strip().replace(\"\\\\\",\"\")"
      ],
      "execution_count": 4,
      "outputs": []
    },
    {
      "cell_type": "markdown",
      "metadata": {
        "id": "yP_jpquiprH8"
      },
      "source": [
        "Let's look at a data point. It is a **flattened binary tree**, with sentiment scores at every node, and words as the leaves (or *terminal nodes*)."
      ]
    },
    {
      "cell_type": "code",
      "metadata": {
        "id": "ylkIopm0QJML",
        "colab": {
          "base_uri": "https://localhost:8080/"
        },
        "outputId": "15988fdf-6a29-4f2a-b698-cd72e1311612"
      },
      "source": [
        "s = next(filereader(\"trees/dev.txt\"))\n",
        "print(s)"
      ],
      "execution_count": 5,
      "outputs": [
        {
          "output_type": "stream",
          "name": "stdout",
          "text": [
            "(3 (2 It) (4 (4 (2 's) (4 (3 (2 a) (4 (3 lovely) (2 film))) (3 (2 with) (4 (3 (3 lovely) (2 performances)) (2 (2 by) (2 (2 (2 Buy) (2 and)) (2 Accorsi))))))) (2 .)))\n"
          ]
        }
      ]
    },
    {
      "cell_type": "code",
      "metadata": {
        "id": "7_U7HTFwdrWt",
        "colab": {
          "base_uri": "https://localhost:8080/"
        },
        "outputId": "50d3cc3a-1ecc-48c2-ece7-1aa969e16878"
      },
      "source": [
        "# We can use NLTK to better visualise the tree structure of the sentence\n",
        "from nltk import Tree\n",
        "from nltk.tree import TreePrettyPrinter\n",
        "tree = Tree.fromstring(s)\n",
        "print(TreePrettyPrinter(tree))\n",
        "\n",
        "print(tree.treepositions())\n",
        "\n",
        "def get_subtrees(tree, min_height = 0):\n",
        "  subtrees = [tree]\n",
        "  tree_positions = tree.treepositions()[1:]\n",
        "\n",
        "  for positions in tree_positions:    \n",
        "    root = positions[:-1]\n",
        "    label = tree[root].label()\n",
        "    subtree = Tree(label, [ tree[positions] ])\n",
        "    if(subtree.height() >= min_height and len(subtree.leaves()) >= 2):\n",
        "      subtrees.append(subtree)\n",
        "  return subtrees\n",
        "    \n",
        "print(\"Subtrees:\")\n",
        "for subtree in get_subtrees(tree, 3):\n",
        "  print(TreePrettyPrinter(subtree))\n",
        "\n"
      ],
      "execution_count": 6,
      "outputs": [
        {
          "output_type": "stream",
          "name": "stdout",
          "text": [
            "              3                                                                     \n",
            "  ____________|____________________                                                  \n",
            " |                                 4                                                \n",
            " |        _________________________|______________________________________________   \n",
            " |       4                                                                        | \n",
            " |    ___|______________                                                          |  \n",
            " |   |                  4                                                         | \n",
            " |   |         _________|__________                                               |  \n",
            " |   |        |                    3                                              | \n",
            " |   |        |               _____|______________________                        |  \n",
            " |   |        |              |                            4                       | \n",
            " |   |        |              |            ________________|_______                |  \n",
            " |   |        |              |           |                        2               | \n",
            " |   |        |              |           |                 _______|___            |  \n",
            " |   |        3              |           |                |           2           | \n",
            " |   |    ____|_____         |           |                |        ___|_____      |  \n",
            " |   |   |          4        |           3                |       2         |     | \n",
            " |   |   |     _____|___     |      _____|_______         |    ___|___      |     |  \n",
            " 2   2   2    3         2    2     3             2        2   2       2     2     2 \n",
            " |   |   |    |         |    |     |             |        |   |       |     |     |  \n",
            " It  's  a  lovely     film with lovely     performances  by Buy     and Accorsi  . \n",
            "\n",
            "[(), (0,), (0, 0), (1,), (1, 0), (1, 0, 0), (1, 0, 0, 0), (1, 0, 1), (1, 0, 1, 0), (1, 0, 1, 0, 0), (1, 0, 1, 0, 0, 0), (1, 0, 1, 0, 1), (1, 0, 1, 0, 1, 0), (1, 0, 1, 0, 1, 0, 0), (1, 0, 1, 0, 1, 1), (1, 0, 1, 0, 1, 1, 0), (1, 0, 1, 1), (1, 0, 1, 1, 0), (1, 0, 1, 1, 0, 0), (1, 0, 1, 1, 1), (1, 0, 1, 1, 1, 0), (1, 0, 1, 1, 1, 0, 0), (1, 0, 1, 1, 1, 0, 0, 0), (1, 0, 1, 1, 1, 0, 1), (1, 0, 1, 1, 1, 0, 1, 0), (1, 0, 1, 1, 1, 1), (1, 0, 1, 1, 1, 1, 0), (1, 0, 1, 1, 1, 1, 0, 0), (1, 0, 1, 1, 1, 1, 1), (1, 0, 1, 1, 1, 1, 1, 0), (1, 0, 1, 1, 1, 1, 1, 0, 0), (1, 0, 1, 1, 1, 1, 1, 0, 0, 0), (1, 0, 1, 1, 1, 1, 1, 0, 1), (1, 0, 1, 1, 1, 1, 1, 0, 1, 0), (1, 0, 1, 1, 1, 1, 1, 1), (1, 0, 1, 1, 1, 1, 1, 1, 0), (1, 1), (1, 1, 0)]\n",
            "Subtrees:\n",
            "              3                                                                     \n",
            "  ____________|____________________                                                  \n",
            " |                                 4                                                \n",
            " |        _________________________|______________________________________________   \n",
            " |       4                                                                        | \n",
            " |    ___|______________                                                          |  \n",
            " |   |                  4                                                         | \n",
            " |   |         _________|__________                                               |  \n",
            " |   |        |                    3                                              | \n",
            " |   |        |               _____|______________________                        |  \n",
            " |   |        |              |                            4                       | \n",
            " |   |        |              |            ________________|_______                |  \n",
            " |   |        |              |           |                        2               | \n",
            " |   |        |              |           |                 _______|___            |  \n",
            " |   |        3              |           |                |           2           | \n",
            " |   |    ____|_____         |           |                |        ___|_____      |  \n",
            " |   |   |          4        |           3                |       2         |     | \n",
            " |   |   |     _____|___     |      _____|_______         |    ___|___      |     |  \n",
            " 2   2   2    3         2    2     3             2        2   2       2     2     2 \n",
            " |   |   |    |         |    |     |             |        |   |       |     |     |  \n",
            " It  's  a  lovely     film with lovely     performances  by Buy     and Accorsi  . \n",
            "\n",
            "                               3                                                \n",
            "                               |                                                 \n",
            "                               4                                                \n",
            "      _________________________|______________________________________________   \n",
            "     4                                                                        | \n",
            "  ___|______________                                                          |  \n",
            " |                  4                                                         | \n",
            " |         _________|__________                                               |  \n",
            " |        |                    3                                              | \n",
            " |        |               _____|______________________                        |  \n",
            " |        |              |                            4                       | \n",
            " |        |              |            ________________|_______                |  \n",
            " |        |              |           |                        2               | \n",
            " |        |              |           |                 _______|___            |  \n",
            " |        3              |           |                |           2           | \n",
            " |    ____|_____         |           |                |        ___|_____      |  \n",
            " |   |          4        |           3                |       2         |     | \n",
            " |   |     _____|___     |      _____|_______         |    ___|___      |     |  \n",
            " 2   2    3         2    2     3             2        2   2       2     2     2 \n",
            " |   |    |         |    |     |             |        |   |       |     |     |  \n",
            " 's  a  lovely     film with lovely     performances  by Buy     and Accorsi  . \n",
            "\n",
            "     4                                                                      \n",
            "     |                                                                       \n",
            "     4                                                                      \n",
            "  ___|______________                                                         \n",
            " |                  4                                                       \n",
            " |         _________|__________                                              \n",
            " |        |                    3                                            \n",
            " |        |               _____|______________________                       \n",
            " |        |              |                            4                     \n",
            " |        |              |            ________________|_______               \n",
            " |        |              |           |                        2             \n",
            " |        |              |           |                 _______|___           \n",
            " |        3              |           |                |           2         \n",
            " |    ____|_____         |           |                |        ___|_____     \n",
            " |   |          4        |           3                |       2         |   \n",
            " |   |     _____|___     |      _____|_______         |    ___|___      |    \n",
            " 2   2    3         2    2     3             2        2   2       2     2   \n",
            " |   |    |         |    |     |             |        |   |       |     |    \n",
            " 's  a  lovely     film with lovely     performances  by Buy     and Accorsi\n",
            "\n",
            "                4                                                       \n",
            "                |                                                        \n",
            "                4                                                       \n",
            "       _________|__________                                              \n",
            "      |                    3                                            \n",
            "      |               _____|______________________                       \n",
            "      |              |                            4                     \n",
            "      |              |            ________________|_______               \n",
            "      |              |           |                        2             \n",
            "      |              |           |                 _______|___           \n",
            "      3              |           |                |           2         \n",
            "  ____|_____         |           |                |        ___|_____     \n",
            " |          4        |           3                |       2         |   \n",
            " |     _____|___     |      _____|_______         |    ___|___      |    \n",
            " 2    3         2    2     3             2        2   2       2     2   \n",
            " |    |         |    |     |             |        |   |       |     |    \n",
            " a  lovely     film with lovely     performances  by Buy     and Accorsi\n",
            "\n",
            "      4            \n",
            "      |             \n",
            "      3            \n",
            "  ____|_____        \n",
            " |          4      \n",
            " |     _____|___    \n",
            " 2    3         2  \n",
            " |    |         |   \n",
            " a  lovely     film\n",
            "\n",
            "        3      \n",
            "        |       \n",
            "        4      \n",
            "   _____|___    \n",
            "  3         2  \n",
            "  |         |   \n",
            "lovely     film\n",
            "\n",
            "       4                                            \n",
            "       |                                             \n",
            "       3                                            \n",
            "  _____|______________________                       \n",
            " |                            4                     \n",
            " |            ________________|_______               \n",
            " |           |                        2             \n",
            " |           |                 _______|___           \n",
            " |           |                |           2         \n",
            " |           |                |        ___|_____     \n",
            " |           3                |       2         |   \n",
            " |      _____|_______         |    ___|___      |    \n",
            " 2     3             2        2   2       2     2   \n",
            " |     |             |        |   |       |     |    \n",
            "with lovely     performances  by Buy     and Accorsi\n",
            "\n",
            "                         3                     \n",
            "                         |                      \n",
            "                         4                     \n",
            "         ________________|_______               \n",
            "        |                        2             \n",
            "        |                 _______|___           \n",
            "        |                |           2         \n",
            "        |                |        ___|_____     \n",
            "        3                |       2         |   \n",
            "   _____|_______         |    ___|___      |    \n",
            "  3             2        2   2       2     2   \n",
            "  |             |        |   |       |     |    \n",
            "lovely     performances  by Buy     and Accorsi\n",
            "\n",
            "        4              \n",
            "        |               \n",
            "        3              \n",
            "   _____|_______        \n",
            "  3             2      \n",
            "  |             |       \n",
            "lovely     performances\n",
            "\n",
            "         4             \n",
            "         |              \n",
            "         2             \n",
            "  _______|___           \n",
            " |           2         \n",
            " |        ___|_____     \n",
            " |       2         |   \n",
            " |    ___|___      |    \n",
            " 2   2       2     2   \n",
            " |   |       |     |    \n",
            " by Buy     and Accorsi\n",
            "\n",
            "         2         \n",
            "         |          \n",
            "         2         \n",
            "      ___|_____     \n",
            "     2         |   \n",
            "  ___|___      |    \n",
            " 2       2     2   \n",
            " |       |     |    \n",
            "Buy     and Accorsi\n",
            "\n",
            "     2     \n",
            "     |      \n",
            "     2     \n",
            "  ___|___   \n",
            " 2       2 \n",
            " |       |  \n",
            "Buy     and\n",
            "\n"
          ]
        }
      ]
    },
    {
      "cell_type": "markdown",
      "metadata": {
        "id": "ekAWKsji9t93"
      },
      "source": [
        "The sentiment scores range from 0 (very negative) to 5 (very positive). Again, as you can see, every node in the tree is labeled with a sentiment score. For now, we will only use the score at the **root node**, i.e., the sentiment score for the complete sentence."
      ]
    },
    {
      "cell_type": "code",
      "metadata": {
        "id": "DKynLm0xPKr2",
        "colab": {
          "base_uri": "https://localhost:8080/"
        },
        "outputId": "dd2469ea-1dc9-4c97-fd8c-d49f89500a12"
      },
      "source": [
        "# Let's first make a function that extracts the tokens (the leaves).\n",
        "\n",
        "def tokens_from_treestring(s):\n",
        "  \"\"\"extract the tokens from a sentiment tree\"\"\"\n",
        "  return re.sub(r\"\\([0-9] |\\)\", \"\", s).split()\n",
        " \n",
        "# let's try it on our example tree\n",
        "tokens = tokens_from_treestring(s)\n",
        "print(tokens)\n",
        "print(len(tokens))\n",
        "\n",
        "for st in get_subtrees(Tree.fromstring(s), min_height = 3):\n",
        "  print(TreePrettyPrinter(st))\n",
        "  st_str = re.sub('\\s+',' ',str(st))\n",
        "  tokens = tokens_from_treestring(st_str)\n",
        "  "
      ],
      "execution_count": 7,
      "outputs": [
        {
          "output_type": "stream",
          "name": "stdout",
          "text": [
            "['It', \"'s\", 'a', 'lovely', 'film', 'with', 'lovely', 'performances', 'by', 'Buy', 'and', 'Accorsi', '.']\n",
            "13\n",
            "              3                                                                     \n",
            "  ____________|____________________                                                  \n",
            " |                                 4                                                \n",
            " |        _________________________|______________________________________________   \n",
            " |       4                                                                        | \n",
            " |    ___|______________                                                          |  \n",
            " |   |                  4                                                         | \n",
            " |   |         _________|__________                                               |  \n",
            " |   |        |                    3                                              | \n",
            " |   |        |               _____|______________________                        |  \n",
            " |   |        |              |                            4                       | \n",
            " |   |        |              |            ________________|_______                |  \n",
            " |   |        |              |           |                        2               | \n",
            " |   |        |              |           |                 _______|___            |  \n",
            " |   |        3              |           |                |           2           | \n",
            " |   |    ____|_____         |           |                |        ___|_____      |  \n",
            " |   |   |          4        |           3                |       2         |     | \n",
            " |   |   |     _____|___     |      _____|_______         |    ___|___      |     |  \n",
            " 2   2   2    3         2    2     3             2        2   2       2     2     2 \n",
            " |   |   |    |         |    |     |             |        |   |       |     |     |  \n",
            " It  's  a  lovely     film with lovely     performances  by Buy     and Accorsi  . \n",
            "\n",
            "                               3                                                \n",
            "                               |                                                 \n",
            "                               4                                                \n",
            "      _________________________|______________________________________________   \n",
            "     4                                                                        | \n",
            "  ___|______________                                                          |  \n",
            " |                  4                                                         | \n",
            " |         _________|__________                                               |  \n",
            " |        |                    3                                              | \n",
            " |        |               _____|______________________                        |  \n",
            " |        |              |                            4                       | \n",
            " |        |              |            ________________|_______                |  \n",
            " |        |              |           |                        2               | \n",
            " |        |              |           |                 _______|___            |  \n",
            " |        3              |           |                |           2           | \n",
            " |    ____|_____         |           |                |        ___|_____      |  \n",
            " |   |          4        |           3                |       2         |     | \n",
            " |   |     _____|___     |      _____|_______         |    ___|___      |     |  \n",
            " 2   2    3         2    2     3             2        2   2       2     2     2 \n",
            " |   |    |         |    |     |             |        |   |       |     |     |  \n",
            " 's  a  lovely     film with lovely     performances  by Buy     and Accorsi  . \n",
            "\n",
            "     4                                                                      \n",
            "     |                                                                       \n",
            "     4                                                                      \n",
            "  ___|______________                                                         \n",
            " |                  4                                                       \n",
            " |         _________|__________                                              \n",
            " |        |                    3                                            \n",
            " |        |               _____|______________________                       \n",
            " |        |              |                            4                     \n",
            " |        |              |            ________________|_______               \n",
            " |        |              |           |                        2             \n",
            " |        |              |           |                 _______|___           \n",
            " |        3              |           |                |           2         \n",
            " |    ____|_____         |           |                |        ___|_____     \n",
            " |   |          4        |           3                |       2         |   \n",
            " |   |     _____|___     |      _____|_______         |    ___|___      |    \n",
            " 2   2    3         2    2     3             2        2   2       2     2   \n",
            " |   |    |         |    |     |             |        |   |       |     |    \n",
            " 's  a  lovely     film with lovely     performances  by Buy     and Accorsi\n",
            "\n",
            "                4                                                       \n",
            "                |                                                        \n",
            "                4                                                       \n",
            "       _________|__________                                              \n",
            "      |                    3                                            \n",
            "      |               _____|______________________                       \n",
            "      |              |                            4                     \n",
            "      |              |            ________________|_______               \n",
            "      |              |           |                        2             \n",
            "      |              |           |                 _______|___           \n",
            "      3              |           |                |           2         \n",
            "  ____|_____         |           |                |        ___|_____     \n",
            " |          4        |           3                |       2         |   \n",
            " |     _____|___     |      _____|_______         |    ___|___      |    \n",
            " 2    3         2    2     3             2        2   2       2     2   \n",
            " |    |         |    |     |             |        |   |       |     |    \n",
            " a  lovely     film with lovely     performances  by Buy     and Accorsi\n",
            "\n",
            "      4            \n",
            "      |             \n",
            "      3            \n",
            "  ____|_____        \n",
            " |          4      \n",
            " |     _____|___    \n",
            " 2    3         2  \n",
            " |    |         |   \n",
            " a  lovely     film\n",
            "\n",
            "        3      \n",
            "        |       \n",
            "        4      \n",
            "   _____|___    \n",
            "  3         2  \n",
            "  |         |   \n",
            "lovely     film\n",
            "\n",
            "       4                                            \n",
            "       |                                             \n",
            "       3                                            \n",
            "  _____|______________________                       \n",
            " |                            4                     \n",
            " |            ________________|_______               \n",
            " |           |                        2             \n",
            " |           |                 _______|___           \n",
            " |           |                |           2         \n",
            " |           |                |        ___|_____     \n",
            " |           3                |       2         |   \n",
            " |      _____|_______         |    ___|___      |    \n",
            " 2     3             2        2   2       2     2   \n",
            " |     |             |        |   |       |     |    \n",
            "with lovely     performances  by Buy     and Accorsi\n",
            "\n",
            "                         3                     \n",
            "                         |                      \n",
            "                         4                     \n",
            "         ________________|_______               \n",
            "        |                        2             \n",
            "        |                 _______|___           \n",
            "        |                |           2         \n",
            "        |                |        ___|_____     \n",
            "        3                |       2         |   \n",
            "   _____|_______         |    ___|___      |    \n",
            "  3             2        2   2       2     2   \n",
            "  |             |        |   |       |     |    \n",
            "lovely     performances  by Buy     and Accorsi\n",
            "\n",
            "        4              \n",
            "        |               \n",
            "        3              \n",
            "   _____|_______        \n",
            "  3             2      \n",
            "  |             |       \n",
            "lovely     performances\n",
            "\n",
            "         4             \n",
            "         |              \n",
            "         2             \n",
            "  _______|___           \n",
            " |           2         \n",
            " |        ___|_____     \n",
            " |       2         |   \n",
            " |    ___|___      |    \n",
            " 2   2       2     2   \n",
            " |   |       |     |    \n",
            " by Buy     and Accorsi\n",
            "\n",
            "         2         \n",
            "         |          \n",
            "         2         \n",
            "      ___|_____     \n",
            "     2         |   \n",
            "  ___|___      |    \n",
            " 2       2     2   \n",
            " |       |     |    \n",
            "Buy     and Accorsi\n",
            "\n",
            "     2     \n",
            "     |      \n",
            "     2     \n",
            "  ___|___   \n",
            " 2       2 \n",
            " |       |  \n",
            "Buy     and\n",
            "\n"
          ]
        }
      ]
    },
    {
      "cell_type": "markdown",
      "metadata": {
        "id": "B8vFkeqN-NLP"
      },
      "source": [
        "> *Warning: you could also parse a treestring using NLTK and ask it to return the leaves, but there seems to be an issue with NLTK not always correctly parsing the input, so do not rely on it.*"
      ]
    },
    {
      "cell_type": "code",
      "metadata": {
        "id": "Akr9K_Mv4dym"
      },
      "source": [
        "# We will also need the following function, but you can ignore this for now.\n",
        "# It is explained later on.\n",
        "\n",
        "SHIFT = 0\n",
        "REDUCE = 1\n",
        "\n",
        "\n",
        "def transitions_from_treestring(s):\n",
        "  s = re.sub(\"\\([0-5] ([^)]+)\\)\", \"0\", s)\n",
        "  s = re.sub(\"\\)\", \" )\", s)\n",
        "  s = re.sub(\"\\([0-4] \", \"\", s)\n",
        "  s = re.sub(\"\\([0-4] \", \"\", s)\n",
        "  s = re.sub(\"\\)\", \"1\", s)\n",
        "  return list(map(int, s.split()))"
      ],
      "execution_count": 8,
      "outputs": []
    },
    {
      "cell_type": "code",
      "metadata": {
        "id": "mNtPdlwPgRat",
        "colab": {
          "base_uri": "https://localhost:8080/"
        },
        "outputId": "3c82c97a-645c-49db-c5af-cdd883eee1a0"
      },
      "source": [
        "# Now let's first see how large our data sets are.\n",
        "for path in (\"trees/train.txt\", \"trees/dev.txt\", \"trees/test.txt\"):\n",
        "  print(\"{:16s} {:4d}\".format(path, sum(1 for _ in filereader(path))))"
      ],
      "execution_count": 9,
      "outputs": [
        {
          "output_type": "stream",
          "name": "stdout",
          "text": [
            "trees/train.txt  8544\n",
            "trees/dev.txt    1101\n",
            "trees/test.txt   2210\n"
          ]
        }
      ]
    },
    {
      "cell_type": "markdown",
      "metadata": {
        "id": "HexlSqTR_UrY"
      },
      "source": [
        "You can see that the number of sentences is not very large. That's probably because the data set required so much manual annotation. However, it is large enough to train a neural network on."
      ]
    },
    {
      "cell_type": "markdown",
      "metadata": {
        "id": "IfRjelOcsXuC"
      },
      "source": [
        "It will be useful to store each data example in an `Example` object,\n",
        "containing everything that we may need for each data point.\n",
        "It will contain the tokens, the tree, the top-level sentiment label, and \n",
        "the transitions (explained later)."
      ]
    },
    {
      "cell_type": "code",
      "metadata": {
        "id": "4I07Hb_-q8wg",
        "colab": {
          "base_uri": "https://localhost:8080/"
        },
        "outputId": "3bb8a59b-cb70-4644-d663-70c2041121b8"
      },
      "source": [
        "from collections import namedtuple\n",
        "from nltk import Tree\n",
        "\n",
        "# A simple way to define a class is using namedtuple.\n",
        "Example = namedtuple(\"Example\", [\"tokens\", \"tree\", \"label\", \"transitions\"])\n",
        "\n",
        "   \n",
        "   \n",
        "def examplereader(path, lower=False, use_subtrees = False, min_height = 0):\n",
        "  \"\"\"Returns all examples in a file one by one.\"\"\"\n",
        "  for line in filereader(path):\n",
        "    line = line.lower() if lower else line\n",
        "    if use_subtrees:\n",
        "      for st in get_subtrees(Tree.fromstring(line), min_height = min_height):\n",
        "        subtree_string = re.sub('\\s+',' ',str(st))\n",
        "        tokens = tokens_from_treestring(line)\n",
        "        tree = st\n",
        "        label = int(subtree_string[1])\n",
        "        trans = transitions_from_treestring(subtree_string)\n",
        "        yield Example(tokens=tokens, tree=tree, label=label, transitions=trans)\n",
        "    else:\n",
        "      tokens = tokens_from_treestring(line)\n",
        "      tree = Tree.fromstring(line)  # use NLTK's Tree\n",
        "      label = int(line[1])\n",
        "      trans = transitions_from_treestring(line)\n",
        "      yield Example(tokens=tokens, tree=tree, label=label, transitions=trans)\n",
        "  \n",
        "\n",
        "# Let's load the data into memory.\n",
        "LOWER = False  # we will keep the original casing\n",
        "train_data = list(examplereader(\"trees/train.txt\", lower=LOWER))\n",
        "dev_data = list(examplereader(\"trees/dev.txt\", lower=LOWER))\n",
        "test_data = list(examplereader(\"trees/test.txt\", lower=LOWER))\n",
        "\n",
        "print(\"train\", len(train_data))\n",
        "print(\"dev\", len(dev_data))\n",
        "print(\"test\", len(test_data))"
      ],
      "execution_count": 10,
      "outputs": [
        {
          "output_type": "stream",
          "name": "stdout",
          "text": [
            "train 8544\n",
            "dev 1101\n",
            "test 2210\n"
          ]
        }
      ]
    },
    {
      "cell_type": "code",
      "source": [
        "def get_big_length_rev(path, lower=False):\n",
        "  \"\"\"Returns all examples in a file one by one.\"\"\"\n",
        "  for line in filereader(path):\n",
        "    line = line.lower() if lower else line\n",
        "    tokens = tokens_from_treestring(line)\n",
        "    sentence_length = len(tokens)\n",
        "    if sentence_length <= 19:\n",
        "      continue\n",
        "    tree = Tree.fromstring(line)  # use NLTK's Tree\n",
        "    label = int(line[1])\n",
        "    trans = transitions_from_treestring(line)\n",
        "    yield Example(tokens=tokens, tree=tree, label=label, transitions=trans)\n",
        "\n",
        "def get_small_length_rev(path, lower=False):\n",
        "  \"\"\"Returns all examples in a file one by one.\"\"\"\n",
        "  for line in filereader(path):\n",
        "    line = line.lower() if lower else line\n",
        "    tokens = tokens_from_treestring(line)\n",
        "    sentence_length = len(tokens)\n",
        "    if sentence_length > 19:\n",
        "      continue \n",
        "    tree = Tree.fromstring(line)  # use NLTK's Tree\n",
        "    label = int(line[1])\n",
        "    trans = transitions_from_treestring(line)\n",
        "    yield Example(tokens=tokens, tree=tree, label=label, transitions=trans)"
      ],
      "metadata": {
        "id": "BRI36TVatzfO"
      },
      "execution_count": 11,
      "outputs": []
    },
    {
      "cell_type": "code",
      "source": [
        "test_data_big = list(get_big_length_rev(\"trees/test.txt\", lower=LOWER))\n",
        "test_data_small = test_data = list(get_small_length_rev(\"trees/test.txt\", lower=LOWER))\n",
        "\n",
        "print(\"test\", len(test_data_big))\n",
        "print(\"test\", len(test_data_small))"
      ],
      "metadata": {
        "id": "sjI_jKEjt0Q-",
        "colab": {
          "base_uri": "https://localhost:8080/"
        },
        "outputId": "63e6774d-c22d-4690-dbe7-6346685cfc9e"
      },
      "execution_count": 12,
      "outputs": [
        {
          "output_type": "stream",
          "name": "stdout",
          "text": [
            "test 1013\n",
            "test 1197\n"
          ]
        }
      ]
    },
    {
      "cell_type": "markdown",
      "metadata": {
        "id": "6KM0bDyeVZtP"
      },
      "source": [
        "Let's check out an `Example` object."
      ]
    },
    {
      "cell_type": "code",
      "metadata": {
        "id": "J8mwcaZwxP1c",
        "colab": {
          "base_uri": "https://localhost:8080/"
        },
        "outputId": "69a9ad71-7792-4f22-f1a0-05237bedcb3b"
      },
      "source": [
        "example = dev_data[0]\n",
        "print(\"First example:\", example)\n",
        "print(\"First example tokens:\", example.tokens)\n",
        "print(\"First example label:\",  example.label)"
      ],
      "execution_count": 13,
      "outputs": [
        {
          "output_type": "stream",
          "name": "stdout",
          "text": [
            "First example: Example(tokens=['It', \"'s\", 'a', 'lovely', 'film', 'with', 'lovely', 'performances', 'by', 'Buy', 'and', 'Accorsi', '.'], tree=Tree('3', [Tree('2', ['It']), Tree('4', [Tree('4', [Tree('2', [\"'s\"]), Tree('4', [Tree('3', [Tree('2', ['a']), Tree('4', [Tree('3', ['lovely']), Tree('2', ['film'])])]), Tree('3', [Tree('2', ['with']), Tree('4', [Tree('3', [Tree('3', ['lovely']), Tree('2', ['performances'])]), Tree('2', [Tree('2', ['by']), Tree('2', [Tree('2', [Tree('2', ['Buy']), Tree('2', ['and'])]), Tree('2', ['Accorsi'])])])])])])]), Tree('2', ['.'])])]), label=3, transitions=[0, 0, 0, 0, 0, 1, 1, 0, 0, 0, 1, 0, 0, 0, 1, 0, 1, 1, 1, 1, 1, 1, 0, 1, 1])\n",
            "First example tokens: ['It', \"'s\", 'a', 'lovely', 'film', 'with', 'lovely', 'performances', 'by', 'Buy', 'and', 'Accorsi', '.']\n",
            "First example label: 3\n"
          ]
        }
      ]
    },
    {
      "cell_type": "markdown",
      "metadata": {
        "id": "-WDSprDBVcr-"
      },
      "source": [
        "#### Vocabulary \n",
        "A first step in most NLP tasks is collecting all the word types that appear in the data into a vocabulary, and counting the frequency of their occurrences. On the one hand, this will give us an overview of the word distribution of the data set (what are the most frequent words, how many rare words are there, ...). On the other hand, we will also use the vocabulary to map each word to a unique numeric ID, which is a more handy index than a string."
      ]
    },
    {
      "cell_type": "code",
      "metadata": {
        "id": "VvNgKx7usRSt"
      },
      "source": [
        "# Here we first define a class that can map a word to an ID (w2i)\n",
        "# and back (i2w).\n",
        "\n",
        "from collections import Counter, OrderedDict, defaultdict\n",
        "\n",
        "\n",
        "class OrderedCounter(Counter, OrderedDict):\n",
        "  \"\"\"Counter that remembers the order elements are first seen\"\"\"\n",
        "  def __repr__(self):\n",
        "    return '%s(%r)' % (self.__class__.__name__,\n",
        "                      OrderedDict(self))\n",
        "  def __reduce__(self):\n",
        "    return self.__class__, (OrderedDict(self),)\n",
        "\n",
        "\n",
        "class Vocabulary:\n",
        "  \"\"\"A vocabulary, assigns IDs to tokens\"\"\"\n",
        "  \n",
        "  def __init__(self):\n",
        "    self.freqs = OrderedCounter()\n",
        "    self.w2i = {}\n",
        "    self.i2w = []\n",
        "\n",
        "  def count_token(self, t):\n",
        "    self.freqs[t] += 1\n",
        "    \n",
        "  def add_token(self, t):\n",
        "    self.w2i[t] = len(self.w2i)\n",
        "    self.i2w.append(t)    \n",
        "    \n",
        "  def build(self, min_freq=0):\n",
        "    '''\n",
        "    min_freq: minimum number of occurrences for a word to be included  \n",
        "              in the vocabulary\n",
        "    '''\n",
        "    self.add_token(\"<unk>\")  # reserve 0 for <unk> (unknown words)\n",
        "    self.add_token(\"<pad>\")  # reserve 1 for <pad> (discussed later)   \n",
        "    \n",
        "    tok_freq = list(self.freqs.items())\n",
        "    tok_freq.sort(key=lambda x: x[1], reverse=True)\n",
        "    for tok, freq in tok_freq:\n",
        "      if freq >= min_freq:\n",
        "        self.add_token(tok)"
      ],
      "execution_count": 14,
      "outputs": []
    },
    {
      "cell_type": "markdown",
      "metadata": {
        "id": "kOvkH_llVsoW"
      },
      "source": [
        "The vocabulary has by default an `<unk>` token and a `<pad>` token. The `<unk>` token is reserved for all words which do not appear in the training data (and for which, therefore, we cannot learn word representations). The function of the `<pad>` token will be explained later.\n",
        "\n",
        "\n",
        "Let's build the vocabulary!\n"
      ]
    },
    {
      "cell_type": "code",
      "metadata": {
        "id": "GwGQgQQBNUSq",
        "colab": {
          "base_uri": "https://localhost:8080/"
        },
        "outputId": "acd10e46-aae8-4bc3-f376-c96f0c968c7b"
      },
      "source": [
        "# This process should be deterministic and should have the same result \n",
        "# if run multiple times on the same data set.\n",
        "\n",
        "v = Vocabulary()\n",
        "for data_set in (train_data,):\n",
        "  for ex in data_set:\n",
        "    for token in ex.tokens:\n",
        "      v.count_token(token)\n",
        "\n",
        "v.build()\n",
        "print(\"Vocabulary size:\", len(v.w2i))"
      ],
      "execution_count": 15,
      "outputs": [
        {
          "output_type": "stream",
          "name": "stdout",
          "text": [
            "Vocabulary size: 18280\n"
          ]
        }
      ]
    },
    {
      "cell_type": "markdown",
      "metadata": {
        "id": "-UNIedPrPdCw"
      },
      "source": [
        "Let's have a closer look at the properties of our vocabulary. Having a good idea of what it is like can facilitate data analysis and debugging later on."
      ]
    },
    {
      "cell_type": "code",
      "metadata": {
        "id": "oJyuogmh0CA7",
        "colab": {
          "base_uri": "https://localhost:8080/"
        },
        "outputId": "91b5ae21-f094-4b51-e359-6dbe799977bf"
      },
      "source": [
        "# What is the ID for \"century?\"\n",
        "v.w2i[\"century\"]"
      ],
      "execution_count": 16,
      "outputs": [
        {
          "output_type": "execute_result",
          "data": {
            "text/plain": [
              "1973"
            ]
          },
          "metadata": {},
          "execution_count": 16
        }
      ]
    },
    {
      "cell_type": "code",
      "metadata": {
        "id": "O8OkPQ8Zv-rI",
        "colab": {
          "base_uri": "https://localhost:8080/"
        },
        "outputId": "55fb5099-d9fc-4231-b0e0-099f4ac19a39"
      },
      "source": [
        "# What are the first 10 words in the vocabulary (based on their IDs)?\n",
        "[v.i2w[idx] for idx in range(10)]"
      ],
      "execution_count": 17,
      "outputs": [
        {
          "output_type": "execute_result",
          "data": {
            "text/plain": [
              "['<unk>', '<pad>', '.', ',', 'the', 'and', 'a', 'of', 'to', \"'s\"]"
            ]
          },
          "metadata": {},
          "execution_count": 17
        }
      ]
    },
    {
      "cell_type": "code",
      "metadata": {
        "id": "kmXwu02lOLWI",
        "colab": {
          "base_uri": "https://localhost:8080/"
        },
        "outputId": "369bf81b-bd08-4de5-ed4c-4ff746ce108d"
      },
      "source": [
        "# What are the 10 most common words?\n",
        "[tup[0] for tup in sorted(v.freqs.items(), key=lambda item: item[1] ,reverse=True)[0:10]]"
      ],
      "execution_count": 18,
      "outputs": [
        {
          "output_type": "execute_result",
          "data": {
            "text/plain": [
              "['.', ',', 'the', 'and', 'a', 'of', 'to', \"'s\", 'is', 'that']"
            ]
          },
          "metadata": {},
          "execution_count": 18
        }
      ]
    },
    {
      "cell_type": "code",
      "metadata": {
        "id": "__NDPaCeOT_m",
        "colab": {
          "base_uri": "https://localhost:8080/"
        },
        "outputId": "28bccce6-979a-4f63-c0af-587c63bf2066"
      },
      "source": [
        "# And how many words are there with frequency 1?\n",
        "# (A fancy name for these is hapax legomena.)\n",
        "len([key for key, val in v.freqs.items() if val == 1])\n"
      ],
      "execution_count": 19,
      "outputs": [
        {
          "output_type": "execute_result",
          "data": {
            "text/plain": [
              "9543"
            ]
          },
          "metadata": {},
          "execution_count": 19
        }
      ]
    },
    {
      "cell_type": "code",
      "metadata": {
        "id": "xKHocugctZGM",
        "colab": {
          "base_uri": "https://localhost:8080/"
        },
        "outputId": "664e39d9-4702-4fb7-c4ec-a75143aa97e8"
      },
      "source": [
        "# Finally 20 random words from the vocabulary.\n",
        "# This is a simple way to get a feeling for the data. \n",
        "# You could use the `choice` function from the already imported `random` package\n",
        "list(map(lambda a:v.i2w[a], np.random.randint(0,len(v.freqs.keys()),(20))))\n"
      ],
      "execution_count": 20,
      "outputs": [
        {
          "output_type": "execute_result",
          "data": {
            "text/plain": [
              "['self-promoter',\n",
              " 'reveals',\n",
              " 'boldly',\n",
              " 'Cleaver',\n",
              " 'spouting',\n",
              " 'overview',\n",
              " 'rider',\n",
              " 'bogs',\n",
              " 'Congeniality',\n",
              " 'practiced',\n",
              " 'Bella',\n",
              " 'awfulness',\n",
              " 'Whether',\n",
              " 'truth',\n",
              " 'Enigma',\n",
              " 'determine',\n",
              " 'Divine',\n",
              " 'flight',\n",
              " 'misbegotten',\n",
              " 'doc']"
            ]
          },
          "metadata": {},
          "execution_count": 20
        }
      ]
    },
    {
      "cell_type": "markdown",
      "metadata": {
        "id": "nGWaZahKV_dH"
      },
      "source": [
        "#### Sentiment label vocabulary"
      ]
    },
    {
      "cell_type": "code",
      "metadata": {
        "id": "AmTC-rvQelpl",
        "colab": {
          "base_uri": "https://localhost:8080/"
        },
        "outputId": "2e051d01-daa6-412a-d148-e20a1c97f9c2"
      },
      "source": [
        "# Now let's map the sentiment labels 0-4 to a more readable form\n",
        "i2t = [\"very negative\", \"negative\", \"neutral\", \"positive\", \"very positive\"]\n",
        "print(i2t)\n",
        "print(i2t[4])"
      ],
      "execution_count": 21,
      "outputs": [
        {
          "output_type": "stream",
          "name": "stdout",
          "text": [
            "['very negative', 'negative', 'neutral', 'positive', 'very positive']\n",
            "very positive\n"
          ]
        }
      ]
    },
    {
      "cell_type": "code",
      "metadata": {
        "id": "D7UI26DP2dr2",
        "colab": {
          "base_uri": "https://localhost:8080/"
        },
        "outputId": "f485bfe2-1155-49ac-b0c4-c6b7cd5553f0"
      },
      "source": [
        "# And let's also create the opposite mapping.\n",
        "# We won't use a Vocabulary for this (although we could), since the labels\n",
        "# are already numeric.\n",
        "t2i = OrderedDict({p : i for p, i in zip(i2t, range(len(i2t)))})\n",
        "print(t2i)\n",
        "print(t2i['very positive'])"
      ],
      "execution_count": 22,
      "outputs": [
        {
          "output_type": "stream",
          "name": "stdout",
          "text": [
            "OrderedDict([('very negative', 0), ('negative', 1), ('neutral', 2), ('positive', 3), ('very positive', 4)])\n",
            "4\n"
          ]
        }
      ]
    },
    {
      "cell_type": "markdown",
      "metadata": {
        "id": "y0067ax54-rd"
      },
      "source": [
        "## PyTorch\n",
        "\n",
        "In Colab notebooks, the last available version of PyTorch is already installed.The current stable version is 1.7.\n",
        "\n",
        "*For installing PyTorch in your own computer, follow the instructions on [pytorch.org](pytorch.org) instead. This is for Google Colab only.*"
      ]
    },
    {
      "cell_type": "code",
      "metadata": {
        "id": "qKQMGtkR5KWr",
        "colab": {
          "base_uri": "https://localhost:8080/"
        },
        "outputId": "c5eb99de-e448-475e-9049-eab85d073631"
      },
      "source": [
        "import torch\n",
        "print(\"Using torch\", torch.__version__) # should say 1.7.0+cu101"
      ],
      "execution_count": 23,
      "outputs": [
        {
          "output_type": "stream",
          "name": "stdout",
          "text": [
            "Using torch 1.13.0+cu116\n"
          ]
        }
      ]
    },
    {
      "cell_type": "code",
      "metadata": {
        "id": "mnvPcd_E1xH8"
      },
      "source": [
        "# Let's also import torch.nn, a PyTorch package that  \n",
        "# makes building neural networks more convenient.\n",
        "from torch import nn"
      ],
      "execution_count": 24,
      "outputs": []
    },
    {
      "cell_type": "code",
      "metadata": {
        "id": "BYt8uTyGCKc7",
        "colab": {
          "base_uri": "https://localhost:8080/"
        },
        "outputId": "582c878f-8306-4c6b-b452-d00124e6d426"
      },
      "source": [
        "# PyTorch can run on CPU or on Nvidia GPU (video card) using CUDA\n",
        "# This cell selects the GPU if one is available.\n",
        "device = torch.device('cuda' if torch.cuda.is_available() else 'cpu')\n",
        "device"
      ],
      "execution_count": 25,
      "outputs": [
        {
          "output_type": "execute_result",
          "data": {
            "text/plain": [
              "device(type='cuda')"
            ]
          },
          "metadata": {},
          "execution_count": 25
        }
      ]
    },
    {
      "cell_type": "code",
      "metadata": {
        "id": "2d1VMOOYx1Bw"
      },
      "source": [
        "# Seed manually to make runs reproducible\n",
        "# You need to set this again if you do multiple runs of the same model\n",
        "torch.manual_seed(seed)\n",
        "\n",
        "# When running on the CuDNN backend two further options must be set for reproducibility\n",
        "if torch.cuda.is_available():\n",
        "  torch.backends.cudnn.deterministic = True\n",
        "  torch.backends.cudnn.benchmark = False"
      ],
      "execution_count": 26,
      "outputs": []
    },
    {
      "cell_type": "markdown",
      "metadata": {
        "id": "uWBTzkuE3CtZ"
      },
      "source": [
        "# BOW"
      ]
    },
    {
      "cell_type": "markdown",
      "metadata": {
        "id": "TBAjYYySOA5W"
      },
      "source": [
        "Our first model is a rather simple neural **bag-of-words (BOW) model**.\n",
        "Unlike the bag-of-words model that you used in the previous lab, where we would look at the presence / frequency of words in a text, here we associate each word with a multi-dimensional vector which expresses what sentiment is conveyed by the word. In particular, our BOW vectors will be of size 5, exactly our number of sentiment classes. \n",
        "\n",
        "To classify a sentence, we **sum** the vectors of the words in the sentence and a bias vector. Because we sum the vectors, we lose word order: that's why we call this a neural bag-of-words model.\n",
        "\n",
        "```\n",
        "this   [0.0, 0.1, 0.1, 0.1, 0.0]\n",
        "movie  [0.0, 0.1, 0.1, 0.2, 0.1]\n",
        "is     [0.0, 0.1, 0.0, 0.0, 0.0]\n",
        "stupid [0.9, 0.5, 0.1, 0.0, 0.0]\n",
        "\n",
        "bias   [0.0, 0.0, 0.0, 0.0, 0.0]\n",
        "--------------------------------\n",
        "sum    [0.9, 0.8, 0.3, 0.3, 0.1]\n",
        "\n",
        "argmax: 0 (very negative)\n",
        "```\n",
        "\n",
        "The **argmax** of this sum is our predicted label.\n",
        "\n",
        "We initialize all vectors *randomly* and train them using cross-entropy loss."
      ]
    },
    {
      "cell_type": "markdown",
      "metadata": {
        "id": "rLtBAIQGynkB"
      },
      "source": [
        "#### Model class"
      ]
    },
    {
      "cell_type": "code",
      "metadata": {
        "id": "QZfNklWf3tvs"
      },
      "source": [
        "class BOW(nn.Module):\n",
        "  \"\"\"A simple bag-of-words model\"\"\"\n",
        "\n",
        "  def __init__(self, vocab_size, embedding_dim, vocab):\n",
        "    super(BOW, self).__init__()\n",
        "    self.vocab = vocab\n",
        "    \n",
        "    # this is a trainable look-up table with word embeddings\n",
        "    self.embed = nn.Embedding(vocab_size, embedding_dim)\n",
        "    \n",
        "    # this is a trainable bias term\n",
        "    self.bias = nn.Parameter(torch.zeros(embedding_dim), requires_grad=True)        \n",
        "\n",
        "  def forward(self, inputs):\n",
        "    # this is the forward pass of the neural network\n",
        "    # it applies a function to the input and returns the output\n",
        "\n",
        "    # this looks up the embeddings for each word ID in inputs\n",
        "    # the result is a sequence of word embeddings\n",
        "    embeds = self.embed(inputs)\n",
        "    \n",
        "    # the output is the sum across the time dimension (1)\n",
        "    # with the bias term added\n",
        "    logits = embeds.sum(1) + self.bias\n",
        "\n",
        "    return logits"
      ],
      "execution_count": 27,
      "outputs": []
    },
    {
      "cell_type": "code",
      "metadata": {
        "id": "eKHvBnoBAr6z",
        "colab": {
          "base_uri": "https://localhost:8080/"
        },
        "outputId": "29f90580-e25f-43b4-dc31-1b63394916a3"
      },
      "source": [
        "# Let's create a model.\n",
        "vocab_size = len(v.w2i)\n",
        "n_classes = len(t2i)\n",
        "bow_model = BOW(vocab_size, n_classes, v)\n",
        "print(bow_model)"
      ],
      "execution_count": 28,
      "outputs": [
        {
          "output_type": "stream",
          "name": "stdout",
          "text": [
            "BOW(\n",
            "  (embed): Embedding(18280, 5)\n",
            ")\n"
          ]
        }
      ]
    },
    {
      "cell_type": "markdown",
      "metadata": {
        "id": "vfCx-HvMH1qQ"
      },
      "source": [
        "> **Hey, wait, where is the bias vector?**\n",
        "> PyTorch does not print Parameters, only Modules!\n",
        "\n",
        "> We can print it ourselves though, to check that it is there."
      ]
    },
    {
      "cell_type": "code",
      "metadata": {
        "id": "Fhvk5HenAroT",
        "colab": {
          "base_uri": "https://localhost:8080/"
        },
        "outputId": "af276319-76ef-4319-eb8d-cf90b30c8aea"
      },
      "source": [
        "\n",
        "# Here we print each parameter name, shape, and if it is trainable.\n",
        "def print_parameters(model):\n",
        "  total = 0\n",
        "  for name, p in model.named_parameters():\n",
        "    total += np.prod(p.shape)\n",
        "    print(\"{:24s} {:12s} requires_grad={}\".format(name, str(list(p.shape)), p.requires_grad))\n",
        "  print(\"\\nTotal number of parameters: {}\\n\".format(total))\n",
        "    \n",
        "\n",
        "print_parameters(bow_model)"
      ],
      "execution_count": 29,
      "outputs": [
        {
          "output_type": "stream",
          "name": "stdout",
          "text": [
            "bias                     [5]          requires_grad=True\n",
            "embed.weight             [18280, 5]   requires_grad=True\n",
            "\n",
            "Total number of parameters: 91405\n",
            "\n"
          ]
        }
      ]
    },
    {
      "cell_type": "markdown",
      "metadata": {
        "id": "WSAw292WxuP4"
      },
      "source": [
        "#### Preparing an example for input\n",
        "\n",
        "To feed sentences to our PyTorch model, we need to convert a sequence of tokens to a sequence of IDs. The `prepare_example` function below takes care of this for us. We then use these IDs as indices for the word embedding table. "
      ]
    },
    {
      "cell_type": "code",
      "metadata": {
        "id": "YWeGTC_OGReV"
      },
      "source": [
        "def prepare_example(example, vocab):\n",
        "  \"\"\"\n",
        "  Map tokens to their IDs for a single example\n",
        "  \"\"\"\n",
        "  \n",
        "  # vocab returns 0 if the word is not there (i2w[0] = <unk>)\n",
        "  x = [vocab.w2i.get(t, 0) for t in example.tokens]\n",
        "  \n",
        "  x = torch.LongTensor([x])\n",
        "  x = x.to(device)\n",
        "  \n",
        "  y = torch.LongTensor([example.label])\n",
        "  y = y.to(device)\n",
        "  \n",
        "  return x, y"
      ],
      "execution_count": 30,
      "outputs": []
    },
    {
      "cell_type": "code",
      "metadata": {
        "id": "sfbdv9px3uFF",
        "colab": {
          "base_uri": "https://localhost:8080/"
        },
        "outputId": "3f86e972-7e60-4909-e5ed-f5480172a36f"
      },
      "source": [
        "x, y = prepare_example(dev_data[0], v)\n",
        "print('x:', x)\n",
        "print('y:', y)"
      ],
      "execution_count": 31,
      "outputs": [
        {
          "output_type": "stream",
          "name": "stdout",
          "text": [
            "x: tensor([[  28,    9,    6,  998,   16,   18,  998,  135,   32, 7688,    5,    0,\n",
            "            2]], device='cuda:0')\n",
            "y: tensor([3], device='cuda:0')\n"
          ]
        }
      ]
    },
    {
      "cell_type": "markdown",
      "metadata": {
        "id": "oKNQjEc0yXnJ"
      },
      "source": [
        "#### Evaluation\n",
        "We now need to define an evaluation metric.\n",
        "How many predictions do we get right? The accuracy will tell us.\n",
        "Make sure that you understand this code block.\n"
      ]
    },
    {
      "cell_type": "code",
      "metadata": {
        "id": "yGmQLcVYKZsh"
      },
      "source": [
        "def simple_evaluate(model, data, prep_fn=prepare_example, **kwargs):\n",
        "  \"\"\"Accuracy of a model on given data set.\"\"\"\n",
        "  correct = 0\n",
        "  total = 0\n",
        "  model.eval()  # disable dropout (explained later)\n",
        "\n",
        "  for example in data:\n",
        "    \n",
        "    # convert the example input and label to PyTorch tensors\n",
        "    x, target = prep_fn(example, model.vocab)\n",
        "\n",
        "    # forward pass without backpropagation (no_grad)\n",
        "    # get the output from the neural network for input x\n",
        "    with torch.no_grad():\n",
        "      logits = model(x)\n",
        "    \n",
        "    # get the prediction\n",
        "    prediction = logits.argmax(dim=-1)\n",
        "    \n",
        "    # add the number of correct predictions to the total correct\n",
        "    correct += (prediction == target).sum().item()\n",
        "    total += 1\n",
        "\n",
        "  return correct, total, correct / float(total)"
      ],
      "execution_count": 32,
      "outputs": []
    },
    {
      "cell_type": "markdown",
      "metadata": {
        "id": "5KlIGFXllWWm"
      },
      "source": [
        "We are using accuracy as a handy evaluation metric. Please consider using [alternative metrics](https://scikit-learn.org/stable/modules/classes.html#classification-metrics) for your experiments if that makes more theoretical sense. "
      ]
    },
    {
      "cell_type": "markdown",
      "metadata": {
        "id": "dIk6OtSdzGRP"
      },
      "source": [
        "#### Example feed\n",
        "For stochastic gradient descent (SGD) we will need a random training example for every update.\n",
        "We implement this by shuffling the training data and returning examples one by one using `yield`.\n",
        "\n",
        "Shuffling is optional so that we get to use this function to get validation and test examples, too."
      ]
    },
    {
      "cell_type": "code",
      "metadata": {
        "id": "dxDFOZLfCXvJ"
      },
      "source": [
        "def get_examples(data, shuffle=True, **kwargs):\n",
        "  \"\"\"Shuffle data set and return 1 example at a time (until nothing left)\"\"\"\n",
        "  if shuffle:\n",
        "    print(\"Shuffling training data\")\n",
        "    random.shuffle(data)  # shuffle training data each epoch\n",
        "  for example in data:\n",
        "    yield example"
      ],
      "execution_count": 33,
      "outputs": []
    },
    {
      "cell_type": "markdown",
      "metadata": {
        "id": "g09SM8yb2cjx"
      },
      "source": [
        "#### Exercise: Training function\n",
        "\n",
        "Your task is now to complete the training loop below.\n",
        "Before you do so, please read the section about optimisation."
      ]
    },
    {
      "cell_type": "markdown",
      "metadata": {
        "id": "TVfUukVdM_1c"
      },
      "source": [
        "**Optimisation**\n",
        "\n",
        "As mentioned in the \"Intro to PyTorch\" notebook, one of the perks of using PyTorch is automatic differentiation. We will use it to train our BOW model. \n",
        "\n",
        "We train our model by feeding it an input, performing a **forward** pass, obtaining an output prediction, and calculating a **loss** with our loss function.\n",
        "After the gradients are computed in the **backward** pass, we can take a step on the surface of the loss function towards more optimal parameter settings (gradient descent). \n",
        "\n",
        "The package we will use to do this optimisation is [torch.optim](https://pytorch.org/docs/stable/optim.html). "
      ]
    },
    {
      "cell_type": "code",
      "metadata": {
        "id": "KhQigDrQ--YU"
      },
      "source": [
        "from torch import optim"
      ],
      "execution_count": 34,
      "outputs": []
    },
    {
      "cell_type": "markdown",
      "metadata": {
        "id": "wGIvcTZU_Cez"
      },
      "source": [
        "Besides implementations of stochastic gradient descent (SGD), this package also implements the optimisation algorithm Adam, which we'll be using in this practical. \n",
        "For the purposes of this assignment you do not need to know what Adam does besides that it uses gradient information to update our model parameters by calling: \n",
        "\n",
        "```\n",
        "optimizer.step()\n",
        "```\n",
        "Remember when we updated our parameters in the PyTorch tutorial in a loop?\n",
        "\n",
        "\n",
        "```python\n",
        "# update weights\n",
        "learning_rate = 0.5\n",
        "for f in net.parameters():\n",
        "    # for each parameter, take a small step in the opposite dir of the gradient\n",
        "    p.data = p.data - p.grad.data * learning_rate\n",
        "\n",
        "```\n",
        "The function call optimizer.step() does effectively the same thing.\n",
        "\n",
        "*(If you want to know more about optimisation algorithms using gradient information, [this blog](http://ruder.io/optimizing-gradient-descent/.) gives a nice intuitive overview.)*"
      ]
    },
    {
      "cell_type": "code",
      "metadata": {
        "id": "ktFnKBux25lD"
      },
      "source": [
        "def train_model(model, optimizer, num_iterations=10000, \n",
        "                print_every=1000, eval_every=1000,\n",
        "                batch_fn=get_examples, \n",
        "                prep_fn=prepare_example,\n",
        "                eval_fn=simple_evaluate,\n",
        "                batch_size=1, eval_batch_size=None):\n",
        "  \"\"\"Train a model.\"\"\"  \n",
        "  iter_i = 0\n",
        "  train_loss = 0.\n",
        "  print_num = 0\n",
        "  start = time.time()\n",
        "  criterion = nn.CrossEntropyLoss() # loss function\n",
        "  best_eval = 0.\n",
        "  best_iter = 0\n",
        "  \n",
        "  # store train loss and validation accuracy during training\n",
        "  # so we can plot them afterwards\n",
        "  losses = []\n",
        "  accuracies = []  \n",
        "  \n",
        "  if eval_batch_size is None:\n",
        "    eval_batch_size = batch_size\n",
        "  \n",
        "  while True:  # when we run out of examples, shuffle and continue\n",
        "    for batch in batch_fn(train_data, batch_size=batch_size):\n",
        "\n",
        "      # forward pass\n",
        "      model.train()\n",
        "      x, targets = prep_fn(batch, model.vocab)\n",
        "      logits = model(x)\n",
        "\n",
        "      B = targets.size(0)  # later we will use B examples per update\n",
        "      \n",
        "      # compute cross-entropy loss (our criterion)\n",
        "      # note that the cross entropy loss function computes the softmax for us\n",
        "      loss = criterion(logits.view([B, -1]), targets.view(-1))\n",
        "      train_loss += loss.item()\n",
        "\n",
        "      # backward pass (tip: check the Introduction to PyTorch notebook)\n",
        "\n",
        "      # erase previous gradients\n",
        "      optimizer.zero_grad()\n",
        "      \n",
        "      # compute gradients\n",
        "      loss.backward()\n",
        "\n",
        "      # update weights - take a small step in the opposite dir of the gradient\n",
        "      optimizer.step()\n",
        "\n",
        "      print_num += 1\n",
        "      iter_i += 1\n",
        "\n",
        "      # print info\n",
        "      if iter_i % print_every == 0:\n",
        "        print(\"Iter %r: loss=%.4f, time=%.2fs\" % \n",
        "              (iter_i, train_loss, time.time()-start))\n",
        "        losses.append(train_loss)\n",
        "        print_num = 0        \n",
        "        train_loss = 0.\n",
        "\n",
        "      # evaluate\n",
        "      if iter_i % eval_every == 0:\n",
        "        _, _, accuracy = eval_fn(model, dev_data, batch_size=eval_batch_size,\n",
        "                                 batch_fn=batch_fn, prep_fn=prep_fn)\n",
        "        accuracies.append(accuracy)\n",
        "        print(\"iter %r: dev acc=%.4f\" % (iter_i, accuracy))       \n",
        "        \n",
        "        # save best model parameters\n",
        "        if accuracy > best_eval:\n",
        "          print(\"new highscore\")\n",
        "          best_eval = accuracy\n",
        "          best_iter = iter_i\n",
        "          path = \"{}.pt\".format(model.__class__.__name__)\n",
        "          ckpt = {\n",
        "              \"state_dict\": model.state_dict(),\n",
        "              \"optimizer_state_dict\": optimizer.state_dict(),\n",
        "              \"best_eval\": best_eval,\n",
        "              \"best_iter\": best_iter\n",
        "          }\n",
        "          torch.save(ckpt, path)\n",
        "\n",
        "      # done training\n",
        "      if iter_i == num_iterations:\n",
        "        print(\"Done training\")\n",
        "        \n",
        "        # evaluate on train, dev, and test with best model\n",
        "        print(\"Loading best model\")\n",
        "        path = \"{}.pt\".format(model.__class__.__name__)        \n",
        "        ckpt = torch.load(path)\n",
        "        model.load_state_dict(ckpt[\"state_dict\"])\n",
        "        \n",
        "        _, _, train_acc = eval_fn(\n",
        "            model, train_data, batch_size=eval_batch_size, \n",
        "            batch_fn=batch_fn, prep_fn=prep_fn)\n",
        "        _, _, dev_acc = eval_fn(\n",
        "            model, dev_data, batch_size=eval_batch_size,\n",
        "            batch_fn=batch_fn, prep_fn=prep_fn)\n",
        "        _, _, test_acc = eval_fn(\n",
        "            model, test_data, batch_size=eval_batch_size, \n",
        "            batch_fn=batch_fn, prep_fn=prep_fn)\n",
        "        \n",
        "        #for testing performances on bigger and smaller sentences separately\n",
        "        _, _, test_acc_big = eval_fn(\n",
        "            model, test_data_big, batch_size=eval_batch_size, \n",
        "            batch_fn=batch_fn, prep_fn=prep_fn)\n",
        "        _, _, test_acc_small = eval_fn(\n",
        "            model, test_data_small, batch_size=eval_batch_size, \n",
        "            batch_fn=batch_fn, prep_fn=prep_fn)\n",
        "        \n",
        "        print(\"best model iter {:d}: \"\n",
        "              \"train acc={:.4f}, dev acc={:.4f}, test acc={:.4f}, test acc on big sentences={:.4f}, test acc on small sentences={:.4f}\".format(\n",
        "                  best_iter, train_acc, dev_acc, test_acc, test_acc_big, test_acc_small))\n",
        "        \n",
        "        return losses, accuracies"
      ],
      "execution_count": 35,
      "outputs": []
    },
    {
      "cell_type": "code",
      "source": [],
      "metadata": {
        "id": "1XyWPIEoy4SG"
      },
      "execution_count": 35,
      "outputs": []
    },
    {
      "cell_type": "markdown",
      "metadata": {
        "id": "XEPsLvI-3D5b"
      },
      "source": [
        "### Training the BOW model"
      ]
    },
    {
      "cell_type": "code",
      "metadata": {
        "id": "9luJnNuN_d3q",
        "colab": {
          "base_uri": "https://localhost:8080/"
        },
        "outputId": "e23740f6-fa23-4cb3-a814-2586d6de1591"
      },
      "source": [
        "# If everything is in place we can now train our first model!\n",
        "bow_model = BOW(len(v.w2i), len(t2i), vocab=v)\n",
        "print(bow_model)\n",
        "\n",
        "bow_model = bow_model.to(device)\n",
        "\n",
        "optimizer = optim.Adam(bow_model.parameters(), lr=0.0005)\n",
        "bow_losses, bow_accuracies = train_model(\n",
        "    bow_model, optimizer, num_iterations=30000, \n",
        "    print_every=1000, eval_every=1000)"
      ],
      "execution_count": 36,
      "outputs": [
        {
          "output_type": "stream",
          "name": "stdout",
          "text": [
            "BOW(\n",
            "  (embed): Embedding(18280, 5)\n",
            ")\n",
            "Shuffling training data\n",
            "Iter 1000: loss=5116.7384, time=1.08s\n",
            "iter 1000: dev acc=0.2171\n",
            "new highscore\n",
            "Iter 2000: loss=5069.6762, time=2.19s\n",
            "iter 2000: dev acc=0.2189\n",
            "new highscore\n",
            "Iter 3000: loss=4739.6879, time=3.32s\n",
            "iter 3000: dev acc=0.2262\n",
            "new highscore\n",
            "Iter 4000: loss=4350.1383, time=4.49s\n",
            "iter 4000: dev acc=0.2371\n",
            "new highscore\n",
            "Iter 5000: loss=4408.5224, time=5.70s\n",
            "iter 5000: dev acc=0.2398\n",
            "new highscore\n",
            "Iter 6000: loss=4499.6127, time=6.96s\n",
            "iter 6000: dev acc=0.2407\n",
            "new highscore\n",
            "Iter 7000: loss=4295.0283, time=8.43s\n",
            "iter 7000: dev acc=0.2425\n",
            "new highscore\n",
            "Iter 8000: loss=4066.0583, time=9.71s\n",
            "iter 8000: dev acc=0.2470\n",
            "new highscore\n",
            "Shuffling training data\n",
            "Iter 9000: loss=4188.6161, time=10.97s\n",
            "iter 9000: dev acc=0.2507\n",
            "new highscore\n",
            "Iter 10000: loss=3843.1800, time=12.12s\n",
            "iter 10000: dev acc=0.2507\n",
            "Iter 11000: loss=3862.9835, time=13.26s\n",
            "iter 11000: dev acc=0.2525\n",
            "new highscore\n",
            "Iter 12000: loss=3912.7993, time=14.41s\n",
            "iter 12000: dev acc=0.2625\n",
            "new highscore\n",
            "Iter 13000: loss=4076.8537, time=15.56s\n",
            "iter 13000: dev acc=0.2561\n",
            "Iter 14000: loss=3844.2006, time=16.71s\n",
            "iter 14000: dev acc=0.2579\n",
            "Iter 15000: loss=3661.6939, time=17.83s\n",
            "iter 15000: dev acc=0.2607\n",
            "Iter 16000: loss=3703.3405, time=18.94s\n",
            "iter 16000: dev acc=0.2652\n",
            "new highscore\n",
            "Iter 17000: loss=3846.9585, time=20.05s\n",
            "iter 17000: dev acc=0.2652\n",
            "Shuffling training data\n",
            "Iter 18000: loss=3632.4691, time=21.18s\n",
            "iter 18000: dev acc=0.2661\n",
            "new highscore\n",
            "Iter 19000: loss=3596.6477, time=22.31s\n",
            "iter 19000: dev acc=0.2670\n",
            "new highscore\n",
            "Iter 20000: loss=3458.2714, time=23.43s\n",
            "iter 20000: dev acc=0.2688\n",
            "new highscore\n",
            "Iter 21000: loss=3395.3376, time=24.54s\n",
            "iter 21000: dev acc=0.2716\n",
            "new highscore\n",
            "Iter 22000: loss=3462.1784, time=25.66s\n",
            "iter 22000: dev acc=0.2743\n",
            "new highscore\n",
            "Iter 23000: loss=3293.0636, time=26.85s\n",
            "iter 23000: dev acc=0.2752\n",
            "new highscore\n",
            "Iter 24000: loss=3259.2579, time=27.94s\n",
            "iter 24000: dev acc=0.2761\n",
            "new highscore\n",
            "Iter 25000: loss=3334.6708, time=29.06s\n",
            "iter 25000: dev acc=0.2761\n",
            "Shuffling training data\n",
            "Iter 26000: loss=3280.4424, time=30.20s\n",
            "iter 26000: dev acc=0.2779\n",
            "new highscore\n",
            "Iter 27000: loss=3019.5702, time=31.32s\n",
            "iter 27000: dev acc=0.2834\n",
            "new highscore\n",
            "Iter 28000: loss=2996.1179, time=32.44s\n",
            "iter 28000: dev acc=0.2825\n",
            "Iter 29000: loss=2876.4480, time=33.56s\n",
            "iter 29000: dev acc=0.2843\n",
            "new highscore\n",
            "Iter 30000: loss=3022.7791, time=34.72s\n",
            "iter 30000: dev acc=0.2852\n",
            "new highscore\n",
            "Done training\n",
            "Loading best model\n",
            "best model iter 30000: train acc=0.3278, dev acc=0.2852, test acc=0.2632, test acc on big sentences=0.2942, test acc on small sentences=0.2632\n"
          ]
        }
      ]
    },
    {
      "cell_type": "code",
      "metadata": {
        "id": "dvYLj8LIAzfS",
        "colab": {
          "base_uri": "https://localhost:8080/",
          "height": 447
        },
        "outputId": "91a9146f-4f3f-4bac-af8e-a78f6f800a9b"
      },
      "source": [
        "# This will plot the validation accuracies across time.\n",
        "plt.plot(bow_accuracies)"
      ],
      "execution_count": 37,
      "outputs": [
        {
          "output_type": "execute_result",
          "data": {
            "text/plain": [
              "[<matplotlib.lines.Line2D at 0x7fe710e08910>]"
            ]
          },
          "metadata": {},
          "execution_count": 37
        },
        {
          "output_type": "display_data",
          "data": {
            "text/plain": [
              "<Figure size 640x480 with 1 Axes>"
            ],
            "image/png": "[encoded data removed]"
          },
          "metadata": {}
        }
      ]
    },
    {
      "cell_type": "code",
      "metadata": {
        "id": "vUHm9JfSI4po",
        "colab": {
          "base_uri": "https://localhost:8080/",
          "height": 447
        },
        "outputId": "07c29d0a-eae7-409e-91ab-f6ee79883ef0"
      },
      "source": [
        "# This will plot the training loss over time.\n",
        "plt.plot(bow_losses)"
      ],
      "execution_count": 38,
      "outputs": [
        {
          "output_type": "execute_result",
          "data": {
            "text/plain": [
              "[<matplotlib.lines.Line2D at 0x7fe7100ccfd0>]"
            ]
          },
          "metadata": {},
          "execution_count": 38
        },
        {
          "output_type": "display_data",
          "data": {
            "text/plain": [
              "<Figure size 640x480 with 1 Axes>"
            ],
            "image/png": "[encoded data removed]"
          },
          "metadata": {}
        }
      ]
    },
    {
      "cell_type": "markdown",
      "metadata": {
        "id": "Psxh-Le1BMDQ"
      },
      "source": [
        "Please note that we set the number of iterations to 30K as an indicative value, after which we simply stop training without checking for convergence. You should choose an appropriate number of iterations and motivate your decision. **This holds for all pre-set numbers of iteration in the following code blocks.**"
      ]
    },
    {
      "cell_type": "code",
      "source": [],
      "metadata": {
        "id": "Xte9quCSujZL"
      },
      "execution_count": 38,
      "outputs": []
    },
    {
      "cell_type": "markdown",
      "metadata": {
        "id": "E9mB1_XhMPNN"
      },
      "source": [
        "# CBOW"
      ]
    },
    {
      "cell_type": "markdown",
      "metadata": {
        "id": "pWk78FvNMw4o"
      },
      "source": [
        "We now continue with a **continuous bag-of-words (CBOW)** model. (*This is not the same as the word2vec CBOW model!*)\n",
        "\n",
        "It is similar to the BOW model above, but now embeddings can have a dimension of *arbitrary size*. \n",
        "This means that we can choose a higher dimensionality and learn more aspects of each word. We will still sum word vectors to get a sentence representation, but now the size of the resulting vector will no longer correspond to the number of sentiment classes. \n",
        "\n",
        "So to turn the size of our summed vector into the number of output classes, we can *learn* a parameter matrix $W$ and multiply it by the sum vector $x$: $$Wx$$\n",
        "If the size of $x$ is `d x 1`, we can set $W$ to be `5 x d`, so that the output of the matrix multiplication will be the of the desired size, `5 x 1`. Then, just like for the BOW model, we can obtain a prediction using the argmax function."
      ]
    },
    {
      "cell_type": "markdown",
      "metadata": {
        "id": "gIjrCPfCwsXI"
      },
      "source": [
        "## Exercise: implement and train the CBOW model\n",
        "\n",
        "Write a class `CBOW` that:\n",
        "\n",
        "- has word embeddings with size 300\n",
        "- sums the word vectors for the input words (just like in `BOW`)\n",
        "- projects the resulting vector down to 5 units using a linear layer and a bias term (check out `nn.Linear`)\n",
        "\n",
        "Train your CBOW model and plot the validation accuracy and training loss over time."
      ]
    },
    {
      "cell_type": "code",
      "metadata": {
        "id": "PEV22aR2MP0Q",
        "colab": {
          "base_uri": "https://localhost:8080/"
        },
        "outputId": "e95b0970-fb03-4923-c7bb-53f4f04c7d66"
      },
      "source": [
        "class CBOW(nn.Module):\n",
        "  \"\"\"A continuous bag-of-words model\"\"\"\n",
        "\n",
        "  def __init__(self, vocab_size, embedding_dim, vocab):\n",
        "    super(CBOW, self).__init__()\n",
        "    self.vocab = vocab\n",
        "    \n",
        "    # this is a trainable look-up table with word embeddings\n",
        "    self.embed = nn.Embedding(vocab_size, embedding_dim)\n",
        "\n",
        "    self.param_matrix = nn.Linear(embedding_dim, 5)\n",
        "    \n",
        "\n",
        "  def forward(self, inputs):\n",
        "    # this is the forward pass of the neural network\n",
        "    # it applies a function to the input and returns the output\n",
        "\n",
        "    # this looks up the embeddings for each word ID in inputs\n",
        "    # the result is a sequence of word embeddings\n",
        "    embeds = self.embed(inputs)\n",
        "    \n",
        "    # the output is the sum across the time dimension (1)\n",
        "    # with the bias term added\n",
        "    act = embeds.sum(1)\n",
        "    logits = self.param_matrix(act)\n",
        "\n",
        "\n",
        "    return logits\n",
        "\n",
        "\n",
        "# If everything is in place we can now train our first model!\n",
        "cbow_model = CBOW(len(v.w2i), 300, vocab=v)\n",
        "print(cbow_model)\n",
        "\n",
        "cbow_model = cbow_model.to(device)\n",
        "\n",
        "optimizer = optim.Adam(cbow_model.parameters(), lr=0.0005)\n",
        "cbow_losses, cbow_accuracies = train_model(\n",
        "    cbow_model, optimizer, num_iterations=30000, \n",
        "    print_every=1000, eval_every=1000)"
      ],
      "execution_count": 39,
      "outputs": [
        {
          "output_type": "stream",
          "name": "stdout",
          "text": [
            "CBOW(\n",
            "  (embed): Embedding(18280, 300)\n",
            "  (param_matrix): Linear(in_features=300, out_features=5, bias=True)\n",
            ")\n",
            "Shuffling training data\n",
            "Iter 1000: loss=2770.6771, time=5.72s\n",
            "iter 1000: dev acc=0.2807\n",
            "new highscore\n",
            "Iter 2000: loss=2212.1001, time=8.94s\n",
            "iter 2000: dev acc=0.2452\n",
            "Iter 3000: loss=2189.9640, time=12.05s\n",
            "iter 3000: dev acc=0.2979\n",
            "new highscore\n",
            "Iter 4000: loss=1969.5035, time=15.28s\n",
            "iter 4000: dev acc=0.3015\n",
            "new highscore\n",
            "Iter 5000: loss=1922.6236, time=18.52s\n",
            "iter 5000: dev acc=0.3224\n",
            "new highscore\n",
            "Iter 6000: loss=1860.7224, time=21.91s\n",
            "iter 6000: dev acc=0.3261\n",
            "new highscore\n",
            "Iter 7000: loss=1939.1484, time=26.82s\n",
            "iter 7000: dev acc=0.2934\n",
            "Iter 8000: loss=1886.2277, time=32.13s\n",
            "iter 8000: dev acc=0.3088\n",
            "Shuffling training data\n",
            "Iter 9000: loss=1664.2410, time=35.40s\n",
            "iter 9000: dev acc=0.2925\n",
            "Iter 10000: loss=1629.9849, time=38.50s\n",
            "iter 10000: dev acc=0.3288\n",
            "new highscore\n",
            "Iter 11000: loss=1604.3695, time=41.75s\n",
            "iter 11000: dev acc=0.3188\n",
            "Iter 12000: loss=1607.1566, time=44.85s\n",
            "iter 12000: dev acc=0.3306\n",
            "new highscore\n",
            "Iter 13000: loss=1650.0740, time=48.07s\n",
            "iter 13000: dev acc=0.3206\n",
            "Iter 14000: loss=1594.4264, time=51.19s\n",
            "iter 14000: dev acc=0.2861\n",
            "Iter 15000: loss=1629.7894, time=54.35s\n",
            "iter 15000: dev acc=0.3043\n",
            "Iter 16000: loss=1629.6121, time=57.54s\n",
            "iter 16000: dev acc=0.2852\n",
            "Iter 17000: loss=1666.7669, time=60.65s\n",
            "iter 17000: dev acc=0.3115\n",
            "Shuffling training data\n",
            "Iter 18000: loss=1285.4340, time=63.76s\n",
            "iter 18000: dev acc=0.3279\n",
            "Iter 19000: loss=1272.9411, time=66.86s\n",
            "iter 19000: dev acc=0.3370\n",
            "new highscore\n",
            "Iter 20000: loss=1309.3435, time=70.11s\n",
            "iter 20000: dev acc=0.3460\n",
            "new highscore\n",
            "Iter 21000: loss=1313.6082, time=73.41s\n",
            "iter 21000: dev acc=0.3288\n",
            "Iter 22000: loss=1301.3368, time=76.52s\n",
            "iter 22000: dev acc=0.3215\n",
            "Iter 23000: loss=1357.5069, time=79.63s\n",
            "iter 23000: dev acc=0.3115\n",
            "Iter 24000: loss=1403.1884, time=82.72s\n",
            "iter 24000: dev acc=0.3170\n",
            "Iter 25000: loss=1330.6744, time=85.82s\n",
            "iter 25000: dev acc=0.3061\n",
            "Shuffling training data\n",
            "Iter 26000: loss=1182.9521, time=88.94s\n",
            "iter 26000: dev acc=0.3306\n",
            "Iter 27000: loss=919.7869, time=92.86s\n",
            "iter 27000: dev acc=0.3043\n",
            "Iter 28000: loss=1048.5192, time=96.10s\n",
            "iter 28000: dev acc=0.2961\n",
            "Iter 29000: loss=1004.0926, time=99.19s\n",
            "iter 29000: dev acc=0.3243\n",
            "Iter 30000: loss=999.1926, time=102.27s\n",
            "iter 30000: dev acc=0.3397\n",
            "Done training\n",
            "Loading best model\n",
            "best model iter 20000: train acc=0.5565, dev acc=0.3460, test acc=0.3684, test acc on big sentences=0.3356, test acc on small sentences=0.3684\n"
          ]
        }
      ]
    },
    {
      "cell_type": "code",
      "source": [
        "# This will plot the validation accuracies across time.\n",
        "plt.figure()\n",
        "plt.plot(cbow_accuracies)"
      ],
      "metadata": {
        "colab": {
          "base_uri": "https://localhost:8080/",
          "height": 447
        },
        "id": "bYb1P8go9GW6",
        "outputId": "94165cb3-8efc-4edd-d113-17116c01e237"
      },
      "execution_count": 40,
      "outputs": [
        {
          "output_type": "execute_result",
          "data": {
            "text/plain": [
              "[<matplotlib.lines.Line2D at 0x7fe7100c2490>]"
            ]
          },
          "metadata": {},
          "execution_count": 40
        },
        {
          "output_type": "display_data",
          "data": {
            "text/plain": [
              "<Figure size 640x480 with 1 Axes>"
            ],
            "image/png": "[encoded data removed]"
          },
          "metadata": {}
        }
      ]
    },
    {
      "cell_type": "code",
      "source": [
        "# This will plot the training loss over time.\n",
        "plt.plot(cbow_losses)"
      ],
      "metadata": {
        "colab": {
          "base_uri": "https://localhost:8080/",
          "height": 447
        },
        "id": "gRr-213K9G8g",
        "outputId": "5532db97-442f-4fbd-cc57-7d5bad538164"
      },
      "execution_count": 41,
      "outputs": [
        {
          "output_type": "execute_result",
          "data": {
            "text/plain": [
              "[<matplotlib.lines.Line2D at 0x7fe710013490>]"
            ]
          },
          "metadata": {},
          "execution_count": 41
        },
        {
          "output_type": "display_data",
          "data": {
            "text/plain": [
              "<Figure size 640x480 with 1 Axes>"
            ],
            "image/png": "[encoded data removed]"
          },
          "metadata": {}
        }
      ]
    },
    {
      "cell_type": "code",
      "source": [],
      "metadata": {
        "id": "aDxtUr90uoFL"
      },
      "execution_count": 41,
      "outputs": []
    },
    {
      "cell_type": "markdown",
      "metadata": {
        "id": "zpFt_Fo2TdN0"
      },
      "source": [
        "# Deep CBOW"
      ]
    },
    {
      "cell_type": "markdown",
      "metadata": {
        "id": "iZanOMesTfEZ"
      },
      "source": [
        "To see if we can squeeze some more performance out of the CBOW model, we can make it deeper and non-linear by adding more layers and, e.g., tanh-activations.\n",
        "By using more parameters we can learn more aspects of the data, and by using more layers and non-linearities, we can try to learn a more complex function. \n",
        "This is not something that always works. If the input-output mapping of your data is simple, then a complicated function could easily overfit on your training set, thereby leading to poor generalization. \n",
        "\n",
        "#### Exercise: write Deep CBOW class and train it\n",
        "\n",
        "Write a class `DeepCBOW`.\n",
        "\n",
        "In your code, make sure that your `output_layer` consists of the following:\n",
        "- A linear transformation from E units to D units.\n",
        "- A Tanh activation\n",
        "- A linear transformation from D units to D units\n",
        "- A Tanh activation\n",
        "- A linear transformation from D units to 5 units (our output classes).\n",
        "\n",
        "E is the size of the word embeddings (please use E=300) and D for the size of a hidden layer (please use D=100).\n",
        "\n",
        "We recommend using [nn.Sequential](https://pytorch.org/docs/stable/nn.html?highlight=sequential#torch.nn.Sequential) to implement this exercise."
      ]
    },
    {
      "cell_type": "code",
      "metadata": {
        "id": "l8Z1igvpTrZq",
        "colab": {
          "base_uri": "https://localhost:8080/"
        },
        "outputId": "0b4e563b-0b2a-4d73-aeff-860813a40b95"
      },
      "source": [
        "class DeepCBOW(nn.Module):\n",
        "  \"\"\"A deep continuous bag-of-words model\"\"\"\n",
        "  \n",
        "  def __init__(self, vocab_size, embedding_dim, hidden_dim, output_dim, vocab):\n",
        "    super(DeepCBOW, self).__init__()\n",
        "    self.vocab = vocab\n",
        "    \n",
        "    self.embed = nn.Embedding(vocab_size, embedding_dim)\n",
        "    self.layers = nn.Sequential(\n",
        "          nn.Linear(embedding_dim, hidden_dim),\n",
        "          nn.Tanh(),\n",
        "          nn.Linear(hidden_dim, hidden_dim),\n",
        "          nn.Tanh(),\n",
        "          nn.Linear(hidden_dim, output_dim))      \n",
        "\n",
        "  def forward(self, inputs):\n",
        "    embeddings = self.embed(inputs).sum(1)\n",
        "    logits = self.layers(embeddings)\n",
        "    return logits\n",
        "\n",
        "\n",
        "embedding_dim = 300\n",
        "# If everything is in place we can now train our first model!\n",
        "deepcbow_model = DeepCBOW(len(v.w2i), embedding_dim, 100, 5, v)\n",
        "print(deepcbow_model)\n",
        "\n",
        "deepcbow_model = deepcbow_model.to(device)\n",
        "\n",
        "optimizer = optim.Adam(deepcbow_model.parameters(), lr=0.0005)\n",
        "deepcbow_losses, deepcbow_accuracies = train_model(\n",
        "    deepcbow_model, optimizer, num_iterations=30000, \n",
        "    print_every=1000, eval_every=1000)"
      ],
      "execution_count": 42,
      "outputs": [
        {
          "output_type": "stream",
          "name": "stdout",
          "text": [
            "DeepCBOW(\n",
            "  (embed): Embedding(18280, 300)\n",
            "  (layers): Sequential(\n",
            "    (0): Linear(in_features=300, out_features=100, bias=True)\n",
            "    (1): Tanh()\n",
            "    (2): Linear(in_features=100, out_features=100, bias=True)\n",
            "    (3): Tanh()\n",
            "    (4): Linear(in_features=100, out_features=5, bias=True)\n",
            "  )\n",
            ")\n",
            "Shuffling training data\n",
            "Iter 1000: loss=1591.5953, time=3.25s\n",
            "iter 1000: dev acc=0.2852\n",
            "new highscore\n",
            "Iter 2000: loss=1585.5889, time=6.90s\n",
            "iter 2000: dev acc=0.3179\n",
            "new highscore\n",
            "Iter 3000: loss=1554.1081, time=10.59s\n",
            "iter 3000: dev acc=0.3152\n",
            "Iter 4000: loss=1558.3603, time=14.17s\n",
            "iter 4000: dev acc=0.2807\n",
            "Iter 5000: loss=1528.2281, time=17.74s\n",
            "iter 5000: dev acc=0.3188\n",
            "new highscore\n",
            "Iter 6000: loss=1505.5227, time=21.43s\n",
            "iter 6000: dev acc=0.3342\n",
            "new highscore\n",
            "Iter 7000: loss=1502.6070, time=25.11s\n",
            "iter 7000: dev acc=0.3206\n",
            "Iter 8000: loss=1491.5232, time=28.65s\n",
            "iter 8000: dev acc=0.3288\n",
            "Shuffling training data\n",
            "Iter 9000: loss=1433.0280, time=32.19s\n",
            "iter 9000: dev acc=0.3488\n",
            "new highscore\n",
            "Iter 10000: loss=1360.3626, time=35.84s\n",
            "iter 10000: dev acc=0.2943\n",
            "Iter 11000: loss=1375.4484, time=39.40s\n",
            "iter 11000: dev acc=0.3442\n",
            "Iter 12000: loss=1362.5624, time=42.91s\n",
            "iter 12000: dev acc=0.3333\n",
            "Iter 13000: loss=1324.7090, time=46.49s\n",
            "iter 13000: dev acc=0.3506\n",
            "new highscore\n",
            "Iter 14000: loss=1341.0064, time=50.15s\n",
            "iter 14000: dev acc=0.3506\n",
            "Iter 15000: loss=1362.2967, time=53.70s\n",
            "iter 15000: dev acc=0.3470\n",
            "Iter 16000: loss=1358.7081, time=57.24s\n",
            "iter 16000: dev acc=0.3760\n",
            "new highscore\n",
            "Iter 17000: loss=1348.9879, time=60.91s\n",
            "iter 17000: dev acc=0.3688\n",
            "Shuffling training data\n",
            "Iter 18000: loss=1171.2147, time=64.47s\n",
            "iter 18000: dev acc=0.3660\n",
            "Iter 19000: loss=1157.3871, time=68.02s\n",
            "iter 19000: dev acc=0.3669\n",
            "Iter 20000: loss=1228.6373, time=71.56s\n",
            "iter 20000: dev acc=0.3760\n",
            "Iter 21000: loss=1202.2330, time=75.09s\n",
            "iter 21000: dev acc=0.3806\n",
            "new highscore\n",
            "Iter 22000: loss=1186.7235, time=78.80s\n",
            "iter 22000: dev acc=0.3397\n",
            "Iter 23000: loss=1163.9487, time=82.36s\n",
            "iter 23000: dev acc=0.3597\n",
            "Iter 24000: loss=1161.6814, time=85.89s\n",
            "iter 24000: dev acc=0.3806\n",
            "Iter 25000: loss=1201.6494, time=89.50s\n",
            "iter 25000: dev acc=0.3851\n",
            "new highscore\n",
            "Shuffling training data\n",
            "Iter 26000: loss=1147.1523, time=93.18s\n",
            "iter 26000: dev acc=0.3760\n",
            "Iter 27000: loss=972.6927, time=96.72s\n",
            "iter 27000: dev acc=0.3769\n",
            "Iter 28000: loss=987.6598, time=100.26s\n",
            "iter 28000: dev acc=0.3615\n",
            "Iter 29000: loss=997.3432, time=103.82s\n",
            "iter 29000: dev acc=0.3597\n",
            "Iter 30000: loss=1019.8441, time=107.63s\n",
            "iter 30000: dev acc=0.3660\n",
            "Done training\n",
            "Loading best model\n",
            "best model iter 25000: train acc=0.5954, dev acc=0.3851, test acc=0.3542, test acc on big sentences=0.3731, test acc on small sentences=0.3542\n"
          ]
        }
      ]
    },
    {
      "cell_type": "code",
      "source": [
        "# This will plot the validation accuracies across time.\n",
        "plt.figure()\n",
        "plt.plot(deepcbow_accuracies)"
      ],
      "metadata": {
        "colab": {
          "base_uri": "https://localhost:8080/",
          "height": 447
        },
        "id": "YBe9GP_-8MZX",
        "outputId": "34655ca4-537a-4cf3-f05c-e681c65edfb9"
      },
      "execution_count": 43,
      "outputs": [
        {
          "output_type": "execute_result",
          "data": {
            "text/plain": [
              "[<matplotlib.lines.Line2D at 0x7fe6bfffe370>]"
            ]
          },
          "metadata": {},
          "execution_count": 43
        },
        {
          "output_type": "display_data",
          "data": {
            "text/plain": [
              "<Figure size 640x480 with 1 Axes>"
            ],
            "image/png": "[encoded data removed]"
          },
          "metadata": {}
        }
      ]
    },
    {
      "cell_type": "code",
      "source": [
        "# This will plot the training loss over time.\n",
        "plt.plot(deepcbow_losses)"
      ],
      "metadata": {
        "colab": {
          "base_uri": "https://localhost:8080/",
          "height": 447
        },
        "id": "u_OxOBnX8ON4",
        "outputId": "0f98b4a2-942a-44c3-a987-11292177fcfe"
      },
      "execution_count": 44,
      "outputs": [
        {
          "output_type": "execute_result",
          "data": {
            "text/plain": [
              "[<matplotlib.lines.Line2D at 0x7fe6bff57850>]"
            ]
          },
          "metadata": {},
          "execution_count": 44
        },
        {
          "output_type": "display_data",
          "data": {
            "text/plain": [
              "<Figure size 640x480 with 1 Axes>"
            ],
            "image/png": "[encoded data removed]"
          },
          "metadata": {}
        }
      ]
    },
    {
      "cell_type": "code",
      "source": [],
      "metadata": {
        "id": "HVT4aZdCutXC"
      },
      "execution_count": 44,
      "outputs": []
    },
    {
      "cell_type": "markdown",
      "metadata": {
        "id": "MQZ5flHwiiHY"
      },
      "source": [
        "# Pre-trained word embeddings"
      ]
    },
    {
      "cell_type": "markdown",
      "metadata": {
        "id": "9NX35vecmHy6"
      },
      "source": [
        "The Stanford Sentiment Treebank is a rather small data set, since it required fine-grained manual annotatation. This makes it difficult for the Deep CBOW model to learn good word embeddings, i.e. to learn good word representations for the words in our vocabulary.\n",
        "In fact, the only error signal that the network receives is from predicting the sentiment of entire sentences!\n",
        "\n",
        "To start off with better word representations, we can download **pre-trained word embeddings**. \n",
        "You can choose which pre-trained word embeddings to use:\n",
        "\n",
        "- **GloVe**. The \"original\" Stanford Sentiment classification [paper](http://aclweb.org/anthology/P/P15/P15-1150.pdf) used Glove embeddings, which are just another method (like *word2vec*) to get word embeddings from unannotated text. Glove is described in the following paper which you should cite if you use them:\n",
        "> Jeffrey Pennington, Richard Socher, and Christopher Manning. [\"Glove: Global vectors for word representation.\"](https://nlp.stanford.edu/pubs/glove.pdf) EMNLP 2014. \n",
        "\n",
        "- **Word2Vec**. This is the method that you learned about in class, described in:\n",
        "> Mikolov, Tomas, et al. [\"Distributed representations of words and phrases and their compositionality.\"](https://papers.nips.cc/paper/5021-distributed-representations-of-words-and-phrases-and-their-compositionality.pdf) Advances in neural information processing systems. 2013.\n",
        "\n",
        "Using these pre-trained word embeddings, we can initialize our word embedding lookup table and start form a point where similar words are already close to one another in the distributional semantic space. \n",
        "\n",
        "You can choose to keep the word embeddings **fixed** or to train them further, specialising them to the task at hand.\n",
        "We will keep them fixed for now.\n",
        "\n",
        "For the purposes of this lab, it is enough if you understand how word2vec works (whichever vectors you use), but if you are interested, we encourage you to also check out the GloVe paper.\n",
        "\n",
        "You can either download the word2vec vectors, or the Glove vectors.\n",
        "If you want to compare your results to the Stanford paper later on, then you should use Glove. \n",
        "**At the end of this lab you have the option to compare which vectors give you the best performance. For now, simply choose one of them and continue with that.**\n",
        "\n",
        "[**OPTIONAL in case you don't want to mount Google Drive:** instead of running all the 5 boxes below, you can 1) download the GloVe and word2vec in your local machine, 2) upload them on your Drive folder (\"My Drive\"). Then, uncomment the first 2 lines in box 6 before writing your code!]\n"
      ]
    },
    {
      "cell_type": "code",
      "metadata": {
        "id": "lGYr02WWO993",
        "colab": {
          "base_uri": "https://localhost:8080/"
        },
        "outputId": "c4bf4608-6b16-4577-cb88-2c43479f8a14"
      },
      "source": [
        "# This downloads the Glove 840B 300d embeddings.\n",
        "# The original file is at http://nlp.stanford.edu/data/glove.840B.300d.zip\n",
        "# Since that file is 2GB, we provide you with a *filtered version*\n",
        "# which contains all the words you need for this data set.\n",
        "\n",
        "# You only need to do this once.\n",
        "# Please comment this cell out after downloading.\n",
        "\n",
        "!wget https://gist.githubusercontent.com/bastings/b094de2813da58056a05e8e7950d4ad1/raw/3fbd3976199c2b88de2ae62afc0ecc6f15e6f7ce/glove.840B.300d.sst.txt"
      ],
      "execution_count": 45,
      "outputs": [
        {
          "output_type": "stream",
          "name": "stdout",
          "text": [
            "--2022-12-10 14:13:43--  https://gist.githubusercontent.com/bastings/b094de2813da58056a05e8e7950d4ad1/raw/3fbd3976199c2b88de2ae62afc0ecc6f15e6f7ce/glove.840B.300d.sst.txt\n",
            "Resolving gist.githubusercontent.com (gist.githubusercontent.com)... 185.199.108.133, 185.199.111.133, 185.199.110.133, ...\n",
            "Connecting to gist.githubusercontent.com (gist.githubusercontent.com)|185.199.108.133|:443... connected.\n",
            "HTTP request sent, awaiting response... 200 OK\n",
            "Length: 53933315 (51M) [text/plain]\n",
            "Saving to: ‘glove.840B.300d.sst.txt’\n",
            "\n",
            "glove.840B.300d.sst 100%[===================>]  51.43M   203MB/s    in 0.3s    \n",
            "\n",
            "2022-12-10 14:13:44 (203 MB/s) - ‘glove.840B.300d.sst.txt’ saved [53933315/53933315]\n",
            "\n"
          ]
        }
      ]
    },
    {
      "cell_type": "code",
      "metadata": {
        "id": "6NLsgFGiTjmI",
        "colab": {
          "base_uri": "https://localhost:8080/"
        },
        "outputId": "bbe64cfe-39e0-4d4a-d1d4-adb0910b7c79"
      },
      "source": [
        "# This downloads the word2vec 300D Google News vectors \n",
        "# The file has been truncated to only contain words that appear in our data set.\n",
        "# You can find the original file here: https://code.google.com/archive/p/word2vec/\n",
        "\n",
        "# You only need to do this once.\n",
        "# Please comment this out after downloading.\n",
        "!wget https://gist.githubusercontent.com/bastings/4d1c346c68969b95f2c34cfbc00ba0a0/raw/76b4fefc9ef635a79d0d8002522543bc53ca2683/googlenews.word2vec.300d.txt"
      ],
      "execution_count": 46,
      "outputs": [
        {
          "output_type": "stream",
          "name": "stdout",
          "text": [
            "--2022-12-10 14:13:44--  https://gist.githubusercontent.com/bastings/4d1c346c68969b95f2c34cfbc00ba0a0/raw/76b4fefc9ef635a79d0d8002522543bc53ca2683/googlenews.word2vec.300d.txt\n",
            "Resolving gist.githubusercontent.com (gist.githubusercontent.com)... 185.199.108.133, 185.199.109.133, 185.199.110.133, ...\n",
            "Connecting to gist.githubusercontent.com (gist.githubusercontent.com)|185.199.108.133|:443... connected.\n",
            "HTTP request sent, awaiting response... 200 OK\n",
            "Length: 66209703 (63M) [text/plain]\n",
            "Saving to: ‘googlenews.word2vec.300d.txt’\n",
            "\n",
            "googlenews.word2vec 100%[===================>]  63.14M   208MB/s    in 0.3s    \n",
            "\n",
            "2022-12-10 14:13:45 (208 MB/s) - ‘googlenews.word2vec.300d.txt’ saved [66209703/66209703]\n",
            "\n"
          ]
        }
      ]
    },
    {
      "cell_type": "code",
      "metadata": {
        "id": "GXBITzPRQUQb",
        "cellView": "both"
      },
      "source": [
        "# Mount Google Drive (to save the downloaded files)\n",
        "#from google.colab import drive\n",
        "#drive.mount('/gdrive')"
      ],
      "execution_count": 47,
      "outputs": []
    },
    {
      "cell_type": "code",
      "metadata": {
        "id": "uFvzPuiKSCbl",
        "colab": {
          "base_uri": "https://localhost:8080/"
        },
        "outputId": "29e70c07-9d4b-478f-e014-789cbe7f53f2"
      },
      "source": [
        "# Copy word vectors *to* Google Drive\n",
        "\n",
        "# You only need to do this once.\n",
        "# Please comment this out after running it. \n",
        "!cp \"glove.840B.300d.sst.txt\" \"/gdrive/My Drive/\"\n",
        "!cp \"googlenews.word2vec.300d.txt\" \"/gdrive/My Drive/\""
      ],
      "execution_count": 48,
      "outputs": [
        {
          "output_type": "stream",
          "name": "stdout",
          "text": [
            "cp: cannot create regular file '/gdrive/My Drive/': No such file or directory\n",
            "cp: cannot create regular file '/gdrive/My Drive/': No such file or directory\n"
          ]
        }
      ]
    },
    {
      "cell_type": "code",
      "metadata": {
        "id": "kUMH0bM6BuY9",
        "colab": {
          "base_uri": "https://localhost:8080/"
        },
        "outputId": "9cd37bd7-ef22-4158-9d8b-c2d5b8150dc2"
      },
      "source": [
        "# If you copied the word vectors to your Drive before,\n",
        "# here is where you copy them back to the Colab notebook.\n",
        "\n",
        "# Copy Glove vectors *from* Google Drive\n",
        "!cp \"/gdrive/My Drive/glove.840B.300d.sst.txt\" .\n",
        "!cp \"/gdrive/My Drive/googlenews.word2vec.300d.txt\" ."
      ],
      "execution_count": 49,
      "outputs": [
        {
          "output_type": "stream",
          "name": "stdout",
          "text": [
            "cp: cannot stat '/gdrive/My Drive/glove.840B.300d.sst.txt': No such file or directory\n",
            "cp: cannot stat '/gdrive/My Drive/googlenews.word2vec.300d.txt': No such file or directory\n"
          ]
        }
      ]
    },
    {
      "cell_type": "code",
      "metadata": {
        "id": "xcpkoh6PIjfe",
        "colab": {
          "base_uri": "https://localhost:8080/"
        },
        "outputId": "97f0248d-5605-4f40-f633-35f5f152e488"
      },
      "source": [
        "# Uncomment these 2 lines below if went for the OPTIONAL method described above\n",
        "!cp \"glove.840B.300d.sst.txt\" \"./\"\n",
        "!cp \"googlenews.word2vec.300d.txt\" \"./\""
      ],
      "execution_count": 50,
      "outputs": [
        {
          "output_type": "stream",
          "name": "stdout",
          "text": [
            "cp: 'glove.840B.300d.sst.txt' and './glove.840B.300d.sst.txt' are the same file\n",
            "cp: 'googlenews.word2vec.300d.txt' and './googlenews.word2vec.300d.txt' are the same file\n"
          ]
        }
      ]
    },
    {
      "cell_type": "markdown",
      "source": [],
      "metadata": {
        "id": "OKfBtyBS-Nuz"
      }
    },
    {
      "cell_type": "markdown",
      "metadata": {
        "id": "MX2GJVHILM8n"
      },
      "source": [
        "At this point you have the pre-trained word embedding files, but what do they look like?"
      ]
    },
    {
      "cell_type": "code",
      "metadata": {
        "id": "ChsChH14Ruxn",
        "colab": {
          "base_uri": "https://localhost:8080/"
        },
        "outputId": "2f116990-abb6-4c73-e663-62c8f05e4216"
      },
      "source": [
        "print(\"----- GloVe -----\")\n",
        "with open(\"glove.840B.300d.sst.txt\", \"r\") as f:\n",
        "    for idx, line in enumerate(f):\n",
        "      if idx > 4:\n",
        "        break\n",
        "      print(line)\n",
        "      \n",
        "print(\"----- Word2Vec -----\")\n",
        "with open(\"googlenews.word2vec.300d.txt\") as f:\n",
        "   for idx, line in enumerate(f):\n",
        "      if idx > 4:\n",
        "        break\n",
        "      print(line)"
      ],
      "execution_count": 51,
      "outputs": [
        {
          "output_type": "stream",
          "name": "stdout",
          "text": [
            "----- GloVe -----\n",
            ", -0.082752 0.67204 -0.14987 -0.064983 0.056491 0.40228 0.0027747 -0.3311 -0.30691 2.0817 0.031819 0.013643 0.30265 0.0071297 -0.5819 -0.2774 -0.062254 1.1451 -0.24232 0.1235 -0.12243 0.33152 -0.006162 -0.30541 -0.13057 -0.054601 0.037083 -0.070552 0.5893 -0.30385 0.2898 -0.14653 -0.27052 0.37161 0.32031 -0.29125 0.0052483 -0.13212 -0.052736 0.087349 -0.26668 -0.16897 0.015162 -0.0083746 -0.14871 0.23413 -0.20719 -0.091386 0.40075 -0.17223 0.18145 0.37586 -0.28682 0.37289 -0.16185 0.18008 0.3032 -0.13216 0.18352 0.095759 0.094916 0.008289 0.11761 0.34046 0.03677 -0.29077 0.058303 -0.027814 0.082941 0.1862 -0.031494 0.27985 -0.074412 -0.13762 -0.21866 0.18138 0.040855 -0.113 0.24107 0.3657 -0.27525 -0.05684 0.34872 0.011884 0.14517 -0.71395 0.48497 0.14807 0.62287 0.20599 0.58379 -0.13438 0.40207 0.18311 0.28021 -0.42349 -0.25626 0.17715 -0.54095 0.16596 -0.036058 0.08499 -0.64989 0.075549 -0.28831 0.40626 -0.2802 0.094062 0.32406 0.28437 -0.26341 0.11553 0.071918 -0.47215 -0.18366 -0.34709 0.29964 -0.66514 0.002516 -0.42333 0.27512 0.36012 0.16311 0.23964 -0.05923 0.3261 0.20559 0.038677 -0.045816 0.089764 0.43151 -0.15954 0.08532 -0.26572 -0.15001 0.084286 -0.16714 -0.43004 0.060807 0.13121 -0.24112 0.66554 0.4453 -0.18019 -0.13919 0.56252 0.21457 -0.46443 -0.012211 0.029988 -0.051094 -0.20135 0.80788 0.47377 -0.057647 0.46216 0.16084 -0.20954 -0.05452 0.15572 -0.13712 0.12972 -0.011936 -0.003378 -0.13595 -0.080711 0.20065 0.054056 0.046816 0.059539 0.046265 0.17754 -0.31094 0.28119 -0.24355 0.085252 -0.21011 -0.19472 0.0027297 -0.46341 0.14789 -0.31517 -0.065939 0.036106 0.42903 -0.33759 0.16432 0.32568 -0.050392 -0.054297 0.24074 0.41923 0.13012 -0.17167 -0.37808 -0.23089 -0.019477 -0.29291 -0.30824 0.30297 -0.22659 0.081574 -0.18516 -0.21408 0.40616 -0.28974 0.074174 -0.17795 0.28595 -0.039626 -0.2339 -0.36054 -0.067503 -0.091065 0.23438 -0.0041331 0.003232 0.0072134 0.008697 0.21614 0.049904 0.35582 0.13748 0.073361 0.14166 0.2412 -0.013322 0.15613 0.083381 0.088146 -0.019357 0.43795 0.083961 0.45309 -0.50489 -0.10865 -0.2527 -0.18251 0.20441 0.13319 0.1294 0.050594 -0.15612 -0.39543 0.12538 0.24881 -0.1927 -0.31847 -0.12719 0.4341 0.31177 -0.0040946 -0.2094 -0.079961 0.1161 -0.050794 0.015266 -0.2803 -0.12486 0.23587 0.2339 -0.14023 0.028462 0.56923 -0.1649 -0.036429 0.010051 -0.17107 -0.042608 0.044965 -0.4393 -0.26137 0.30088 -0.060772 -0.45312 -0.19076 -0.20288 0.27694 -0.060888 0.11944 0.62206 -0.19343 0.47849 -0.30113 0.059389 0.074901 0.061068 -0.4662 0.40054 -0.19099 -0.14331 0.018267 -0.18643 0.20709 -0.35598 0.05338 -0.050821 -0.1918 -0.37846 -0.06589\n",
            "\n",
            ". 0.012001 0.20751 -0.12578 -0.59325 0.12525 0.15975 0.13748 -0.33157 -0.13694 1.7893 -0.47094 0.70434 0.26673 -0.089961 -0.18168 0.067226 0.053347 1.5595 -0.2541 0.038413 -0.01409 0.056774 0.023434 0.024042 0.31703 0.19025 -0.37505 0.035603 0.1181 0.012032 -0.037566 -0.5046 -0.049261 0.092351 0.11031 -0.073062 0.33994 0.28239 0.13413 0.070128 -0.022099 -0.28103 0.49607 -0.48693 -0.090964 -0.1538 -0.38011 -0.014228 -0.19392 -0.11068 -0.014088 -0.17906 0.24509 -0.16878 -0.15351 -0.13808 0.02151 0.13699 0.0068061 -0.14915 -0.38169 0.12727 0.44007 0.32678 -0.46117 0.068687 0.34747 0.18827 -0.31837 0.4447 -0.2095 -0.26987 0.48945 0.15388 0.05295 -0.049831 0.11207 0.14881 -0.37003 0.30777 -0.33865 0.045149 -0.18987 0.26634 -0.26401 -0.47556 0.68381 -0.30653 0.24606 0.31611 -0.071098 0.030417 0.088119 0.045025 0.20125 -0.21618 -0.36371 -0.25948 -0.42398 -0.14305 -0.10208 0.21498 -0.21924 -0.17935 0.21546 0.13801 0.24504 -0.2559 0.054815 0.21307 0.2564 -0.25673 0.17961 -0.47638 -0.25181 -0.0091498 -0.054362 -0.21007 0.12597 -0.40795 -0.021164 0.20585 0.18925 -0.0051896 -0.51394 0.28862 -0.077748 -0.27676 0.46567 -0.14225 -0.17879 -0.4357 -0.32481 0.15034 -0.058367 0.49652 0.20472 0.019866 0.13326 0.12823 -1.0177 0.29007 0.28995 0.029994 -0.10763 0.28665 -0.24387 0.22905 -0.26249 -0.069269 -0.17889 0.21936 0.15146 0.04567 -0.050497 0.071482 -0.1027 -0.080705 0.30296 0.031302 0.26613 -0.0060951 0.10313 -0.39987 -0.043945 -0.057625 0.08702 -0.098152 0.22835 -0.005211 0.038075 0.01591 -0.20622 0.021853 0.0040426 -0.043063 -0.002294 -0.26097 -0.25802 -0.28158 -0.23118 -0.010404 -0.30102 -0.4042 0.014653 -0.10445 0.30377 -0.20957 0.3119 0.068272 0.1008 0.010423 0.54011 0.29865 0.12653 0.013761 0.21738 -0.39521 0.066633 0.50327 0.14913 -0.11554 0.010042 0.095698 0.16607 -0.18808 0.055019 0.026715 -0.3164 -0.046583 -0.051591 0.023475 -0.11007 0.085642 0.28394 0.040497 0.071986 0.14157 -0.021199 0.44718 0.20088 -0.12964 -0.067183 0.47614 0.13394 -0.17287 -0.37324 -0.17285 0.02683 -0.1316 0.09116 -0.46487 0.1274 -0.090159 -0.10552 0.068006 -0.13381 0.17056 0.089509 -0.23133 -0.27572 0.061534 -0.051646 0.28377 0.25286 -0.24139 -0.19905 0.12049 -0.1011 0.27392 0.27843 0.26449 -0.18292 -0.048961 0.19198 0.17192 0.33659 -0.20184 -0.34305 -0.24553 -0.15399 0.3945 0.22839 -0.25753 -0.25675 -0.37332 -0.23884 -0.048816 0.78323 0.18851 -0.26477 0.096566 0.062658 -0.30668 -0.43334 0.10006 0.21136 0.039459 -0.11077 0.24421 0.60942 -0.46646 0.086385 -0.39702 -0.23363 0.021307 -0.10778 -0.2281 0.50803 0.11567 0.16165 -0.066737 -0.29556 0.022612 -0.28135 0.0635 0.14019 0.13871 -0.36049 -0.035\n",
            "\n",
            "the 0.27204 -0.06203 -0.1884 0.023225 -0.018158 0.0067192 -0.13877 0.17708 0.17709 2.5882 -0.35179 -0.17312 0.43285 -0.10708 0.15006 -0.19982 -0.19093 1.1871 -0.16207 -0.23538 0.003664 -0.19156 -0.085662 0.039199 -0.066449 -0.04209 -0.19122 0.011679 -0.37138 0.21886 0.0011423 0.4319 -0.14205 0.38059 0.30654 0.020167 -0.18316 -0.0065186 -0.0080549 -0.12063 0.027507 0.29839 -0.22896 -0.22882 0.14671 -0.076301 -0.1268 -0.0066651 -0.052795 0.14258 0.1561 0.05551 -0.16149 0.09629 -0.076533 -0.049971 -0.010195 -0.047641 -0.16679 -0.2394 0.0050141 -0.049175 0.013338 0.41923 -0.10104 0.015111 -0.077706 -0.13471 0.119 0.10802 0.21061 -0.051904 0.18527 0.17856 0.041293 -0.014385 -0.082567 -0.035483 -0.076173 -0.045367 0.089281 0.33672 -0.22099 -0.0067275 0.23983 -0.23147 -0.88592 0.091297 -0.012123 0.013233 -0.25799 -0.02972 0.016754 0.01369 0.32377 0.039546 0.042114 -0.088243 0.30318 0.087747 0.16346 -0.40485 -0.043845 -0.040697 0.20936 -0.77795 0.2997 0.2334 0.14891 -0.39037 -0.053086 0.062922 0.065663 -0.13906 0.094193 0.10344 -0.2797 0.28905 -0.32161 0.020687 0.063254 -0.23257 -0.4352 -0.017049 -0.32744 -0.047064 -0.075149 -0.18788 -0.015017 0.029342 -0.3527 -0.044278 -0.13507 -0.11644 -0.1043 0.1392 0.0039199 0.37603 0.067217 -0.37992 -1.1241 -0.057357 -0.16826 0.03941 0.2604 -0.023866 0.17963 0.13553 0.2139 0.052633 -0.25033 -0.11307 0.22234 0.066597 -0.11161 0.062438 -0.27972 0.19878 -0.36262 -1.0006e-05 -0.17262 0.29166 -0.15723 0.054295 0.06101 -0.39165 0.2766 0.057816 0.39709 0.025229 0.24672 -0.08905 0.15683 -0.2096 -0.22196 0.052394 -0.01136 0.050417 -0.14023 -0.042825 -0.031931 -0.21336 -0.20402 -0.23272 0.07449 0.088202 -0.11063 -0.33526 -0.014028 -0.29429 -0.086911 -0.1321 -0.43616 0.20513 0.0079362 0.48505 0.064237 0.14261 -0.43711 0.12783 -0.13111 0.24673 -0.27496 0.15896 0.43314 0.090286 0.24662 0.066463 -0.20099 0.1101 0.03644 0.17359 -0.15689 -0.086328 -0.17316 0.36975 -0.40317 -0.064814 -0.034166 -0.013773 0.062854 -0.17183 -0.12366 -0.034663 -0.22793 -0.23172 0.239 0.27473 0.15332 0.10661 -0.060982 -0.024805 -0.13478 0.17932 -0.37374 -0.02893 -0.11142 -0.08389 -0.055932 0.068039 -0.10783 0.1465 0.094617 -0.084554 0.067429 -0.3291 0.034082 -0.16747 -0.25997 -0.22917 0.020159 -0.02758 0.16136 -0.18538 0.037665 0.57603 0.20684 0.27941 0.16477 -0.018769 0.12062 0.069648 0.059022 -0.23154 0.24095 -0.3471 0.04854 -0.056502 0.41566 -0.43194 0.4823 -0.051759 -0.27285 -0.25893 0.16555 -0.1831 -0.06734 0.42457 0.010346 0.14237 0.25939 0.17123 -0.13821 -0.066846 0.015981 -0.30193 0.043579 -0.043102 0.35025 -0.19681 -0.4281 0.16899 0.22511 -0.28557 -0.1028 -0.018168 0.11407 0.13015 -0.18317 0.1323\n",
            "\n",
            "and -0.18567 0.066008 -0.25209 -0.11725 0.26513 0.064908 0.12291 -0.093979 0.024321 2.4926 -0.017916 -0.071218 -0.24782 -0.26237 -0.2246 -0.21961 -0.12927 1.0867 -0.66072 -0.031617 -0.057328 0.056903 -0.27939 -0.39825 0.14251 -0.085146 -0.14779 0.055067 -0.0028687 -0.20917 -0.070735 0.22577 -0.15881 -0.10395 0.09711 -0.56251 -0.32929 -0.20853 0.0098711 0.049777 0.0014883 0.15884 0.042771 -0.0026956 -0.02462 -0.19213 -0.22556 0.10838 0.090086 -0.13291 0.32559 -0.17038 -0.1099 -0.23986 -0.024289 0.014656 -0.237 0.084828 -0.35982 -0.076746 0.048909 0.11431 -0.21013 0.24765 -0.017531 -0.14028 0.046191 0.22972 0.1175 0.12724 0.012992 0.4587 0.41085 0.039106 0.15713 -0.18376 0.26834 0.056662 0.16844 -0.053788 -0.091892 0.11193 -0.08681 -0.13324 0.15062 -0.31733 -0.22078 0.25038 0.34131 0.36419 -0.089514 -0.22193 0.24471 0.040091 0.47798 -0.029996 0.0019212 0.063511 -0.20417 -0.26478 0.20649 0.015573 -0.27722 -0.18861 -0.10289 -0.49773 0.14986 -0.010877 0.25085 -0.28117 0.18966 -0.065879 0.094753 -0.15338 -0.055071 -0.36747 0.24993 0.096527 0.23538 0.18405 0.052859 0.22967 0.12582 0.15536 -0.17275 0.33946 -0.10049 0.074948 -0.093575 -0.04049 -0.016922 -0.0058039 -0.18108 0.19537 0.45178 0.10965 0.2337 -0.09905 -0.078633 0.21678 -0.71231 -0.099759 0.33333 -0.1646 -0.091688 0.21056 0.023669 0.028922 0.1199 -0.12512 -0.026037 -0.062217 0.55816 0.0050273 -0.30888 0.038611 0.17568 -0.11163 -0.10815 -0.19444 0.29433 0.14519 -0.042878 0.18534 0.018891 -0.61883 0.13352 0.036007 0.33995 0.22109 -0.079328 0.071319 0.17678 0.16378 -0.23142 -0.1434 -0.098122 -0.019286 0.2356 -0.34013 -0.061007 -0.23208 -0.31152 0.10063 -0.15957 0.20183 -0.016345 -0.12303 0.022667 -0.20986 -0.20127 -0.087883 0.064731 0.10195 -0.1786 0.33056 0.21407 -0.32165 -0.17106 0.19407 -0.38618 -0.2148 -0.052254 0.023175 0.47389 0.18612 0.12711 0.20855 -0.10256 -0.12016 -0.40488 0.029695 -0.027419 -0.0085227 -0.11415 0.081134 -0.17228 0.19142 0.026514 0.043789 -0.12399 0.13354 0.10112 0.081682 -0.15085 0.0075806 -0.18971 0.24669 0.22491 0.35553 -0.3277 -0.21821 0.1402 0.28604 0.055226 -0.086544 0.02111 -0.19236 0.074245 0.076782 0.00081666 0.034097 -0.57719 0.10657 0.28134 -0.11964 -0.68281 -0.32893 -0.24442 -0.025847 0.0091273 0.2025 -0.050959 -0.11042 0.010962 0.076773 0.40048 -0.40739 -0.44773 0.31954 -0.036326 -0.012789 -0.17282 0.1476 0.2356 0.080642 -0.36528 -0.0083443 0.6239 -0.24379 0.019917 -0.28803 -0.010494 0.038412 -0.11718 -0.072462 0.16381 0.38488 -0.029783 0.23444 0.4532 0.14815 -0.027021 -0.073181 -0.1147 -0.0054545 0.47796 0.090912 0.094489 -0.36882 -0.59396 -0.097729 0.20072 0.17055 -0.0047356 -0.039709 0.32498 -0.023452 0.12302 0.3312\n",
            "\n",
            "to 0.31924 0.06316 -0.27858 0.2612 0.079248 -0.21462 -0.10495 0.15495 -0.03353 2.4834 -0.50904 0.08749 0.21426 0.22151 -0.25234 -0.097544 -0.1927 1.3606 -0.11592 -0.10383 0.21929 0.11997 -0.11063 0.14212 -0.16643 0.21815 0.0042086 -0.070012 -0.23532 -0.26518 0.031248 0.16669 -0.089777 0.20059 0.31614 -0.5583 0.075735 0.27635 0.12741 -0.18185 -0.12722 0.024686 -0.077233 -0.48998 0.020355 0.0039164 0.1215 0.089723 -0.078975 0.081443 -0.099087 -0.055621 0.10737 -0.0044042 0.48496 0.11717 -0.017329 0.109 -0.35558 0.051084 0.15714 0.17961 -0.29711 0.033645 -0.025792 -0.013931 -0.23 -0.040306 0.22282 -0.013544 0.011554 0.3911 0.26533 -0.31012 0.40539 -0.042975 0.020811 -0.33033 0.19573 -0.037958 0.10274 -0.0013581 -0.44505 0.077886 0.08511 -0.20285 -0.19481 0.056933 0.53105 0.034154 -0.56996 -0.18469 0.093403 0.28044 -0.23349 0.10938 -0.014288 -0.274 0.034196 -0.098479 0.13268 0.19437 0.13463 -0.099059 0.040324 -0.66272 0.3571 0.15429 0.18598 0.087542 0.080538 -0.25121 0.24155 0.1783 0.036011 -0.027677 0.21161 -0.29107 -0.0083456 0.11317 0.31064 -0.10693 -0.27367 -0.039785 0.039881 0.034462 -0.16518 0.16115 0.060826 0.3075 -0.22398 0.14619 -0.2661 0.49732 -0.13996 -0.24287 0.039469 -0.084495 -0.24315 0.070701 -1.0136 -0.21733 -0.36878 -0.24973 0.17472 -0.011592 0.068561 -0.090411 0.21878 -0.2639 0.11904 0.14285 -0.18707 -0.13474 -0.13232 -0.26553 0.22947 -0.018215 0.0067383 -0.1019 0.10053 -0.1127 -0.13295 0.15951 0.14906 -0.095578 0.26992 0.011057 0.056568 0.021386 0.20215 0.00048589 0.5336 -0.22947 0.29275 0.17378 0.25423 -0.10976 0.058816 0.014616 -0.04306 0.10732 -0.028149 -0.19181 0.1025 -0.063892 0.012737 -0.12913 0.015037 0.26562 -0.017049 -0.060716 -0.094919 0.017775 0.13221 0.1683 -0.19323 -0.17612 0.075506 0.18939 0.12508 -0.1988 -0.16017 -0.21092 0.46933 0.044747 0.098349 0.011637 0.22281 -0.010837 -0.04833 -0.47335 -0.36811 -0.13592 -0.15086 0.25416 0.069531 0.14211 -0.26703 -0.1259 0.12076 -0.26117 0.033024 -0.034398 -0.13968 0.13446 -0.16709 0.15002 -0.13724 0.091226 -0.27718 0.020098 0.26919 0.43016 0.094019 -0.085496 -0.25192 -0.11645 -0.039734 0.0046738 0.54178 -0.16636 0.34546 0.098501 0.47819 -0.38428 -0.3238 -0.14822 -0.47817 0.16704 -0.064505 0.11834 -0.3448 0.096891 0.32309 0.41471 0.19463 -0.20891 -0.12223 -0.058298 -0.20268 0.2948 0.043397 0.10112 0.27177 -0.52124 -0.073794 0.044808 0.41388 0.088782 0.62255 -0.072391 0.090129 0.15428 0.023163 -0.13028 0.061762 0.33803 -0.091581 0.21039 0.05108 0.19184 0.10444 0.2138 -0.35091 -0.23702 0.038399 -0.10031 0.18359 0.025178 -0.12977 0.3713 0.18888 -0.0042738 -0.10645 -0.2581 -0.044629 0.082745 0.097801 0.25045\n",
            "\n",
            "----- Word2Vec -----\n",
            "in 0.0703125 0.08691406 0.087890625 0.0625 0.06933594 -0.10888672 -0.08154297 -0.15429688 0.020751953 0.13183594 -0.11376953 -0.037353516 0.06933594 0.078125 -0.103027344 -0.09765625 0.044189453 0.10253906 -0.060791016 -0.036132812 -0.045410156 0.04736328 -0.12060547 -0.063964844 0.0022583008 0.037109375 -0.0029144287 0.11767578 0.061767578 0.063964844 0.08105469 -0.068847656 -0.021362305 0.05517578 -0.08544922 0.068847656 -0.12792969 -0.033203125 0.09863281 0.17578125 0.110839844 -0.03466797 -0.04711914 -0.008483887 0.035888672 0.103027344 0.026977539 -0.028686523 -0.005126953 0.10644531 0.059814453 0.09423828 0.033691406 -0.02709961 -0.09423828 0.0010299683 -0.048339844 0.034423828 0.08105469 -0.11328125 -0.08886719 0.035888672 -0.14550781 -0.24414062 -0.061523438 0.052978516 0.056884766 0.1796875 0.061035156 0.08691406 0.12402344 -0.040283203 0.022583008 0.17773438 -0.029663086 -0.029663086 0.1171875 0.03112793 -0.096191406 0.06640625 0.004699707 -0.080078125 0.06298828 -0.020629883 -0.0546875 -0.13574219 -0.06347656 0.083496094 -0.063964844 0.021484375 0.07714844 -0.037109375 -0.033691406 -0.18359375 -0.072753906 0.01586914 0.09326172 -0.061523438 -0.014221191 -0.0034484863 0.011108398 -0.15820312 -0.017089844 0.0061950684 -0.008728027 -0.080566406 -0.015258789 -0.087890625 0.003479004 -0.016113281 -0.012329102 0.09765625 -0.13964844 -0.0859375 -0.026855469 0.053955078 0.1328125 0.11279297 0.12109375 0.08544922 -0.0071105957 0.044677734 -0.14550781 -0.0032043457 -0.11767578 -0.06542969 0.07128906 -0.09423828 -0.030273438 0.12011719 0.080078125 -0.09472656 -0.16210938 -0.07763672 0.021240234 -0.08154297 0.0039367676 -0.15722656 -0.09814453 0.039794922 0.03930664 -0.009094238 0.103027344 0.067871094 -0.04272461 0.06347656 -0.049072266 0.020874023 -0.16699219 0.09326172 0.09375 0.006866455 0.053710938 0.052490234 -0.024414062 -0.032470703 -0.061523438 -0.005554199 0.096191406 0.037841797 0.012207031 -0.043945312 -0.0074768066 0.10546875 0.020385742 0.14550781 0.08203125 0.0057678223 0.0045776367 -0.09277344 -0.13867188 -0.057373047 -0.051513672 -0.13085938 -0.13964844 -0.020507812 -0.02709961 0.032714844 0.10498047 -0.0023345947 -0.022583008 0.00050354004 -0.110839844 0.08496094 -0.12988281 -0.017456055 -0.00035858154 0.107910156 0.08886719 0.044677734 0.025146484 0.023803711 0.08105469 0.02368164 -0.10986328 0.0053710938 -0.017700195 -0.033935547 -0.032958984 -0.1640625 0.095703125 -0.018310547 0.0053100586 -0.034423828 -0.044189453 -0.06640625 -0.017944336 -0.029663086 -0.007598877 -0.05126953 -0.05419922 0.08935547 -0.071777344 0.015258789 -0.08251953 -0.03173828 0.03564453 -0.021240234 -0.059326172 -0.013061523 0.046875 0.023071289 0.020996094 -0.07861328 -0.008056641 0.01953125 -0.005554199 0.041503906 0.027832031 0.01361084 0.03466797 -0.18261719 0.12011719 0.07421875 -0.041015625 -0.0099487305 0.04296875 -0.007293701 0.123046875 0.057617188 -0.053466797 -0.032226562 -0.009094238 -0.04663086 0.043945312 -0.05078125 0.068847656 0.0029907227 -0.004180908 -0.044189453 0.07373047 -0.012756348 0.06738281 0.006286621 0.07519531 -0.037841797 0.0048828125 0.044677734 -0.06738281 0.00970459 0.0047302246 0.020507812 0.07128906 0.17089844 0.17382812 0.055664062 0.091308594 -0.037353516 0.049804688 -0.03930664 0.044189453 0.0625 0.048583984 -0.053222656 0.048828125 -0.13085938 -0.028930664 -0.036132812 -0.060791016 -0.057373047 0.123046875 -0.08251953 -0.0119018555 0.125 0.0013580322 0.063964844 -0.10644531 -0.14355469 -0.042236328 0.024047852 -0.16894531 -0.08886719 -0.080566406 0.064941406 0.061279297 -0.04736328 -0.05883789 -0.047607422 0.014465332 -0.0625\n",
            "\n",
            "for -0.011779785 -0.04736328 0.044677734 0.06347656 -0.018188477 -0.063964844 -0.0013122559 -0.072265625 0.064453125 0.08642578 -0.16992188 -0.039794922 0.07128906 -0.025878906 0.018188477 0.13671875 0.14453125 -0.033691406 -0.09765625 -0.12011719 -0.079589844 0.0625 -0.06689453 0.07421875 0.022705078 0.033447266 -0.18066406 0.052001953 0.0138549805 0.09277344 0.0035095215 -0.009094238 -0.09716797 0.067871094 -0.0087890625 0.044189453 -0.13378906 -0.099609375 0.033203125 0.027954102 0.15527344 -0.017700195 0.014282227 -0.10986328 -0.08544922 -0.07324219 -0.024658203 0.17285156 0.061767578 0.08935547 -0.024291992 0.14160156 -0.032958984 0.02746582 -0.15527344 0.007873535 -0.07080078 0.043701172 0.006011963 -0.055908203 -0.14746094 0.028442383 -0.1328125 -0.17675781 -0.091308594 -0.05078125 -0.026000977 -0.1484375 -0.080566406 0.15039062 -0.04345703 0.07910156 0.033203125 0.09033203 0.022705078 -0.0625 0.1640625 0.0859375 -0.012390137 0.19628906 -0.06225586 0.022460938 -0.030151367 0.021240234 0.003326416 -0.055419922 -0.07324219 0.029785156 0.049804688 0.017456055 0.10449219 0.03881836 0.08496094 -0.24804688 0.06933594 -0.14941406 0.05834961 0.095703125 -0.033447266 0.06298828 0.021362305 -0.14550781 0.053710938 -0.09082031 -0.025390625 0.045410156 0.0053100586 -0.115722656 -0.01953125 0.12109375 0.032226562 0.09472656 -0.064453125 0.022705078 0.12060547 0.060302734 0.12060547 0.048828125 0.09326172 0.06689453 0.029296875 -0.034179688 -0.111328125 0.053466797 -0.025634766 0.017822266 0.06225586 -0.025878906 0.14550781 0.0625 0.107910156 -0.16308594 -0.09765625 -0.10595703 -0.08544922 -0.08886719 0.10107422 -0.079589844 0.008422852 0.024047852 0.13085938 0.05126953 0.08154297 0.09375 -0.05859375 -0.09667969 -0.028320312 -0.14550781 -0.14746094 0.14550781 -0.017578125 0.032958984 -0.08544922 -0.010986328 -0.037109375 -0.013671875 0.035888672 -0.008239746 0.05029297 -0.09472656 0.047851562 0.020751953 0.030639648 0.12988281 0.052734375 0.018798828 -0.017578125 0.03491211 0.018310547 -0.009887695 -0.18457031 -0.08984375 -0.029052734 -0.060791016 -0.05126953 -0.0023651123 0.06640625 -0.08251953 -0.040039062 0.096191406 -0.15429688 -0.15332031 0.028320312 0.013122559 0.029907227 -0.012145996 -0.09667969 0.024780273 0.19335938 0.013000488 0.024169922 -0.035888672 0.09863281 -0.09667969 -0.20019531 -0.013793945 0.0859375 -0.080078125 -0.17675781 -0.17480469 0.005126953 -0.03491211 -0.0546875 0.09375 -0.09326172 -0.011962891 -0.0005645752 0.09765625 0.024780273 -0.039794922 0.009765625 0.11816406 0.025756836 0.123046875 0.064453125 0.07080078 0.029296875 -0.049560547 -0.078125 0.028930664 0.045654297 -0.04296875 0.025878906 -0.051757812 0.140625 0.004272461 -0.037841797 0.02746582 0.060058594 0.028320312 0.028076172 -0.036621094 0.13085938 -9.679794e-05 -0.06933594 -0.022094727 0.067871094 -0.02331543 -0.015319824 -0.05834961 0.061035156 0.00064468384 0.0039978027 -0.07128906 0.091796875 0.026245117 0.020019531 0.03540039 -0.057861328 -0.029663086 0.02734375 0.025146484 0.060302734 0.13183594 -0.0043640137 0.0027313232 0.059814453 0.09863281 -0.091796875 -0.045898438 -0.017456055 0.038330078 -0.019165039 0.04638672 0.047851562 0.09814453 -0.040283203 0.09423828 -0.03466797 -0.042236328 0.0703125 -0.013671875 0.10644531 0.016479492 0.13183594 -0.0016937256 -0.008483887 -0.14257812 -0.04663086 -0.10986328 0.08203125 -0.041015625 -0.018920898 0.087890625 -0.0028076172 0.23828125 -0.04711914 -0.022949219 0.040771484 0.029296875 -0.022583008 0.0037231445 -0.08251953 0.08154297 0.00793457 0.00047683716 0.018432617 0.07128906 -0.03491211 0.024169922\n",
            "\n",
            "that -0.01574707 -0.028320312 0.083496094 0.05029297 -0.11035156 0.03173828 -0.014221191 -0.08984375 0.11767578 0.11816406 -0.071777344 -0.07714844 -0.068847656 0.07714844 -0.13867188 0.006500244 0.010986328 -0.015136719 -0.0009613037 -0.030273438 -0.00015830994 0.038330078 -0.024169922 -0.045898438 0.09472656 -0.05517578 -0.064941406 0.0061035156 0.0008544922 0.06201172 -0.05444336 0.014099121 0.022216797 -0.044921875 0.111328125 -0.03857422 0.05126953 0.025146484 0.016967773 0.06298828 0.13769531 0.13574219 0.06542969 -0.064453125 -0.024047852 -0.013366699 -0.037109375 0.0043029785 -0.01574707 0.019042969 0.10839844 0.044677734 -0.044921875 -0.095214844 0.08691406 0.08203125 0.0068359375 -0.13183594 0.0027313232 -0.075683594 0.022460938 0.171875 -0.048583984 0.038330078 -0.088378906 -0.017211914 0.021850586 0.13378906 0.010681152 0.049804688 0.038085938 -0.0052490234 0.061279297 -0.050048828 -0.10595703 0.055664062 0.15429688 0.17089844 0.048095703 0.12695312 0.08154297 -0.1015625 0.043945312 -0.013549805 -0.13378906 -0.15722656 0.024291992 0.20898438 -0.10205078 -0.09375 0.048583984 0.07519531 0.0035247803 -0.123535156 -0.024169922 -0.0013198853 0.038330078 0.007598877 0.017700195 0.043701172 -0.09814453 -0.05810547 0.014099121 0.041015625 -0.03540039 -0.022949219 -0.13085938 -0.14453125 0.028930664 -0.122558594 -0.07128906 -0.0071411133 -0.09667969 0.05859375 0.104003906 0.026367188 0.0075683594 0.036132812 0.040283203 0.052734375 -0.20410156 -0.033447266 -0.029052734 0.03173828 -0.123535156 -0.06738281 0.01586914 -0.08642578 0.012512207 -0.06298828 -0.12060547 0.0234375 -0.13183594 -0.11816406 -0.012145996 -0.10986328 0.095214844 -0.041992188 0.018310547 0.051757812 0.014953613 -0.15917969 -0.021728516 -0.005126953 0.035888672 -0.003036499 -0.078125 -0.05126953 -0.0074157715 0.087402344 -0.023925781 0.044189453 -0.11376953 0.021484375 -0.003829956 -0.04345703 -0.104003906 -0.18554688 -0.044921875 0.044921875 -0.044433594 0.019042969 -0.020996094 0.0134887695 0.015258789 -0.030395508 0.04663086 0.10253906 -0.0138549805 0.008239746 -0.052734375 0.01965332 -0.076171875 -0.08984375 0.043945312 0.00793457 0.012634277 -0.10839844 -0.018554688 -0.10449219 -0.15234375 -0.07910156 -0.028808594 -0.018676758 0.09716797 -0.008361816 -0.03540039 0.007537842 0.05810547 0.08203125 0.028808594 0.05102539 0.0031738281 -0.018554688 0.014953613 -0.072753906 -0.034179688 0.043945312 -0.048828125 -0.16113281 0.025634766 0.036621094 -0.00015354156 -0.0012588501 -0.039794922 -0.032226562 -0.01574707 0.060791016 0.09716797 -0.015014648 -0.033691406 -0.015319824 0.0046691895 0.032958984 -0.08203125 0.10644531 0.15429688 0.0087890625 -0.12011719 0.061279297 0.05859375 0.03881836 -0.015991211 -0.043945312 0.12011719 -0.07519531 0.125 0.03515625 0.072753906 0.087402344 0.021118164 -0.07373047 0.034423828 -0.09423828 0.01159668 -0.057128906 -0.07861328 0.015991211 0.075683594 0.030517578 0.0046081543 -0.14550781 -0.024780273 -0.107910156 0.068847656 0.05810547 0.125 -0.06542969 0.005279541 0.01184082 0.06982422 0.12695312 0.06542969 -0.017333984 0.119140625 -0.032470703 0.14453125 0.076660156 -0.032226562 -0.06591797 0.06298828 -0.0625 -0.096191406 0.10644531 -0.039794922 0.11621094 -0.00970459 -0.03540039 -0.06542969 0.05883789 0.16210938 0.05126953 0.15917969 0.095214844 0.076171875 -0.091796875 0.025146484 -0.07861328 0.08935547 -0.05859375 -0.040039062 0.045898438 0.03100586 0.0390625 0.03564453 -0.10595703 -0.037109375 -0.16113281 0.021362305 0.0012207031 -0.011291504 -0.015625 -0.033447266 -0.020629883 -0.01940918 0.063964844 0.020141602 0.006866455 0.061035156 -0.1484375\n",
            "\n",
            "is 0.0070495605 -0.07324219 0.171875 0.022583008 -0.1328125 0.19824219 0.11279297 -0.107910156 0.071777344 0.020874023 -0.123046875 -0.05908203 0.10107422 0.0107421875 0.14355469 0.25976562 -0.036376953 0.18554688 -0.07861328 -0.022705078 -0.12060547 0.17773438 0.049560547 0.017211914 0.079589844 -0.045654297 -0.18847656 0.18945312 -0.02319336 0.06298828 0.09765625 -0.019042969 -0.07910156 0.15234375 0.17382812 0.1015625 -0.16308594 0.114746094 0.10058594 -0.09277344 0.109375 0.05883789 -0.021606445 0.06347656 0.041992188 -0.008850098 0.032226562 0.10644531 0.064453125 -0.118652344 0.030517578 0.06689453 0.12207031 -0.08300781 0.171875 0.07861328 0.095214844 -0.0077819824 0.02319336 0.0234375 -0.016845703 0.15527344 -0.10986328 -0.17675781 -0.11621094 0.0234375 -0.010620117 0.052734375 -0.13378906 0.079589844 0.07373047 0.043945312 0.115234375 -0.020629883 0.07470703 -0.0115356445 0.080566406 0.041748047 0.080078125 0.3515625 0.09667969 -0.21289062 0.16503906 -0.078125 0.06982422 -0.0013961792 -0.091308594 0.12988281 0.25195312 -0.016113281 0.09326172 -0.14648438 -0.0015106201 -0.15136719 -0.026855469 -0.15722656 0.026367188 0.0859375 0.071777344 0.07714844 -0.0390625 0.05444336 -0.12792969 0.091308594 -0.18457031 -0.037597656 -0.027954102 -0.08984375 -0.11669922 -0.09863281 0.048095703 -0.16210938 -0.10888672 0.08496094 -0.045654297 0.15820312 -0.038085938 -0.08203125 0.203125 0.08642578 0.06933594 0.032226562 -0.16015625 0.09472656 -0.024658203 0.05419922 0.027954102 0.044921875 0.16992188 0.072753906 -0.036376953 -0.010253906 -0.017089844 -0.107421875 -0.0007019043 -0.07373047 0.25390625 0.056640625 0.03515625 -0.008605957 0.18554688 0.021484375 0.26367188 -0.023803711 -0.099121094 -0.041259766 -0.06933594 -0.11376953 0.050048828 -0.05883789 0.046142578 0.087402344 0.10546875 0.10644531 0.027954102 0.09472656 0.11621094 -0.17285156 -0.03491211 -0.20800781 0.059570312 0.104003906 -0.0017929077 0.05859375 -0.029785156 -0.037597656 0.048583984 -0.063964844 0.079589844 0.06933594 -0.10498047 -0.14453125 0.04345703 -0.068847656 -0.03564453 -0.01171875 0.013671875 -0.06591797 0.119140625 0.03125 -0.04638672 -0.0019683838 0.0073547363 -0.056640625 0.027832031 0.08251953 -0.0134887695 0.071777344 0.14453125 0.12792969 0.042236328 0.14160156 -0.018066406 0.021606445 -0.091796875 0.13378906 -0.1953125 -0.05029297 -0.037841797 -0.096191406 0.103027344 -0.106933594 -0.14746094 0.099609375 -0.23046875 0.22753906 -0.07519531 0.064941406 0.091796875 0.046875 0.06298828 0.06982422 0.046142578 0.09716797 -0.20214844 0.19921875 0.18652344 -0.119628906 -0.14257812 0.15039062 -0.033691406 -0.14550781 -0.0006904602 -0.07324219 0.13378906 0.03564453 -0.022949219 0.027709961 -0.07910156 0.20703125 -0.083496094 -0.049560547 0.03149414 0.1484375 0.055664062 -0.044921875 -0.079589844 0.004760742 -0.020751953 0.060058594 0.004760742 0.011169434 0.17285156 -0.13476562 0.030761719 -0.079589844 0.09033203 0.061035156 0.07714844 -0.05029297 -0.092285156 -0.26757812 0.107910156 0.0859375 0.06298828 0.107910156 -0.026733398 0.10205078 -0.12060547 0.052978516 0.09472656 -0.16503906 0.044189453 0.072265625 0.041259766 0.42578125 -0.103027344 -0.16015625 -0.09033203 -0.063964844 -0.048095703 0.14453125 0.06542969 0.049316406 0.05419922 0.13574219 -0.01928711 -0.21582031 -0.07421875 -0.14648438 0.011474609 -0.16503906 -0.10498047 0.0032043457 0.13476562 -0.003967285 -0.103515625 -0.13964844 0.10449219 -0.012573242 -0.23339844 -0.036376953 -0.09375 0.18261719 0.02709961 0.12792969 -0.024780273 0.011230469 0.1640625 0.106933594\n",
            "\n",
            "on 0.026733398 -0.09082031 0.027832031 0.20410156 0.006225586 -0.09033203 0.022583008 -0.16113281 0.1328125 0.061035156 -0.01574707 0.088378906 0.013793945 0.04638672 -0.055908203 -0.06689453 0.012268066 0.13671875 0.15429688 -0.046142578 -0.03930664 -0.15429688 -0.16503906 0.107910156 0.033203125 -0.05102539 0.037109375 0.1015625 0.11035156 0.020507812 0.0067749023 0.0011825562 -0.012512207 -0.125 0.014831543 -0.026855469 -0.021484375 0.015075684 0.13867188 0.048583984 -0.076660156 -0.11669922 0.106933594 0.041748047 0.012817383 -0.009460449 -0.028930664 -0.03857422 0.24316406 0.009521484 0.022094727 0.22265625 0.009155273 -0.045410156 -0.03540039 0.140625 -0.18457031 0.07763672 0.041503906 -0.08496094 -0.099121094 0.05834961 -0.09667969 -0.20214844 -0.014038086 -0.0023651123 0.14746094 0.20019531 0.059570312 0.15429688 0.13476562 0.005279541 0.125 0.08544922 -0.027709961 -0.05810547 0.18359375 0.007873535 -0.15332031 0.12402344 -0.080078125 -0.14355469 0.14941406 0.014587402 0.107910156 -0.20117188 -0.15039062 0.052490234 0.07714844 0.091796875 -0.038085938 0.1484375 0.0546875 -0.15136719 0.014282227 -0.10498047 0.019042969 -0.06347656 0.053466797 0.03491211 0.13964844 -0.13378906 0.21679688 -0.19433594 -0.05834961 -0.13476562 -0.265625 -0.104003906 0.03540039 -0.21582031 0.08251953 0.045166016 -0.06982422 -0.04321289 0.026977539 -0.09033203 0.005493164 0.049804688 -0.03564453 0.059814453 -0.14941406 -0.022094727 -0.033203125 0.17578125 -0.06640625 -0.018310547 0.011291504 -0.042236328 -0.07714844 0.017456055 -0.10498047 -0.10449219 -0.04736328 -0.029541016 -0.061523438 -0.05078125 -0.025634766 -0.095214844 -0.08105469 -0.1015625 0.20214844 0.118652344 -0.002822876 -0.060302734 0.022460938 0.13085938 0.080566406 -0.15429688 -0.08251953 0.16015625 0.057861328 0.09765625 -0.020996094 -0.045166016 -0.07324219 0.0043640137 -0.09082031 0.019165039 -0.016601562 -0.05029297 0.014709473 -0.0041503906 0.03466797 0.057373047 0.080078125 0.006225586 0.063964844 0.024536133 0.03173828 -0.125 -0.078125 -0.024536133 -0.072265625 -0.08642578 -0.07714844 0.04345703 -0.00018787384 -0.011413574 -0.099121094 0.026245117 0.053466797 0.045410156 -0.07128906 0.13867188 0.041015625 0.011169434 -0.015319824 0.032958984 0.18261719 0.017456055 -0.031982422 0.107910156 0.032958984 -0.03515625 -0.21777344 0.10205078 -0.029296875 -0.0009460449 -0.0071411133 -0.026367188 0.061767578 -0.016967773 -0.021728516 -0.119140625 0.009094238 0.103027344 -0.0030059814 0.14941406 0.10595703 -0.040283203 -0.018432617 0.035888672 -0.038085938 0.056884766 0.015319824 0.01977539 0.18066406 0.008178711 -0.15136719 0.032226562 0.15722656 0.05078125 -0.028930664 0.043945312 -0.05859375 0.0030975342 -0.012634277 0.16113281 0.10595703 -0.033935547 0.18164062 -0.044677734 0.034179688 -0.037841797 -0.008850098 -0.036865234 0.07861328 0.02709961 0.046142578 0.068847656 0.05053711 -0.0017471313 -0.13671875 -0.15332031 0.09863281 -0.16113281 0.0066223145 -0.0859375 -0.017578125 0.040771484 0.029907227 0.011413574 -0.020263672 -0.064453125 0.017456055 -0.12890625 -0.00034713745 0.042236328 0.0032958984 0.122558594 -0.095703125 0.092285156 0.10498047 -0.12451172 0.035888672 0.14550781 -0.10546875 0.022949219 -0.008361816 0.004638672 0.21972656 -0.049560547 0.23828125 -0.05834961 0.048339844 0.060546875 -0.037353516 -0.17773438 0.044921875 -0.042236328 0.08251953 0.11035156 -0.109375 0.09423828 -0.072265625 0.049072266 -0.15820312 0.078125 0.029541016 -0.12109375 0.026855469 -0.027954102 0.030883789 0.040527344 -0.13085938 0.08300781 0.01574707 -0.11669922 -0.029418945 -0.07080078\n",
            "\n"
          ]
        }
      ]
    },
    {
      "cell_type": "markdown",
      "metadata": {
        "id": "WIVCkUkE_IjR"
      },
      "source": [
        "#### Exercise: New Vocabulary\n",
        "\n",
        "Since we now use pre-trained word embeddings, we need to create a new vocabulary. \n",
        "This is because of two reasons:\n",
        "\n",
        "1. We do not have pre-trained word embeddings for all words in our SST training set, and we do not want words in our vocabulary for which we have no word embeddings.\n",
        "2. We should be able to look up the pre-trained word embedding for words in the validation and test set, even if these words are unseen in training. \n",
        "\n",
        "Now, create a new vocabulary object `v` based on the word set of pre-trained embeddings, and load the corresponding embeddings into a list `vectors`.\n",
        "\n",
        "The vocabulary `v` should consist of:\n",
        " - a  `<unk>` token at position 0,\n",
        " - a  `<pad>` token at position 1, \n",
        " - and then all words in the pre-trained embedding set.\n",
        " \n",
        "\n",
        "After storing each vector in a list `vectors`, turn the list into a numpy matrix like this:\n",
        "```python\n",
        " vectors = np.stack(vectors, axis=0)\n",
        "```\n",
        "\n",
        "Remember to add new embeddings for the `<unk>` and `<pad>` tokens, as they're not part of the word2vec/GloVe embeddings. These embeddings can be randomly initialized or 0-valued, think about what makes sense and see what the effects are.\n",
        " "
      ]
    },
    {
      "cell_type": "code",
      "metadata": {
        "id": "ITyyCvDnCL4U",
        "colab": {
          "base_uri": "https://localhost:8080/"
        },
        "outputId": "96b552d0-965c-4a48-f37e-e7912ff17037"
      },
      "source": [
        "v = Vocabulary()\n",
        "features = {}\n",
        "feature_length = None\n",
        "\n",
        "with open(\"glove.840B.300d.sst.txt\") as f:\n",
        "   for idx, line in enumerate(f):\n",
        "        elements = line.split(\" \")\n",
        "        token = elements[0]\n",
        "        v.count_token(token)\n",
        "        features[token] = list(map(float, elements[1:]))\n",
        "        if feature_length is None:\n",
        "          feature_length = len(features[token])\n",
        "v.build()\n",
        "print(\"Vocabulary size:\", len(v.w2i))\n",
        "\n",
        "vectors = [None]*len(v.w2i)\n",
        "for token in v.i2w:\n",
        "  if token not in features:\n",
        "    #initialized as 0s\n",
        "    #if token == '<pad>':\n",
        "    #vectors[v.w2i[token]] = np.random.randn(feature_length)\n",
        "    #else:\n",
        "    vectors[v.w2i[token]] = [0]*feature_length\n",
        "  else:\n",
        "    vectors[v.w2i[token]] = features[token]\n",
        "\n",
        "vectors = np.stack(vectors, axis = 0)\n",
        "print(f\"Matrix Shape: {vectors.shape}\")"
      ],
      "execution_count": 95,
      "outputs": [
        {
          "output_type": "stream",
          "name": "stdout",
          "text": [
            "Vocabulary size: 20727\n",
            "Matrix Shape: (20727, 300)\n"
          ]
        }
      ]
    },
    {
      "cell_type": "markdown",
      "metadata": {
        "id": "xC-7mRyYNG9b"
      },
      "source": [
        "#### Exercise: words not in our pre-trained set\n",
        "\n",
        "How many words in the training, dev, and test set are also in your vector set?\n",
        "How many words are not there?\n",
        "\n",
        "Store the words that are not in the word vector set in the set below."
      ]
    },
    {
      "cell_type": "code",
      "metadata": {
        "id": "K6MA3-wF_X5M",
        "colab": {
          "base_uri": "https://localhost:8080/"
        },
        "outputId": "12b388b7-c3f6-403d-e3de-883a128cb3ea"
      },
      "source": [
        "words_not_found = set()\n",
        "datasets = [train_data, dev_data, test_data]\n",
        "for idx, dataset in enumerate(datasets, start=1):\n",
        "  print(f\"Analysing dataset {idx}/{len(datasets)}...\")\n",
        "  for example in dataset:\n",
        "    for token in example.tokens:\n",
        "      if token not in v.i2w:\n",
        "        words_not_found.add(token)"
      ],
      "execution_count": 53,
      "outputs": [
        {
          "output_type": "stream",
          "name": "stdout",
          "text": [
            "Analysing dataset 1/3...\n",
            "Analysing dataset 2/3...\n",
            "Analysing dataset 3/3...\n"
          ]
        }
      ]
    },
    {
      "cell_type": "code",
      "source": [
        "print(f\"Unknown words in train/dev/test: {len(words_not_found)}\")"
      ],
      "metadata": {
        "colab": {
          "base_uri": "https://localhost:8080/"
        },
        "id": "E-AD_qqJ-fWe",
        "outputId": "52de0bd9-41c0-451d-af7c-04ecbe5e2c34"
      },
      "execution_count": 54,
      "outputs": [
        {
          "output_type": "stream",
          "name": "stdout",
          "text": [
            "Unknown words in train/dev/test: 2493\n"
          ]
        }
      ]
    },
    {
      "cell_type": "markdown",
      "metadata": {
        "id": "BfEd38W0NnAI"
      },
      "source": [
        "#### Exercise: train Deep CBOW with (fixed) pre-trained embeddings\n",
        "\n",
        "Now train Deep CBOW again using the pre-trained word vectors.\n"
      ]
    },
    {
      "cell_type": "code",
      "metadata": {
        "id": "z_6ooqgEsB20"
      },
      "source": [
        "# We define a new class that inherits from DeepCBOW.\n",
        "class PTDeepCBOW(DeepCBOW):\n",
        "  def __init__(self, vocab_size, embedding_dim, hidden_dim, output_dim, vocab):\n",
        "    super(PTDeepCBOW, self).__init__(\n",
        "        vocab_size, embedding_dim, hidden_dim, output_dim, vocab)"
      ],
      "execution_count": 98,
      "outputs": []
    },
    {
      "cell_type": "code",
      "metadata": {
        "id": "JfIh4Ni6yuAh",
        "colab": {
          "base_uri": "https://localhost:8080/"
        },
        "outputId": "328a3f19-47fd-40e0-cd56-2d50b9cebde4"
      },
      "source": [
        "# Create a Deep CBOW model with pre-trained embeddings\n",
        "# YOUR CODE HERE\n",
        "pt_deep_cbow_model = PTDeepCBOW(vocab_size = len(v.i2w), \n",
        "                                embedding_dim = vectors.shape[1], \n",
        "                                hidden_dim = 300, \n",
        "                                output_dim = 5, \n",
        "                                vocab = v)\n",
        "\n",
        "# copy pre-trained word vectors into embeddings table\n",
        "pt_deep_cbow_model.embed.weight.data.copy_(torch.from_numpy(vectors))\n",
        "\n",
        "# disable training the pre-trained embeddings\n",
        "pt_deep_cbow_model.embed.weight.requires_grad = False\n",
        "\n",
        "# move model to specified device\n",
        "pt_deep_cbow_model = pt_deep_cbow_model.to(device)\n",
        "\n",
        "# train the model\n",
        "pt_deep_cbow_model = pt_deep_cbow_model.to(device)\n",
        "\n",
        "optimizer = optim.Adam(pt_deep_cbow_model.parameters(), lr=0.0005)\n",
        "pt_deep_cbow_losses, pt_deep_cbow_accuracies = train_model(\n",
        "    pt_deep_cbow_model, optimizer, num_iterations=30000, \n",
        "    print_every=1000, eval_every=1000)"
      ],
      "execution_count": 99,
      "outputs": [
        {
          "output_type": "stream",
          "name": "stdout",
          "text": [
            "Shuffling training data\n",
            "Iter 1000: loss=1554.9283, time=1.89s\n",
            "iter 1000: dev acc=0.3134\n",
            "new highscore\n",
            "Iter 2000: loss=1417.6945, time=3.94s\n",
            "iter 2000: dev acc=0.4042\n",
            "new highscore\n",
            "Iter 3000: loss=1439.6577, time=5.97s\n",
            "iter 3000: dev acc=0.3551\n",
            "Iter 4000: loss=1406.0901, time=7.96s\n",
            "iter 4000: dev acc=0.3797\n",
            "Iter 5000: loss=1372.7925, time=9.93s\n",
            "iter 5000: dev acc=0.3733\n",
            "Iter 6000: loss=1385.7253, time=11.89s\n",
            "iter 6000: dev acc=0.3324\n",
            "Iter 7000: loss=1356.1417, time=13.84s\n",
            "iter 7000: dev acc=0.3987\n",
            "Iter 8000: loss=1347.4639, time=15.82s\n",
            "iter 8000: dev acc=0.4087\n",
            "new highscore\n",
            "Shuffling training data\n",
            "Iter 9000: loss=1354.7691, time=17.88s\n",
            "iter 9000: dev acc=0.3551\n",
            "Iter 10000: loss=1326.8325, time=19.83s\n",
            "iter 10000: dev acc=0.3161\n",
            "Iter 11000: loss=1386.1750, time=21.88s\n",
            "iter 11000: dev acc=0.4124\n",
            "new highscore\n",
            "Iter 12000: loss=1331.3317, time=24.29s\n",
            "iter 12000: dev acc=0.4015\n",
            "Iter 13000: loss=1325.8017, time=26.21s\n",
            "iter 13000: dev acc=0.4087\n",
            "Iter 14000: loss=1368.1913, time=28.19s\n",
            "iter 14000: dev acc=0.3933\n",
            "Iter 15000: loss=1350.9472, time=30.16s\n",
            "iter 15000: dev acc=0.4151\n",
            "new highscore\n",
            "Iter 16000: loss=1352.1348, time=32.18s\n",
            "iter 16000: dev acc=0.4005\n",
            "Iter 17000: loss=1285.4810, time=34.12s\n",
            "iter 17000: dev acc=0.4142\n",
            "Shuffling training data\n",
            "Iter 18000: loss=1337.4842, time=36.07s\n",
            "iter 18000: dev acc=0.3769\n",
            "Iter 19000: loss=1344.0999, time=38.00s\n",
            "iter 19000: dev acc=0.3960\n",
            "Iter 20000: loss=1348.9463, time=39.97s\n",
            "iter 20000: dev acc=0.3960\n",
            "Iter 21000: loss=1282.3619, time=41.88s\n",
            "iter 21000: dev acc=0.3951\n",
            "Iter 22000: loss=1319.7931, time=43.82s\n",
            "iter 22000: dev acc=0.4069\n",
            "Iter 23000: loss=1322.5773, time=45.78s\n",
            "iter 23000: dev acc=0.3642\n",
            "Iter 24000: loss=1320.4667, time=47.78s\n",
            "iter 24000: dev acc=0.4169\n",
            "new highscore\n",
            "Iter 25000: loss=1341.9325, time=49.83s\n",
            "iter 25000: dev acc=0.3697\n",
            "Shuffling training data\n",
            "Iter 26000: loss=1310.3505, time=51.83s\n",
            "iter 26000: dev acc=0.4033\n",
            "Iter 27000: loss=1289.1270, time=53.77s\n",
            "iter 27000: dev acc=0.3924\n",
            "Iter 28000: loss=1336.8448, time=56.39s\n",
            "iter 28000: dev acc=0.4033\n",
            "Iter 29000: loss=1321.1349, time=58.32s\n",
            "iter 29000: dev acc=0.3860\n",
            "Iter 30000: loss=1334.2236, time=60.28s\n",
            "iter 30000: dev acc=0.4178\n",
            "new highscore\n",
            "Done training\n",
            "Loading best model\n",
            "best model iter 30000: train acc=0.4611, dev acc=0.4178, test acc=0.4578, test acc on big sentences=0.3939, test acc on small sentences=0.4578\n"
          ]
        }
      ]
    },
    {
      "cell_type": "code",
      "metadata": {
        "id": "Ufujv3x31ufD",
        "colab": {
          "base_uri": "https://localhost:8080/",
          "height": 447
        },
        "outputId": "305b846e-d05a-4876-927a-b702cd823ff8"
      },
      "source": [
        "# plot dev accuracies\n",
        "plt.plot(pt_deep_cbow_accuracies)"
      ],
      "execution_count": 100,
      "outputs": [
        {
          "output_type": "execute_result",
          "data": {
            "text/plain": [
              "[<matplotlib.lines.Line2D at 0x7fe6ae82f130>]"
            ]
          },
          "metadata": {},
          "execution_count": 100
        },
        {
          "output_type": "display_data",
          "data": {
            "text/plain": [
              "<Figure size 640x480 with 1 Axes>"
            ],
            "image/png": "[encoded data removed]"
          },
          "metadata": {}
        }
      ]
    },
    {
      "cell_type": "code",
      "metadata": {
        "id": "YTJtKBzd7Qjr",
        "colab": {
          "base_uri": "https://localhost:8080/",
          "height": 447
        },
        "outputId": "8855a5a9-067d-44b7-d28d-559615d8d2b7"
      },
      "source": [
        "# plot train loss\n",
        "plt.plot(pt_deep_cbow_losses)"
      ],
      "execution_count": 101,
      "outputs": [
        {
          "output_type": "execute_result",
          "data": {
            "text/plain": [
              "[<matplotlib.lines.Line2D at 0x7fe6ac883490>]"
            ]
          },
          "metadata": {},
          "execution_count": 101
        },
        {
          "output_type": "display_data",
          "data": {
            "text/plain": [
              "<Figure size 640x480 with 1 Axes>"
            ],
            "image/png": "[encoded data removed]"
          },
          "metadata": {}
        }
      ]
    },
    {
      "cell_type": "markdown",
      "metadata": {
        "id": "yFu8xzCy9XDW"
      },
      "source": [
        "**It looks like we've hit what is possible with just using words.**\n",
        "Let's move on by incorporating word order!"
      ]
    },
    {
      "cell_type": "markdown",
      "metadata": {
        "id": "g41yW4PL9jG0"
      },
      "source": [
        "# LSTM"
      ]
    },
    {
      "cell_type": "markdown",
      "metadata": {
        "id": "ODzXEH0MaGpa"
      },
      "source": [
        "It is time to get more serious. Even with pre-trained word embeddings and multiple layers, we still seem to do pretty badly at sentiment classification. \n",
        "The next step we can take is to introduce word order again, dropping our independence assumptions. In this way, we can get a representation of the sentence as an ordered set of tokens.\n",
        "\n",
        "We will get this representation using a **Long Short-Term Memory** (LSTM). As an exercise, we will code our own LSTM cell, so that we get comfortable with its inner workings.\n",
        "Once we have an LSTM cell, we can call it repeatedly, updating its hidden state one word at a time:\n",
        "\n",
        "```python\n",
        "rnn = MyLSTMCell(input_size, hidden_size)\n",
        "\n",
        "hx = torch.zeros(1, hidden_size)  # initial hidden state\n",
        "cx = torch.zeros(1, hidden_size)  # initial memory cell\n",
        "output = []                       # to save intermediate LSTM states\n",
        "\n",
        "# feed one word at a time\n",
        "for i in range(n_timesteps):\n",
        "  hx, cx = rnn(input[i], (hx, cx))\n",
        "  output.append(hx)\n",
        "```\n",
        "\n",
        "If you need some more help understanding LSTMs, you can check out these resources:\n",
        "- Blog post (highly recommended): http://colah.github.io/posts/2015-08-Understanding-LSTMs/\n",
        "- Paper covering LSTM formulas in detail: https://arxiv.org/abs/1503.04069 \n"
      ]
    },
    {
      "cell_type": "markdown",
      "metadata": {
        "id": "v9f4b45BXKFC"
      },
      "source": [
        "#### Exercise: Finish the LSTM cell below. \n",
        "You will need to implement the LSTM formulas:\n",
        "\n",
        "$$\n",
        "\\begin{array}{ll}\n",
        "        i = \\sigma(W_{ii} x + b_{ii} + W_{hi} h + b_{hi}) \\\\\n",
        "        f = \\sigma(W_{if} x + b_{if} + W_{hf} h + b_{hf}) \\\\\n",
        "        g = \\tanh(W_{ig} x + b_{ig} + W_{hg} h + b_{hg}) \\\\\n",
        "        o = \\sigma(W_{io} x + b_{io} + W_{ho} h + b_{ho}) \\\\\n",
        "        c' = f * c + i * g \\\\\n",
        "        h' = o \\tanh(c') \\\\\n",
        "\\end{array}\n",
        " $$\n",
        "\n",
        "where $\\sigma$ is the sigmoid function.\n",
        "\n",
        "*Note that the LSTM formulas can differ slightly between different papers. We use the PyTorch LSTM formulation here.*"
      ]
    },
    {
      "cell_type": "code",
      "metadata": {
        "id": "zJ9m5kLMd7-v"
      },
      "source": [
        "class MyLSTMCell(nn.Module):\n",
        "  \"\"\"Our own LSTM cell\"\"\"\n",
        "\n",
        "  def __init__(self, input_size, hidden_size, bias=True, optimized = False):\n",
        "    \"\"\"Creates the weights for this LSTM\"\"\"\n",
        "    super(MyLSTMCell, self).__init__()\n",
        "\n",
        "    self.input_size = input_size\n",
        "    self.hidden_size = hidden_size\n",
        "    self.bias = bias\n",
        "    \n",
        "    # YOUR CODE HERE\n",
        "    self.optimized = optimized\n",
        "\n",
        "    \n",
        "    self.act_sigmoid = nn.Sigmoid()\n",
        "    self.act_tanh = nn.Tanh()\n",
        "\n",
        "    if not self.optimized:\n",
        "      self.linear_ii = nn.Linear(input_size, hidden_size)\n",
        "      self.linear_hi = nn.Linear(hidden_size, hidden_size)\n",
        "\n",
        "      self.linear_if = nn.Linear(input_size, hidden_size)\n",
        "      self.linear_hf = nn.Linear(hidden_size, hidden_size)\n",
        "\n",
        "      self.linear_ig = nn.Linear(input_size, hidden_size)\n",
        "      self.linear_hg = nn.Linear(hidden_size, hidden_size)\n",
        "\n",
        "      self.linear_io = nn.Linear(input_size, hidden_size)\n",
        "      self.linear_ho = nn.Linear(hidden_size, hidden_size)\n",
        "    else:\n",
        "      self.linear_h = nn.Linear(hidden_size, hidden_size * 4)\n",
        "      self.linear_i = nn.Linear(input_size, hidden_size * 4)\n",
        "\n",
        "    self.reset_parameters()\n",
        "\n",
        "  def reset_parameters(self):\n",
        "    \"\"\"This is PyTorch's default initialization method\"\"\"\n",
        "    stdv = 1.0 / math.sqrt(self.hidden_size)\n",
        "    for weight in self.parameters():\n",
        "      weight.data.uniform_(-stdv, stdv)  \n",
        "\n",
        "  def forward(self, input_, hx, mask=None):\n",
        "    \"\"\"\n",
        "    input is (batch, input_size)\n",
        "    hx is ((batch, hidden_size), (batch, hidden_size))\n",
        "    \"\"\"\n",
        "    prev_h, prev_c = hx\n",
        "\n",
        "    # project input and prev state\n",
        "    # YOUR CODE HERE\n",
        "  \n",
        "\n",
        "    # main LSTM computation    \n",
        "    if not self.optimized:\n",
        "      i = self.act_sigmoid(self.linear_ii(input_) + self.linear_hi(prev_h))\n",
        "      f = self.act_sigmoid(self.linear_if(input_) + self.linear_hf(prev_h))\n",
        "      g = self.act_tanh(self.linear_ig(input_) + self.linear_hg(prev_h))\n",
        "      o = self.act_sigmoid(self.linear_io(input_) + self.linear_ho(prev_h)) \n",
        "\n",
        "    else:\n",
        "        ii_, if_, ig_, io_ = self.linear_i(input_).chunk(4, 1)\n",
        "        hi_, hf_, hg_, ho_ = self.linear_h(prev_h).chunk(4, 1)\n",
        "\n",
        "        i = self.act_sigmoid(ii_ + hi_)\n",
        "        f = self.act_sigmoid(if_ + hf_)\n",
        "        g = self.act_tanh(ig_ + hg_)\n",
        "        o = self.act_sigmoid(io_ + ho_)\n",
        "\n",
        "    c = f * prev_c + i * g\n",
        "    h = o * self.act_tanh(c)\n",
        "    \n",
        "\n",
        "    return h, c\n",
        "  \n",
        "  def __repr__(self):\n",
        "    return \"{}({:d}, {:d})\".format(\n",
        "        self.__class__.__name__, self.input_size, self.hidden_size)"
      ],
      "execution_count": 102,
      "outputs": []
    },
    {
      "cell_type": "code",
      "source": [
        "class MyLSTMCell_Zuidema(nn.Module):\n",
        "  \"\"\"Our own LSTM cell\"\"\"\n",
        "\n",
        "  def __init__(self, input_size, hidden_size, bias=True):\n",
        "    \"\"\"Creates the weights for this LSTM\"\"\"\n",
        "    super(MyLSTMCell_Zuidema, self).__init__()\n",
        "\n",
        "    self.input_size = input_size\n",
        "    self.hidden_size = hidden_size\n",
        "    self.bias = bias\n",
        "\n",
        "    \n",
        "    self.act_sigmoid = nn.Sigmoid()\n",
        "    self.act_tanh = nn.Tanh()\n",
        "\n",
        "\n",
        "    self.linear_ii = nn.Linear(input_size, hidden_size)\n",
        "    self.linear_hi = nn.Linear(hidden_size, hidden_size)\n",
        "\n",
        "    self.linear_if = nn.Linear(input_size, hidden_size)\n",
        "    self.linear_hf = nn.Linear(hidden_size, hidden_size)\n",
        "\n",
        "    self.linear_ig = nn.Linear(input_size, hidden_size)\n",
        "    self.linear_hg = nn.Linear(hidden_size, hidden_size)\n",
        "\n",
        "    self.linear_io = nn.Linear(input_size, hidden_size)\n",
        "    self.linear_ho = nn.Linear(hidden_size, hidden_size)\n",
        "\n",
        "    self.linear_ci = nn.Linear(hidden_size, hidden_size)\n",
        "    self.linear_cf = nn.Linear(hidden_size, hidden_size)\n",
        "    self.linear_co = nn.Linear(hidden_size, hidden_size)\n",
        "\n",
        "\n",
        "    self.reset_parameters()\n",
        "\n",
        "  def reset_parameters(self):\n",
        "    \"\"\"This is PyTorch's default initialization method\"\"\"\n",
        "    stdv = 1.0 / math.sqrt(self.hidden_size)\n",
        "    for weight in self.parameters():\n",
        "      weight.data.uniform_(-stdv, stdv)  \n",
        "\n",
        "  def forward(self, input_, hx, mask=None):\n",
        "    \"\"\"\n",
        "    input is (batch, input_size)\n",
        "    hx is ((batch, hidden_size), (batch, hidden_size))\n",
        "    \"\"\"\n",
        "    prev_h, prev_c = hx\n",
        "\n",
        "    # project input and prev state\n",
        "    # YOUR CODE HERE\n",
        "  \n",
        "\n",
        "    # main LSTM computation    \n",
        " \n",
        "    i = self.act_sigmoid(self.linear_ii(input_) + self.linear_hi(prev_h) + self.linear_ci(prev_c))\n",
        "    f = self.act_sigmoid(self.linear_if(input_) + self.linear_hf(prev_h) + self.linear_cf(prev_c))\n",
        "    c = f * prev_c + i * self.act_tanh(self.linear_ig(input_) + self.linear_hg(prev_h))\n",
        "    o = self.act_sigmoid(self.linear_io(input_) + self.linear_ho(prev_h) + self.linear_co(c)) \n",
        "    h = o * self.act_tanh(c)\n",
        "    \n",
        "    return h, c\n",
        "  \n",
        "  def __repr__(self):\n",
        "    return \"{}({:d}, {:d})\".format(\n",
        "        self.__class__.__name__, self.input_size, self.hidden_size)"
      ],
      "metadata": {
        "id": "S7tHTciPbQg8"
      },
      "execution_count": 103,
      "outputs": []
    },
    {
      "cell_type": "markdown",
      "metadata": {
        "id": "4JM7xPhkQeE5"
      },
      "source": [
        "#### Optional: Efficient Matrix Multiplication\n",
        "\n",
        "It is more efficient to do a few big matrix multiplications than to do many smaller ones. So we will implement the above cell using just **two** linear layers.\n",
        "\n",
        "This is possible because the eight linear transformations contained in one forward pass through an LSTM cell can be reduced to just two:\n",
        "$$W_h h + b_h$$\n",
        "$$W_i x + b_i $$ \n",
        "\n",
        "with $h = $ `prev_h` and $x = $ `input_`.\n",
        "\n",
        "and where: \n",
        "\n",
        "$W_h =  \\begin{pmatrix}\n",
        "W_{hi}\\\\ \n",
        "W_{hf}\\\\ \n",
        "W_{hg}\\\\ \n",
        "W_{ho}\n",
        "\\end{pmatrix}$, $b_h = \\begin{pmatrix}\n",
        "b_{hi}\\\\ \n",
        "b_{hf}\\\\ \n",
        "b_{hg}\\\\ \n",
        "b_{ho}\n",
        "\\end{pmatrix}$,  $W_i = \\begin{pmatrix}\n",
        "W_{ii}\\\\ \n",
        "W_{if}\\\\ \n",
        "W_{ig}\\\\ \n",
        "W_{io}\n",
        "\\end{pmatrix}$ and $b_i = \\begin{pmatrix}\n",
        "b_{ii}\\\\ \n",
        "b_{if}\\\\ \n",
        "b_{ig}\\\\ \n",
        "b_{io}\n",
        "\\end{pmatrix}$.\n",
        "\n",
        "Convince yourself that, after chunking with [torch.chunk](https://pytorch.org/docs/stable/torch.html?highlight=chunk#torch.chunk), the output of those two linear transformations is equivalent to the output of the eight linear transformations in the LSTM cell calculations above."
      ]
    },
    {
      "cell_type": "markdown",
      "metadata": {
        "id": "X9gA-UcqSBe0"
      },
      "source": [
        "#### LSTM Classifier\n",
        "\n",
        "Having an LSTM cell is not enough: we still need some code that calls it repeatedly, and then makes a prediction from the final hidden state. \n",
        "You will find that code below. Make sure that you understand it."
      ]
    },
    {
      "cell_type": "code",
      "metadata": {
        "id": "3iuYZm5poEn5"
      },
      "source": [
        "class LSTMClassifier(nn.Module):\n",
        "  \"\"\"Encodes sentence with an LSTM and projects final hidden state\"\"\"\n",
        "\n",
        "  def __init__(self, vocab_size, embedding_dim, hidden_dim, output_dim, vocab, optimized = False, zuidema = False):\n",
        "    super(LSTMClassifier, self).__init__()\n",
        "    self.vocab = vocab\n",
        "    self.hidden_dim = hidden_dim\n",
        "    self.embed = nn.Embedding(vocab_size, embedding_dim, padding_idx=1)\n",
        "    if(not zuidema):\n",
        "      self.rnn = MyLSTMCell(embedding_dim, hidden_dim, optimized=True)\n",
        "    else:\n",
        "      self.rnn = MyLSTMCell_Zuidema(embedding_dim, hidden_dim)\n",
        "    \n",
        "    self.output_layer = nn.Sequential(     \n",
        "        nn.Dropout(p=0.5),  # explained later\n",
        "        nn.Linear(hidden_dim, output_dim)\n",
        "    )\n",
        "\n",
        "  def forward(self, x):\n",
        "    \n",
        "    B = x.size(0)  # batch size (this is 1 for now, i.e. 1 single example)\n",
        "    T = x.size(1)  # timesteps (the number of words in the sentence)\n",
        "    \n",
        "    input_ = self.embed(x)\n",
        "\n",
        "    # here we create initial hidden states containing zeros\n",
        "    # we use a trick here so that, if input is on the GPU, then so are hx and cx\n",
        "    hx = input_.new_zeros(B, self.rnn.hidden_size)\n",
        "    cx = input_.new_zeros(B, self.rnn.hidden_size)\n",
        "    \n",
        "    # process input sentences one word/timestep at a time\n",
        "    # input is batch-major (i.e., batch size is the first dimension)\n",
        "    # so the first word(s) is (are) input_[:, 0]\n",
        "    outputs = []   \n",
        "    for i in range(T):\n",
        "      hx, cx = self.rnn(input_[:, i], (hx, cx))\n",
        "      outputs.append(hx)\n",
        "    \n",
        "    # if we have a single example, our final LSTM state is the last hx\n",
        "    if B == 1:\n",
        "      final = hx\n",
        "    else:\n",
        "      #\n",
        "      # This part is explained in next section, ignore this else-block for now.\n",
        "      #\n",
        "      # We processed sentences with different lengths, so some of the sentences\n",
        "      # had already finished and we have been adding padding inputs to hx.\n",
        "      # We select the final state based on the length of each sentence.\n",
        "      \n",
        "      # two lines below not needed if using LSTM from pytorch\n",
        "      outputs = torch.stack(outputs, dim=0)           # [T, B, D]\n",
        "      outputs = outputs.transpose(0, 1).contiguous()  # [B, T, D]\n",
        "      \n",
        "      # to be super-sure we're not accidentally indexing the wrong state\n",
        "      # we zero out positions that are invalid\n",
        "      pad_positions = (x == 1).unsqueeze(-1)\n",
        "      \n",
        "      outputs = outputs.contiguous()      \n",
        "      outputs = outputs.masked_fill_(pad_positions, 0.)\n",
        "        \n",
        "      mask = (x != 1)  # true for valid positions [B, T]\n",
        "      lengths = mask.sum(dim=1)                 # [B, 1]\n",
        "\n",
        "      indexes = (lengths - 1) + torch.arange(B, device=x.device, dtype=x.dtype) * T\n",
        "      final = outputs.view(-1, self.hidden_dim)[indexes]  # [B, D]\n",
        "    \n",
        "    # we use the last hidden state to classify the sentence\n",
        "    logits = self.output_layer(final)\n",
        "    return logits"
      ],
      "execution_count": 104,
      "outputs": []
    },
    {
      "cell_type": "markdown",
      "metadata": {
        "id": "FxFoVpvMPB6g"
      },
      "source": [
        "#### Dropout\n",
        "\n",
        "Data sparsity and a small data set can cause *overfitting*. This is a phenomenom that is very likely to occur when training strong and expressive models, like LSTMs, on small data. In practice, if your model overfits, this means that it will be very good at predicting (or \"remembering\") the sentiment of the training set, but unable to generalise to new, unseen data in the test set. This is undesirable and one technique to mitigate this issue is *dropout*. \n",
        "\n",
        "A dropout layer is defined by the following formula, which can be applied, for example, to a linear layer:\n",
        "\n",
        "$$\\text{tanh}(W(\\mathbf{h}\\odot \\mathbf{d}) + \\mathbf{b})$$\n",
        "\n",
        "where $\\mathbf{d} \\in \\{0, 1\\}^n$, with $d_j \\sim \\text{Bernoulli}(p)$, \n",
        "\n",
        "These formula simply means that we *drop* certain parameters during training (by setting them to zero). Which parameters we drop is stochastically determined by a Bernoulli distribution and the probability of each parameter being dropped is set to $p = 0.5$ in our experiments (see the previous cell of code where we define our output layer). A dropout layer can be applied at many different places in our models. This technique helps against the undesirable effect that a model relies on single parameters for prediction (e.g. if $h^{\\prime}_j$ is large, always predict positive). If we use dropout, the model needs to learn to rely on different parameters, which is desirable to obtain better generalisation to unseen data."
      ]
    },
    {
      "cell_type": "markdown",
      "metadata": {
        "id": "XQjEjLt9z0XW"
      },
      "source": [
        "**Let's train our LSTM!** Note that is will be a lot slower than previous models because we need to do many more computations per sentence.\n",
        "\n",
        "#### Training"
      ]
    },
    {
      "cell_type": "code",
      "metadata": {
        "id": "LgZoSPD4fsf_",
        "colab": {
          "base_uri": "https://localhost:8080/"
        },
        "outputId": "e4024e71-8abf-4f52-8f45-bdd9fd57f104"
      },
      "source": [
        "lstm_model = LSTMClassifier(len(v.w2i), 300, 168, len(t2i), v, optimized = True)\n",
        "\n",
        "# copy pre-trained word vectors into embeddings table\n",
        "with torch.no_grad():\n",
        "  lstm_model.embed.weight.data.copy_(torch.from_numpy(vectors))\n",
        "  lstm_model.embed.weight.requires_grad = False\n",
        "\n",
        "print(lstm_model)\n",
        "print_parameters(lstm_model)\n",
        "\n",
        "lstm_model = lstm_model.to(device)\n",
        "optimizer = optim.Adam(lstm_model.parameters(), lr=3e-4)\n",
        "\n",
        "lstm_losses, lstm_accuracies = train_model(\n",
        "    lstm_model, optimizer, num_iterations=25000, \n",
        "    print_every=250, eval_every=1000)"
      ],
      "execution_count": 105,
      "outputs": [
        {
          "output_type": "stream",
          "name": "stdout",
          "text": [
            "LSTMClassifier(\n",
            "  (embed): Embedding(20727, 300, padding_idx=1)\n",
            "  (rnn): MyLSTMCell(300, 168)\n",
            "  (output_layer): Sequential(\n",
            "    (0): Dropout(p=0.5, inplace=False)\n",
            "    (1): Linear(in_features=168, out_features=5, bias=True)\n",
            "  )\n",
            ")\n",
            "embed.weight             [20727, 300] requires_grad=False\n",
            "rnn.linear_h.weight      [672, 168]   requires_grad=True\n",
            "rnn.linear_h.bias        [672]        requires_grad=True\n",
            "rnn.linear_i.weight      [672, 300]   requires_grad=True\n",
            "rnn.linear_i.bias        [672]        requires_grad=True\n",
            "output_layer.1.weight    [5, 168]     requires_grad=True\n",
            "output_layer.1.bias      [5]          requires_grad=True\n",
            "\n",
            "Total number of parameters: 6534785\n",
            "\n",
            "Shuffling training data\n",
            "Iter 250: loss=393.1246, time=3.01s\n",
            "Iter 500: loss=393.8356, time=5.91s\n",
            "Iter 750: loss=390.7456, time=8.94s\n",
            "Iter 1000: loss=376.8486, time=12.02s\n",
            "iter 1000: dev acc=0.3279\n",
            "new highscore\n",
            "Iter 1250: loss=384.5348, time=19.57s\n",
            "Iter 1500: loss=359.4255, time=22.71s\n",
            "Iter 1750: loss=355.0375, time=26.11s\n",
            "Iter 2000: loss=362.9052, time=29.10s\n",
            "iter 2000: dev acc=0.3924\n",
            "new highscore\n",
            "Iter 2250: loss=350.9614, time=36.59s\n",
            "Iter 2500: loss=351.6274, time=39.52s\n",
            "Iter 2750: loss=350.6085, time=42.52s\n",
            "Iter 3000: loss=347.6711, time=45.42s\n",
            "iter 3000: dev acc=0.4042\n",
            "new highscore\n",
            "Iter 3250: loss=321.6520, time=52.92s\n",
            "Iter 3500: loss=347.4920, time=55.88s\n",
            "Iter 3750: loss=343.2944, time=58.76s\n",
            "Iter 4000: loss=330.4194, time=61.76s\n",
            "iter 4000: dev acc=0.3860\n",
            "Iter 4250: loss=333.9564, time=69.02s\n",
            "Iter 4500: loss=333.0407, time=71.98s\n",
            "Iter 4750: loss=342.0210, time=74.97s\n",
            "Iter 5000: loss=333.9198, time=77.93s\n",
            "iter 5000: dev acc=0.3996\n",
            "Iter 5250: loss=343.2360, time=85.29s\n",
            "Iter 5500: loss=335.1756, time=88.13s\n",
            "Iter 5750: loss=336.5260, time=91.04s\n",
            "Iter 6000: loss=343.2580, time=94.06s\n",
            "iter 6000: dev acc=0.4033\n",
            "Iter 6250: loss=325.2778, time=101.47s\n",
            "Iter 6500: loss=347.6331, time=104.34s\n",
            "Iter 6750: loss=327.4220, time=107.27s\n",
            "Iter 7000: loss=325.3132, time=110.24s\n",
            "iter 7000: dev acc=0.4133\n",
            "new highscore\n",
            "Iter 7250: loss=310.3492, time=117.78s\n",
            "Iter 7500: loss=341.8265, time=120.79s\n",
            "Iter 7750: loss=338.3570, time=123.73s\n",
            "Iter 8000: loss=335.3908, time=128.51s\n",
            "iter 8000: dev acc=0.4042\n",
            "Iter 8250: loss=332.7534, time=135.89s\n",
            "Iter 8500: loss=343.9653, time=138.85s\n",
            "Shuffling training data\n",
            "Iter 8750: loss=318.3164, time=141.84s\n",
            "Iter 9000: loss=323.8856, time=144.68s\n",
            "iter 9000: dev acc=0.4051\n",
            "Iter 9250: loss=322.0922, time=152.06s\n",
            "Iter 9500: loss=316.4714, time=154.92s\n",
            "Iter 9750: loss=303.9259, time=157.91s\n",
            "Iter 10000: loss=304.4188, time=160.85s\n",
            "iter 10000: dev acc=0.4242\n",
            "new highscore\n",
            "Iter 10250: loss=304.1571, time=168.29s\n",
            "Iter 10500: loss=308.5253, time=171.27s\n",
            "Iter 10750: loss=315.2757, time=174.79s\n",
            "Iter 11000: loss=333.0054, time=177.89s\n",
            "iter 11000: dev acc=0.4169\n",
            "Iter 11250: loss=332.7742, time=185.32s\n",
            "Iter 11500: loss=319.1773, time=188.28s\n",
            "Iter 11750: loss=331.2929, time=191.18s\n",
            "Iter 12000: loss=302.0917, time=194.60s\n",
            "iter 12000: dev acc=0.4323\n",
            "new highscore\n",
            "Iter 12250: loss=312.9237, time=202.93s\n",
            "Iter 12500: loss=312.5855, time=205.67s\n",
            "Iter 12750: loss=311.0838, time=208.38s\n",
            "Iter 13000: loss=306.8287, time=211.25s\n",
            "iter 13000: dev acc=0.4142\n",
            "Iter 13250: loss=310.6219, time=218.50s\n",
            "Iter 13500: loss=295.4113, time=221.47s\n",
            "Iter 13750: loss=326.3227, time=224.37s\n",
            "Iter 14000: loss=313.8355, time=227.20s\n",
            "iter 14000: dev acc=0.4160\n",
            "Iter 14250: loss=303.9304, time=234.86s\n",
            "Iter 14500: loss=328.0855, time=237.71s\n",
            "Iter 14750: loss=313.3615, time=240.79s\n",
            "Iter 15000: loss=317.6424, time=243.88s\n",
            "iter 15000: dev acc=0.4369\n",
            "new highscore\n",
            "Iter 15250: loss=296.6280, time=251.96s\n",
            "Iter 15500: loss=322.3060, time=254.85s\n",
            "Iter 15750: loss=314.5946, time=257.79s\n",
            "Iter 16000: loss=313.4797, time=260.82s\n",
            "iter 16000: dev acc=0.4496\n",
            "new highscore\n",
            "Iter 16250: loss=305.2771, time=268.39s\n",
            "Iter 16500: loss=313.2098, time=271.34s\n",
            "Iter 16750: loss=308.6600, time=274.08s\n",
            "Iter 17000: loss=299.7679, time=276.96s\n",
            "iter 17000: dev acc=0.4060\n",
            "Shuffling training data\n",
            "Iter 17250: loss=306.7447, time=284.40s\n",
            "Iter 17500: loss=291.9069, time=287.27s\n",
            "Iter 17750: loss=303.0638, time=290.20s\n",
            "Iter 18000: loss=305.0070, time=293.18s\n",
            "iter 18000: dev acc=0.4450\n",
            "Iter 18250: loss=313.6992, time=300.52s\n",
            "Iter 18500: loss=282.5818, time=303.40s\n",
            "Iter 18750: loss=303.1206, time=306.40s\n",
            "Iter 19000: loss=293.0538, time=309.35s\n",
            "iter 19000: dev acc=0.4423\n",
            "Iter 19250: loss=274.1845, time=316.62s\n",
            "Iter 19500: loss=286.4903, time=319.71s\n",
            "Iter 19750: loss=302.3645, time=322.65s\n",
            "Iter 20000: loss=297.1763, time=325.65s\n",
            "iter 20000: dev acc=0.4369\n",
            "Iter 20250: loss=288.4512, time=332.93s\n",
            "Iter 20500: loss=284.7133, time=335.61s\n",
            "Iter 20750: loss=294.1349, time=338.54s\n",
            "Iter 21000: loss=282.2067, time=341.40s\n",
            "iter 21000: dev acc=0.4096\n",
            "Iter 21250: loss=305.9015, time=348.82s\n",
            "Iter 21500: loss=301.1259, time=351.96s\n",
            "Iter 21750: loss=288.3954, time=354.90s\n",
            "Iter 22000: loss=292.4655, time=357.97s\n",
            "iter 22000: dev acc=0.4496\n",
            "Iter 22250: loss=303.0407, time=365.47s\n",
            "Iter 22500: loss=284.0172, time=368.45s\n",
            "Iter 22750: loss=307.0741, time=371.31s\n",
            "Iter 23000: loss=285.6942, time=374.18s\n",
            "iter 23000: dev acc=0.4414\n",
            "Iter 23250: loss=290.3968, time=381.74s\n",
            "Iter 23500: loss=286.6198, time=384.54s\n",
            "Iter 23750: loss=296.2792, time=387.48s\n",
            "Iter 24000: loss=284.1566, time=390.20s\n",
            "iter 24000: dev acc=0.4378\n",
            "Iter 24250: loss=291.2917, time=398.23s\n",
            "Iter 24500: loss=286.8702, time=401.15s\n",
            "Iter 24750: loss=303.2588, time=403.99s\n",
            "Iter 25000: loss=294.9318, time=406.95s\n",
            "iter 25000: dev acc=0.4578\n",
            "new highscore\n",
            "Done training\n",
            "Loading best model\n",
            "best model iter 25000: train acc=0.5414, dev acc=0.4578, test acc=0.4954, test acc on big sentences=0.4284, test acc on small sentences=0.4954\n"
          ]
        }
      ]
    },
    {
      "cell_type": "code",
      "metadata": {
        "id": "2BKVnyg0Hq5E",
        "colab": {
          "base_uri": "https://localhost:8080/",
          "height": 447
        },
        "outputId": "ba98e81d-ae04-4775-aa19-36ce226f1d40"
      },
      "source": [
        "# plot validation accuracy\n",
        "plt.plot(lstm_accuracies)"
      ],
      "execution_count": 106,
      "outputs": [
        {
          "output_type": "execute_result",
          "data": {
            "text/plain": [
              "[<matplotlib.lines.Line2D at 0x7fe6ac874850>]"
            ]
          },
          "metadata": {},
          "execution_count": 106
        },
        {
          "output_type": "display_data",
          "data": {
            "text/plain": [
              "<Figure size 640x480 with 1 Axes>"
            ],
            "image/png": "[encoded data removed]"
          },
          "metadata": {}
        }
      ]
    },
    {
      "cell_type": "code",
      "metadata": {
        "id": "ZowTV0EBTb3z",
        "colab": {
          "base_uri": "https://localhost:8080/",
          "height": 447
        },
        "outputId": "130cc9a8-4dd0-4891-a427-1e3a6cef354a"
      },
      "source": [
        "# plot training loss\n",
        "plt.plot(lstm_losses)"
      ],
      "execution_count": 107,
      "outputs": [
        {
          "output_type": "execute_result",
          "data": {
            "text/plain": [
              "[<matplotlib.lines.Line2D at 0x7fe6ac83ddc0>]"
            ]
          },
          "metadata": {},
          "execution_count": 107
        },
        {
          "output_type": "display_data",
          "data": {
            "text/plain": [
              "<Figure size 640x480 with 1 Axes>"
            ],
            "image/png": "[encoded data removed]"
          },
          "metadata": {}
        }
      ]
    },
    {
      "cell_type": "code",
      "source": [
        "lstm_model = LSTMClassifier(len(v.w2i), 300, 168, len(t2i), v, optimized = True, zuidema = True)\n",
        "\n",
        "# copy pre-trained word vectors into embeddings table\n",
        "with torch.no_grad():\n",
        "  lstm_model.embed.weight.data.copy_(torch.from_numpy(vectors))\n",
        "  lstm_model.embed.weight.requires_grad = False\n",
        "\n",
        "print(lstm_model)\n",
        "print_parameters(lstm_model)\n",
        "\n",
        "lstm_model = lstm_model.to(device)\n",
        "optimizer = optim.Adam(lstm_model.parameters(), lr=3e-4)\n",
        "\n",
        "lstm_losses, lstm_accuracies = train_model(\n",
        "    lstm_model, optimizer, num_iterations=25000, \n",
        "    print_every=250, eval_every=1000)"
      ],
      "metadata": {
        "id": "tbs8CNtb_Jrh",
        "outputId": "d0b9485d-bd15-4475-df3b-85094ade0d55",
        "colab": {
          "base_uri": "https://localhost:8080/"
        }
      },
      "execution_count": 108,
      "outputs": [
        {
          "output_type": "stream",
          "name": "stdout",
          "text": [
            "LSTMClassifier(\n",
            "  (embed): Embedding(20727, 300, padding_idx=1)\n",
            "  (rnn): MyLSTMCell_Zuidema(300, 168)\n",
            "  (output_layer): Sequential(\n",
            "    (0): Dropout(p=0.5, inplace=False)\n",
            "    (1): Linear(in_features=168, out_features=5, bias=True)\n",
            "  )\n",
            ")\n",
            "embed.weight             [20727, 300] requires_grad=False\n",
            "rnn.linear_ii.weight     [168, 300]   requires_grad=True\n",
            "rnn.linear_ii.bias       [168]        requires_grad=True\n",
            "rnn.linear_hi.weight     [168, 168]   requires_grad=True\n",
            "rnn.linear_hi.bias       [168]        requires_grad=True\n",
            "rnn.linear_if.weight     [168, 300]   requires_grad=True\n",
            "rnn.linear_if.bias       [168]        requires_grad=True\n",
            "rnn.linear_hf.weight     [168, 168]   requires_grad=True\n",
            "rnn.linear_hf.bias       [168]        requires_grad=True\n",
            "rnn.linear_ig.weight     [168, 300]   requires_grad=True\n",
            "rnn.linear_ig.bias       [168]        requires_grad=True\n",
            "rnn.linear_hg.weight     [168, 168]   requires_grad=True\n",
            "rnn.linear_hg.bias       [168]        requires_grad=True\n",
            "rnn.linear_io.weight     [168, 300]   requires_grad=True\n",
            "rnn.linear_io.bias       [168]        requires_grad=True\n",
            "rnn.linear_ho.weight     [168, 168]   requires_grad=True\n",
            "rnn.linear_ho.bias       [168]        requires_grad=True\n",
            "rnn.linear_ci.weight     [168, 168]   requires_grad=True\n",
            "rnn.linear_ci.bias       [168]        requires_grad=True\n",
            "rnn.linear_cf.weight     [168, 168]   requires_grad=True\n",
            "rnn.linear_cf.bias       [168]        requires_grad=True\n",
            "rnn.linear_co.weight     [168, 168]   requires_grad=True\n",
            "rnn.linear_co.bias       [168]        requires_grad=True\n",
            "output_layer.1.weight    [5, 168]     requires_grad=True\n",
            "output_layer.1.bias      [5]          requires_grad=True\n",
            "\n",
            "Total number of parameters: 6619961\n",
            "\n",
            "Shuffling training data\n",
            "Iter 250: loss=397.8049, time=7.22s\n",
            "Iter 500: loss=382.5487, time=14.05s\n",
            "Iter 750: loss=391.5964, time=21.79s\n",
            "Iter 1000: loss=393.9057, time=28.89s\n",
            "iter 1000: dev acc=0.2570\n",
            "new highscore\n",
            "Iter 1250: loss=401.3294, time=45.38s\n",
            "Iter 1500: loss=398.0914, time=52.75s\n",
            "Iter 1750: loss=393.9500, time=59.63s\n",
            "Iter 2000: loss=388.7070, time=66.79s\n",
            "iter 2000: dev acc=0.2734\n",
            "new highscore\n",
            "Iter 2250: loss=384.2641, time=82.49s\n",
            "Iter 2500: loss=381.9172, time=89.51s\n",
            "Iter 2750: loss=375.8561, time=96.17s\n",
            "Iter 3000: loss=376.4500, time=103.73s\n",
            "iter 3000: dev acc=0.3433\n",
            "new highscore\n",
            "Iter 3250: loss=360.9414, time=119.40s\n",
            "Iter 3500: loss=368.4074, time=126.64s\n",
            "Iter 3750: loss=366.7838, time=133.89s\n",
            "Iter 4000: loss=372.5181, time=140.73s\n",
            "iter 4000: dev acc=0.3678\n",
            "new highscore\n",
            "Iter 4250: loss=354.6964, time=157.23s\n",
            "Iter 4500: loss=349.6343, time=164.39s\n",
            "Iter 4750: loss=351.2187, time=171.14s\n",
            "Iter 5000: loss=340.9875, time=177.99s\n",
            "iter 5000: dev acc=0.3896\n",
            "new highscore\n",
            "Iter 5250: loss=360.5992, time=193.93s\n",
            "Iter 5500: loss=339.1415, time=200.97s\n",
            "Iter 5750: loss=334.0045, time=207.46s\n",
            "Iter 6000: loss=344.1297, time=214.51s\n",
            "iter 6000: dev acc=0.3842\n",
            "Iter 6250: loss=340.4086, time=230.26s\n",
            "Iter 6500: loss=345.1702, time=237.15s\n",
            "Iter 6750: loss=332.1141, time=244.77s\n",
            "Iter 7000: loss=341.5903, time=251.71s\n",
            "iter 7000: dev acc=0.4005\n",
            "new highscore\n",
            "Iter 7250: loss=321.6221, time=267.85s\n",
            "Iter 7500: loss=335.8197, time=275.37s\n",
            "Iter 7750: loss=339.9469, time=282.48s\n",
            "Iter 8000: loss=334.4754, time=289.58s\n",
            "iter 8000: dev acc=0.4223\n",
            "new highscore\n",
            "Iter 8250: loss=315.2324, time=305.22s\n",
            "Iter 8500: loss=336.8386, time=312.33s\n",
            "Shuffling training data\n",
            "Iter 8750: loss=324.0250, time=319.77s\n",
            "Iter 9000: loss=329.7396, time=326.75s\n",
            "iter 9000: dev acc=0.4124\n",
            "Iter 9250: loss=322.7196, time=342.34s\n",
            "Iter 9500: loss=320.8176, time=349.72s\n",
            "Iter 9750: loss=312.4480, time=356.79s\n",
            "Iter 10000: loss=320.4013, time=364.29s\n",
            "iter 10000: dev acc=0.3969\n",
            "Iter 10250: loss=313.1451, time=380.64s\n",
            "Iter 10500: loss=315.1618, time=387.55s\n",
            "Iter 10750: loss=328.2222, time=394.47s\n",
            "Iter 11000: loss=314.7973, time=401.40s\n",
            "iter 11000: dev acc=0.4233\n",
            "new highscore\n",
            "Iter 11250: loss=310.9314, time=417.28s\n",
            "Iter 11500: loss=309.1446, time=424.28s\n",
            "Iter 11750: loss=314.0849, time=430.74s\n",
            "Iter 12000: loss=302.2953, time=437.92s\n",
            "iter 12000: dev acc=0.4460\n",
            "new highscore\n",
            "Iter 12250: loss=324.1490, time=453.96s\n",
            "Iter 12500: loss=313.1076, time=460.69s\n",
            "Iter 12750: loss=318.8206, time=467.80s\n",
            "Iter 13000: loss=302.7022, time=475.51s\n",
            "iter 13000: dev acc=0.4414\n",
            "Iter 13250: loss=302.0421, time=491.93s\n",
            "Iter 13500: loss=306.2720, time=498.82s\n",
            "Iter 13750: loss=329.0028, time=505.83s\n",
            "Iter 14000: loss=312.2194, time=512.93s\n",
            "iter 14000: dev acc=0.4351\n",
            "Iter 14250: loss=307.7397, time=528.76s\n",
            "Iter 14500: loss=298.6039, time=535.69s\n",
            "Iter 14750: loss=314.4160, time=542.69s\n",
            "Iter 15000: loss=319.0395, time=549.59s\n",
            "iter 15000: dev acc=0.4460\n",
            "Iter 15250: loss=306.9971, time=565.30s\n",
            "Iter 15500: loss=303.1151, time=573.09s\n",
            "Iter 15750: loss=303.2616, time=579.92s\n",
            "Iter 16000: loss=321.0974, time=586.65s\n",
            "iter 16000: dev acc=0.4423\n",
            "Iter 16250: loss=321.3768, time=602.10s\n",
            "Iter 16500: loss=291.7042, time=609.01s\n",
            "Iter 16750: loss=311.1592, time=616.15s\n",
            "Iter 17000: loss=297.5775, time=622.90s\n",
            "iter 17000: dev acc=0.4450\n",
            "Shuffling training data\n",
            "Iter 17250: loss=293.4860, time=638.65s\n",
            "Iter 17500: loss=285.7272, time=645.93s\n",
            "Iter 17750: loss=305.9850, time=652.88s\n",
            "Iter 18000: loss=287.8904, time=659.65s\n",
            "iter 18000: dev acc=0.4587\n",
            "new highscore\n",
            "Iter 18250: loss=287.0738, time=675.85s\n",
            "Iter 18500: loss=290.1759, time=683.73s\n",
            "Iter 18750: loss=310.3596, time=690.60s\n",
            "Iter 19000: loss=277.5203, time=698.06s\n",
            "iter 19000: dev acc=0.4559\n",
            "Iter 19250: loss=273.7384, time=713.95s\n",
            "Iter 19500: loss=290.9359, time=720.69s\n",
            "Iter 19750: loss=291.8625, time=727.43s\n",
            "Iter 20000: loss=298.2985, time=734.46s\n",
            "iter 20000: dev acc=0.4523\n",
            "Iter 20250: loss=316.8845, time=750.05s\n",
            "Iter 20500: loss=289.0508, time=756.98s\n",
            "Iter 20750: loss=318.2102, time=764.35s\n",
            "Iter 21000: loss=289.0817, time=771.62s\n",
            "iter 21000: dev acc=0.4505\n",
            "Iter 21250: loss=285.6898, time=788.34s\n",
            "Iter 21500: loss=288.3287, time=795.35s\n",
            "Iter 21750: loss=291.0159, time=802.45s\n",
            "Iter 22000: loss=286.3857, time=809.42s\n",
            "iter 22000: dev acc=0.4614\n",
            "new highscore\n",
            "Iter 22250: loss=276.7036, time=825.42s\n",
            "Iter 22500: loss=292.1664, time=832.40s\n",
            "Iter 22750: loss=290.4088, time=839.46s\n",
            "Iter 23000: loss=281.2593, time=846.62s\n",
            "iter 23000: dev acc=0.4550\n",
            "Iter 23250: loss=288.5624, time=862.34s\n",
            "Iter 23500: loss=296.0401, time=869.29s\n",
            "Iter 23750: loss=284.5938, time=876.84s\n",
            "Iter 24000: loss=289.5528, time=883.85s\n",
            "iter 24000: dev acc=0.4596\n",
            "Iter 24250: loss=290.3697, time=900.46s\n",
            "Iter 24500: loss=305.5817, time=908.22s\n",
            "Iter 24750: loss=277.9228, time=915.07s\n",
            "Iter 25000: loss=291.6908, time=921.81s\n",
            "iter 25000: dev acc=0.4650\n",
            "new highscore\n",
            "Done training\n",
            "Loading best model\n",
            "best model iter 25000: train acc=0.5609, dev acc=0.4650, test acc=0.5088, test acc on big sentences=0.4580, test acc on small sentences=0.5088\n"
          ]
        }
      ]
    },
    {
      "cell_type": "markdown",
      "metadata": {
        "id": "YEw6XHQY_AAQ"
      },
      "source": [
        "# Mini-batching\n",
        "\n"
      ]
    },
    {
      "cell_type": "markdown",
      "metadata": {
        "id": "FPf96wGzBTQJ"
      },
      "source": [
        "**Why is the LSTM so slow?** Despite our best efforts, we still need to make a lot of matrix multiplications per example (linear in the length of the example) just to get a single classification, and we can only process the 2nd word once we have computed the hidden state for the 1st word (sequential computation).\n",
        "\n",
        "GPUs are more efficient if we do a few big matrix multiplications, rather than lots of small ones. If we could process multiple examples at the same time, then we could exploit that. That is, we could still process the input sequentially, but doing so for multiple sentences at the same time.\n",
        "\n",
        "Up to now our \"mini-batches\" consisted of a single example. This was for a reason: the sentences in our data sets have **different lengths**, and this makes it difficult to process them at the same time.\n",
        "\n",
        "Consider a batch of 2 sentences:\n",
        "\n",
        "```\n",
        "this movie is bad\n",
        "this movie is super cool !\n",
        "```\n",
        "\n",
        "Let's say the IDs for these sentences are:\n",
        "\n",
        "```\n",
        "2 3 4 5\n",
        "2 3 4 6 7 8\n",
        "```\n",
        "\n",
        "We cannot feed PyTorch an object with rows of variable length! We need to turn this into a matrix.\n",
        "\n",
        "The solution is to add **padding values** to our mini-batch:\n",
        "\n",
        "```\n",
        "2 3 4 5 1 1\n",
        "2 3 4 6 7 8\n",
        "```\n",
        "\n",
        "Whenever a sentence is shorter than the longest sentence in a mini-batch, we just use a padding value (here: 1) to fill the matrix.\n",
        "\n",
        "In our computation, we should **ignore** the padding positions (e.g. mask them out) so that paddings do not contribute to the loss.\n",
        "\n",
        "#### Mini-batch feed\n",
        "We will now implement a `get_minibatch` function which will replace `get_example` and returns a mini-batch of the requested size."
      ]
    },
    {
      "cell_type": "code",
      "metadata": {
        "id": "IoAE2JBiXJ3P"
      },
      "source": [
        "def get_minibatch(data, batch_size=25, shuffle=True):\n",
        "  \"\"\"Return minibatches, optional shuffling\"\"\"\n",
        "  \n",
        "  if shuffle:\n",
        "    print(\"Shuffling training data\")\n",
        "    random.shuffle(data)  # shuffle training data each epoch\n",
        "  \n",
        "  batch = []\n",
        "  \n",
        "  # yield minibatches\n",
        "  for example in data:\n",
        "    batch.append(example)\n",
        "    \n",
        "    if len(batch) == batch_size:\n",
        "      yield batch\n",
        "      batch = []\n",
        "      \n",
        "  # in case there is something left\n",
        "  if len(batch) > 0:\n",
        "    yield batch"
      ],
      "execution_count": 109,
      "outputs": []
    },
    {
      "cell_type": "markdown",
      "metadata": {
        "id": "DwZM-XYkT8Zx"
      },
      "source": [
        "#### Padding function\n",
        "We will need a function that adds padding 1s to a sequence of IDs so that\n",
        "it becomes as long as the longest sequence in the minibatch."
      ]
    },
    {
      "cell_type": "code",
      "metadata": {
        "id": "sp0sK1ghw4Ft",
        "colab": {
          "base_uri": "https://localhost:8080/"
        },
        "outputId": "bde44867-57d7-4b0b-abf9-b7e113cd44a4"
      },
      "source": [
        "def pad(tokens, length, pad_value=1):\n",
        "  \"\"\"add padding 1s to a sequence to that it has the desired length\"\"\"\n",
        "  return tokens + [pad_value] * (length - len(tokens))\n",
        "\n",
        "# example\n",
        "tokens = [2, 3, 4]\n",
        "pad(tokens, 5)"
      ],
      "execution_count": 110,
      "outputs": [
        {
          "output_type": "execute_result",
          "data": {
            "text/plain": [
              "[2, 3, 4, 1, 1]"
            ]
          },
          "metadata": {},
          "execution_count": 110
        }
      ]
    },
    {
      "cell_type": "markdown",
      "metadata": {
        "id": "SL2iixMYUgfh"
      },
      "source": [
        "#### New `prepare` function\n",
        "\n",
        "We will also need a new function that turns a mini-batch into PyTorch tensors."
      ]
    },
    {
      "cell_type": "code",
      "metadata": {
        "id": "ZID0cqozWks8"
      },
      "source": [
        "def prepare_minibatch(mb, vocab):\n",
        "  \"\"\"\n",
        "  Minibatch is a list of examples.\n",
        "  This function converts words to IDs and returns\n",
        "  torch tensors to be used as input/targets.\n",
        "  \"\"\"\n",
        "  batch_size = len(mb)\n",
        "  maxlen = max([len(ex.tokens) for ex in mb])\n",
        "  \n",
        "  # vocab returns 0 if the word is not there\n",
        "  x = [pad([vocab.w2i.get(t, 0) for t in ex.tokens], maxlen) for ex in mb]\n",
        "  \n",
        "  x = torch.LongTensor(x)\n",
        "  x = x.to(device)\n",
        "  \n",
        "  y = [ex.label for ex in mb]\n",
        "  y = torch.LongTensor(y)\n",
        "  y = y.to(device)\n",
        "  \n",
        "  return x, y"
      ],
      "execution_count": 111,
      "outputs": []
    },
    {
      "cell_type": "code",
      "metadata": {
        "id": "OwDAtCv1x2hB",
        "colab": {
          "base_uri": "https://localhost:8080/"
        },
        "outputId": "5f5d144f-f973-4d53-baf0-5e7680291607"
      },
      "source": [
        "# Let's test our new function.\n",
        "# This should give us 3 examples.\n",
        "mb = next(get_minibatch(train_data, batch_size=3, shuffle=False))\n",
        "for ex in mb:\n",
        "  print(ex)"
      ],
      "execution_count": 112,
      "outputs": [
        {
          "output_type": "stream",
          "name": "stdout",
          "text": [
            "Example(tokens=['So', 'boring', 'that', 'even', 'its', 'target', 'audience', 'talked', 'all', 'the', 'way', 'through', 'it', '.'], tree=Tree('0', [Tree('0', [Tree('2', ['So']), Tree('0', ['boring'])]), Tree('1', [Tree('1', [Tree('2', ['that']), Tree('1', [Tree('2', ['even']), Tree('1', [Tree('2', [Tree('2', ['its']), Tree('2', [Tree('2', ['target']), Tree('2', ['audience'])])]), Tree('0', [Tree('2', [Tree('2', ['talked']), Tree('3', [Tree('2', ['all']), Tree('2', [Tree('2', ['the']), Tree('2', ['way'])])])]), Tree('2', [Tree('2', ['through']), Tree('2', ['it'])])])])])]), Tree('2', ['.'])])]), label=0, transitions=[0, 0, 1, 0, 0, 0, 0, 0, 1, 1, 0, 0, 0, 0, 1, 1, 1, 0, 0, 1, 1, 1, 1, 1, 0, 1, 1])\n",
            "Example(tokens=['A', 'venturesome', ',', 'beautifully', 'realized', 'psychological', 'mood', 'piece', 'that', 'reveals', 'its', 'first-time', 'feature', 'director', \"'s\", 'understanding', 'of', 'the', 'expressive', 'power', 'of', 'the', 'camera', '.'], tree=Tree('4', [Tree('4', [Tree('4', [Tree('2', ['A']), Tree('3', [Tree('4', [Tree('3', ['venturesome']), Tree('3', [Tree('2', [',']), Tree('4', [Tree('3', ['beautifully']), Tree('2', ['realized'])])])]), Tree('2', [Tree('3', ['psychological']), Tree('2', [Tree('2', ['mood']), Tree('2', ['piece'])])])])]), Tree('2', [Tree('2', ['that']), Tree('2', [Tree('2', ['reveals']), Tree('3', [Tree('2', ['its']), Tree('2', [Tree('2', ['first-time']), Tree('2', [Tree('2', ['feature']), Tree('2', ['director'])])])])])])]), Tree('4', [Tree('2', [Tree('2', [\"'s\"]), Tree('3', [Tree('2', ['understanding']), Tree('3', [Tree('2', ['of']), Tree('3', [Tree('3', [Tree('2', ['the']), Tree('4', [Tree('3', ['expressive']), Tree('2', ['power'])])]), Tree('2', [Tree('2', ['of']), Tree('2', [Tree('2', ['the']), Tree('2', ['camera'])])])])])])]), Tree('2', ['.'])])]), label=4, transitions=[0, 0, 0, 0, 0, 1, 1, 1, 0, 0, 0, 1, 1, 1, 1, 0, 0, 0, 0, 0, 0, 1, 1, 1, 1, 1, 1, 0, 0, 0, 0, 0, 0, 1, 1, 0, 0, 0, 1, 1, 1, 1, 1, 1, 0, 1, 1])\n",
            "Example(tokens=['The', 'overall', 'effect', 'is', 'awe', 'and', 'affection', '--', 'and', 'a', 'strange', 'urge', 'to', 'get', 'on', 'a', 'board', 'and', ',', 'uh', ',', 'shred', ',', 'dude', '.'], tree=Tree('4', [Tree('2', [Tree('2', ['The']), Tree('2', [Tree('2', ['overall']), Tree('2', ['effect'])])]), Tree('4', [Tree('2', [Tree('2', ['is']), Tree('3', [Tree('4', [Tree('3', [Tree('3', [Tree('2', [Tree('2', ['awe']), Tree('2', ['and'])]), Tree('3', ['affection'])]), Tree('2', ['--'])]), Tree('2', ['and'])]), Tree('3', [Tree('2', ['a']), Tree('2', [Tree('1', ['strange']), Tree('2', [Tree('2', ['urge']), Tree('3', [Tree('2', ['to']), Tree('2', [Tree('1', [Tree('2', [Tree('2', [Tree('2', ['get']), Tree('3', [Tree('2', ['on']), Tree('2', [Tree('2', ['a']), Tree('2', ['board'])])])]), Tree('2', ['and'])]), Tree('2', [Tree('2', [',']), Tree('1', [Tree('2', [Tree('2', [Tree('2', ['uh']), Tree('2', [','])]), Tree('2', ['shred'])]), Tree('2', [','])])])]), Tree('2', ['dude'])])])])])])])]), Tree('2', ['.'])])]), label=4, transitions=[0, 0, 0, 1, 1, 0, 0, 0, 1, 0, 1, 0, 1, 0, 1, 0, 0, 0, 0, 0, 0, 0, 0, 1, 1, 1, 0, 1, 0, 0, 0, 1, 0, 1, 0, 1, 1, 1, 0, 1, 1, 1, 1, 1, 1, 1, 0, 1, 1])\n"
          ]
        }
      ]
    },
    {
      "cell_type": "code",
      "metadata": {
        "id": "dg8zEK8zyUCH",
        "colab": {
          "base_uri": "https://localhost:8080/"
        },
        "outputId": "87ae0818-7bdd-4dc2-db4f-dda190d9b030"
      },
      "source": [
        "# We should find padding 1s at the end\n",
        "x, y = prepare_minibatch(mb, v)\n",
        "print(\"x\", x)\n",
        "print(\"y\", y)"
      ],
      "execution_count": 113,
      "outputs": [
        {
          "output_type": "stream",
          "name": "stdout",
          "text": [
            "x tensor([[  208,  3975,    16,   148,   102,  1769,  2020,  3020,    44,     4,\n",
            "           125,   151,    22,     3,     1,     1,     1,     1,     1,     1,\n",
            "             1,     1,     1,     1,     1],\n",
            "        [   77, 19259,     2,  4603,  2772,  5128,  3768,   982,    16,  4703,\n",
            "           102,  9757,  1112,  1560,    21,  1516,     7,     4,  9650,   360,\n",
            "             7,     4,  1188,     3,     1],\n",
            "        [   23,  1498,  1022,    11,  8108,     5,  7754,   158,     5,     8,\n",
            "          2898,  5646,     6,    84,    18,     8,   928,     5,     2,  7352,\n",
            "             2, 10719,     2,  3454,     3]], device='cuda:0')\n",
            "y tensor([0, 4, 4], device='cuda:0')\n"
          ]
        }
      ]
    },
    {
      "cell_type": "markdown",
      "metadata": {
        "id": "xYBJEoSNUwI0"
      },
      "source": [
        "#### Evaluate (mini-batch version)\n",
        "\n",
        "We can now update our evaluation function to use mini-batches"
      ]
    },
    {
      "cell_type": "code",
      "metadata": {
        "id": "eiZZpEghzqou"
      },
      "source": [
        "def evaluate(model, data, \n",
        "             batch_fn=get_minibatch, prep_fn=prepare_minibatch,\n",
        "             batch_size=16):\n",
        "  \"\"\"Accuracy of a model on given data set (using mini-batches)\"\"\"\n",
        "  correct = 0\n",
        "  total = 0\n",
        "  model.eval()  # disable dropout\n",
        "\n",
        "  for mb in batch_fn(data, batch_size=batch_size, shuffle=False):\n",
        "    x, targets = prep_fn(mb, model.vocab)\n",
        "    with torch.no_grad():\n",
        "      logits = model(x)\n",
        "      \n",
        "    predictions = logits.argmax(dim=-1).view(-1)\n",
        "    \n",
        "    # add the number of correct predictions to the total correct\n",
        "    correct += (predictions == targets.view(-1)).sum().item()\n",
        "    total += targets.size(0)\n",
        "\n",
        "  return correct, total, correct / float(total)"
      ],
      "execution_count": 114,
      "outputs": []
    },
    {
      "cell_type": "markdown",
      "metadata": {
        "id": "23wAZomozh_2"
      },
      "source": [
        "# LSTM (Mini-batched)"
      ]
    },
    {
      "cell_type": "markdown",
      "metadata": {
        "id": "B-gkPU7jzBe2"
      },
      "source": [
        "With this, let's run the LSTM again but now using mini-batches!"
      ]
    },
    {
      "cell_type": "code",
      "metadata": {
        "id": "226Xg9OPzFbA",
        "colab": {
          "base_uri": "https://localhost:8080/"
        },
        "outputId": "b81c4098-3121-40f6-ab20-51ad07fcd413"
      },
      "source": [
        "lstm_model = LSTMClassifier(\n",
        "    len(v.w2i), 300, 168, len(t2i), v, optimized=True)\n",
        "\n",
        "# copy pre-trained vectors into embeddings table\n",
        "with torch.no_grad():\n",
        "  lstm_model.embed.weight.data.copy_(torch.from_numpy(vectors))\n",
        "  lstm_model.embed.weight.requires_grad = False\n",
        "\n",
        "print(lstm_model)\n",
        "print_parameters(lstm_model)  \n",
        "  \n",
        "lstm_model = lstm_model.to(device)\n",
        "\n",
        "batch_size = 25\n",
        "optimizer = optim.Adam(lstm_model.parameters(), lr=2e-4)\n",
        "\n",
        "lstm_losses, lstm_accuracies = train_model(\n",
        "    lstm_model, optimizer, num_iterations=30000, \n",
        "    print_every=250, eval_every=250,\n",
        "    batch_size=batch_size,\n",
        "    batch_fn=get_minibatch, \n",
        "    prep_fn=prepare_minibatch,\n",
        "    eval_fn=evaluate)"
      ],
      "execution_count": 115,
      "outputs": [
        {
          "output_type": "stream",
          "name": "stdout",
          "text": [
            "LSTMClassifier(\n",
            "  (embed): Embedding(20727, 300, padding_idx=1)\n",
            "  (rnn): MyLSTMCell(300, 168)\n",
            "  (output_layer): Sequential(\n",
            "    (0): Dropout(p=0.5, inplace=False)\n",
            "    (1): Linear(in_features=168, out_features=5, bias=True)\n",
            "  )\n",
            ")\n",
            "embed.weight             [20727, 300] requires_grad=False\n",
            "rnn.linear_h.weight      [672, 168]   requires_grad=True\n",
            "rnn.linear_h.bias        [672]        requires_grad=True\n",
            "rnn.linear_i.weight      [672, 300]   requires_grad=True\n",
            "rnn.linear_i.bias        [672]        requires_grad=True\n",
            "output_layer.1.weight    [5, 168]     requires_grad=True\n",
            "output_layer.1.bias      [5]          requires_grad=True\n",
            "\n",
            "Total number of parameters: 6534785\n",
            "\n",
            "Shuffling training data\n",
            "Iter 250: loss=385.7686, time=6.60s\n",
            "iter 250: dev acc=0.3869\n",
            "new highscore\n",
            "Shuffling training data\n",
            "Iter 500: loss=341.1148, time=13.81s\n",
            "iter 500: dev acc=0.4114\n",
            "new highscore\n",
            "Shuffling training data\n",
            "Iter 750: loss=324.2892, time=20.87s\n",
            "iter 750: dev acc=0.4033\n",
            "Iter 1000: loss=321.4665, time=27.86s\n",
            "iter 1000: dev acc=0.4296\n",
            "new highscore\n",
            "Shuffling training data\n",
            "Iter 1250: loss=311.1763, time=34.90s\n",
            "iter 1250: dev acc=0.4332\n",
            "new highscore\n",
            "Shuffling training data\n",
            "Iter 1500: loss=309.1925, time=41.97s\n",
            "iter 1500: dev acc=0.4360\n",
            "new highscore\n",
            "Shuffling training data\n",
            "Iter 1750: loss=301.9336, time=49.07s\n",
            "iter 1750: dev acc=0.4360\n",
            "Iter 2000: loss=299.9507, time=56.07s\n",
            "iter 2000: dev acc=0.4342\n",
            "Shuffling training data\n",
            "Iter 2250: loss=295.3951, time=63.80s\n",
            "iter 2250: dev acc=0.4514\n",
            "new highscore\n",
            "Shuffling training data\n",
            "Iter 2500: loss=291.1523, time=71.68s\n",
            "iter 2500: dev acc=0.4532\n",
            "new highscore\n",
            "Shuffling training data\n",
            "Iter 2750: loss=290.3954, time=78.83s\n",
            "iter 2750: dev acc=0.4269\n",
            "Iter 3000: loss=282.7852, time=86.42s\n",
            "iter 3000: dev acc=0.4432\n",
            "Shuffling training data\n",
            "Iter 3250: loss=279.9498, time=93.49s\n",
            "iter 3250: dev acc=0.4378\n",
            "Shuffling training data\n",
            "Iter 3500: loss=274.7964, time=100.44s\n",
            "iter 3500: dev acc=0.4514\n",
            "Iter 3750: loss=272.2170, time=107.55s\n",
            "iter 3750: dev acc=0.4423\n",
            "Shuffling training data\n",
            "Iter 4000: loss=267.7946, time=114.59s\n",
            "iter 4000: dev acc=0.4614\n",
            "new highscore\n",
            "Shuffling training data\n",
            "Iter 4250: loss=258.3897, time=121.44s\n",
            "iter 4250: dev acc=0.4550\n",
            "Shuffling training data\n",
            "Iter 4500: loss=257.3945, time=128.42s\n",
            "iter 4500: dev acc=0.4450\n",
            "Iter 4750: loss=250.1974, time=135.46s\n",
            "iter 4750: dev acc=0.4559\n",
            "Shuffling training data\n",
            "Iter 5000: loss=243.8587, time=142.55s\n",
            "iter 5000: dev acc=0.4496\n",
            "Shuffling training data\n",
            "Iter 5250: loss=237.5879, time=149.47s\n",
            "iter 5250: dev acc=0.4587\n",
            "Shuffling training data\n",
            "Iter 5500: loss=230.7535, time=157.34s\n",
            "iter 5500: dev acc=0.4550\n",
            "Iter 5750: loss=227.2964, time=164.27s\n",
            "iter 5750: dev acc=0.4478\n",
            "Shuffling training data\n",
            "Iter 6000: loss=212.8926, time=171.34s\n",
            "iter 6000: dev acc=0.4369\n",
            "Shuffling training data\n",
            "Iter 6250: loss=212.7438, time=178.49s\n",
            "iter 6250: dev acc=0.4314\n",
            "Shuffling training data\n",
            "Iter 6500: loss=206.1285, time=185.50s\n",
            "iter 6500: dev acc=0.4487\n",
            "Iter 6750: loss=196.0903, time=192.40s\n",
            "iter 6750: dev acc=0.4514\n",
            "Shuffling training data\n",
            "Iter 7000: loss=187.1108, time=199.39s\n",
            "iter 7000: dev acc=0.4405\n",
            "Shuffling training data\n",
            "Iter 7250: loss=183.9191, time=206.37s\n",
            "iter 7250: dev acc=0.4296\n",
            "Iter 7500: loss=176.4195, time=213.50s\n",
            "iter 7500: dev acc=0.4269\n",
            "Shuffling training data\n",
            "Iter 7750: loss=166.8391, time=220.55s\n",
            "iter 7750: dev acc=0.4278\n",
            "Shuffling training data\n",
            "Iter 8000: loss=157.9864, time=227.59s\n",
            "iter 8000: dev acc=0.4532\n",
            "Shuffling training data\n",
            "Iter 8250: loss=157.9302, time=234.73s\n",
            "iter 8250: dev acc=0.4351\n",
            "Iter 8500: loss=148.4360, time=241.72s\n",
            "iter 8500: dev acc=0.4142\n",
            "Shuffling training data\n",
            "Iter 8750: loss=135.4145, time=248.65s\n",
            "iter 8750: dev acc=0.4351\n",
            "Shuffling training data\n",
            "Iter 9000: loss=131.7443, time=255.56s\n",
            "iter 9000: dev acc=0.4314\n",
            "Shuffling training data\n",
            "Iter 9250: loss=131.3095, time=262.65s\n",
            "iter 9250: dev acc=0.4305\n",
            "Iter 9500: loss=123.8009, time=269.55s\n",
            "iter 9500: dev acc=0.4351\n",
            "Shuffling training data\n",
            "Iter 9750: loss=107.7885, time=276.44s\n",
            "iter 9750: dev acc=0.4151\n",
            "Shuffling training data\n",
            "Iter 10000: loss=110.7546, time=284.08s\n",
            "iter 10000: dev acc=0.4042\n",
            "Iter 10250: loss=101.4557, time=291.68s\n",
            "iter 10250: dev acc=0.4142\n",
            "Shuffling training data\n",
            "Iter 10500: loss=95.6653, time=298.79s\n",
            "iter 10500: dev acc=0.4314\n",
            "Shuffling training data\n",
            "Iter 10750: loss=86.1889, time=306.40s\n",
            "iter 10750: dev acc=0.4042\n",
            "Shuffling training data\n",
            "Iter 11000: loss=89.3571, time=313.42s\n",
            "iter 11000: dev acc=0.4069\n",
            "Iter 11250: loss=82.2613, time=320.56s\n",
            "iter 11250: dev acc=0.4205\n",
            "Shuffling training data\n",
            "Iter 11500: loss=71.8424, time=327.56s\n",
            "iter 11500: dev acc=0.4087\n",
            "Shuffling training data\n",
            "Iter 11750: loss=74.7819, time=334.60s\n",
            "iter 11750: dev acc=0.4024\n",
            "Shuffling training data\n",
            "Iter 12000: loss=76.7233, time=341.59s\n",
            "iter 12000: dev acc=0.4169\n",
            "Iter 12250: loss=68.0796, time=348.51s\n",
            "iter 12250: dev acc=0.4251\n",
            "Shuffling training data\n",
            "Iter 12500: loss=59.1344, time=355.71s\n",
            "iter 12500: dev acc=0.4142\n",
            "Shuffling training data\n",
            "Iter 12750: loss=59.0882, time=363.42s\n",
            "iter 12750: dev acc=0.4214\n",
            "Shuffling training data\n",
            "Iter 13000: loss=67.9420, time=370.45s\n",
            "iter 13000: dev acc=0.3987\n",
            "Iter 13250: loss=50.2946, time=377.52s\n",
            "iter 13250: dev acc=0.4114\n",
            "Shuffling training data\n",
            "Iter 13500: loss=48.2027, time=384.69s\n",
            "iter 13500: dev acc=0.4142\n",
            "Shuffling training data\n",
            "Iter 13750: loss=44.5144, time=391.78s\n",
            "iter 13750: dev acc=0.4078\n",
            "Iter 14000: loss=49.0970, time=398.83s\n",
            "iter 14000: dev acc=0.4178\n",
            "Shuffling training data\n",
            "Iter 14250: loss=47.5596, time=405.80s\n",
            "iter 14250: dev acc=0.4169\n",
            "Shuffling training data\n",
            "Iter 14500: loss=51.0528, time=412.92s\n",
            "iter 14500: dev acc=0.4332\n",
            "Shuffling training data\n",
            "Iter 14750: loss=39.9740, time=419.90s\n",
            "iter 14750: dev acc=0.4096\n",
            "Iter 15000: loss=38.7538, time=426.86s\n",
            "iter 15000: dev acc=0.4042\n",
            "Shuffling training data\n",
            "Iter 15250: loss=40.9572, time=433.80s\n",
            "iter 15250: dev acc=0.4151\n",
            "Shuffling training data\n",
            "Iter 15500: loss=35.6727, time=440.66s\n",
            "iter 15500: dev acc=0.4296\n",
            "Shuffling training data\n",
            "Iter 15750: loss=44.3966, time=447.68s\n",
            "iter 15750: dev acc=0.4223\n",
            "Iter 16000: loss=32.4062, time=454.52s\n",
            "iter 16000: dev acc=0.4187\n",
            "Shuffling training data\n",
            "Iter 16250: loss=41.8275, time=461.57s\n",
            "iter 16250: dev acc=0.4087\n",
            "Shuffling training data\n",
            "Iter 16500: loss=29.2775, time=468.51s\n",
            "iter 16500: dev acc=0.4114\n",
            "Iter 16750: loss=26.0276, time=475.51s\n",
            "iter 16750: dev acc=0.3933\n",
            "Shuffling training data\n",
            "Iter 17000: loss=23.3986, time=482.50s\n",
            "iter 17000: dev acc=0.3960\n",
            "Shuffling training data\n",
            "Iter 17250: loss=28.0551, time=489.39s\n",
            "iter 17250: dev acc=0.4114\n",
            "Shuffling training data\n",
            "Iter 17500: loss=35.3449, time=497.04s\n",
            "iter 17500: dev acc=0.4114\n",
            "Iter 17750: loss=42.3735, time=504.77s\n",
            "iter 17750: dev acc=0.3996\n",
            "Shuffling training data\n",
            "Iter 18000: loss=29.5534, time=512.48s\n",
            "iter 18000: dev acc=0.4169\n",
            "Shuffling training data\n",
            "Iter 18250: loss=20.1409, time=519.24s\n",
            "iter 18250: dev acc=0.4296\n",
            "Shuffling training data\n",
            "Iter 18500: loss=22.7996, time=526.18s\n",
            "iter 18500: dev acc=0.4160\n",
            "Iter 18750: loss=19.5378, time=533.08s\n",
            "iter 18750: dev acc=0.4151\n",
            "Shuffling training data\n",
            "Iter 19000: loss=30.7896, time=540.18s\n",
            "iter 19000: dev acc=0.3951\n",
            "Shuffling training data\n",
            "Iter 19250: loss=26.1480, time=547.22s\n",
            "iter 19250: dev acc=0.4087\n",
            "Shuffling training data\n",
            "Iter 19500: loss=17.8088, time=554.24s\n",
            "iter 19500: dev acc=0.4051\n",
            "Iter 19750: loss=28.9250, time=561.26s\n",
            "iter 19750: dev acc=0.3915\n",
            "Shuffling training data\n",
            "Iter 20000: loss=21.9889, time=568.92s\n",
            "iter 20000: dev acc=0.4069\n",
            "Shuffling training data\n",
            "Iter 20250: loss=14.6188, time=575.96s\n",
            "iter 20250: dev acc=0.4196\n",
            "Iter 20500: loss=28.5479, time=582.84s\n",
            "iter 20500: dev acc=0.4124\n",
            "Shuffling training data\n",
            "Iter 20750: loss=22.9089, time=589.69s\n",
            "iter 20750: dev acc=0.4142\n",
            "Shuffling training data\n",
            "Iter 21000: loss=16.5958, time=596.77s\n",
            "iter 21000: dev acc=0.4287\n",
            "Shuffling training data\n",
            "Iter 21250: loss=13.9916, time=603.69s\n",
            "iter 21250: dev acc=0.3969\n",
            "Iter 21500: loss=20.9082, time=610.63s\n",
            "iter 21500: dev acc=0.4133\n",
            "Shuffling training data\n",
            "Iter 21750: loss=17.9004, time=617.46s\n",
            "iter 21750: dev acc=0.4169\n",
            "Shuffling training data\n",
            "Iter 22000: loss=13.2584, time=624.37s\n",
            "iter 22000: dev acc=0.4015\n",
            "Shuffling training data\n",
            "Iter 22250: loss=25.4911, time=631.47s\n",
            "iter 22250: dev acc=0.4160\n",
            "Iter 22500: loss=13.7476, time=638.44s\n",
            "iter 22500: dev acc=0.4142\n",
            "Shuffling training data\n",
            "Iter 22750: loss=13.4422, time=645.36s\n",
            "iter 22750: dev acc=0.4069\n",
            "Shuffling training data\n",
            "Iter 23000: loss=21.5791, time=652.26s\n",
            "iter 23000: dev acc=0.4096\n",
            "Iter 23250: loss=15.6027, time=659.33s\n",
            "iter 23250: dev acc=0.4233\n",
            "Shuffling training data\n",
            "Iter 23500: loss=21.6251, time=666.27s\n",
            "iter 23500: dev acc=0.4233\n",
            "Shuffling training data\n",
            "Iter 23750: loss=18.1402, time=673.46s\n",
            "iter 23750: dev acc=0.3996\n",
            "Shuffling training data\n",
            "Iter 24000: loss=14.8051, time=680.61s\n",
            "iter 24000: dev acc=0.4196\n",
            "Iter 24250: loss=13.7127, time=687.64s\n",
            "iter 24250: dev acc=0.4096\n",
            "Shuffling training data\n",
            "Iter 24500: loss=12.7070, time=694.53s\n",
            "iter 24500: dev acc=0.4096\n",
            "Shuffling training data\n",
            "Iter 24750: loss=6.8791, time=701.26s\n",
            "iter 24750: dev acc=0.4187\n",
            "Shuffling training data\n",
            "Iter 25000: loss=5.8021, time=708.77s\n",
            "iter 25000: dev acc=0.4187\n",
            "Iter 25250: loss=5.0122, time=716.45s\n",
            "iter 25250: dev acc=0.4069\n",
            "Shuffling training data\n",
            "Iter 25500: loss=27.8529, time=724.17s\n",
            "iter 25500: dev acc=0.4151\n",
            "Shuffling training data\n",
            "Iter 25750: loss=21.9507, time=731.16s\n",
            "iter 25750: dev acc=0.4214\n",
            "Shuffling training data\n",
            "Iter 26000: loss=12.8893, time=738.16s\n",
            "iter 26000: dev acc=0.4278\n",
            "Iter 26250: loss=15.8691, time=745.17s\n",
            "iter 26250: dev acc=0.4196\n",
            "Shuffling training data\n",
            "Iter 26500: loss=15.6239, time=752.17s\n",
            "iter 26500: dev acc=0.4187\n",
            "Shuffling training data\n",
            "Iter 26750: loss=11.6806, time=759.19s\n",
            "iter 26750: dev acc=0.4133\n",
            "Iter 27000: loss=19.4326, time=766.13s\n",
            "iter 27000: dev acc=0.4142\n",
            "Shuffling training data\n",
            "Iter 27250: loss=13.0707, time=773.77s\n",
            "iter 27250: dev acc=0.4096\n",
            "Shuffling training data\n",
            "Iter 27500: loss=18.8029, time=780.89s\n",
            "iter 27500: dev acc=0.4178\n",
            "Shuffling training data\n",
            "Iter 27750: loss=8.3208, time=787.94s\n",
            "iter 27750: dev acc=0.4133\n",
            "Iter 28000: loss=6.0362, time=794.94s\n",
            "iter 28000: dev acc=0.4105\n",
            "Shuffling training data\n",
            "Iter 28250: loss=5.2829, time=801.89s\n",
            "iter 28250: dev acc=0.4114\n",
            "Shuffling training data\n",
            "Iter 28500: loss=8.7467, time=808.98s\n",
            "iter 28500: dev acc=0.4096\n",
            "Shuffling training data\n",
            "Iter 28750: loss=17.5497, time=815.89s\n",
            "iter 28750: dev acc=0.4205\n",
            "Iter 29000: loss=11.6341, time=822.92s\n",
            "iter 29000: dev acc=0.4260\n",
            "Shuffling training data\n",
            "Iter 29250: loss=10.3458, time=829.84s\n",
            "iter 29250: dev acc=0.4160\n",
            "Shuffling training data\n",
            "Iter 29500: loss=6.9236, time=836.83s\n",
            "iter 29500: dev acc=0.4160\n",
            "Iter 29750: loss=4.2875, time=843.82s\n",
            "iter 29750: dev acc=0.4114\n",
            "Shuffling training data\n",
            "Iter 30000: loss=4.4954, time=850.72s\n",
            "iter 30000: dev acc=0.4087\n",
            "Done training\n",
            "Loading best model\n",
            "best model iter 4000: train acc=0.5768, dev acc=0.4614, test acc=0.5155, test acc on big sentences=0.4284, test acc on small sentences=0.5155\n"
          ]
        }
      ]
    },
    {
      "cell_type": "code",
      "metadata": {
        "id": "ymj1rLDMvyhp",
        "colab": {
          "base_uri": "https://localhost:8080/",
          "height": 447
        },
        "outputId": "4e888597-5a46-4dd1-85c1-f4e7df4e76c1"
      },
      "source": [
        "plt.plot(lstm_accuracies)"
      ],
      "execution_count": 116,
      "outputs": [
        {
          "output_type": "execute_result",
          "data": {
            "text/plain": [
              "[<matplotlib.lines.Line2D at 0x7fe6ac6085e0>]"
            ]
          },
          "metadata": {},
          "execution_count": 116
        },
        {
          "output_type": "display_data",
          "data": {
            "text/plain": [
              "<Figure size 640x480 with 1 Axes>"
            ],
            "image/png": "[encoded data removed]"
          },
          "metadata": {}
        }
      ]
    },
    {
      "cell_type": "code",
      "metadata": {
        "id": "1je5S1RHVC5R",
        "colab": {
          "base_uri": "https://localhost:8080/",
          "height": 448
        },
        "outputId": "f21df219-bfe4-4e8e-f275-dcac8e41e998"
      },
      "source": [
        "plt.plot(lstm_losses)"
      ],
      "execution_count": 117,
      "outputs": [
        {
          "output_type": "execute_result",
          "data": {
            "text/plain": [
              "[<matplotlib.lines.Line2D at 0x7fe6ac5dc730>]"
            ]
          },
          "metadata": {},
          "execution_count": 117
        },
        {
          "output_type": "display_data",
          "data": {
            "text/plain": [
              "<Figure size 640x480 with 1 Axes>"
            ],
            "image/png": "[encoded data removed]"
          },
          "metadata": {}
        }
      ]
    },
    {
      "cell_type": "code",
      "source": [
        "lstm_model = LSTMClassifier(\n",
        "    len(v.w2i), 300, 168, len(t2i), v, optimized=True, zuidema = True)\n",
        "\n",
        "# copy pre-trained vectors into embeddings table\n",
        "with torch.no_grad():\n",
        "  lstm_model.embed.weight.data.copy_(torch.from_numpy(vectors))\n",
        "  lstm_model.embed.weight.requires_grad = False\n",
        "\n",
        "print(lstm_model)\n",
        "print_parameters(lstm_model)  \n",
        "  \n",
        "lstm_model = lstm_model.to(device)\n",
        "\n",
        "batch_size = 25\n",
        "optimizer = optim.Adam(lstm_model.parameters(), lr=2e-4)\n",
        "\n",
        "lstm_losses, lstm_accuracies = train_model(\n",
        "    lstm_model, optimizer, num_iterations=30000, \n",
        "    print_every=250, eval_every=250,\n",
        "    batch_size=batch_size,\n",
        "    batch_fn=get_minibatch, \n",
        "    prep_fn=prepare_minibatch,\n",
        "    eval_fn=evaluate)"
      ],
      "metadata": {
        "id": "L3Ru3jUK_PEz",
        "outputId": "e3cd9fd8-f9db-473b-fb8a-8c26738feafd",
        "colab": {
          "base_uri": "https://localhost:8080/"
        }
      },
      "execution_count": 118,
      "outputs": [
        {
          "output_type": "stream",
          "name": "stdout",
          "text": [
            "LSTMClassifier(\n",
            "  (embed): Embedding(20727, 300, padding_idx=1)\n",
            "  (rnn): MyLSTMCell_Zuidema(300, 168)\n",
            "  (output_layer): Sequential(\n",
            "    (0): Dropout(p=0.5, inplace=False)\n",
            "    (1): Linear(in_features=168, out_features=5, bias=True)\n",
            "  )\n",
            ")\n",
            "embed.weight             [20727, 300] requires_grad=False\n",
            "rnn.linear_ii.weight     [168, 300]   requires_grad=True\n",
            "rnn.linear_ii.bias       [168]        requires_grad=True\n",
            "rnn.linear_hi.weight     [168, 168]   requires_grad=True\n",
            "rnn.linear_hi.bias       [168]        requires_grad=True\n",
            "rnn.linear_if.weight     [168, 300]   requires_grad=True\n",
            "rnn.linear_if.bias       [168]        requires_grad=True\n",
            "rnn.linear_hf.weight     [168, 168]   requires_grad=True\n",
            "rnn.linear_hf.bias       [168]        requires_grad=True\n",
            "rnn.linear_ig.weight     [168, 300]   requires_grad=True\n",
            "rnn.linear_ig.bias       [168]        requires_grad=True\n",
            "rnn.linear_hg.weight     [168, 168]   requires_grad=True\n",
            "rnn.linear_hg.bias       [168]        requires_grad=True\n",
            "rnn.linear_io.weight     [168, 300]   requires_grad=True\n",
            "rnn.linear_io.bias       [168]        requires_grad=True\n",
            "rnn.linear_ho.weight     [168, 168]   requires_grad=True\n",
            "rnn.linear_ho.bias       [168]        requires_grad=True\n",
            "rnn.linear_ci.weight     [168, 168]   requires_grad=True\n",
            "rnn.linear_ci.bias       [168]        requires_grad=True\n",
            "rnn.linear_cf.weight     [168, 168]   requires_grad=True\n",
            "rnn.linear_cf.bias       [168]        requires_grad=True\n",
            "rnn.linear_co.weight     [168, 168]   requires_grad=True\n",
            "rnn.linear_co.bias       [168]        requires_grad=True\n",
            "output_layer.1.weight    [5, 168]     requires_grad=True\n",
            "output_layer.1.bias      [5]          requires_grad=True\n",
            "\n",
            "Total number of parameters: 6619961\n",
            "\n",
            "Shuffling training data\n",
            "Iter 250: loss=384.7818, time=13.97s\n",
            "iter 250: dev acc=0.3551\n",
            "new highscore\n",
            "Shuffling training data\n",
            "Iter 500: loss=340.8303, time=28.60s\n",
            "iter 500: dev acc=0.4124\n",
            "new highscore\n",
            "Shuffling training data\n",
            "Iter 750: loss=326.4586, time=43.40s\n",
            "iter 750: dev acc=0.4187\n",
            "new highscore\n",
            "Iter 1000: loss=316.7043, time=57.91s\n",
            "iter 1000: dev acc=0.4142\n",
            "Shuffling training data\n",
            "Iter 1250: loss=309.3015, time=73.65s\n",
            "iter 1250: dev acc=0.4278\n",
            "new highscore\n",
            "Shuffling training data\n",
            "Iter 1500: loss=306.9424, time=88.82s\n",
            "iter 1500: dev acc=0.4432\n",
            "new highscore\n",
            "Shuffling training data\n",
            "Iter 1750: loss=300.3611, time=103.63s\n",
            "iter 1750: dev acc=0.4541\n",
            "new highscore\n",
            "Iter 2000: loss=293.8120, time=118.31s\n",
            "iter 2000: dev acc=0.4505\n",
            "Shuffling training data\n",
            "Iter 2250: loss=289.1705, time=133.57s\n",
            "iter 2250: dev acc=0.4668\n",
            "new highscore\n",
            "Shuffling training data\n",
            "Iter 2500: loss=284.3030, time=148.45s\n",
            "iter 2500: dev acc=0.4532\n",
            "Shuffling training data\n",
            "Iter 2750: loss=279.5841, time=163.02s\n",
            "iter 2750: dev acc=0.4587\n",
            "Iter 3000: loss=271.7076, time=177.58s\n",
            "iter 3000: dev acc=0.4505\n",
            "Shuffling training data\n",
            "Iter 3250: loss=267.4158, time=192.11s\n",
            "iter 3250: dev acc=0.4541\n",
            "Shuffling training data\n",
            "Iter 3500: loss=256.5680, time=206.73s\n",
            "iter 3500: dev acc=0.4559\n",
            "Iter 3750: loss=253.8438, time=221.34s\n",
            "iter 3750: dev acc=0.4641\n",
            "Shuffling training data\n",
            "Iter 4000: loss=243.9593, time=235.90s\n",
            "iter 4000: dev acc=0.4541\n",
            "Shuffling training data\n",
            "Iter 4250: loss=237.8507, time=250.37s\n",
            "iter 4250: dev acc=0.4469\n",
            "Shuffling training data\n",
            "Iter 4500: loss=228.1157, time=265.10s\n",
            "iter 4500: dev acc=0.4441\n",
            "Iter 4750: loss=222.9501, time=280.37s\n",
            "iter 4750: dev acc=0.4405\n",
            "Shuffling training data\n",
            "Iter 5000: loss=210.3724, time=296.58s\n",
            "iter 5000: dev acc=0.4414\n",
            "Shuffling training data\n",
            "Iter 5250: loss=207.6433, time=311.23s\n",
            "iter 5250: dev acc=0.4487\n",
            "Shuffling training data\n",
            "Iter 5500: loss=198.3368, time=325.81s\n",
            "iter 5500: dev acc=0.4559\n",
            "Iter 5750: loss=187.7108, time=341.13s\n",
            "iter 5750: dev acc=0.4369\n",
            "Shuffling training data\n",
            "Iter 6000: loss=178.6141, time=355.75s\n",
            "iter 6000: dev acc=0.4478\n",
            "Shuffling training data\n",
            "Iter 6250: loss=173.8865, time=370.52s\n",
            "iter 6250: dev acc=0.4287\n",
            "Shuffling training data\n",
            "Iter 6500: loss=160.5285, time=385.22s\n",
            "iter 6500: dev acc=0.4287\n",
            "Iter 6750: loss=146.3419, time=399.79s\n",
            "iter 6750: dev acc=0.4205\n",
            "Shuffling training data\n",
            "Iter 7000: loss=140.9716, time=414.43s\n",
            "iter 7000: dev acc=0.4314\n",
            "Shuffling training data\n",
            "Iter 7250: loss=135.2527, time=429.15s\n",
            "iter 7250: dev acc=0.4323\n",
            "Iter 7500: loss=124.5344, time=443.77s\n",
            "iter 7500: dev acc=0.4332\n",
            "Shuffling training data\n",
            "Iter 7750: loss=118.5250, time=458.56s\n",
            "iter 7750: dev acc=0.4114\n",
            "Shuffling training data\n",
            "Iter 8000: loss=114.9049, time=472.99s\n",
            "iter 8000: dev acc=0.4332\n",
            "Shuffling training data\n",
            "Iter 8250: loss=104.7172, time=488.16s\n",
            "iter 8250: dev acc=0.4242\n",
            "Iter 8500: loss=98.7714, time=502.79s\n",
            "iter 8500: dev acc=0.4287\n",
            "Shuffling training data\n",
            "Iter 8750: loss=91.9049, time=517.40s\n",
            "iter 8750: dev acc=0.4323\n",
            "Shuffling training data\n",
            "Iter 9000: loss=87.0336, time=532.00s\n",
            "iter 9000: dev acc=0.4242\n",
            "Shuffling training data\n",
            "Iter 9250: loss=84.1878, time=546.64s\n",
            "iter 9250: dev acc=0.4114\n",
            "Iter 9500: loss=75.6761, time=561.18s\n",
            "iter 9500: dev acc=0.4078\n",
            "Shuffling training data\n",
            "Iter 9750: loss=75.8463, time=575.96s\n",
            "iter 9750: dev acc=0.4405\n",
            "Shuffling training data\n",
            "Iter 10000: loss=67.7474, time=590.68s\n",
            "iter 10000: dev acc=0.4332\n",
            "Iter 10250: loss=73.6963, time=605.29s\n",
            "iter 10250: dev acc=0.3815\n",
            "Shuffling training data\n",
            "Iter 10500: loss=65.8316, time=619.90s\n",
            "iter 10500: dev acc=0.4160\n",
            "Shuffling training data\n",
            "Iter 10750: loss=54.6757, time=634.93s\n",
            "iter 10750: dev acc=0.4151\n",
            "Shuffling training data\n",
            "Iter 11000: loss=55.8972, time=651.06s\n",
            "iter 11000: dev acc=0.4151\n",
            "Iter 11250: loss=50.8173, time=665.79s\n",
            "iter 11250: dev acc=0.4278\n",
            "Shuffling training data\n",
            "Iter 11500: loss=49.7391, time=680.47s\n",
            "iter 11500: dev acc=0.4251\n",
            "Shuffling training data\n",
            "Iter 11750: loss=55.3111, time=695.61s\n",
            "iter 11750: dev acc=0.4269\n",
            "Shuffling training data\n",
            "Iter 12000: loss=52.0150, time=710.17s\n",
            "iter 12000: dev acc=0.4269\n",
            "Iter 12250: loss=38.0507, time=724.75s\n",
            "iter 12250: dev acc=0.4096\n",
            "Shuffling training data\n",
            "Iter 12500: loss=41.9570, time=739.46s\n",
            "iter 12500: dev acc=0.3978\n",
            "Shuffling training data\n",
            "Iter 12750: loss=47.8711, time=754.27s\n",
            "iter 12750: dev acc=0.4296\n",
            "Shuffling training data\n",
            "Iter 13000: loss=46.2045, time=769.06s\n",
            "iter 13000: dev acc=0.4314\n",
            "Iter 13250: loss=37.7903, time=783.53s\n",
            "iter 13250: dev acc=0.4233\n",
            "Shuffling training data\n",
            "Iter 13500: loss=32.2499, time=798.20s\n",
            "iter 13500: dev acc=0.3942\n",
            "Shuffling training data\n",
            "Iter 13750: loss=36.0381, time=812.86s\n",
            "iter 13750: dev acc=0.4160\n",
            "Iter 14000: loss=30.5216, time=827.48s\n",
            "iter 14000: dev acc=0.4078\n",
            "Shuffling training data\n",
            "Iter 14250: loss=36.2709, time=842.17s\n",
            "iter 14250: dev acc=0.4124\n",
            "Shuffling training data\n",
            "Iter 14500: loss=32.4786, time=857.39s\n",
            "iter 14500: dev acc=0.4169\n",
            "Shuffling training data\n",
            "Iter 14750: loss=23.1808, time=872.00s\n",
            "iter 14750: dev acc=0.4151\n",
            "Iter 15000: loss=27.5527, time=886.75s\n",
            "iter 15000: dev acc=0.4160\n",
            "Shuffling training data\n",
            "Iter 15250: loss=24.9713, time=901.40s\n",
            "iter 15250: dev acc=0.4124\n",
            "Shuffling training data\n",
            "Iter 15500: loss=39.7046, time=916.32s\n",
            "iter 15500: dev acc=0.4133\n",
            "Shuffling training data\n",
            "Iter 15750: loss=27.1700, time=931.56s\n",
            "iter 15750: dev acc=0.4033\n",
            "Iter 16000: loss=25.9182, time=946.11s\n",
            "iter 16000: dev acc=0.4305\n",
            "Shuffling training data\n",
            "Iter 16250: loss=20.3358, time=962.04s\n",
            "iter 16250: dev acc=0.4087\n",
            "Shuffling training data\n",
            "Iter 16500: loss=24.2013, time=976.67s\n",
            "iter 16500: dev acc=0.4160\n",
            "Iter 16750: loss=24.0729, time=991.34s\n",
            "iter 16750: dev acc=0.4042\n",
            "Shuffling training data\n",
            "Iter 17000: loss=36.0312, time=1005.85s\n",
            "iter 17000: dev acc=0.4078\n",
            "Shuffling training data\n",
            "Iter 17250: loss=23.4597, time=1020.45s\n",
            "iter 17250: dev acc=0.4042\n",
            "Shuffling training data\n",
            "Iter 17500: loss=22.0281, time=1035.05s\n",
            "iter 17500: dev acc=0.3915\n",
            "Iter 17750: loss=17.3136, time=1049.74s\n",
            "iter 17750: dev acc=0.4060\n",
            "Shuffling training data\n",
            "Iter 18000: loss=17.0191, time=1064.92s\n",
            "iter 18000: dev acc=0.4060\n",
            "Shuffling training data\n",
            "Iter 18250: loss=26.0260, time=1079.73s\n",
            "iter 18250: dev acc=0.4005\n",
            "Shuffling training data\n",
            "Iter 18500: loss=26.1727, time=1094.33s\n",
            "iter 18500: dev acc=0.4069\n",
            "Iter 18750: loss=16.4041, time=1108.72s\n",
            "iter 18750: dev acc=0.3851\n",
            "Shuffling training data\n",
            "Iter 19000: loss=12.5304, time=1123.50s\n",
            "iter 19000: dev acc=0.3933\n",
            "Shuffling training data\n",
            "Iter 19250: loss=14.4363, time=1138.68s\n",
            "iter 19250: dev acc=0.4133\n",
            "Shuffling training data\n",
            "Iter 19500: loss=12.1206, time=1153.51s\n",
            "iter 19500: dev acc=0.4114\n",
            "Iter 19750: loss=13.8165, time=1168.08s\n",
            "iter 19750: dev acc=0.4105\n",
            "Shuffling training data\n",
            "Iter 20000: loss=17.7214, time=1182.83s\n",
            "iter 20000: dev acc=0.4105\n",
            "Shuffling training data\n",
            "Iter 20250: loss=23.3013, time=1197.53s\n",
            "iter 20250: dev acc=0.4223\n",
            "Iter 20500: loss=12.5832, time=1212.14s\n",
            "iter 20500: dev acc=0.4269\n",
            "Shuffling training data\n",
            "Iter 20750: loss=16.6477, time=1226.75s\n",
            "iter 20750: dev acc=0.4223\n",
            "Shuffling training data\n",
            "Iter 21000: loss=17.3031, time=1242.02s\n",
            "iter 21000: dev acc=0.4005\n",
            "Shuffling training data\n",
            "Iter 21250: loss=22.5397, time=1257.45s\n",
            "iter 21250: dev acc=0.4033\n",
            "Iter 21500: loss=18.4469, time=1273.59s\n",
            "iter 21500: dev acc=0.4015\n",
            "Shuffling training data\n",
            "Iter 21750: loss=18.0922, time=1288.15s\n",
            "iter 21750: dev acc=0.4133\n",
            "Shuffling training data\n",
            "Iter 22000: loss=11.9101, time=1302.97s\n",
            "iter 22000: dev acc=0.4114\n",
            "Shuffling training data\n",
            "Iter 22250: loss=11.8616, time=1317.74s\n",
            "iter 22250: dev acc=0.4005\n",
            "Iter 22500: loss=8.0069, time=1333.08s\n",
            "iter 22500: dev acc=0.4087\n",
            "Shuffling training data\n",
            "Iter 22750: loss=10.0027, time=1347.73s\n",
            "iter 22750: dev acc=0.4051\n",
            "Shuffling training data\n",
            "Iter 23000: loss=18.5169, time=1362.56s\n",
            "iter 23000: dev acc=0.4087\n",
            "Iter 23250: loss=17.8601, time=1377.10s\n",
            "iter 23250: dev acc=0.3933\n",
            "Shuffling training data\n",
            "Iter 23500: loss=15.2818, time=1391.95s\n",
            "iter 23500: dev acc=0.3860\n",
            "Shuffling training data\n",
            "Iter 23750: loss=12.1831, time=1406.70s\n",
            "iter 23750: dev acc=0.3978\n",
            "Shuffling training data\n",
            "Iter 24000: loss=8.0826, time=1421.20s\n",
            "iter 24000: dev acc=0.4051\n",
            "Iter 24250: loss=8.3075, time=1435.81s\n",
            "iter 24250: dev acc=0.4033\n",
            "Shuffling training data\n",
            "Iter 24500: loss=7.5139, time=1450.87s\n",
            "iter 24500: dev acc=0.4078\n",
            "Shuffling training data\n",
            "Iter 24750: loss=7.4304, time=1466.16s\n",
            "iter 24750: dev acc=0.4051\n",
            "Shuffling training data\n",
            "Iter 25000: loss=12.3496, time=1481.54s\n",
            "iter 25000: dev acc=0.4087\n",
            "Iter 25250: loss=11.3294, time=1496.17s\n",
            "iter 25250: dev acc=0.4033\n",
            "Shuffling training data\n",
            "Iter 25500: loss=9.8182, time=1510.88s\n",
            "iter 25500: dev acc=0.4033\n",
            "Shuffling training data\n",
            "Iter 25750: loss=10.1719, time=1525.63s\n",
            "iter 25750: dev acc=0.3933\n",
            "Shuffling training data\n",
            "Iter 26000: loss=9.9169, time=1540.90s\n",
            "iter 26000: dev acc=0.4078\n",
            "Iter 26250: loss=5.5677, time=1555.45s\n",
            "iter 26250: dev acc=0.4078\n",
            "Shuffling training data\n",
            "Iter 26500: loss=4.4779, time=1570.22s\n",
            "iter 26500: dev acc=0.3896\n",
            "Shuffling training data\n",
            "Iter 26750: loss=8.2624, time=1584.93s\n",
            "iter 26750: dev acc=0.4051\n",
            "Iter 27000: loss=17.1752, time=1599.45s\n",
            "iter 27000: dev acc=0.3906\n",
            "Shuffling training data\n",
            "Iter 27250: loss=14.7091, time=1614.10s\n",
            "iter 27250: dev acc=0.3915\n",
            "Shuffling training data\n",
            "Iter 27500: loss=9.6519, time=1628.71s\n",
            "iter 27500: dev acc=0.3933\n",
            "Shuffling training data\n",
            "Iter 27750: loss=8.0576, time=1643.55s\n",
            "iter 27750: dev acc=0.3987\n",
            "Iter 28000: loss=15.5823, time=1657.96s\n",
            "iter 28000: dev acc=0.4005\n",
            "Shuffling training data\n",
            "Iter 28250: loss=10.9054, time=1673.91s\n",
            "iter 28250: dev acc=0.4160\n",
            "Shuffling training data\n",
            "Iter 28500: loss=7.0144, time=1689.17s\n",
            "iter 28500: dev acc=0.4042\n",
            "Shuffling training data\n",
            "Iter 28750: loss=4.6292, time=1703.88s\n",
            "iter 28750: dev acc=0.4105\n",
            "Iter 29000: loss=2.9703, time=1718.71s\n",
            "iter 29000: dev acc=0.4060\n",
            "Shuffling training data\n",
            "Iter 29250: loss=2.2964, time=1733.38s\n",
            "iter 29250: dev acc=0.3987\n",
            "Shuffling training data\n",
            "Iter 29500: loss=11.1821, time=1748.70s\n",
            "iter 29500: dev acc=0.3869\n",
            "Iter 29750: loss=14.4571, time=1763.32s\n",
            "iter 29750: dev acc=0.3833\n",
            "Shuffling training data\n",
            "Iter 30000: loss=19.1404, time=1777.92s\n",
            "iter 30000: dev acc=0.4005\n",
            "Done training\n",
            "Loading best model\n",
            "best model iter 2250: train acc=0.5358, dev acc=0.4668, test acc=0.4996, test acc on big sentences=0.4501, test acc on small sentences=0.4996\n"
          ]
        }
      ]
    },
    {
      "cell_type": "markdown",
      "metadata": {
        "id": "q7WjcxXntMi5"
      },
      "source": [
        "# Tree-LSTM"
      ]
    },
    {
      "cell_type": "markdown",
      "metadata": {
        "id": "jyj_UD6GtO5M"
      },
      "source": [
        "In the final part of this lab we will exploit the tree structure of the SST data. \n",
        "Until now we only used the surface tokens, but remember that our data examples include binary trees with a sentiment score at every node.\n",
        "\n",
        "In particular, we will implement **N-ary Tree-LSTMs** which are described in:\n",
        "\n",
        "> Kai Sheng Tai, Richard Socher, and Christopher D. Manning. [Improved Semantic Representations From Tree-Structured Long Short-Term Memory Networks](http://aclweb.org/anthology/P/P15/P15-1150.pdf) ACL 2015.\n",
        "\n",
        "Since our trees are binary (i.e., N=2), we can refer to these as *Binary Tree-LSTMs*. If you study equations (9) to (14) in the paper, you will find that they are not all too different from the original LSTM that you already have.\n",
        "\n",
        "You should read this paper carefully and make sure that you understand the approach. You will also find our LSTM baseline there.\n",
        "Note however that Tree-LSTMs were proposed around the same time by two other groups:\n",
        "\n",
        "> Phong Le and Willem Zuidema. [Compositional distributional semantics with long short term memory](http://anthology.aclweb.org/S/S15/S15-1002.pdf). *SEM 2015.\n",
        "\n",
        "> Xiaodan Zhu, Parinaz Sobihani,  and Hongyu Guo. [Long short-term memory over recursive structures](http://proceedings.mlr.press/v37/zhub15.pdf). ICML 2015.\n",
        "\n",
        "It is good scientific practice to cite all three papers in your report.\n",
        "\n",
        "\n"
      ]
    },
    {
      "cell_type": "markdown",
      "metadata": {
        "id": "1rDzvSos3JFp"
      },
      "source": [
        "## Computation\n",
        "\n",
        "Do you remember the `transitions_from_treestring` function all the way in the beginning of this lab? Every example contains a **transition sequence** produced by this function. Let's look at it again:\n",
        "\n"
      ]
    },
    {
      "cell_type": "code",
      "metadata": {
        "id": "5pg0Xumc3ZUS",
        "colab": {
          "base_uri": "https://localhost:8080/"
        },
        "outputId": "2e991ff2-7666-4844-8a93-7cd46871e665"
      },
      "source": [
        "ex = next(examplereader(\"trees/dev.txt\"))\n",
        "print(TreePrettyPrinter(ex.tree))\n",
        "print(\"Transitions:\")\n",
        "print(ex.transitions)"
      ],
      "execution_count": 119,
      "outputs": [
        {
          "output_type": "stream",
          "name": "stdout",
          "text": [
            "              3                                                                     \n",
            "  ____________|____________________                                                  \n",
            " |                                 4                                                \n",
            " |        _________________________|______________________________________________   \n",
            " |       4                                                                        | \n",
            " |    ___|______________                                                          |  \n",
            " |   |                  4                                                         | \n",
            " |   |         _________|__________                                               |  \n",
            " |   |        |                    3                                              | \n",
            " |   |        |               _____|______________________                        |  \n",
            " |   |        |              |                            4                       | \n",
            " |   |        |              |            ________________|_______                |  \n",
            " |   |        |              |           |                        2               | \n",
            " |   |        |              |           |                 _______|___            |  \n",
            " |   |        3              |           |                |           2           | \n",
            " |   |    ____|_____         |           |                |        ___|_____      |  \n",
            " |   |   |          4        |           3                |       2         |     | \n",
            " |   |   |     _____|___     |      _____|_______         |    ___|___      |     |  \n",
            " 2   2   2    3         2    2     3             2        2   2       2     2     2 \n",
            " |   |   |    |         |    |     |             |        |   |       |     |     |  \n",
            " It  's  a  lovely     film with lovely     performances  by Buy     and Accorsi  . \n",
            "\n",
            "Transitions:\n",
            "[0, 0, 0, 0, 0, 1, 1, 0, 0, 0, 1, 0, 0, 0, 1, 0, 1, 1, 1, 1, 1, 1, 0, 1, 1]\n"
          ]
        }
      ]
    },
    {
      "cell_type": "markdown",
      "metadata": {
        "id": "ceBFe9fU4BI_"
      },
      "source": [
        "Note that the tree is **binary**. Every node has two children, except for pre-terminal nodes.\n",
        "\n",
        "A tree like this can be described by a sequence of **SHIFT (0)** and **REDUCE (1)** actions.\n",
        "\n",
        "To construct a tree, we can use the transitions as follows:\n",
        "- **reverse** the sentence (a list of tokens) and call this the **buffer**\n",
        "   - the first word is now on top (last in the list), and we would get it when calling pop() on the buffer\n",
        "- create an empty list and call it the **stack**\n",
        "- iterate through the transition sequence:\n",
        "  - if it says SHIFT(0), we pop a word from the buffer, and push it to the stack\n",
        "  - if it says REDUCE(1), we pop the **top two items** from the stack, and combine them (e.g. with a Tree-LSTM!), creating a new node that we push back on the stack\n",
        "  \n",
        "Convince yourself that going through the transition sequence above will result in the tree that you see.\n",
        "For example, we would start by putting the following words on the stack (by shifting 5 times, starting with `It`):\n",
        "\n",
        "```\n",
        "Top of the stack:\n",
        "-----------------\n",
        "film\n",
        "lovely\n",
        "a \n",
        "'s  \n",
        "It\n",
        "```\n",
        "Now we find a REDUCE in the transition sequence, so we get the top two words (film and lovely), and combine them, so our new stack becomes:\n",
        "```\n",
        "Top of the stack:\n",
        "-----------------\n",
        "lovely film\n",
        "a \n",
        "'s  \n",
        "It\n",
        "```\n",
        "\n",
        "We will use this approach when encoding sentences with our Tree-LSTM.\n",
        "Now, our sentence is a reversed list of word embeddings.\n",
        "When we shift, we move a word embedding to the stack.\n",
        "When we reduce, we apply the Tree-LSTM to the top two vectors, and the result is a single vector that we put back on the stack.\n",
        "After going through the whole transition sequence, we will have the root node on our stack! We can use that to classify the sentence.\n",
        "\n"
      ]
    },
    {
      "cell_type": "markdown",
      "metadata": {
        "id": "pDWKShm1AfmR"
      },
      "source": [
        "## Obtaining the transition sequence\n"
      ]
    },
    {
      "cell_type": "markdown",
      "metadata": {
        "id": "fO7VKWVpAbWj"
      },
      "source": [
        "\n",
        "So what goes on in the `transitions_from_treestring` function?\n",
        "\n",
        "The idea ([explained in this blog post](https://devblogs.nvidia.com/recursive-neural-networks-pytorch/)) is that, if we had a tree, we could traverse through the tree, and every time that we find a node containing only a word, we output a SHIFT.\n",
        "Every time **after** we have finished visiting the children of a node, we output a REDUCE.\n",
        "(What is this tree traversal called?)\n",
        "\n",
        "However, our `transitions_from_treestring` function operates directly on the string representation. It works as follows.\n",
        "\n",
        "We start with the representation:\n",
        "\n",
        "```\n",
        "(3 (2 It) (4 (4 (2 's) (4 (3 (2 a) (4 (3 lovely) (2 film))) (3 (2 with) (4 (3 (3 lovely) (2 performances)) (2 (2 by) (2 (2 (2 Buy) (2 and)) (2 Accorsi))))))) (2 .)))\n",
        "```\n",
        "\n",
        "First we remove pre-terminal nodes (and add spaces before closing brackets):\n",
        "\n",
        "```\n",
        "(3 It (4 (4 's (4 (3 a (4 lovely film ) ) (3 with (4 (3 lovely performances ) (2 by (2 (2 Buy and )  Accorsi ) ) ) ) ) ) . ) )\n",
        "```\n",
        "\n",
        "Then we remove node labels:\n",
        "\n",
        "```\n",
        "( It ( ( 's ( ( a ( lovely film ) ) ( with ( ( lovely performances) ( by ( ( Buy and )  Accorsi ) ) ) ) ) ) . ) )\n",
        "```\n",
        "\n",
        "Then we remove opening brackets:\n",
        "\n",
        "```\n",
        "It 's a lovely film ) ) with lovely performances ) by Buy and ) Accorsi ) ) ) ) ) ) . ) )\n",
        "```\n",
        "\n",
        "Now we replace words by S (for SHIFT), and closing brackets by R (for REDUCE):\n",
        "\n",
        "```\n",
        "S S S S S R R S S S R S S S R S R R R R R R S R R\n",
        "0 0 0 0 0 1 1 0 0 0 1 0 0 0 1 0 1 1 1 1 1 1 0 1 1 \n",
        "```\n",
        "\n",
        "Et voilà. We just obtained the transition sequence!"
      ]
    },
    {
      "cell_type": "code",
      "metadata": {
        "id": "1y069gM4_v64",
        "colab": {
          "base_uri": "https://localhost:8080/"
        },
        "outputId": "7dac6758-9004-4cdf-a8b8-7288f413272c"
      },
      "source": [
        "# for comparison\n",
        "seq = ex.transitions\n",
        "s = \" \".join([\"S\" if t == 0 else \"R\" for t in seq])\n",
        "print(s)\n",
        "print(\" \".join(map(str, seq)))"
      ],
      "execution_count": 120,
      "outputs": [
        {
          "output_type": "stream",
          "name": "stdout",
          "text": [
            "S S S S S R R S S S R S S S R S R R R R R R S R R\n",
            "0 0 0 0 0 1 1 0 0 0 1 0 0 0 1 0 1 1 1 1 1 1 0 1 1\n"
          ]
        }
      ]
    },
    {
      "cell_type": "markdown",
      "metadata": {
        "id": "d-qOuKbDAiBn"
      },
      "source": [
        "## Coding the Tree-LSTM\n",
        "\n",
        "The code below contains a Binary Tree-LSTM cell.\n",
        "It is used in the TreeLSTM class below it, which in turn is used in the TreeLSTMClassifier.\n",
        "The job of the TreeLSTM class is to encode a complete sentence and return the root node.\n",
        "The job of the TreeLSTMCell is to return a new state when provided with two children (a reduce action). By repeatedly calling the TreeLSTMCell, the TreeLSTM will encode a sentence. This can be done for multiple sentences at the same time.\n",
        "\n",
        "\n",
        "#### Exercise \n",
        "Check the `forward` function and complete the Tree-LSTM formulas.\n",
        "You can see that we defined a large linear layer for you, that projects the *concatenation* of the left and right child into the input gate, left forget gate, right forget gate, candidate, and output gate."
      ]
    },
    {
      "cell_type": "code",
      "metadata": {
        "id": "J9b9mjMlN7Pb"
      },
      "source": [
        "class TreeLSTMCell(nn.Module):\n",
        "  \"\"\"A Binary Tree LSTM cell\"\"\"\n",
        "\n",
        "  def __init__(self, input_size, hidden_size, bias=True):\n",
        "    \"\"\"Creates the weights for this LSTM\"\"\"\n",
        "    super(TreeLSTMCell, self).__init__()\n",
        "\n",
        "    self.input_size = input_size\n",
        "    self.hidden_size = hidden_size\n",
        "    self.bias = bias\n",
        "\n",
        "    self.reduce_layer = nn.Linear(2 * hidden_size, 5 * hidden_size)\n",
        "    self.dropout_layer = nn.Dropout(p=0.25)\n",
        "\n",
        "    self.tanh_act = nn.Tanh()\n",
        "    self.sigmoid_act = nn.Sigmoid()\n",
        "\n",
        "    self.reset_parameters()\n",
        "\n",
        "  def reset_parameters(self):\n",
        "    \"\"\"This is PyTorch's default initialization method\"\"\"\n",
        "    stdv = 1.0 / math.sqrt(self.hidden_size)\n",
        "    for weight in self.parameters():\n",
        "      weight.data.uniform_(-stdv, stdv)  \n",
        "\n",
        "  def forward(self, hx_l, hx_r, mask=None):\n",
        "    \"\"\"\n",
        "    hx_l is ((batch, hidden_size), (batch, hidden_size))\n",
        "    hx_r is ((batch, hidden_size), (batch, hidden_size))    \n",
        "    \"\"\"\n",
        "    prev_h_l, prev_c_l = hx_l  # left child\n",
        "    prev_h_r, prev_c_r = hx_r  # right child\n",
        "\n",
        "    B = prev_h_l.size(0)\n",
        "\n",
        "    # we concatenate the left and right children\n",
        "    # you can also project from them separately and then sum\n",
        "    children = torch.cat([prev_h_l, prev_h_r], dim=1)\n",
        "    \n",
        "    # project the combined children into a 5D tensor for i,fl,fr,g,o\n",
        "    # this is done for speed, and you could also do it separately\n",
        "    proj = self.reduce_layer(children)  # shape: B x 5D\n",
        "\n",
        "    # each shape: B x D\n",
        "    i, f_l, f_r, g, o = torch.chunk(proj, 5, dim=-1)\n",
        "\n",
        "    # main Tree LSTM computation\n",
        "    \n",
        "    # YOUR CODE HERE\n",
        "    # You only need to complete the commented lines below.\n",
        "\n",
        "    # The shape of each of these is [batch_size, hidden_size]\n",
        "\n",
        "    i = self.sigmoid_act(i)\n",
        "    f_l = self.sigmoid_act(f_l)\n",
        "    f_r = self.sigmoid_act(f_r)\n",
        "    g = self.tanh_act(g)\n",
        "    o = self.sigmoid_act(o)\n",
        "\n",
        "    c = i * g + (prev_c_l * f_l + prev_c_r * f_r)\n",
        "    h = o * self.tanh_act(c)\n",
        "    \n",
        "    return h, c\n",
        "  \n",
        "  def __repr__(self):\n",
        "    return \"{}({:d}, {:d})\".format(\n",
        "        self.__class__.__name__, self.input_size, self.hidden_size)"
      ],
      "execution_count": 121,
      "outputs": []
    },
    {
      "cell_type": "code",
      "source": [
        "class TreeLSTMCell_Zuidema(nn.Module):\n",
        "  \"\"\"A Binary Tree LSTM cell\"\"\"\n",
        "\n",
        "  def __init__(self, input_size, hidden_size, bias=True):\n",
        "    \"\"\"Creates the weights for this LSTM\"\"\"\n",
        "    super(TreeLSTMCell_Zuidema, self).__init__()\n",
        "\n",
        "    self.input_size = input_size\n",
        "    self.hidden_size = hidden_size\n",
        "    self.bias = bias\n",
        "\n",
        "    self.reduce_layer = nn.Linear(4 * hidden_size, 3 * hidden_size)\n",
        "    self.linear_g = nn.Linear(2*hidden_size, hidden_size)\n",
        "    self.linear_o = nn.Linear(3*hidden_size, hidden_size)\n",
        "\n",
        "\n",
        "\n",
        "    self.dropout_layer = nn.Dropout(p=0.25)\n",
        "\n",
        "    self.tanh_act = nn.Tanh()\n",
        "    self.sigmoid_act = nn.Sigmoid()\n",
        "\n",
        "    self.reset_parameters()\n",
        "\n",
        "  def reset_parameters(self):\n",
        "    \"\"\"This is PyTorch's default initialization method\"\"\"\n",
        "    stdv = 1.0 / math.sqrt(self.hidden_size)\n",
        "    for weight in self.parameters():\n",
        "      weight.data.uniform_(-stdv, stdv)  \n",
        "\n",
        "  def forward(self, hx_l, hx_r, mask=None):\n",
        "    \"\"\"\n",
        "    hx_l is ((batch, hidden_size), (batch, hidden_size))\n",
        "    hx_r is ((batch, hidden_size), (batch, hidden_size))    \n",
        "    \"\"\"\n",
        "    prev_h_l, prev_c_l = hx_l  # left child\n",
        "    prev_h_r, prev_c_r = hx_r  # right child\n",
        "\n",
        "    B = prev_h_l.size(0)\n",
        "\n",
        "    children_cells = torch.cat([prev_h_l, prev_h_r, prev_c_l, prev_c_r], dim=1)\n",
        "    children = torch.cat([prev_h_l, prev_h_r], dim=1)\n",
        "    \n",
        "    proj = self.reduce_layer(children_cells)  \n",
        "\n",
        "    i, f_l, f_r = torch.chunk(proj, 3, dim=-1)\n",
        "    i = self.sigmoid_act(i)\n",
        "    f_l = self.sigmoid_act(f_l)\n",
        "    f_r = self.sigmoid_act(f_r)\n",
        "\n",
        "    g = self.tanh_act(self.linear_g(children) * i)\n",
        "\n",
        "    c = (prev_c_l * f_l + prev_c_r * f_r) + g\n",
        "\n",
        "    o_inputs = torch.cat([prev_h_l, prev_h_r, c], dim=1)\n",
        "    o = self.linear_o(o_inputs)\n",
        "\n",
        "\n",
        "    o = self.sigmoid_act(o)\n",
        "    \n",
        "    h = o * self.tanh_act(c)\n",
        "    \n",
        "    return h, c\n",
        "  \n",
        "  def __repr__(self):\n",
        "    return \"{}({:d}, {:d})\".format(\n",
        "        self.__class__.__name__, self.input_size, self.hidden_size)"
      ],
      "metadata": {
        "id": "XzEG87_3oDNx"
      },
      "execution_count": 122,
      "outputs": []
    },
    {
      "cell_type": "markdown",
      "metadata": {
        "id": "Dj5dYSGh_643"
      },
      "source": [
        "## Explanation of the TreeLSTM class\n",
        "\n",
        "\n",
        "The code below contains the TreeLSTM class, which implements everything we need in order to encode a sentence from word embeddings. The calculations are the same as in the paper, implemented such that the class `TreeLSTMCell` above is as general as possible and only takes two children to reduce them into a parent. \n",
        "\n",
        "\n",
        "**Initialize $\\mathbf{h}$ and $\\mathbf{c}$ outside of the cell for the leaves**\n",
        "\n",
        "At the leaves of each tree the children nodes are **empty**, whereas in higher levels the nodes are binary tree nodes that *do* have a left and right child (but no input $x$). By initializing the leaf nodes outside of the cell class (`TreeLSTMCell`), we avoid if-else statements in the forward pass.\n",
        "\n",
        "The `TreeLSTM` class (among other things) pre-calculates an initial $h$ and $c$ for every word in the sentence. Since the initial left and right child are 0, the only calculations we need to do are based on $x$, and we can drop the forget gate calculation (`prev_c_l` and `prev_c_r` are zero). The calculations we do in order to initalize $h$ and $c$ are then:\n",
        "\n",
        "$$\n",
        "c_1 =  W^{(u)}x_1 \\\\\n",
        "o_1 = \\sigma (W^{(i)}x_1) \\\\\n",
        "h_1 = o_1 \\odot \\text{tanh}(c_1)$$\n",
        "*NB: note that these equations are chosen as initializations of $c$ and $h$, other initializations are possible and might work equally well.*\n",
        "\n",
        "**Sentence Representations**\n",
        "\n",
        "All our leaf nodes are now initialized, so we can start processing the sentence in its tree form. Each sentence is represented by a buffer (initially a list with a concatenation of $[h_1, c_1]$ for every word in the reversed sentence), a stack (initially an empty list) and a transition sequence. To encode our sentence, we construct the tree from its transition sequence as explained earlier. \n",
        "\n",
        "*A short example that constructs a tree:*\n",
        "\n",
        "We loop over the time dimension of the batched transition sequences (i.e. row by row), which contain values of 0's, 1's and 2's (representing SHIFT, REDUCE and padding respectively). If we have a batch of size 2 where the first example has a transition sequence given by [0, 0, 1, 0, 0, 0, 1] and the second by [0, 0, 1, 0, 0, 1], our transition batch will be given by the following two-dimensional numpy array:\n",
        "\n",
        "$$\n",
        "\\text{transitions} = \n",
        "\\begin{pmatrix}\n",
        "0 & 0\\\\ \n",
        "0 & 0\\\\ \n",
        "1 & 1\\\\ \n",
        "0 & 0\\\\ \n",
        "0 & 0\\\\ \n",
        "0 & 1\\\\ \n",
        "1 & 2\n",
        "\\end{pmatrix}\n",
        "$$\n",
        "The inner loop (`for transition, buffer, stack in zip(t_batch, buffers, stacks)`) goes over each example in the batch and updates its buffer and stack. The nested loop for this example will then do roughy the following:\n",
        "\n",
        "```\n",
        "Time = 0:  t_batch = [0, 0], the inner loop performs 2 SHIFTs. \n",
        "\n",
        "Time = 1:  t_batch = [0, 0], \"..\"\n",
        "\n",
        "Time = 2:  t_batch = [1, 1], causing the inner loop to fill the list child_l and child_r for both examples in the batch. Now the statement if child_l will return True, triggering a REDUCE action to be performed by our Tree LSTM cell with a batch size of 2. \n",
        "\n",
        "Time = 3:  t_batch = [0, 0], \"..\".\n",
        "\n",
        "Time = 4:  t_batch = [0, 0], \"..\"\n",
        "\n",
        "Time = 5:  t_batch = [0, 1], one SHIFT will be done and another REDUCE action will be performed by our Tree LSTM, this time of batch size 1.  \n",
        "\n",
        "Time = 6:  t_batch = [1, 2], triggering another REDUCE action with batch size 1.\n",
        "```\n",
        "*NB: note that this was an artificial example for the purpose of demonstrating parts of the code, the transition sequences do not necessarily represent actual trees.*\n",
        "\n",
        "**Batching and Unbatching**\n",
        "\n",
        "Within the body of the outer loop over time, we use the functions for batching and unbatching. \n",
        "\n",
        "*Batching*\n",
        "\n",
        "Before passing two lists of children to the reduce layer (an instance of `TreeLSTMCell`), we batch the children as they are at this point a list of tensors of variable length based on how many REDUCE actions there are to perform at a certain time step across the batch (let's call the length `L`). To do an efficient forward pass we want to transform the list to a pair of tensors of shape `([L, D], [L, D])`, which the function `batch` achieves. \n",
        "\n",
        "*Unbatching*\n",
        "\n",
        "In the same line where we batched the children, we unbatch the output of the forward pass to become a list of states of length `L` again. We do this because we need to loop over each example's transition at the current time step and push the children that are reduced into a parent to the stack.\n",
        "\n",
        "*The batch and unbatch functions let us switch between the \"PyTorch world\" (Tensors) and the Python world (easy to manipulate lists).*\n"
      ]
    },
    {
      "cell_type": "code",
      "metadata": {
        "id": "5PixvTd4AqsQ"
      },
      "source": [
        "# Helper functions for batching and unbatching states\n",
        "# For speed we want to combine computations by batching, but \n",
        "# for processing logic we want to turn the output into lists again\n",
        "# to easily manipulate.\n",
        "\n",
        "def batch(states):\n",
        "  \"\"\"\n",
        "  Turns a list of states into a single tensor for fast processing. \n",
        "  This function also chunks (splits) each state into a (h, c) pair\"\"\"\n",
        "  return torch.cat(states, 0).chunk(2, 1)\n",
        "\n",
        "def unbatch(state):\n",
        "  \"\"\"\n",
        "  Turns a tensor back into a list of states.\n",
        "  First, (h, c) are merged into a single state.\n",
        "  Then the result is split into a list of sentences.\n",
        "  \"\"\"\n",
        "  return torch.split(torch.cat(state, 1), 1, 0)"
      ],
      "execution_count": 123,
      "outputs": []
    },
    {
      "cell_type": "markdown",
      "metadata": {
        "id": "CynltDasaLPt"
      },
      "source": [
        "Take some time to understand the class below, having read the explanation above."
      ]
    },
    {
      "cell_type": "code",
      "metadata": {
        "id": "rQOqMXG4gX5G"
      },
      "source": [
        "class TreeLSTM(nn.Module):\n",
        "  \"\"\"Encodes a sentence using a TreeLSTMCell\"\"\"\n",
        "\n",
        "  def __init__(self, input_size, hidden_size, bias=True, zuidema = False):\n",
        "    \"\"\"Creates the weights for this LSTM\"\"\"\n",
        "    super(TreeLSTM, self).__init__()\n",
        "\n",
        "    self.input_size = input_size\n",
        "    self.hidden_size = hidden_size\n",
        "    self.bias = bias\n",
        "    \n",
        "    if zuidema == False:\n",
        "      self.reduce = TreeLSTMCell(input_size, hidden_size)\n",
        "    else:\n",
        "      self.reduce = TreeLSTMCell_Zuidema(input_size, hidden_size)\n",
        "\n",
        "    self.reduce = TreeLSTMCell_Zuidema(input_size, hidden_size)\n",
        "    # project word to initial c\n",
        "    self.proj_x = nn.Linear(input_size, hidden_size)\n",
        "    self.proj_x_gate = nn.Linear(input_size, hidden_size)\n",
        "    \n",
        "    self.buffers_dropout = nn.Dropout(p=0.5)\n",
        "\n",
        "  def forward(self, x, transitions):\n",
        "    \"\"\"\n",
        "    WARNING: assuming x is reversed!\n",
        "    :param x: word embeddings [B, T, E]\n",
        "    :param transitions: [2T-1, B]\n",
        "    :return: root states\n",
        "    \"\"\"\n",
        "\n",
        "    B = x.size(0)  # batch size\n",
        "    T = x.size(1)  # time\n",
        "\n",
        "    # compute an initial c and h for each word\n",
        "    # Note: this corresponds to input x in the Tai et al. Tree LSTM paper.\n",
        "    # We do not handle input x in the TreeLSTMCell itself.\n",
        "    buffers_c = self.proj_x(x)\n",
        "    buffers_h = buffers_c.tanh()\n",
        "    buffers_h_gate = self.proj_x_gate(x).sigmoid()\n",
        "    buffers_h = buffers_h_gate * buffers_h\n",
        "    \n",
        "    # concatenate h and c for each word\n",
        "    buffers = torch.cat([buffers_h, buffers_c], dim=-1)\n",
        "\n",
        "    D = buffers.size(-1) // 2\n",
        "\n",
        "    # we turn buffers into a list of stacks (1 stack for each sentence)\n",
        "    # first we split buffers so that it is a list of sentences (length B)\n",
        "    # then we split each sentence to be a list of word vectors\n",
        "    buffers = buffers.split(1, dim=0)  # Bx[T, 2D]\n",
        "    buffers = [list(b.squeeze(0).split(1, dim=0)) for b in buffers]  # BxTx[2D]\n",
        "\n",
        "    # create B empty stacks\n",
        "    stacks = [[] for _ in buffers]\n",
        "\n",
        "    # t_batch holds 1 transition for each sentence\n",
        "    for t_batch in transitions:\n",
        "\n",
        "      child_l = []  # contains the left child for each sentence with reduce action\n",
        "      child_r = []  # contains the corresponding right child\n",
        "\n",
        "      # iterate over sentences in the batch\n",
        "      # each has a transition t, a buffer and a stack\n",
        "      for transition, buffer, stack in zip(t_batch, buffers, stacks):\n",
        "        if transition == SHIFT:\n",
        "          stack.append(buffer.pop())\n",
        "        elif transition == REDUCE:\n",
        "          if(len(stack) < 2):\n",
        "            print(transitions)\n",
        "          assert len(stack) >= 2, \\\n",
        "            \"Stack too small! Should not happen with valid transition sequences\"\n",
        "          child_r.append(stack.pop())  # right child is on top\n",
        "          child_l.append(stack.pop())\n",
        "\n",
        "      # if there are sentences with reduce transition, perform them batched\n",
        "      if child_l:\n",
        "        reduced = iter(unbatch(self.reduce(batch(child_l), batch(child_r))))\n",
        "        for transition, stack in zip(t_batch, stacks):\n",
        "          if transition == REDUCE:\n",
        "            stack.append(next(reduced))\n",
        "\n",
        "    final = [stack.pop().chunk(2, -1)[0] for stack in stacks]\n",
        "    final = torch.cat(final, dim=0)  # tensor [B, D]\n",
        "\n",
        "    return final"
      ],
      "execution_count": 124,
      "outputs": []
    },
    {
      "cell_type": "markdown",
      "metadata": {
        "id": "s4EzbVzqaXkw"
      },
      "source": [
        "Just like the LSTM before, we will need an extra class that does the classifications."
      ]
    },
    {
      "cell_type": "code",
      "metadata": {
        "id": "nLxpYRvtQKge"
      },
      "source": [
        "class TreeLSTMClassifier(nn.Module):\n",
        "  \"\"\"Encodes sentence with a TreeLSTM and projects final hidden state\"\"\"\n",
        "\n",
        "  def __init__(self, vocab_size, embedding_dim, hidden_dim, output_dim, vocab, zuidema = False):\n",
        "    super(TreeLSTMClassifier, self).__init__()\n",
        "    self.vocab = vocab\n",
        "    self.hidden_dim = hidden_dim\n",
        "    self.embed = nn.Embedding(vocab_size, embedding_dim, padding_idx=1)\n",
        "\n",
        "    self.treelstm = TreeLSTM(embedding_dim, hidden_dim, zuidema = zuidema)\n",
        "    self.output_layer = nn.Sequential(     \n",
        "        nn.Dropout(p=0.5),\n",
        "        nn.Linear(hidden_dim, output_dim, bias=True)\n",
        "    )\n",
        "\n",
        "  def forward(self, x):\n",
        "    \n",
        "    # x is a pair here of words and transitions; we unpack it here.\n",
        "    # x is batch-major: [B, T], transitions is time major [2T-1, B]\n",
        "    x, transitions = x\n",
        "    emb = self.embed(x)\n",
        "    \n",
        "    # we use the root/top state of the Tree LSTM to classify the sentence\n",
        "    root_states = self.treelstm(emb, transitions)\n",
        "\n",
        "    # we use the last hidden state to classify the sentence\n",
        "    logits = self.output_layer(root_states)\n",
        "    return logits"
      ],
      "execution_count": 125,
      "outputs": []
    },
    {
      "cell_type": "markdown",
      "metadata": {
        "id": "gh9RbhGwaiLg"
      },
      "source": [
        "## Special `prepare` function for Tree-LSTM\n",
        "\n",
        "We need yet another `prepare` function. For our implementation, sentences need to be *reversed*. We will do that here."
      ]
    },
    {
      "cell_type": "code",
      "metadata": {
        "id": "DiqH-_2xdm9H"
      },
      "source": [
        "def prepare_treelstm_minibatch(mb, vocab):\n",
        "  \"\"\"\n",
        "  Returns sentences reversed (last word first)\n",
        "  Returns transitions together with the sentences.  \n",
        "  \"\"\"\n",
        "  batch_size = len(mb)\n",
        "  maxlen = max([len(ex.tokens) for ex in mb])\n",
        "    \n",
        "  # vocab returns 0 if the word is not there\n",
        "  # NOTE: reversed sequence!\n",
        "  x = [pad([vocab.w2i.get(t, 0) for t in ex.tokens], maxlen)[::-1] for ex in mb]\n",
        "  \n",
        "  x = torch.LongTensor(x)\n",
        "  x = x.to(device)\n",
        "  \n",
        "  y = [ex.label for ex in mb]\n",
        "  y = torch.LongTensor(y)\n",
        "  y = y.to(device)\n",
        "  \n",
        "  maxlen_t = max([len(ex.transitions) for ex in mb])\n",
        "  transitions = [pad(ex.transitions, maxlen_t, pad_value=2) for ex in mb]\n",
        "  transitions = np.array(transitions)\n",
        "  transitions = transitions.T  # time-major\n",
        "  \n",
        "  return (x, transitions), y"
      ],
      "execution_count": 126,
      "outputs": []
    },
    {
      "cell_type": "markdown",
      "metadata": {
        "id": "IMUsrlL9ayVe"
      },
      "source": [
        "## Training"
      ]
    },
    {
      "cell_type": "code",
      "metadata": {
        "id": "IpOYUdg2D3v0",
        "colab": {
          "base_uri": "https://localhost:8080/"
        },
        "outputId": "03263e90-c609-4c01-8903-a8f56681224a"
      },
      "source": [
        "# Now let's train the Tree LSTM!\n",
        "\n",
        "tree_model = TreeLSTMClassifier(\n",
        "    len(v.w2i), 300, 150, len(t2i), v)\n",
        "\n",
        "with torch.no_grad():\n",
        "  tree_model.embed.weight.data.copy_(torch.from_numpy(vectors))\n",
        "  tree_model.embed.weight.requires_grad = False\n",
        "  \n",
        "def do_train(model):\n",
        "  \n",
        "  print(model)\n",
        "  print_parameters(model)\n",
        "\n",
        "  model = model.to(device)\n",
        "\n",
        "  optimizer = optim.Adam(model.parameters(), lr=2e-4)\n",
        "  \n",
        "  return train_model(\n",
        "      model, optimizer, num_iterations=30000, \n",
        "      print_every=250, eval_every=250,\n",
        "      prep_fn=prepare_treelstm_minibatch,\n",
        "      eval_fn=evaluate,\n",
        "      batch_fn=get_minibatch,\n",
        "      batch_size=25, eval_batch_size=25)\n",
        "  \n",
        "results = do_train(tree_model)\n",
        "\n",
        "tree_lstm_losses, tree_lstm_accuracies = results"
      ],
      "execution_count": 127,
      "outputs": [
        {
          "output_type": "stream",
          "name": "stdout",
          "text": [
            "TreeLSTMClassifier(\n",
            "  (embed): Embedding(20727, 300, padding_idx=1)\n",
            "  (treelstm): TreeLSTM(\n",
            "    (reduce): TreeLSTMCell_Zuidema(300, 150)\n",
            "    (proj_x): Linear(in_features=300, out_features=150, bias=True)\n",
            "    (proj_x_gate): Linear(in_features=300, out_features=150, bias=True)\n",
            "    (buffers_dropout): Dropout(p=0.5, inplace=False)\n",
            "  )\n",
            "  (output_layer): Sequential(\n",
            "    (0): Dropout(p=0.5, inplace=False)\n",
            "    (1): Linear(in_features=150, out_features=5, bias=True)\n",
            "  )\n",
            ")\n",
            "embed.weight             [20727, 300] requires_grad=False\n",
            "treelstm.reduce.reduce_layer.weight [450, 600]   requires_grad=True\n",
            "treelstm.reduce.reduce_layer.bias [450]        requires_grad=True\n",
            "treelstm.reduce.linear_g.weight [150, 300]   requires_grad=True\n",
            "treelstm.reduce.linear_g.bias [150]        requires_grad=True\n",
            "treelstm.reduce.linear_o.weight [150, 450]   requires_grad=True\n",
            "treelstm.reduce.linear_o.bias [150]        requires_grad=True\n",
            "treelstm.proj_x.weight   [150, 300]   requires_grad=True\n",
            "treelstm.proj_x.bias     [150]        requires_grad=True\n",
            "treelstm.proj_x_gate.weight [150, 300]   requires_grad=True\n",
            "treelstm.proj_x_gate.bias [150]        requires_grad=True\n",
            "output_layer.1.weight    [5, 150]     requires_grad=True\n",
            "output_layer.1.bias      [5]          requires_grad=True\n",
            "\n",
            "Total number of parameters: 6692405\n",
            "\n",
            "Shuffling training data\n",
            "Iter 250: loss=377.2708, time=22.01s\n",
            "iter 250: dev acc=0.4042\n",
            "new highscore\n",
            "Shuffling training data\n",
            "Iter 500: loss=332.6347, time=44.60s\n",
            "iter 500: dev acc=0.4042\n",
            "Shuffling training data\n",
            "Iter 750: loss=317.8044, time=67.63s\n",
            "iter 750: dev acc=0.4351\n",
            "new highscore\n",
            "Iter 1000: loss=310.0647, time=91.98s\n",
            "iter 1000: dev acc=0.4432\n",
            "new highscore\n",
            "Shuffling training data\n",
            "Iter 1250: loss=299.5597, time=115.35s\n",
            "iter 1250: dev acc=0.4414\n",
            "Shuffling training data\n",
            "Iter 1500: loss=299.3629, time=138.45s\n",
            "iter 1500: dev acc=0.4505\n",
            "new highscore\n",
            "Shuffling training data\n",
            "Iter 1750: loss=291.3027, time=162.05s\n",
            "iter 1750: dev acc=0.4559\n",
            "new highscore\n",
            "Iter 2000: loss=285.9317, time=185.14s\n",
            "iter 2000: dev acc=0.4532\n",
            "Shuffling training data\n",
            "Iter 2250: loss=280.4849, time=207.99s\n",
            "iter 2250: dev acc=0.4569\n",
            "new highscore\n",
            "Shuffling training data\n",
            "Iter 2500: loss=272.9928, time=231.39s\n",
            "iter 2500: dev acc=0.4550\n",
            "Shuffling training data\n",
            "Iter 2750: loss=269.1804, time=254.34s\n",
            "iter 2750: dev acc=0.4450\n",
            "Iter 3000: loss=262.7341, time=277.03s\n",
            "iter 3000: dev acc=0.4659\n",
            "new highscore\n",
            "Shuffling training data\n",
            "Iter 3250: loss=254.6100, time=300.17s\n",
            "iter 3250: dev acc=0.4496\n",
            "Shuffling training data\n",
            "Iter 3500: loss=249.9760, time=323.89s\n",
            "iter 3500: dev acc=0.4550\n",
            "Iter 3750: loss=239.9800, time=346.99s\n",
            "iter 3750: dev acc=0.4605\n",
            "Shuffling training data\n",
            "Iter 4000: loss=231.3756, time=371.84s\n",
            "iter 4000: dev acc=0.4405\n",
            "Shuffling training data\n",
            "Iter 4250: loss=225.8731, time=394.86s\n",
            "iter 4250: dev acc=0.4450\n",
            "Shuffling training data\n",
            "Iter 4500: loss=217.0890, time=417.50s\n",
            "iter 4500: dev acc=0.4369\n",
            "Iter 4750: loss=209.3516, time=440.26s\n",
            "iter 4750: dev acc=0.4514\n",
            "Shuffling training data\n",
            "Iter 5000: loss=198.3017, time=463.31s\n",
            "iter 5000: dev acc=0.4378\n",
            "Shuffling training data\n",
            "Iter 5250: loss=186.4428, time=486.07s\n",
            "iter 5250: dev acc=0.4332\n",
            "Shuffling training data\n",
            "Iter 5500: loss=186.5333, time=509.52s\n",
            "iter 5500: dev acc=0.4305\n",
            "Iter 5750: loss=172.0635, time=532.27s\n",
            "iter 5750: dev acc=0.4323\n",
            "Shuffling training data\n",
            "Iter 6000: loss=160.4401, time=555.27s\n",
            "iter 6000: dev acc=0.4369\n",
            "Shuffling training data\n",
            "Iter 6250: loss=155.8602, time=578.27s\n",
            "iter 6250: dev acc=0.4160\n",
            "Shuffling training data\n",
            "Iter 6500: loss=146.7579, time=601.67s\n",
            "iter 6500: dev acc=0.4187\n",
            "Iter 6750: loss=134.9184, time=624.40s\n",
            "iter 6750: dev acc=0.4087\n",
            "Shuffling training data\n",
            "Iter 7000: loss=124.9520, time=647.22s\n",
            "iter 7000: dev acc=0.4196\n",
            "Shuffling training data\n",
            "Iter 7250: loss=120.7136, time=672.02s\n",
            "iter 7250: dev acc=0.4178\n",
            "Iter 7500: loss=107.0435, time=695.52s\n",
            "iter 7500: dev acc=0.4105\n",
            "Shuffling training data\n",
            "Iter 7750: loss=96.8143, time=718.43s\n",
            "iter 7750: dev acc=0.4105\n",
            "Shuffling training data\n",
            "Iter 8000: loss=91.3787, time=741.30s\n",
            "iter 8000: dev acc=0.4178\n",
            "Shuffling training data\n",
            "Iter 8250: loss=89.5515, time=763.94s\n",
            "iter 8250: dev acc=0.4024\n",
            "Iter 8500: loss=79.2270, time=787.40s\n",
            "iter 8500: dev acc=0.3887\n",
            "Shuffling training data\n",
            "Iter 8750: loss=72.5514, time=810.44s\n",
            "iter 8750: dev acc=0.3942\n",
            "Shuffling training data\n",
            "Iter 9000: loss=69.4292, time=833.49s\n",
            "iter 9000: dev acc=0.4196\n",
            "Shuffling training data\n",
            "Iter 9250: loss=65.6158, time=856.36s\n",
            "iter 9250: dev acc=0.4042\n",
            "Iter 9500: loss=57.4630, time=879.16s\n",
            "iter 9500: dev acc=0.4105\n",
            "Shuffling training data\n",
            "Iter 9750: loss=50.7724, time=901.97s\n",
            "iter 9750: dev acc=0.4060\n",
            "Shuffling training data\n",
            "Iter 10000: loss=55.2829, time=924.89s\n",
            "iter 10000: dev acc=0.3987\n",
            "Iter 10250: loss=51.0050, time=947.61s\n",
            "iter 10250: dev acc=0.4069\n",
            "Shuffling training data\n",
            "Iter 10500: loss=46.2897, time=970.76s\n",
            "iter 10500: dev acc=0.4124\n",
            "Shuffling training data\n",
            "Iter 10750: loss=45.7534, time=996.24s\n",
            "iter 10750: dev acc=0.3996\n",
            "Shuffling training data\n",
            "Iter 11000: loss=42.0869, time=1018.91s\n",
            "iter 11000: dev acc=0.4024\n",
            "Iter 11250: loss=41.1169, time=1041.91s\n",
            "iter 11250: dev acc=0.3960\n",
            "Shuffling training data\n",
            "Iter 11500: loss=45.1241, time=1064.65s\n",
            "iter 11500: dev acc=0.4069\n",
            "Shuffling training data\n",
            "Iter 11750: loss=34.9968, time=1087.57s\n",
            "iter 11750: dev acc=0.3969\n",
            "Shuffling training data\n",
            "Iter 12000: loss=30.8924, time=1110.25s\n",
            "iter 12000: dev acc=0.3996\n",
            "Iter 12250: loss=27.9693, time=1133.97s\n",
            "iter 12250: dev acc=0.4051\n",
            "Shuffling training data\n",
            "Iter 12500: loss=21.9419, time=1158.16s\n",
            "iter 12500: dev acc=0.3815\n",
            "Shuffling training data\n",
            "Iter 12750: loss=22.6226, time=1181.89s\n",
            "iter 12750: dev acc=0.4060\n",
            "Shuffling training data\n",
            "Iter 13000: loss=27.0616, time=1205.96s\n",
            "iter 13000: dev acc=0.3978\n",
            "Iter 13250: loss=26.5084, time=1229.48s\n",
            "iter 13250: dev acc=0.4151\n",
            "Shuffling training data\n",
            "Iter 13500: loss=28.8669, time=1252.63s\n",
            "iter 13500: dev acc=0.3915\n",
            "Shuffling training data\n",
            "Iter 13750: loss=30.7396, time=1276.11s\n",
            "iter 13750: dev acc=0.4015\n",
            "Iter 14000: loss=17.8832, time=1300.54s\n",
            "iter 14000: dev acc=0.4069\n",
            "Shuffling training data\n",
            "Iter 14250: loss=18.1335, time=1324.41s\n",
            "iter 14250: dev acc=0.3969\n",
            "Shuffling training data\n",
            "Iter 14500: loss=15.8956, time=1348.45s\n",
            "iter 14500: dev acc=0.4060\n",
            "Shuffling training data\n",
            "Iter 14750: loss=20.7953, time=1372.62s\n",
            "iter 14750: dev acc=0.4096\n",
            "Iter 15000: loss=22.4448, time=1396.39s\n",
            "iter 15000: dev acc=0.4142\n",
            "Shuffling training data\n",
            "Iter 15250: loss=18.4415, time=1419.36s\n",
            "iter 15250: dev acc=0.4033\n",
            "Shuffling training data\n",
            "Iter 15500: loss=20.1384, time=1442.49s\n",
            "iter 15500: dev acc=0.4051\n",
            "Shuffling training data\n",
            "Iter 15750: loss=26.5715, time=1465.47s\n",
            "iter 15750: dev acc=0.3860\n",
            "Iter 16000: loss=15.4107, time=1488.44s\n",
            "iter 16000: dev acc=0.4042\n",
            "Shuffling training data\n",
            "Iter 16250: loss=11.3348, time=1511.71s\n",
            "iter 16250: dev acc=0.3987\n",
            "Shuffling training data\n",
            "Iter 16500: loss=9.4796, time=1534.73s\n",
            "iter 16500: dev acc=0.3887\n",
            "Iter 16750: loss=13.1092, time=1557.82s\n",
            "iter 16750: dev acc=0.3969\n",
            "Shuffling training data\n",
            "Iter 17000: loss=17.3866, time=1581.92s\n",
            "iter 17000: dev acc=0.3915\n",
            "Shuffling training data\n",
            "Iter 17250: loss=14.3696, time=1605.18s\n",
            "iter 17250: dev acc=0.3851\n",
            "Shuffling training data\n",
            "Iter 17500: loss=16.7512, time=1628.79s\n",
            "iter 17500: dev acc=0.3906\n",
            "Iter 17750: loss=14.6992, time=1651.77s\n",
            "iter 17750: dev acc=0.4033\n",
            "Shuffling training data\n",
            "Iter 18000: loss=10.7650, time=1674.64s\n",
            "iter 18000: dev acc=0.3815\n",
            "Shuffling training data\n",
            "Iter 18250: loss=23.6599, time=1697.79s\n",
            "iter 18250: dev acc=0.4042\n",
            "Shuffling training data\n",
            "Iter 18500: loss=13.8597, time=1720.80s\n",
            "iter 18500: dev acc=0.4069\n",
            "Iter 18750: loss=14.2053, time=1744.64s\n",
            "iter 18750: dev acc=0.3896\n",
            "Shuffling training data\n",
            "Iter 19000: loss=14.2639, time=1769.10s\n",
            "iter 19000: dev acc=0.3887\n",
            "Shuffling training data\n",
            "Iter 19250: loss=13.9201, time=1793.17s\n",
            "iter 19250: dev acc=0.3933\n",
            "Shuffling training data\n",
            "Iter 19500: loss=12.2098, time=1817.22s\n",
            "iter 19500: dev acc=0.4042\n",
            "Iter 19750: loss=13.1006, time=1840.73s\n",
            "iter 19750: dev acc=0.4024\n",
            "Shuffling training data\n",
            "Iter 20000: loss=12.2172, time=1864.23s\n",
            "iter 20000: dev acc=0.4142\n",
            "Shuffling training data\n",
            "Iter 20250: loss=6.9603, time=1888.63s\n",
            "iter 20250: dev acc=0.4051\n",
            "Iter 20500: loss=4.7417, time=1911.94s\n",
            "iter 20500: dev acc=0.4015\n",
            "Shuffling training data\n",
            "Iter 20750: loss=5.5234, time=1935.63s\n",
            "iter 20750: dev acc=0.4142\n",
            "Shuffling training data\n",
            "Iter 21000: loss=6.0159, time=1958.96s\n",
            "iter 21000: dev acc=0.4033\n",
            "Shuffling training data\n",
            "Iter 21250: loss=4.1693, time=1982.57s\n",
            "iter 21250: dev acc=0.4015\n",
            "Iter 21500: loss=4.6185, time=2005.91s\n",
            "iter 21500: dev acc=0.4205\n",
            "Shuffling training data\n",
            "Iter 21750: loss=26.7803, time=2028.75s\n",
            "iter 21750: dev acc=0.4033\n",
            "Shuffling training data\n",
            "Iter 22000: loss=19.6813, time=2051.89s\n",
            "iter 22000: dev acc=0.4033\n",
            "Shuffling training data\n",
            "Iter 22250: loss=13.0299, time=2076.15s\n",
            "iter 22250: dev acc=0.3960\n",
            "Iter 22500: loss=6.3994, time=2099.88s\n",
            "iter 22500: dev acc=0.4078\n",
            "Shuffling training data\n",
            "Iter 22750: loss=6.8294, time=2123.39s\n",
            "iter 22750: dev acc=0.4133\n",
            "Shuffling training data\n",
            "Iter 23000: loss=4.4453, time=2146.67s\n",
            "iter 23000: dev acc=0.4142\n",
            "Iter 23250: loss=2.9542, time=2170.42s\n",
            "iter 23250: dev acc=0.4124\n",
            "Shuffling training data\n",
            "Iter 23500: loss=3.6656, time=2194.16s\n",
            "iter 23500: dev acc=0.4105\n",
            "Shuffling training data\n",
            "Iter 23750: loss=2.9002, time=2217.84s\n",
            "iter 23750: dev acc=0.4124\n",
            "Shuffling training data\n",
            "Iter 24000: loss=6.6363, time=2241.40s\n",
            "iter 24000: dev acc=0.4124\n",
            "Iter 24250: loss=28.0039, time=2265.47s\n",
            "iter 24250: dev acc=0.4105\n",
            "Shuffling training data\n",
            "Iter 24500: loss=14.8751, time=2288.67s\n",
            "iter 24500: dev acc=0.4196\n",
            "Shuffling training data\n",
            "Iter 24750: loss=8.5097, time=2311.89s\n",
            "iter 24750: dev acc=0.4214\n",
            "Shuffling training data\n",
            "Iter 25000: loss=6.3039, time=2335.30s\n",
            "iter 25000: dev acc=0.4087\n",
            "Iter 25250: loss=7.6808, time=2359.16s\n",
            "iter 25250: dev acc=0.4196\n",
            "Shuffling training data\n",
            "Iter 25500: loss=6.6986, time=2383.14s\n",
            "iter 25500: dev acc=0.4169\n",
            "Shuffling training data\n",
            "Iter 25750: loss=4.1084, time=2406.46s\n",
            "iter 25750: dev acc=0.4251\n",
            "Shuffling training data\n",
            "Iter 26000: loss=3.4205, time=2429.69s\n",
            "iter 26000: dev acc=0.4205\n",
            "Iter 26250: loss=3.4579, time=2453.29s\n",
            "iter 26250: dev acc=0.4160\n",
            "Shuffling training data\n",
            "Iter 26500: loss=9.3331, time=2476.22s\n",
            "iter 26500: dev acc=0.3951\n",
            "Shuffling training data\n",
            "Iter 26750: loss=10.7073, time=2499.95s\n",
            "iter 26750: dev acc=0.4024\n",
            "Iter 27000: loss=13.4228, time=2523.48s\n",
            "iter 27000: dev acc=0.3951\n",
            "Shuffling training data\n",
            "Iter 27250: loss=8.0672, time=2547.30s\n",
            "iter 27250: dev acc=0.4078\n",
            "Shuffling training data\n",
            "Iter 27500: loss=8.5570, time=2571.29s\n",
            "iter 27500: dev acc=0.4078\n",
            "Shuffling training data\n",
            "Iter 27750: loss=5.6402, time=2594.93s\n",
            "iter 27750: dev acc=0.3987\n",
            "Iter 28000: loss=2.8321, time=2618.28s\n",
            "iter 28000: dev acc=0.3951\n",
            "Shuffling training data\n",
            "Iter 28250: loss=2.8390, time=2641.64s\n",
            "iter 28250: dev acc=0.4033\n",
            "Shuffling training data\n",
            "Iter 28500: loss=2.2657, time=2664.79s\n",
            "iter 28500: dev acc=0.4078\n",
            "Shuffling training data\n",
            "Iter 28750: loss=2.1108, time=2687.89s\n",
            "iter 28750: dev acc=0.4033\n",
            "Iter 29000: loss=1.7403, time=2711.54s\n",
            "iter 29000: dev acc=0.3960\n",
            "Shuffling training data\n",
            "Iter 29250: loss=15.7417, time=2734.96s\n",
            "iter 29250: dev acc=0.3933\n",
            "Shuffling training data\n",
            "Iter 29500: loss=18.5158, time=2758.72s\n",
            "iter 29500: dev acc=0.4060\n",
            "Iter 29750: loss=10.3745, time=2782.33s\n",
            "iter 29750: dev acc=0.3960\n",
            "Shuffling training data\n",
            "Iter 30000: loss=7.9379, time=2805.39s\n",
            "iter 30000: dev acc=0.4160\n",
            "Done training\n",
            "Loading best model\n",
            "best model iter 3000: train acc=0.5872, dev acc=0.4659, test acc=0.5021, test acc on big sentences=0.4462, test acc on small sentences=0.5021\n"
          ]
        }
      ]
    },
    {
      "cell_type": "code",
      "metadata": {
        "id": "DHcHHaLtguUg",
        "colab": {
          "base_uri": "https://localhost:8080/",
          "height": 447
        },
        "outputId": "afcdf79a-4ed7-4250-d1f8-90961b92030c"
      },
      "source": [
        "plt.plot(tree_lstm_accuracies)"
      ],
      "execution_count": 128,
      "outputs": [
        {
          "output_type": "execute_result",
          "data": {
            "text/plain": [
              "[<matplotlib.lines.Line2D at 0x7fe6ac672880>]"
            ]
          },
          "metadata": {},
          "execution_count": 128
        },
        {
          "output_type": "display_data",
          "data": {
            "text/plain": [
              "<Figure size 640x480 with 1 Axes>"
            ],
            "image/png": "[encoded data removed]"
          },
          "metadata": {}
        }
      ]
    },
    {
      "cell_type": "code",
      "source": [
        "plt.plot(tree_lstm_losses)"
      ],
      "metadata": {
        "id": "3BkAwtt-Q43P",
        "colab": {
          "base_uri": "https://localhost:8080/",
          "height": 447
        },
        "outputId": "5e0375f5-6b4c-4ebd-a5d3-4589a8fd3509"
      },
      "execution_count": 129,
      "outputs": [
        {
          "output_type": "execute_result",
          "data": {
            "text/plain": [
              "[<matplotlib.lines.Line2D at 0x7fe6ac5876d0>]"
            ]
          },
          "metadata": {},
          "execution_count": 129
        },
        {
          "output_type": "display_data",
          "data": {
            "text/plain": [
              "<Figure size 640x480 with 1 Axes>"
            ],
            "image/png": "[encoded data removed]"
          },
          "metadata": {}
        }
      ]
    },
    {
      "cell_type": "code",
      "source": [
        "# Now let's train the Tree LSTM!\n",
        "\n",
        "tree_model = TreeLSTMClassifier(\n",
        "    len(v.w2i), 300, 150, len(t2i), v, zuidema = True)\n",
        "\n",
        "with torch.no_grad():\n",
        "  tree_model.embed.weight.data.copy_(torch.from_numpy(vectors))\n",
        "  tree_model.embed.weight.requires_grad = False\n",
        "  \n",
        "def do_train(model):\n",
        "  \n",
        "  print(model)\n",
        "  print_parameters(model)\n",
        "\n",
        "  model = model.to(device)\n",
        "\n",
        "  optimizer = optim.Adam(model.parameters(), lr=2e-4)\n",
        "  \n",
        "  return train_model(\n",
        "      model, optimizer, num_iterations=30000, \n",
        "      print_every=250, eval_every=250,\n",
        "      prep_fn=prepare_treelstm_minibatch,\n",
        "      eval_fn=evaluate,\n",
        "      batch_fn=get_minibatch,\n",
        "      batch_size=25, eval_batch_size=25)\n",
        "  \n",
        "results = do_train(tree_model)\n",
        "\n",
        "tree_lstm_losses, tree_lstm_accuracies = results"
      ],
      "metadata": {
        "id": "Vp0Dpn4g_dqJ",
        "outputId": "80141cb1-2ba9-47fa-dc56-cd80f9b31038",
        "colab": {
          "base_uri": "https://localhost:8080/"
        }
      },
      "execution_count": 130,
      "outputs": [
        {
          "output_type": "stream",
          "name": "stdout",
          "text": [
            "TreeLSTMClassifier(\n",
            "  (embed): Embedding(20727, 300, padding_idx=1)\n",
            "  (treelstm): TreeLSTM(\n",
            "    (reduce): TreeLSTMCell_Zuidema(300, 150)\n",
            "    (proj_x): Linear(in_features=300, out_features=150, bias=True)\n",
            "    (proj_x_gate): Linear(in_features=300, out_features=150, bias=True)\n",
            "    (buffers_dropout): Dropout(p=0.5, inplace=False)\n",
            "  )\n",
            "  (output_layer): Sequential(\n",
            "    (0): Dropout(p=0.5, inplace=False)\n",
            "    (1): Linear(in_features=150, out_features=5, bias=True)\n",
            "  )\n",
            ")\n",
            "embed.weight             [20727, 300] requires_grad=False\n",
            "treelstm.reduce.reduce_layer.weight [450, 600]   requires_grad=True\n",
            "treelstm.reduce.reduce_layer.bias [450]        requires_grad=True\n",
            "treelstm.reduce.linear_g.weight [150, 300]   requires_grad=True\n",
            "treelstm.reduce.linear_g.bias [150]        requires_grad=True\n",
            "treelstm.reduce.linear_o.weight [150, 450]   requires_grad=True\n",
            "treelstm.reduce.linear_o.bias [150]        requires_grad=True\n",
            "treelstm.proj_x.weight   [150, 300]   requires_grad=True\n",
            "treelstm.proj_x.bias     [150]        requires_grad=True\n",
            "treelstm.proj_x_gate.weight [150, 300]   requires_grad=True\n",
            "treelstm.proj_x_gate.bias [150]        requires_grad=True\n",
            "output_layer.1.weight    [5, 150]     requires_grad=True\n",
            "output_layer.1.bias      [5]          requires_grad=True\n",
            "\n",
            "Total number of parameters: 6692405\n",
            "\n",
            "Shuffling training data\n",
            "Iter 250: loss=376.4907, time=21.85s\n",
            "iter 250: dev acc=0.3942\n",
            "new highscore\n",
            "Shuffling training data\n",
            "Iter 500: loss=330.3719, time=45.05s\n",
            "iter 500: dev acc=0.4042\n",
            "new highscore\n",
            "Shuffling training data\n",
            "Iter 750: loss=315.7085, time=68.36s\n",
            "iter 750: dev acc=0.4369\n",
            "new highscore\n",
            "Iter 1000: loss=309.3646, time=91.53s\n",
            "iter 1000: dev acc=0.4278\n",
            "Shuffling training data\n",
            "Iter 1250: loss=301.8602, time=115.28s\n",
            "iter 1250: dev acc=0.4505\n",
            "new highscore\n",
            "Shuffling training data\n",
            "Iter 1500: loss=293.8278, time=139.04s\n",
            "iter 1500: dev acc=0.4587\n",
            "new highscore\n",
            "Shuffling training data\n",
            "Iter 1750: loss=291.4604, time=162.40s\n",
            "iter 1750: dev acc=0.4496\n",
            "Iter 2000: loss=284.3070, time=185.85s\n",
            "iter 2000: dev acc=0.4596\n",
            "new highscore\n",
            "Shuffling training data\n",
            "Iter 2250: loss=278.3205, time=209.00s\n",
            "iter 2250: dev acc=0.4505\n",
            "Shuffling training data\n",
            "Iter 2500: loss=276.1035, time=232.38s\n",
            "iter 2500: dev acc=0.4559\n",
            "Shuffling training data\n",
            "Iter 2750: loss=269.8100, time=256.70s\n",
            "iter 2750: dev acc=0.4532\n",
            "Iter 3000: loss=262.0548, time=280.29s\n",
            "iter 3000: dev acc=0.4687\n",
            "new highscore\n",
            "Shuffling training data\n",
            "Iter 3250: loss=251.8589, time=304.08s\n",
            "iter 3250: dev acc=0.4505\n",
            "Shuffling training data\n",
            "Iter 3500: loss=253.1298, time=327.98s\n",
            "iter 3500: dev acc=0.4523\n",
            "Iter 3750: loss=245.4198, time=351.83s\n",
            "iter 3750: dev acc=0.4559\n",
            "Shuffling training data\n",
            "Iter 4000: loss=235.4313, time=375.03s\n",
            "iter 4000: dev acc=0.4596\n",
            "Shuffling training data\n",
            "Iter 4250: loss=224.2683, time=398.04s\n",
            "iter 4250: dev acc=0.4605\n",
            "Shuffling training data\n",
            "Iter 4500: loss=221.4002, time=421.29s\n",
            "iter 4500: dev acc=0.4505\n",
            "Iter 4750: loss=210.8018, time=444.33s\n",
            "iter 4750: dev acc=0.4460\n",
            "Shuffling training data\n",
            "Iter 5000: loss=198.5827, time=467.71s\n",
            "iter 5000: dev acc=0.4514\n",
            "Shuffling training data\n",
            "Iter 5250: loss=188.4745, time=490.89s\n",
            "iter 5250: dev acc=0.4360\n",
            "Shuffling training data\n",
            "Iter 5500: loss=189.1186, time=514.56s\n",
            "iter 5500: dev acc=0.4496\n",
            "Iter 5750: loss=170.1012, time=538.99s\n",
            "iter 5750: dev acc=0.4223\n",
            "Shuffling training data\n",
            "Iter 6000: loss=159.4456, time=562.23s\n",
            "iter 6000: dev acc=0.4360\n",
            "Shuffling training data\n",
            "Iter 6250: loss=153.7425, time=585.78s\n",
            "iter 6250: dev acc=0.4305\n",
            "Shuffling training data\n",
            "Iter 6500: loss=146.9099, time=609.01s\n",
            "iter 6500: dev acc=0.4478\n",
            "Iter 6750: loss=129.1622, time=632.12s\n",
            "iter 6750: dev acc=0.4396\n",
            "Shuffling training data\n",
            "Iter 7000: loss=124.0234, time=655.11s\n",
            "iter 7000: dev acc=0.4269\n",
            "Shuffling training data\n",
            "Iter 7250: loss=117.8491, time=678.08s\n",
            "iter 7250: dev acc=0.4151\n",
            "Iter 7500: loss=112.8603, time=701.93s\n",
            "iter 7500: dev acc=0.4305\n",
            "Shuffling training data\n",
            "Iter 7750: loss=96.4984, time=725.32s\n",
            "iter 7750: dev acc=0.4260\n",
            "Shuffling training data\n",
            "Iter 8000: loss=87.3844, time=748.65s\n",
            "iter 8000: dev acc=0.4233\n",
            "Shuffling training data\n",
            "Iter 8250: loss=87.1098, time=771.63s\n",
            "iter 8250: dev acc=0.4287\n",
            "Iter 8500: loss=78.7913, time=794.77s\n",
            "iter 8500: dev acc=0.4360\n",
            "Shuffling training data\n",
            "Iter 8750: loss=75.1622, time=820.93s\n",
            "iter 8750: dev acc=0.4242\n",
            "Shuffling training data\n",
            "Iter 9000: loss=69.0520, time=846.21s\n",
            "iter 9000: dev acc=0.4260\n",
            "Shuffling training data\n",
            "Iter 9250: loss=64.3907, time=872.38s\n",
            "iter 9250: dev acc=0.4351\n",
            "Iter 9500: loss=56.2227, time=900.35s\n",
            "iter 9500: dev acc=0.4251\n",
            "Shuffling training data\n",
            "Iter 9750: loss=51.5438, time=927.15s\n",
            "iter 9750: dev acc=0.4214\n",
            "Shuffling training data\n",
            "Iter 10000: loss=51.3374, time=953.82s\n",
            "iter 10000: dev acc=0.4105\n",
            "Iter 10250: loss=50.9990, time=979.78s\n",
            "iter 10250: dev acc=0.4051\n",
            "Shuffling training data\n",
            "Iter 10500: loss=47.5380, time=1006.23s\n",
            "iter 10500: dev acc=0.4133\n",
            "Shuffling training data\n",
            "Iter 10750: loss=39.2869, time=1031.94s\n",
            "iter 10750: dev acc=0.3987\n",
            "Shuffling training data\n",
            "Iter 11000: loss=39.2946, time=1057.85s\n",
            "iter 11000: dev acc=0.4051\n",
            "Iter 11250: loss=35.8312, time=1086.40s\n",
            "iter 11250: dev acc=0.4205\n",
            "Shuffling training data\n",
            "Iter 11500: loss=37.1693, time=1113.99s\n",
            "iter 11500: dev acc=0.4042\n",
            "Shuffling training data\n",
            "Iter 11750: loss=35.0776, time=1141.11s\n",
            "iter 11750: dev acc=0.4178\n",
            "Shuffling training data\n",
            "Iter 12000: loss=30.7843, time=1167.64s\n",
            "iter 12000: dev acc=0.4015\n",
            "Iter 12250: loss=29.7629, time=1193.61s\n",
            "iter 12250: dev acc=0.4151\n",
            "Shuffling training data\n",
            "Iter 12500: loss=27.4049, time=1219.01s\n",
            "iter 12500: dev acc=0.4160\n",
            "Shuffling training data\n",
            "Iter 12750: loss=22.0689, time=1244.80s\n",
            "iter 12750: dev acc=0.4069\n",
            "Shuffling training data\n",
            "Iter 13000: loss=36.2074, time=1270.86s\n",
            "iter 13000: dev acc=0.3996\n",
            "Iter 13250: loss=35.5168, time=1296.51s\n",
            "iter 13250: dev acc=0.4142\n",
            "Shuffling training data\n",
            "Iter 13500: loss=21.8111, time=1322.08s\n",
            "iter 13500: dev acc=0.4223\n",
            "Shuffling training data\n",
            "Iter 13750: loss=24.3985, time=1347.57s\n",
            "iter 13750: dev acc=0.3951\n",
            "Iter 14000: loss=20.6280, time=1373.24s\n",
            "iter 14000: dev acc=0.3969\n",
            "Shuffling training data\n",
            "Iter 14250: loss=23.4469, time=1400.16s\n",
            "iter 14250: dev acc=0.4042\n",
            "Shuffling training data\n",
            "Iter 14500: loss=21.6810, time=1425.52s\n",
            "iter 14500: dev acc=0.4151\n",
            "Shuffling training data\n",
            "Iter 14750: loss=19.1776, time=1450.51s\n",
            "iter 14750: dev acc=0.3987\n",
            "Iter 15000: loss=18.7016, time=1475.85s\n",
            "iter 15000: dev acc=0.4187\n",
            "Shuffling training data\n",
            "Iter 15250: loss=23.9386, time=1500.92s\n",
            "iter 15250: dev acc=0.4187\n",
            "Shuffling training data\n",
            "Iter 15500: loss=16.4853, time=1526.17s\n",
            "iter 15500: dev acc=0.4087\n",
            "Shuffling training data\n",
            "Iter 15750: loss=12.9181, time=1551.06s\n",
            "iter 15750: dev acc=0.4214\n",
            "Iter 16000: loss=11.8690, time=1575.22s\n",
            "iter 16000: dev acc=0.4142\n",
            "Shuffling training data\n",
            "Iter 16250: loss=14.8862, time=1598.68s\n",
            "iter 16250: dev acc=0.4233\n",
            "Shuffling training data\n",
            "Iter 16500: loss=22.9126, time=1622.33s\n",
            "iter 16500: dev acc=0.4124\n",
            "Iter 16750: loss=20.2864, time=1646.32s\n",
            "iter 16750: dev acc=0.4151\n",
            "Shuffling training data\n",
            "Iter 17000: loss=16.9320, time=1670.76s\n",
            "iter 17000: dev acc=0.4114\n",
            "Shuffling training data\n",
            "Iter 17250: loss=9.7745, time=1694.43s\n",
            "iter 17250: dev acc=0.4260\n",
            "Shuffling training data\n",
            "Iter 17500: loss=9.3216, time=1717.64s\n",
            "iter 17500: dev acc=0.4260\n",
            "Iter 17750: loss=8.2128, time=1741.50s\n",
            "iter 17750: dev acc=0.4005\n",
            "Shuffling training data\n",
            "Iter 18000: loss=18.6240, time=1764.68s\n",
            "iter 18000: dev acc=0.3987\n",
            "Shuffling training data\n",
            "Iter 18250: loss=14.9262, time=1787.87s\n",
            "iter 18250: dev acc=0.4178\n",
            "Shuffling training data\n",
            "Iter 18500: loss=14.7115, time=1810.91s\n",
            "iter 18500: dev acc=0.4105\n",
            "Iter 18750: loss=9.8426, time=1834.14s\n",
            "iter 18750: dev acc=0.4323\n",
            "Shuffling training data\n",
            "Iter 19000: loss=10.7535, time=1858.36s\n",
            "iter 19000: dev acc=0.4196\n",
            "Shuffling training data\n",
            "Iter 19250: loss=10.6904, time=1881.53s\n",
            "iter 19250: dev acc=0.4124\n",
            "Shuffling training data\n",
            "Iter 19500: loss=11.8417, time=1904.75s\n",
            "iter 19500: dev acc=0.3951\n",
            "Iter 19750: loss=16.4042, time=1928.97s\n",
            "iter 19750: dev acc=0.4060\n",
            "Shuffling training data\n",
            "Iter 20000: loss=13.2123, time=1951.88s\n",
            "iter 20000: dev acc=0.4151\n",
            "Shuffling training data\n",
            "Iter 20250: loss=10.6358, time=1975.50s\n",
            "iter 20250: dev acc=0.4260\n",
            "Iter 20500: loss=5.7483, time=1998.64s\n",
            "iter 20500: dev acc=0.4196\n",
            "Shuffling training data\n",
            "Iter 20750: loss=4.0738, time=2022.00s\n",
            "iter 20750: dev acc=0.4269\n",
            "Shuffling training data\n",
            "Iter 21000: loss=4.6049, time=2045.94s\n",
            "iter 21000: dev acc=0.4351\n",
            "Shuffling training data\n",
            "Iter 21250: loss=21.5698, time=2069.07s\n",
            "iter 21250: dev acc=0.4214\n",
            "Iter 21500: loss=21.6431, time=2092.22s\n",
            "iter 21500: dev acc=0.4133\n",
            "Shuffling training data\n",
            "Iter 21750: loss=12.7279, time=2115.41s\n",
            "iter 21750: dev acc=0.4105\n",
            "Shuffling training data\n",
            "Iter 22000: loss=8.2376, time=2138.07s\n",
            "iter 22000: dev acc=0.4124\n",
            "Shuffling training data\n",
            "Iter 22250: loss=6.1054, time=2161.44s\n",
            "iter 22250: dev acc=0.4187\n",
            "Iter 22500: loss=3.9888, time=2185.34s\n",
            "iter 22500: dev acc=0.4051\n",
            "Shuffling training data\n",
            "Iter 22750: loss=3.2954, time=2209.17s\n",
            "iter 22750: dev acc=0.4187\n",
            "Shuffling training data\n",
            "Iter 23000: loss=3.3677, time=2232.79s\n",
            "iter 23000: dev acc=0.4160\n",
            "Iter 23250: loss=9.5217, time=2255.72s\n",
            "iter 23250: dev acc=0.4087\n",
            "Shuffling training data\n",
            "Iter 23500: loss=16.2687, time=2278.68s\n",
            "iter 23500: dev acc=0.4187\n",
            "Shuffling training data\n",
            "Iter 23750: loss=9.8551, time=2301.59s\n",
            "iter 23750: dev acc=0.3906\n",
            "Shuffling training data\n",
            "Iter 24000: loss=8.9025, time=2324.51s\n",
            "iter 24000: dev acc=0.4223\n",
            "Iter 24250: loss=7.1062, time=2347.26s\n",
            "iter 24250: dev acc=0.4196\n",
            "Shuffling training data\n",
            "Iter 24500: loss=8.3132, time=2370.58s\n",
            "iter 24500: dev acc=0.4142\n",
            "Shuffling training data\n",
            "Iter 24750: loss=11.0400, time=2393.38s\n",
            "iter 24750: dev acc=0.4069\n",
            "Shuffling training data\n",
            "Iter 25000: loss=12.2959, time=2416.59s\n",
            "iter 25000: dev acc=0.4114\n",
            "Iter 25250: loss=9.1863, time=2440.52s\n",
            "iter 25250: dev acc=0.4069\n",
            "Shuffling training data\n",
            "Iter 25500: loss=6.2358, time=2464.30s\n",
            "iter 25500: dev acc=0.4196\n",
            "Shuffling training data\n",
            "Iter 25750: loss=4.8610, time=2487.23s\n",
            "iter 25750: dev acc=0.4214\n",
            "Shuffling training data\n",
            "Iter 26000: loss=2.7663, time=2510.07s\n",
            "iter 26000: dev acc=0.4078\n",
            "Iter 26250: loss=6.7903, time=2533.10s\n",
            "iter 26250: dev acc=0.4214\n",
            "Shuffling training data\n",
            "Iter 26500: loss=13.4700, time=2556.15s\n",
            "iter 26500: dev acc=0.4060\n",
            "Shuffling training data\n",
            "Iter 26750: loss=9.3132, time=2579.04s\n",
            "iter 26750: dev acc=0.4305\n",
            "Iter 27000: loss=6.6316, time=2602.99s\n",
            "iter 27000: dev acc=0.3951\n",
            "Shuffling training data\n",
            "Iter 27250: loss=10.1572, time=2626.16s\n",
            "iter 27250: dev acc=0.4142\n",
            "Shuffling training data\n",
            "Iter 27500: loss=6.3674, time=2649.27s\n",
            "iter 27500: dev acc=0.4223\n",
            "Shuffling training data\n",
            "Iter 27750: loss=3.3543, time=2673.13s\n",
            "iter 27750: dev acc=0.4060\n",
            "Iter 28000: loss=3.4252, time=2696.77s\n",
            "iter 28000: dev acc=0.4087\n",
            "Shuffling training data\n",
            "Iter 28250: loss=5.3727, time=2720.95s\n",
            "iter 28250: dev acc=0.4205\n",
            "Shuffling training data\n",
            "Iter 28500: loss=11.1916, time=2744.04s\n",
            "iter 28500: dev acc=0.3951\n",
            "Shuffling training data\n",
            "Iter 28750: loss=17.7880, time=2767.24s\n",
            "iter 28750: dev acc=0.4005\n",
            "Iter 29000: loss=9.2036, time=2791.43s\n",
            "iter 29000: dev acc=0.4233\n",
            "Shuffling training data\n",
            "Iter 29250: loss=5.6373, time=2814.43s\n",
            "iter 29250: dev acc=0.4178\n",
            "Shuffling training data\n",
            "Iter 29500: loss=5.3102, time=2837.96s\n",
            "iter 29500: dev acc=0.4160\n",
            "Iter 29750: loss=5.9653, time=2861.61s\n",
            "iter 29750: dev acc=0.4060\n",
            "Shuffling training data\n",
            "Iter 30000: loss=2.7905, time=2885.13s\n",
            "iter 30000: dev acc=0.4114\n",
            "Done training\n",
            "Loading best model\n",
            "best model iter 3000: train acc=0.6014, dev acc=0.4687, test acc=0.5129, test acc on big sentences=0.4432, test acc on small sentences=0.5129\n"
          ]
        }
      ]
    },
    {
      "cell_type": "markdown",
      "metadata": {
        "id": "f7QZZH86eHqu"
      },
      "source": [
        "# Further experiments and report\n",
        "\n",
        "For your report, you are expected to answer research questions by doing further experiments.\n",
        "\n",
        "## Research Questions\n",
        "\n",
        "Make sure you cover at least the following:\n",
        "\n",
        "- How important is word order for this task?\n",
        "- Does the tree structure help to get a better accuracy?\n",
        "- How does performance depend on the sentence length? Compare the various models. Is there a model that does better on longer sentences? If so, why?\n",
        "- Do you get better performance if you supervise the sentiment **at each node in the tree**? You can extract more training examples by treating every node in each tree as a separate tree. You will need to write a function that extracts all subtrees given a treestring. \n",
        "    - Warning: NLTK's Tree function seems to result in invalid trees in some cases, so be careful if you want to parse the string to a tree structure before extraction the phrases.\n",
        "\n",
        "**To be able to obtain a full grade (10), you should conduct further investigations.** For example, you can also investigate one the following:\n",
        "\n",
        "- When making a wrong prediction, can you figure out at what point in the tree (sentence) the model fails? You can make a prediction at each node to investigate.\n",
        "- How does N-ary Tree LSTM compare to the Child-Sum Tree LSTM? \n",
        "- How do the Tai et al. Tree LSTMs compare to Le & Zuidema's formulation?\n",
        "- Or... your own research question!\n",
        "\n",
        "These examples should give you an idea of the expected scope of your further investigations.\n",
        "\n",
        "In general:\n",
        "\n",
        "- ***When you report numbers, please report the mean accuracy across 3 (or more) runs with different random seed, together with the standard deviation.*** This is because the final performance may vary per random seed. \n",
        "More precisely, you should run each model with 3 different seeds, and for each of these 3 runs, evaluate the best model (according to the validation) on the test dataset. The validation dataset is used for finding the best model over iterations, but the accuracy you report should be on the test dataset.\n",
        "\n",
        "## Report instructions\n",
        "\n",
        "Your report needs to be written in LaTeX. You are required to use the ACL 2020 template which you can download from or edit directly on [Overleaf](https://www.overleaf.com/latex/templates/instructions-for-acl-2018-proceedings/xzmhqgnmkppc). Make sure your names and student numbers are visible at the top. (Tip: you need to uncomment `\\aclfinalcopy`).\n",
        "You can find some general tips about writing a research paper [here](https://www.microsoft.com/en-us/research/academic-program/write-great-research-paper/), but note that you need to make your own judgment about what is appropriate for this project. \n",
        "\n",
        "We expect you to use the following structure:\n",
        "1. Introduction (~1 page) - describe the problem, your research questions and goals, a summary of your findings and contributions. Please cite related work (models, data set) as part of your introduction here, since this is a short paper.\n",
        "    - Introduce the task and the main goal\n",
        "    - Present your research questions\n",
        "    - Motivate the importance of the questions\n",
        "    - Present and explain your expectations\n",
        "    - Make clear whether the research questions are addressed or not addressed in the literature\n",
        "    - Describe the approach you use to answer the research questions\n",
        "    - Summarise your findings\n",
        "2. Background (~1/2-1 page) -\n",
        "cover the main techniques (\"building blocks\") used in your project (e.g. word embeddings, LSTM, Tree-LSTM) and intuitions behind them. Be accurate and concise.\n",
        "    - How does each technique work? (Don't just copy the formulas)\n",
        "    - What is the relation between the techniques?\n",
        "3. Models (~1/2 page) - Describe the architecture of the final models.\n",
        "    - How do you use LSTM or Tree-LSTM for the sentiment classification task? \n",
        "    - What layers do you have, how do you do classification? \n",
        "    - What is your loss function?\n",
        "    - Etc.\n",
        "4. Experiments (~1/2 page) - Describe your experimental setup. This section should allow someone else to reproduce your experiments. Describe how you evaluate the models.\n",
        "    - Task and the data\n",
        "    - Training (model, data, parameters and hyper parameters, training algorithms, supervision signals, etc.)\n",
        "    - Evaluation (e.g. metrics)\n",
        "5. Results and Analysis (~1 page). Present the results and analyse your findings.\n",
        "    - Answer each of the research questions you raised in the introduction.\n",
        "    - Use figures and tables to highlight interesting patterns\n",
        "    - What are the factors that make model A better than model B in task C? Investigate to prove their effect!\n",
        "6. Conclusion (~1/4 page). Present the conclusions that can be drawn from your experiments.\n",
        "    - What have you learned from you experiments?\n",
        "    - How do your findings relate to what is already known in the literature?\n",
        "    - Were the results as expected? Any surprising results? Why?\n",
        "    - Based on what you learned, what would you suggest doing next?\n",
        "\n",
        "\n",
        "General Tips:\n",
        "\n",
        "- Math notation – define each variable (either in running text, or in a pseudo-legenda after or before the equation).\n",
        "- Define technical terminology you need.\n",
        "- Avoid colloquial language – everything can be said in a scientific-sounding way.\n",
        "- Avoid lengthy sentences, stay to the point.\n",
        "- Do not spend space on \"obvious\" things.\n",
        "- Do not go over the page limit. (We will deduct points for that.)\n",
        "- The page limit is 4 pages excluding references and appendix. This is a strict limit; points will be deducted for longer reports. \n",
        "- There is no strict limit to references and appendix. However, the report needs to remain fully self-contained: the appendix should only include content that is not necessary to understand your work. For example, preprocessing decisions, model parameters, pseudocode, sample system inputs/outputs, and other details that are necessary for the exact replication of your work can be put into the appendix. \n",
        "\n",
        "\n",
        "An ideal report:\n",
        "- Precise, scientific-sounding, technical, to the point \n",
        "  - Little general “waffle”/chit-chat\n",
        "- Not boring – because you don’t explain obvious things too much\n",
        "- Efficient delivery of (only) the facts that we need to know to understand/reimplement\n",
        "- Results visually well-presented and described with the correct priority of importance of sub-results\n",
        "- Insightful analysis – speculation should connect to something interesting and not be too much; the reader “learns something new”\n",
        "- No typos, no colloquialisms – well-considered language\n",
        "- This normally means several re-draftings (re-orderings of information)\n"
      ]
    }
  ]
}